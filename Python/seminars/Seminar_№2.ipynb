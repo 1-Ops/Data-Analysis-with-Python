{
  "nbformat": 4,
  "nbformat_minor": 0,
  "metadata": {
    "colab": {
      "name": "Семинар_№2.ipynb",
      "provenance": []
    },
    "kernelspec": {
      "display_name": "Python 3",
      "language": "python",
      "name": "python3"
    },
    "language_info": {
      "codemirror_mode": {
        "name": "ipython",
        "version": 3
      },
      "file_extension": ".py",
      "mimetype": "text/x-python",
      "name": "python",
      "nbconvert_exporter": "python",
      "pygments_lexer": "ipython3",
      "version": "3.8.10"
    }
  },
  "cells": [
    {
      "cell_type": "markdown",
      "metadata": {
        "id": "W88Yiss4kRlO"
      },
      "source": [
        "# Условные конструкции"
      ]
    },
    {
      "cell_type": "markdown",
      "metadata": {
        "id": "LkmSCrhfQbCj"
      },
      "source": [
        "# Задача\n",
        "\n",
        "Необходимо рассчитать индекс массы тела человека и предложить рекомендации, исходя из полученного значения\n",
        "\n"
      ]
    },
    {
      "cell_type": "markdown",
      "metadata": {
        "id": "uOlcG57do4nr"
      },
      "source": [
        "## Решение"
      ]
    },
    {
      "cell_type": "markdown",
      "metadata": {
        "id": "R54qRuCFfdGU"
      },
      "source": [
        "Для начала считаем вводимые пользователем данные с клавиатуры о росте и весе человека:"
      ]
    },
    {
      "cell_type": "code",
      "metadata": {
        "colab": {
          "base_uri": "https://localhost:8080/"
        },
        "id": "0604ZlTWQo-v",
        "outputId": "ac585736-7166-4137-f8d2-e875713411bb"
      },
      "source": [
        "h = input(\"Enter height in meters, please: \")\n",
        "m = input(\"Enter mass in kg, please: \")"
      ],
      "execution_count": null,
      "outputs": [
        {
          "output_type": "stream",
          "text": [
            "Enter height in meters, please: 1.8\n",
            "Enter mass in kg, please: 77\n"
          ],
          "name": "stdout"
        }
      ]
    },
    {
      "cell_type": "markdown",
      "metadata": {
        "id": "-cFL44-DSH65"
      },
      "source": [
        "Преобразуем типы переменных h и m (изначально являющихся строками - типом *str*) в тип *float* и рассчитаем индекс массы тела человека (BMI) по формуле: $BMI = \\frac{m}{h^2}$"
      ]
    },
    {
      "cell_type": "code",
      "metadata": {
        "id": "pz34aLB0SH66"
      },
      "source": [
        "h, m = float(h), float(m)\n",
        "BMI = m/h**2"
      ],
      "execution_count": null,
      "outputs": []
    },
    {
      "cell_type": "markdown",
      "metadata": {
        "id": "UjrTl5tkgOkL"
      },
      "source": [
        "В соответствии с рекомендациями ВОЗ разработана следующая интерпретация показателей ИМТ:\n",
        "\n",
        "    16 и менее \tВыраженный дефицит массы тела\n",
        "    16—18,5 \t   Недостаточная (дефицит) масса тела\n",
        "    18,5—25 \t   Норма\n",
        "    25—30 \t     Избыточная масса тела (предожирение)\n",
        "    30—35 \t     Ожирение 1 степени\n",
        "    35—40 \t     Ожирение 2 степени\n",
        "    40 и более \tОжирение 3 степени \n",
        "\n",
        "Исходя из значения BMI, выведем на экран предложение с заключением и возможными рекомендациями:"
      ]
    },
    {
      "cell_type": "code",
      "metadata": {
        "colab": {
          "base_uri": "https://localhost:8080/"
        },
        "id": "uqQi3mU6g73_",
        "outputId": "547d99f7-6b6b-4bd7-b481-34b438240d14"
      },
      "source": [
        "print('BMI is', round(BMI, 2), end=', ')\n",
        "if 0 < BMI < 16:\n",
        "    print('that is very low')\n",
        "elif 16 <= BMI < 18.5:\n",
        "    print('that is low')\n",
        "elif 18.5 <= BMI <= 25:\n",
        "    print('that is OK, keep doing that way')\n",
        "elif 25 < BMI:\n",
        "    print('that is high, you better do some sports')\n",
        "else:\n",
        "    print('that is insane, try again please')"
      ],
      "execution_count": null,
      "outputs": [
        {
          "output_type": "stream",
          "text": [
            "BMI is 23.77, that is OK, keep doing that way\n"
          ],
          "name": "stdout"
        }
      ]
    },
    {
      "cell_type": "markdown",
      "metadata": {
        "id": "u7F_YKD1hz2F"
      },
      "source": [
        "В рассмотренном примере, человек с ростом 180 см и весом 77 кг оказался обладателем индекса массы тела в пределах нормы, с чем выведенное на экран предложение его осведомило."
      ]
    },
    {
      "cell_type": "markdown",
      "metadata": {
        "id": "iBbpcGuQSH67"
      },
      "source": [
        "Рассмотрим ещё один пример входных данных:"
      ]
    },
    {
      "cell_type": "code",
      "metadata": {
        "id": "ma70_3TNSH68",
        "outputId": "10461567-b168-4d1c-bf4c-db3525fb65ba"
      },
      "source": [
        "h = input(\"Enter height in meters, please: \")\n",
        "m = input(\"Enter mass in kg, please: \")"
      ],
      "execution_count": null,
      "outputs": [
        {
          "output_type": "stream",
          "text": [
            "Enter height in meters, please: 1.8\n",
            "Enter mass in kg, please: -77\n"
          ],
          "name": "stdout"
        }
      ]
    },
    {
      "cell_type": "markdown",
      "metadata": {
        "id": "U2RbZql5SH68"
      },
      "source": [
        "То есть скорее всего, пользователь случайно задал отрицательную массу. Что же в таком случае выдаст наша программа?"
      ]
    },
    {
      "cell_type": "code",
      "metadata": {
        "id": "9MwrF9vrSH69",
        "outputId": "6cb556c0-3e1b-42e3-8652-93bc4e5a233d"
      },
      "source": [
        "h, m = float(h), float(m)\n",
        "BMI = m/h**2\n",
        "print('BMI is', round(BMI, 2), end=', ')\n",
        "if 0 < BMI < 16:\n",
        "    print('that is very low')\n",
        "elif 16 <= BMI < 18.5:\n",
        "    print('that is low')\n",
        "elif 18.5 <= BMI <= 25:\n",
        "    print('that is OK, keep doing that way')\n",
        "elif 25 < BMI:\n",
        "    print('that is high, you better do some sports')\n",
        "else:\n",
        "    print('that is insane, try again please')"
      ],
      "execution_count": null,
      "outputs": [
        {
          "output_type": "stream",
          "text": [
            "BMI is -23.77, that is insane, try again please\n"
          ],
          "name": "stdout"
        }
      ]
    },
    {
      "cell_type": "markdown",
      "metadata": {
        "id": "mKBIazv2SH69"
      },
      "source": [
        "# Задача \n",
        "Необходимо распечатать первые N членов последовательности Фибоначчи, где число N вводится пользователем с клавиатуры.\n"
      ]
    },
    {
      "cell_type": "markdown",
      "metadata": {
        "id": "SOLbx3Ropg5I"
      },
      "source": [
        "## Решение"
      ]
    },
    {
      "cell_type": "markdown",
      "metadata": {
        "id": "ojG3UHFSpZzz"
      },
      "source": [
        "Последовательность Фибоначчи задается рекуррентным соотношением: каждый следующий член прогрессии равен сумме двух предыдущих, при этом первые два члена прогрессии равны единице. \n",
        "\n",
        "Что ж, звучит неплохо, начнем с последнего условия, а именно зададим первые два члена последовательности Фибоначчи:"
      ]
    },
    {
      "cell_type": "code",
      "metadata": {
        "id": "BNdn14fVSH6-"
      },
      "source": [
        "fib1 = fib2 = 1"
      ],
      "execution_count": null,
      "outputs": []
    },
    {
      "cell_type": "markdown",
      "metadata": {
        "id": "HZW0EUVpSH6_"
      },
      "source": [
        "Далее считаем число, вводимое с клавиатуры и преобразуем его в целочисленный тип:"
      ]
    },
    {
      "cell_type": "code",
      "metadata": {
        "id": "EXl7WOmESH7A",
        "outputId": "7679b987-e65c-4415-b65e-86736721b0a1"
      },
      "source": [
        "N = input(\"Fibonacci number: \")\n",
        "N = int(N)"
      ],
      "execution_count": null,
      "outputs": [
        {
          "output_type": "stream",
          "text": [
            "Fibonacci number: 5\n"
          ],
          "name": "stdout"
        }
      ]
    },
    {
      "cell_type": "markdown",
      "metadata": {
        "id": "apCW5Zd2SH7B"
      },
      "source": [
        "Либо можем сразу преобразовать вводимые данные, написав следующим образом:"
      ]
    },
    {
      "cell_type": "code",
      "metadata": {
        "id": "opi76jaCSH7B",
        "outputId": "a8144d31-9fd1-4564-b386-3e4eb7432c01"
      },
      "source": [
        "N = int(input(\"Fibonacci number: \"))"
      ],
      "execution_count": null,
      "outputs": [
        {
          "output_type": "stream",
          "text": [
            "Fibonacci number: 5\n"
          ],
          "name": "stdout"
        }
      ]
    },
    {
      "cell_type": "markdown",
      "metadata": {
        "id": "C0d0DydySH7C"
      },
      "source": [
        "Далее, если введенное число равно 1 или 2, то выведем соответственно \"1\" или \"1 1\" - то есть первое, или первые два числа Фибоначчи:"
      ]
    },
    {
      "cell_type": "code",
      "metadata": {
        "id": "GH5hBaHcSH7C"
      },
      "source": [
        "if N == 1 :\n",
        "    print(fib1)\n",
        "elif N == 2:\n",
        "    print(fib1, fib2)"
      ],
      "execution_count": null,
      "outputs": []
    },
    {
      "cell_type": "markdown",
      "metadata": {
        "id": "3CyL67q1SH7D"
      },
      "source": [
        "Неплохо идем, согласитесь?)\n",
        "\n",
        "Хорошо, если введенное число N больше 2, то запишем в цикле *for* последовательно вычисление каждого следующего члена последовательности Фибоначчи в соответствии с его определением:"
      ]
    },
    {
      "cell_type": "code",
      "metadata": {
        "id": "qeCJF4vNSH7D"
      },
      "source": [
        "elif N >= 2:\n",
        "    print(fib1, fib2, end=' ')\n",
        "    for i in range(2, N):\n",
        "        fib_sum = fib1 + fib2\n",
        "        fib1 = fib2\n",
        "        fib2 = fib_sum\n",
        "        print(fib2, end=' ')\n",
        "else:\n",
        "    print('N must be natural number, if you please')"
      ],
      "execution_count": null,
      "outputs": []
    },
    {
      "cell_type": "markdown",
      "metadata": {
        "id": "x_y0npOySH7D"
      },
      "source": [
        "То есть на каждом шаге цикла мы вычисляем сумму чисел fib1 и fib2, затем приравниваем эту сумму следующему числу fib2, а само значение числа fib2 до этого присваиваем переменной fib1.\n",
        "\n",
        "В итоге полностью программа будет выглядеть следующим образом:"
      ]
    },
    {
      "cell_type": "code",
      "metadata": {
        "id": "MLXTbDxTSH7E",
        "outputId": "cd116716-7a46-4491-a80d-5aa1f32169eb"
      },
      "source": [
        "fib1 = fib2 = 1\n",
        "\n",
        "N = int(input(\"Fibonacci number: \"))\n",
        "\n",
        "if N == 1 :\n",
        "    print(fib1)\n",
        "elif N == 2:\n",
        "    print(fib1, fib2)\n",
        "elif N >= 2:\n",
        "    print(fib1, fib2, end=' ')\n",
        "    for i in range(2, N):\n",
        "        fib_sum = fib1 + fib2\n",
        "        fib1 = fib2\n",
        "        fib2 = fib_sum\n",
        "        print(fib2, end=' ')\n",
        "else:\n",
        "    print('N must be natural number, if you please')"
      ],
      "execution_count": null,
      "outputs": [
        {
          "output_type": "stream",
          "text": [
            "Fibonacci number: 20\n",
            "1 1 2 3 5 8 13 21 34 55 89 144 233 377 610 987 1597 2584 4181 6765 "
          ],
          "name": "stdout"
        }
      ]
    },
    {
      "cell_type": "markdown",
      "metadata": {
        "id": "BdXUf7C2SH7E"
      },
      "source": [
        "Интересные числа, не правда ли?\n",
        "\n",
        "Давайте построим график со значениями чисел Фибоначчи в зависимости от их номера.\n",
        "Для этого немного модифицируем нашу программу, а именно заведем список *Fibonacci* со всеми первыми N значениями чисел Фибоначчи:"
      ]
    },
    {
      "cell_type": "code",
      "metadata": {
        "id": "IRg58ChVSH7F",
        "outputId": "c5e930c8-95de-43ed-ddcf-8412f7758e3f"
      },
      "source": [
        "Fibonacci = [1, 1]\n",
        "\n",
        "N = int(input(\"Fibonacci number: \"))\n",
        "\n",
        "if N == 1 :\n",
        "    print(Fibonacci[0])\n",
        "elif N == 2:\n",
        "    print(Fibonacci)\n",
        "elif N >= 2:\n",
        "    for i in range(2, N):\n",
        "        Fibonacci.append(Fibonacci[-2] + Fibonacci[-1])\n",
        "else:\n",
        "    print('N must be natural number, if you please')\n",
        "print(Fibonacci)"
      ],
      "execution_count": null,
      "outputs": [
        {
          "output_type": "stream",
          "text": [
            "Fibonacci number: 20\n",
            "[1, 1, 2, 3, 5, 8, 13, 21, 34, 55, 89, 144, 233, 377, 610, 987, 1597, 2584, 4181, 6765]\n"
          ],
          "name": "stdout"
        }
      ]
    },
    {
      "cell_type": "markdown",
      "metadata": {
        "id": "k1qUfN5vSH7G"
      },
      "source": [
        "Как можно заметить по 11 строчке предыдущего листинга расчет и добавление нового элемента последовательности Фибоначчи с использованием списка является довольно компактным.\n",
        "\n",
        "Остается только построить график зависимости значения числа Фибоначчи от его номера. Для этого зададим генератором списка значения номеров элементов:"
      ]
    },
    {
      "cell_type": "code",
      "metadata": {
        "id": "jcHHsTXNSH7G",
        "outputId": "915a3f08-280c-4f24-ef65-6bc52003a7d7"
      },
      "source": [
        "x = [i for i in range(1, N+1)]\n",
        "print(x)"
      ],
      "execution_count": null,
      "outputs": [
        {
          "output_type": "stream",
          "text": [
            "[1, 2, 3, 4, 5, 6, 7, 8, 9, 10, 11, 12, 13, 14, 15, 16, 17, 18, 19, 20]\n"
          ],
          "name": "stdout"
        }
      ]
    },
    {
      "cell_type": "markdown",
      "metadata": {
        "id": "kWGIus1ESH7H"
      },
      "source": [
        "И построим график:"
      ]
    },
    {
      "cell_type": "code",
      "metadata": {
        "id": "AMZAiczhSH7I",
        "outputId": "8297d1ce-2e6a-4214-991a-022efb2108e8"
      },
      "source": [
        "import matplotlib.pylab as plt\n",
        "plt.scatter(x, Fibonacci)\n",
        "plt.xlabel('number')\n",
        "plt.ylabel('Fibonacci number')"
      ],
      "execution_count": null,
      "outputs": [
        {
          "output_type": "execute_result",
          "data": {
            "text/plain": [
              "Text(0, 0.5, 'Fibonacci number')"
            ]
          },
          "metadata": {
            "tags": []
          },
          "execution_count": 46
        },
        {
          "output_type": "display_data",
          "data": {
            "image/png": "[encoded data removed]",
            "text/plain": [
              "<Figure size 432x288 with 1 Axes>"
            ]
          },
          "metadata": {
            "tags": [],
            "needs_background": "light"
          }
        }
      ]
    },
    {
      "cell_type": "markdown",
      "metadata": {
        "id": "o0TrPBMZSH7I"
      },
      "source": [
        "Как мы видим, последовательность Фибоначчи является достаточно быстро растущей функцией."
      ]
    },
    {
      "cell_type": "markdown",
      "metadata": {
        "id": "UF5A63vfSH7M"
      },
      "source": [
        "# Задача\n",
        "\n",
        "Для заданного слова *\"яблоко\"* необходимо правильно выставить окончание для числительного, вводимого пользователем с клавиатуры. Например: 11 яблок, 2 яблока, но 1 яблоко. Возможно разбиение данного задания по вариантам – для разных слов (яблоко, груша, манго и др.)"
      ]
    },
    {
      "cell_type": "markdown",
      "metadata": {
        "id": "XkLkLU5evqxL"
      },
      "source": [
        "## Решение\n",
        "\n",
        "Для начала убедимся, что всего есть 3 варианта окончаний: \"ко\" (1 яблоко), \"ка\" (2 яблока) и \"ок\" (много яблок). А также заметим, что на окончание слова влияют только две последние цифры в стоящем перед ним числительном (если в числе больше одного знака).\n",
        "\n",
        "    1) Окончание \"ко\" встречается только с числительным, оканчивающимся на \"1\", кроме случая когда вторая с конца цифра в числе тоже \"1\" (\"~11\" яблок).\n",
        "\n",
        "    2) Окончание \"ка\" встречается только с числительным, оканчивающимся на \"2\", \"3\" или \"4\", кроме случая когда вторая с конца цифра в числе равна \"1\" (\"~12\" яблок).\n",
        "\n",
        "    3) Окончание \"ок\" встречается во всех остальных случаях!\n",
        "\n",
        "Отразив вышеизложенные соображения в коде, получим решение задачи:"
      ]
    },
    {
      "cell_type": "code",
      "metadata": {
        "id": "4ttxRDoXSH7M",
        "outputId": "744bd929-53af-4679-ed64-ec81ea8ea58a"
      },
      "source": [
        "ka = ['2','3','4']\n",
        "n = str\n",
        "while(n != '-'):\n",
        "    n = input(\"Введите число яблок, пожалуйста: \")\n",
        "    if(n[-1] == '1' and len(n) == 1 or n[-1] == '1' and n[-2] != '1'):\n",
        "        print(n, 'яблоко')\n",
        "    elif(n[-1] in ka and len(n) == 1 or n[-1] in ka and n[-2] != '1'):\n",
        "        print(n, 'яблока')\n",
        "    elif(n[-1] == '-'):\n",
        "        print('Спасибо, до свидания!')\n",
        "    else:\n",
        "        print(n, 'яблок')"
      ],
      "execution_count": null,
      "outputs": [
        {
          "output_type": "stream",
          "text": [
            "Введите число яблок, пожалуйста: 1\n",
            "1 яблоко\n",
            "Введите число яблок, пожалуйста: 2\n",
            "2 яблока\n",
            "Введите число яблок, пожалуйста: 11\n",
            "11 яблок\n",
            "Введите число яблок, пожалуйста: Много\n",
            "Много яблок\n",
            "Введите число яблок, пожалуйста: -\n",
            "Спасибо, до свидания!\n"
          ],
          "name": "stdout"
        }
      ]
    },
    {
      "cell_type": "markdown",
      "metadata": {
        "id": "Gp7Ia1hGSH7N"
      },
      "source": [
        " В качестве упражнения попробуйте выполнить задание с другими ключевыми словами, например: *моргенштерн*, *фейспалм*, *штаб*, *бюллетень* и др."
      ]
    },
    {
      "cell_type": "markdown",
      "metadata": {
        "id": "0iJ0smRJKKwz"
      },
      "source": [
        "# Задача \n",
        "\n",
        "В файле `locations.csv`, который можно скачать по [ссылке](https://github.com/owid/covid-19-data/blob/master/public/data/vaccinations/locations.csv), собрана информация по странам и по вакцинам, которые доступны в этих странах.\n",
        "\n",
        "Необходимо посчитать: в скольких странах доступно больше, чем 4 вакцины?"
      ]
    },
    {
      "cell_type": "code",
      "metadata": {
        "colab": {
          "base_uri": "https://localhost:8080/"
        },
        "id": "G-0GR7_Et2x4",
        "outputId": "666ed686-baa9-4091-89cd-f3c8259d2aea"
      },
      "source": [
        "!wget -O \"locations.csv\" \"https://raw.githubusercontent.com/owid/covid-19-data/master/public/data/vaccinations/locations.csv\""
      ],
      "execution_count": null,
      "outputs": [
        {
          "output_type": "stream",
          "name": "stdout",
          "text": [
            "--2021-10-27 15:28:50--  https://raw.githubusercontent.com/owid/covid-19-data/master/public/data/vaccinations/locations.csv\n",
            "Resolving raw.githubusercontent.com (raw.githubusercontent.com)... 185.199.110.133, 185.199.109.133, 185.199.111.133, ...\n",
            "Connecting to raw.githubusercontent.com (raw.githubusercontent.com)|185.199.110.133|:443... connected.\n",
            "HTTP request sent, awaiting response... 200 OK\n",
            "Length: 35335 (35K) [text/plain]\n",
            "Saving to: ‘locations.csv’\n",
            "\n",
            "\rlocations.csv         0%[                    ]       0  --.-KB/s               \rlocations.csv       100%[===================>]  34.51K  --.-KB/s    in 0.001s  \n",
            "\n",
            "2021-10-27 15:28:50 (30.3 MB/s) - ‘locations.csv’ saved [35335/35335]\n",
            "\n"
          ]
        }
      ]
    },
    {
      "cell_type": "markdown",
      "metadata": {
        "id": "xH1BrxY2CVGs"
      },
      "source": [
        "# Повторение while\n",
        "\n",
        "```\n",
        "while условие: \n",
        "    тело цикла\n",
        "```\n",
        "\n"
      ]
    },
    {
      "cell_type": "markdown",
      "metadata": {
        "id": "CTo2ukfzSH7W"
      },
      "source": [
        "# Задача\n",
        "\n",
        "Вычисление площади под графиком непрерывной положительной функции с помощью метода прямоугольников.\n",
        "\n"
      ]
    },
    {
      "cell_type": "markdown",
      "metadata": {
        "id": "osaRgvoJCxbA"
      },
      "source": [
        "## Решение\n",
        "\n",
        "Несмотря на то, что метод прямоугольников очень прост, он способен дать достаточно точные значения для вычисления площади под графиком функции (численного интегрирования заданной функции).\n",
        "\n"
      ]
    },
    {
      "cell_type": "markdown",
      "metadata": {
        "id": "pFB39vRwfCFQ"
      },
      "source": [
        "![семинар_01-1.png](data:image/png;base64,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)"
      ]
    },
    {
      "cell_type": "markdown",
      "metadata": {
        "id": "IgAmgcNDSH7W"
      },
      "source": [
        "Программная реализация вычисления площади под графиком функции методом прямоугольников:"
      ]
    },
    {
      "cell_type": "code",
      "metadata": {
        "id": "lB2xs-1_SH7X"
      },
      "source": [
        "x_start = 5\n",
        "x_end = 6\n",
        "x_step = 0.01\n",
        "\n",
        "Integ = 0\n",
        "\n",
        "x = x_start + x_step/2\n",
        "\n",
        "while(x <= x_end):\n",
        "    Integ += func(x) * x_step\n",
        "    x += x_step\n",
        "print(Integ)"
      ],
      "execution_count": null,
      "outputs": []
    },
    {
      "cell_type": "markdown",
      "metadata": {
        "id": "vhmgQ7CzSH7X"
      },
      "source": [
        "Где функция `func(x)` вычисляет значение заданной функции в точке x. \n",
        "\n",
        "Например, для кубической функции: $y(x) = x^3$"
      ]
    },
    {
      "cell_type": "code",
      "metadata": {
        "id": "r9vbE4YFSH7Y"
      },
      "source": [
        "def func(x):\n",
        "    return x**3"
      ],
      "execution_count": null,
      "outputs": []
    },
    {
      "cell_type": "markdown",
      "metadata": {
        "id": "g0icVDbpSH7Y"
      },
      "source": [
        "И выполнение программы имеет вид:"
      ]
    },
    {
      "cell_type": "code",
      "metadata": {
        "id": "ZSM1IQOCSH7Z",
        "colab": {
          "base_uri": "https://localhost:8080/"
        },
        "outputId": "2ad3d5b1-23af-4309-b487-b4599ec578b5"
      },
      "source": [
        "x_start = 5\n",
        "x_end = 6\n",
        "x_step = 0.01\n",
        "\n",
        "Integ = 0\n",
        "\n",
        "x = x_start + x_step/2\n",
        "\n",
        "while(x <= x_end):\n",
        "    Integ += func(x) * x_step\n",
        "    x += x_step\n",
        "print(Integ)"
      ],
      "execution_count": null,
      "outputs": [
        {
          "output_type": "stream",
          "text": [
            "167.74986249999898\n"
          ],
          "name": "stdout"
        }
      ]
    },
    {
      "cell_type": "markdown",
      "metadata": {
        "id": "JnkaqH-ySH7Z"
      },
      "source": [
        "Что же, занимательное число, но как мы можем проверить полученный результат?!\n",
        "\n",
        "Как мы вскользь уже отмечали выполняемая операция представляет собой численное интегрирование функции *func(x)*.\n",
        "\n",
        "В случае интегрируемых функций (коей разумеется является рассматриваемая функция $y(x) = x^3$) существуют аналитические выражения для их интегралов. Так, в нашем случае аналитическое выражение для интеграла функции $y(x) = x^3$ от *x_start* до *x_end* можно записать в следующем виде:\n",
        "\n",
        "## $\\int_{a}^{b} x^3 dx = \\frac{b^4}{4} - \\frac{a^4}{4}$ \n",
        "\n",
        "Тогда, для проверки нашего результата введем еще одну функцию:"
      ]
    },
    {
      "cell_type": "code",
      "metadata": {
        "id": "bEYnEWToSH7Z"
      },
      "source": [
        "def func_check(x1, x2):\n",
        "    return 1/4*x2**4 - 1/4*x1**4"
      ],
      "execution_count": null,
      "outputs": []
    },
    {
      "cell_type": "markdown",
      "metadata": {
        "id": "dddBevhISH7a"
      },
      "source": [
        "И исполним нашу программу ещё раз:"
      ]
    },
    {
      "cell_type": "code",
      "metadata": {
        "id": "ffxfRvR5SH7a",
        "colab": {
          "base_uri": "https://localhost:8080/"
        },
        "outputId": "88aa4ce8-69ad-49e2-b872-f22b4be55db9"
      },
      "source": [
        "x_start = 5\n",
        "x_end = 6\n",
        "x_step = 0.01\n",
        "\n",
        "Integ = 0\n",
        "\n",
        "x = x_start + x_step/2\n",
        "\n",
        "while(x <= x_end):\n",
        "    Integ += func(x) * x_step\n",
        "    x += x_step\n",
        "print('Calculated value:', Integ)\n",
        "print('Theory value:    ', func_check(x_start, x_end))"
      ],
      "execution_count": null,
      "outputs": [
        {
          "output_type": "stream",
          "text": [
            "Calculated value: 167.74986249999898\n",
            "Theory value:     167.75\n"
          ],
          "name": "stdout"
        }
      ]
    },
    {
      "cell_type": "markdown",
      "metadata": {
        "id": "kZoDSf9tSH7b"
      },
      "source": [
        "# Задача\n",
        "\n",
        "Вычисление площади круга с помощью метода *Монте-Карло*.\n",
        "\n"
      ]
    },
    {
      "cell_type": "markdown",
      "metadata": {
        "id": "EMZ7RI9rDTSK"
      },
      "source": [
        "## Решение\n",
        "\n",
        "Определение площади некой геометрической фигуры методом Монте-Карло заключается в следующем:\n",
        "    \n",
        "Рассмотрим окружность радиусом R с центром в начале координат. \n",
        "\n",
        "1. Рассмотрим окружность радиусом R с центром в начале координат. \n",
        "2. N раз генерируем пары чисел x и y, каждое из которых равномерно распределено на отрезке [0, К)\n",
        "3. Посчитаем число точек ($x,y$), лежащих внутри окружности, т.е. удовлетворяющих условию: $x^2 + y^2 < R$\n",
        "4. Отношение числа K точек ($x,y$), лежащих внутри окружности, к общему числу испытаний N равно отношению площадей круга и квадрата. Площадь круга получается по формуле: $S = S_{square} * \\frac{K}{N}$\n"
      ]
    },
    {
      "cell_type": "markdown",
      "metadata": {
        "id": "ZA-XQgibfODp"
      },
      "source": [
        "![семинар_01.png](data:image/png;base64,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)"
      ]
    },
    {
      "cell_type": "markdown",
      "metadata": {
        "id": "topmI9z3SH7b"
      },
      "source": [
        "Для генерации случайных чисел подключим модуль random:"
      ]
    },
    {
      "cell_type": "code",
      "metadata": {
        "id": "g1oOWNHuSH7b"
      },
      "source": [
        "import random as rd "
      ],
      "execution_count": null,
      "outputs": []
    },
    {
      "cell_type": "markdown",
      "metadata": {
        "id": "4l8VkXbySH7c"
      },
      "source": [
        "В котором будем использовать функции rd.random() и rd.uniform(a,b), где первая функция возвращает случайное число типа *float*, равномерно распределенное в отрезке [0, 1), а вторая возвращает случайное число типа *float*, равномерно распределенное в отрезке [a, b)\n",
        "\n",
        "В соответствии с вышеописанным алгоритмом, код программы будет иметь вид:"
      ]
    },
    {
      "cell_type": "code",
      "metadata": {
        "id": "RQB1TlNaSH7c",
        "outputId": "ce7992c4-d3d6-476b-9551-9254038c21d8"
      },
      "source": [
        "radius = 1\n",
        "iter_number = 10000\n",
        "cnt = 0\n",
        "\n",
        "for k in range(iter_number):\n",
        "    x = rd.uniform(-radius, radius)\n",
        "    y = rd.uniform(-radius, radius)\n",
        "    if(x**2 + y**2 < radius):\n",
        "        cnt += 1\n",
        "S = cnt/iter_number * (2*radius)**2\n",
        "print(S)"
      ],
      "execution_count": null,
      "outputs": [
        {
          "output_type": "stream",
          "text": [
            "3.1432\n"
          ],
          "name": "stdout"
        }
      ]
    },
    {
      "cell_type": "markdown",
      "metadata": {
        "id": "Lr0K-wyGSH7c"
      },
      "source": [
        "Полученное число может нам что-то напоминать. Хм, число Пи?\n",
        "\n",
        "Как известно площадь окружности радиуса R может быть вычислена по формуле: $S = \\pi R^2$\n",
        "\n",
        "В рассмотренном примере мы искали площадь окружности единичного радиуса, то есть R = 1. В таком случае, получаемая площадь действительно должна равняться числу пи! "
      ]
    },
    {
      "cell_type": "markdown",
      "metadata": {
        "id": "z8yUVuOuwHrv"
      },
      "source": [
        "# Двоичная система счисления"
      ]
    },
    {
      "cell_type": "markdown",
      "metadata": {
        "id": "RF39DUyEwPG3"
      },
      "source": [
        "# Задача\n",
        "\n",
        "Переведите число из двоичной системы счисления в десятичную."
      ]
    },
    {
      "cell_type": "markdown",
      "metadata": {
        "id": "AD-MTuaYwkmP"
      },
      "source": [
        "## Решение"
      ]
    },
    {
      "cell_type": "markdown",
      "metadata": {
        "id": "OxAsM6n2wv_y"
      },
      "source": [
        "Считываем число в двоичной записи. Сохраняем значение в переменную binary."
      ]
    },
    {
      "cell_type": "code",
      "metadata": {
        "colab": {
          "base_uri": "https://localhost:8080/"
        },
        "id": "ay8bfwlfwxeo",
        "outputId": "a893f3cd-8ab2-4ea2-8a1a-60dcc5297c69"
      },
      "source": [
        "binary = input(\"Enter binary number: \")"
      ],
      "execution_count": null,
      "outputs": [
        {
          "name": "stdout",
          "output_type": "stream",
          "text": [
            "Enter binary number: 10\n"
          ]
        }
      ]
    },
    {
      "cell_type": "markdown",
      "metadata": {
        "id": "3V1IzsXCw9oB"
      },
      "source": [
        "Вспомним схему перевода двоичного числа в десятичное."
      ]
    },
    {
      "cell_type": "markdown",
      "metadata": {
        "id": "S8j7hT4JxKdJ"
      },
      "source": [
        "Заведем 2 переменные: decimal для хранения итогового числа в десятичной системе, degree для хранения степеней двойки."
      ]
    },
    {
      "cell_type": "code",
      "metadata": {
        "id": "KSWFMA47w-0_"
      },
      "source": [
        "degree = len(binary)-1\n",
        "decimal = 0"
      ],
      "execution_count": null,
      "outputs": []
    },
    {
      "cell_type": "markdown",
      "metadata": {
        "id": "Ip5EmxbvxPEB"
      },
      "source": [
        "Теперь в цикле мы \"проходим\" по числу в двоичной записи. Переменная b принимает поэтапно значения всех цифр введенного числа binary. Давайте проверим тип переменной b."
      ]
    },
    {
      "cell_type": "code",
      "metadata": {
        "colab": {
          "base_uri": "https://localhost:8080/"
        },
        "id": "KshoOH_CxRuB",
        "outputId": "506e23df-b4c8-4cb0-cf90-8f239a9569b1"
      },
      "source": [
        "for b in binary:\n",
        "    print(b, type(b))"
      ],
      "execution_count": null,
      "outputs": [
        {
          "output_type": "stream",
          "name": "stdout",
          "text": [
            "1 <class 'str'>\n",
            "0 <class 'str'>\n"
          ]
        }
      ]
    },
    {
      "cell_type": "markdown",
      "metadata": {
        "id": "8t429rBOxVwQ"
      },
      "source": [
        "У переменной b строковый тип. Но для дальнейших вычислений нам нужен целочисленный тип int. Поэтому мы сначала преобразуем нашу переменую b к типу int: int(b). А потом умножим полученное значение на двойку в степени degree. degree будем уменьшать на единицу."
      ]
    },
    {
      "cell_type": "code",
      "metadata": {
        "id": "1DLW-BeRxYVr"
      },
      "source": [
        "for b in binary:\n",
        "    decimal += int(b)*2**degree\n",
        "    degree -= 1"
      ],
      "execution_count": null,
      "outputs": []
    },
    {
      "cell_type": "markdown",
      "metadata": {
        "id": "JQfgILXAxguO"
      },
      "source": [
        "Распечатаем результат:"
      ]
    },
    {
      "cell_type": "code",
      "metadata": {
        "colab": {
          "base_uri": "https://localhost:8080/"
        },
        "id": "cQOFgTbFxk09",
        "outputId": "4c2a2210-8df9-4750-e8d6-2a2b870bd686"
      },
      "source": [
        "print('Decimal equals to:  ', decimal)"
      ],
      "execution_count": null,
      "outputs": [
        {
          "output_type": "stream",
          "name": "stdout",
          "text": [
            "Decimal equals to:   2\n"
          ]
        }
      ]
    },
    {
      "cell_type": "markdown",
      "metadata": {
        "id": "KcC2v_HaxpIZ"
      },
      "source": [
        "Итоговое решение:"
      ]
    },
    {
      "cell_type": "code",
      "metadata": {
        "colab": {
          "base_uri": "https://localhost:8080/"
        },
        "id": "b6d1UcNsxuzM",
        "outputId": "856475c2-0169-4478-a113-961ba204c7fe"
      },
      "source": [
        "binary = input(\"Enter binary number: \")\n",
        "degree = len(binary)-1\n",
        "decimal = 0\n",
        "for b in binary:\n",
        "    decimal += int(b)*2**degree\n",
        "    degree -= 1\n",
        "print('Decimal equals to:  ', decimal)"
      ],
      "execution_count": null,
      "outputs": [
        {
          "output_type": "stream",
          "name": "stdout",
          "text": [
            "Enter binary number: 10\n",
            "Decimal equals to:   2\n"
          ]
        }
      ]
    },
    {
      "cell_type": "markdown",
      "metadata": {
        "id": "GdmypbU1xzS1"
      },
      "source": [
        "Кстати, в Python перевести число из десятичной системы в двоичную можно намного удобнее:"
      ]
    },
    {
      "cell_type": "code",
      "metadata": {
        "id": "rEmbJ0htx2Qn",
        "colab": {
          "base_uri": "https://localhost:8080/"
        },
        "outputId": "77a8902c-9ad7-4b44-a52b-b4b7ad1a914a"
      },
      "source": [
        "int('101', 2)"
      ],
      "execution_count": null,
      "outputs": [
        {
          "output_type": "execute_result",
          "data": {
            "text/plain": [
              "5"
            ]
          },
          "metadata": {},
          "execution_count": 32
        }
      ]
    }
  ]
}