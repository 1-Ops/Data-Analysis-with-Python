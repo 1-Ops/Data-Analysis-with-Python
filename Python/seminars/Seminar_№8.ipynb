{
  "nbformat": 4,
  "nbformat_minor": 0,
  "metadata": {
    "colab": {
      "name": "Семинар_№8.ipynb",
      "provenance": [],
      "collapsed_sections": []
    },
    "kernelspec": {
      "name": "python3",
      "display_name": "Python 3"
    },
    "language_info": {
      "name": "python"
    }
  },
  "cells": [
    {
      "cell_type": "markdown",
      "metadata": {
        "id": "T67AwZn0eLhw"
      },
      "source": [
        "# Семинар № 8. Библиотека pandas (продолжение)"
      ]
    },
    {
      "cell_type": "markdown",
      "metadata": {
        "id": "cpoUpWdbVZnm"
      },
      "source": [
        "# Задача\n",
        "В рамках выполнения домашнего проекта вам придётся анализировать выбранный набор данных.\n",
        "На предыдущих семинарах мы обсуждали, как можно провести предварительный анализ и выполнить предобработку.\n",
        "\n",
        "Теперь настало время приступить к следующему этапу - анализу данных и построению гипотез.\n",
        "\n",
        "Снова рассмотрим набор данных про пассажиров Титаника. Но на этот раз данные разбиты на 2 таблицы.\n",
        "\n",
        "Ваша задача - объединить набор данных в одну таблицу и выполнить ее анализ, построив гипотезы:\n",
        "1. Построить и доказать/опровергнуть простые гипотезы по отдельным признакам.\n",
        "2. Заполнить пропуски в данных.\n",
        "3. Понять, можно ли получить новые признаки из существующих? \n",
        "4. Построить и доказать/опровергнуть гипотезы о зависимостях разных признаков."
      ]
    },
    {
      "cell_type": "markdown",
      "metadata": {
        "id": "gkFgTmUdGtKY"
      },
      "source": [
        "### Решение"
      ]
    },
    {
      "cell_type": "markdown",
      "metadata": {
        "id": "W86BUE1JP3Bc"
      },
      "source": [
        "Сначала загрузим оба файла и посмотрим на них:"
      ]
    },
    {
      "cell_type": "code",
      "source": [
        "from google.colab import output"
      ],
      "metadata": {
        "id": "GLTZNNw9LLQ6"
      },
      "execution_count": null,
      "outputs": []
    },
    {
      "cell_type": "code",
      "metadata": {
        "id": "UBNVY7iiFxHI"
      },
      "source": [
        "!wget -O \"titanic_corrupted_1.csv\" \"https://raw.githubusercontent.com/legas377/TestRepository/main/titanic_corrupted_1.csv\"\n",
        "!wget -O \"titanic_corrupted_2.csv\" \"https://raw.githubusercontent.com/legas377/TestRepository/main/titanic_corrupted_2.csv\"\n",
        "output.clear()"
      ],
      "execution_count": null,
      "outputs": []
    },
    {
      "cell_type": "code",
      "metadata": {
        "id": "QKUILdQnWZq6"
      },
      "source": [
        "import pandas as pd"
      ],
      "execution_count": null,
      "outputs": []
    },
    {
      "cell_type": "markdown",
      "metadata": {
        "id": "n08hPfbWG8gi"
      },
      "source": [
        "Считываем наборы данных в специальные объекты `df1` и `df2` - датафреймы:"
      ]
    },
    {
      "cell_type": "code",
      "metadata": {
        "id": "Q7irBnhXeIgn"
      },
      "source": [
        "df1 = pd.read_csv('titanic_corrupted_1.csv')\n",
        "df2 = pd.read_csv('titanic_corrupted_2.csv')"
      ],
      "execution_count": null,
      "outputs": []
    },
    {
      "cell_type": "markdown",
      "metadata": {
        "id": "ouzhgCuxQqxw"
      },
      "source": [
        "Смотрим содержимое наборов данных:"
      ]
    },
    {
      "cell_type": "code",
      "metadata": {
        "colab": {
          "base_uri": "https://localhost:8080/",
          "height": 204
        },
        "id": "9z2N5ilRQutP",
        "outputId": "8ec3d995-9ec4-41b4-87bf-fca9af39123f"
      },
      "source": [
        "df1.head(5)"
      ],
      "execution_count": null,
      "outputs": [
        {
          "output_type": "execute_result",
          "data": {
            "text/html": [
              "<div>\n",
              "<style scoped>\n",
              "    .dataframe tbody tr th:only-of-type {\n",
              "        vertical-align: middle;\n",
              "    }\n",
              "\n",
              "    .dataframe tbody tr th {\n",
              "        vertical-align: top;\n",
              "    }\n",
              "\n",
              "    .dataframe thead th {\n",
              "        text-align: right;\n",
              "    }\n",
              "</style>\n",
              "<table border=\"1\" class=\"dataframe\">\n",
              "  <thead>\n",
              "    <tr style=\"text-align: right;\">\n",
              "      <th></th>\n",
              "      <th>Index</th>\n",
              "      <th>PassEngEr_Id</th>\n",
              "      <th>PclaSS;-</th>\n",
              "      <th>NAME</th>\n",
              "      <th>SEX</th>\n",
              "    </tr>\n",
              "  </thead>\n",
              "  <tbody>\n",
              "    <tr>\n",
              "      <th>0</th>\n",
              "      <td>0</td>\n",
              "      <td>892.0</td>\n",
              "      <td>3.0</td>\n",
              "      <td>Kelly; Mr. James</td>\n",
              "      <td>male</td>\n",
              "    </tr>\n",
              "    <tr>\n",
              "      <th>1</th>\n",
              "      <td>1</td>\n",
              "      <td>893.0</td>\n",
              "      <td>3.0</td>\n",
              "      <td>Wilkes; Mrs. James (Ellen Needs)</td>\n",
              "      <td>female</td>\n",
              "    </tr>\n",
              "    <tr>\n",
              "      <th>2</th>\n",
              "      <td>2</td>\n",
              "      <td>894.0</td>\n",
              "      <td>NaN</td>\n",
              "      <td>Myles; Mr. Thomas Francis</td>\n",
              "      <td>NaN</td>\n",
              "    </tr>\n",
              "    <tr>\n",
              "      <th>3</th>\n",
              "      <td>3</td>\n",
              "      <td>895.0</td>\n",
              "      <td>3.0</td>\n",
              "      <td>NaN</td>\n",
              "      <td>male</td>\n",
              "    </tr>\n",
              "    <tr>\n",
              "      <th>4</th>\n",
              "      <td>4</td>\n",
              "      <td>896.0</td>\n",
              "      <td>3.0</td>\n",
              "      <td>Hirvonen; Mrs. Alexander (Helga E Lindqvist)</td>\n",
              "      <td>female</td>\n",
              "    </tr>\n",
              "  </tbody>\n",
              "</table>\n",
              "</div>"
            ],
            "text/plain": [
              "   Index  PassEngEr_Id  ...                                          NAME     SEX\n",
              "0      0         892.0  ...                              Kelly; Mr. James    male\n",
              "1      1         893.0  ...              Wilkes; Mrs. James (Ellen Needs)  female\n",
              "2      2         894.0  ...                     Myles; Mr. Thomas Francis     NaN\n",
              "3      3         895.0  ...                                           NaN    male\n",
              "4      4         896.0  ...  Hirvonen; Mrs. Alexander (Helga E Lindqvist)  female\n",
              "\n",
              "[5 rows x 5 columns]"
            ]
          },
          "metadata": {},
          "execution_count": 14
        }
      ]
    },
    {
      "cell_type": "code",
      "metadata": {
        "colab": {
          "base_uri": "https://localhost:8080/",
          "height": 204
        },
        "id": "7hj3OhbQQw_L",
        "outputId": "a45f5fef-c91c-476e-e8c5-de9bf50bee64"
      },
      "source": [
        "df2.head(5)"
      ],
      "execution_count": null,
      "outputs": [
        {
          "output_type": "execute_result",
          "data": {
            "text/html": [
              "<div>\n",
              "<style scoped>\n",
              "    .dataframe tbody tr th:only-of-type {\n",
              "        vertical-align: middle;\n",
              "    }\n",
              "\n",
              "    .dataframe tbody tr th {\n",
              "        vertical-align: top;\n",
              "    }\n",
              "\n",
              "    .dataframe thead th {\n",
              "        text-align: right;\n",
              "    }\n",
              "</style>\n",
              "<table border=\"1\" class=\"dataframe\">\n",
              "  <thead>\n",
              "    <tr style=\"text-align: right;\">\n",
              "      <th></th>\n",
              "      <th>Index</th>\n",
              "      <th>age .</th>\n",
              "      <th>Sib_Sp</th>\n",
              "      <th>PaRch__</th>\n",
              "      <th>TickEt</th>\n",
              "      <th>Fare</th>\n",
              "      <th>cabin</th>\n",
              "      <th>Embarked::</th>\n",
              "    </tr>\n",
              "  </thead>\n",
              "  <tbody>\n",
              "    <tr>\n",
              "      <th>0</th>\n",
              "      <td>0</td>\n",
              "      <td>34.5</td>\n",
              "      <td>0</td>\n",
              "      <td>0</td>\n",
              "      <td>330911</td>\n",
              "      <td>7.8292</td>\n",
              "      <td>NaN</td>\n",
              "      <td>Q</td>\n",
              "    </tr>\n",
              "    <tr>\n",
              "      <th>1</th>\n",
              "      <td>1</td>\n",
              "      <td>47.0</td>\n",
              "      <td>1</td>\n",
              "      <td>0</td>\n",
              "      <td>363272</td>\n",
              "      <td>7.0000</td>\n",
              "      <td>NaN</td>\n",
              "      <td>S</td>\n",
              "    </tr>\n",
              "    <tr>\n",
              "      <th>2</th>\n",
              "      <td>2</td>\n",
              "      <td>NaN</td>\n",
              "      <td>0</td>\n",
              "      <td>0</td>\n",
              "      <td>240276</td>\n",
              "      <td>9.6875</td>\n",
              "      <td>NaN</td>\n",
              "      <td>Q</td>\n",
              "    </tr>\n",
              "    <tr>\n",
              "      <th>3</th>\n",
              "      <td>3</td>\n",
              "      <td>27.0</td>\n",
              "      <td>0</td>\n",
              "      <td>0</td>\n",
              "      <td>315154</td>\n",
              "      <td>8.6625</td>\n",
              "      <td>NaN</td>\n",
              "      <td>S</td>\n",
              "    </tr>\n",
              "    <tr>\n",
              "      <th>4</th>\n",
              "      <td>4</td>\n",
              "      <td>22.0</td>\n",
              "      <td>1</td>\n",
              "      <td>1</td>\n",
              "      <td>3101298</td>\n",
              "      <td>12.2875</td>\n",
              "      <td>NaN</td>\n",
              "      <td>S</td>\n",
              "    </tr>\n",
              "  </tbody>\n",
              "</table>\n",
              "</div>"
            ],
            "text/plain": [
              "   Index  age .  Sib_Sp  PaRch__   TickEt     Fare cabin Embarked::\n",
              "0      0   34.5       0        0   330911   7.8292   NaN          Q\n",
              "1      1   47.0       1        0   363272   7.0000   NaN          S\n",
              "2      2    NaN       0        0   240276   9.6875   NaN          Q\n",
              "3      3   27.0       0        0   315154   8.6625   NaN          S\n",
              "4      4   22.0       1        1  3101298  12.2875   NaN          S"
            ]
          },
          "metadata": {},
          "execution_count": 15
        }
      ]
    },
    {
      "cell_type": "markdown",
      "metadata": {
        "id": "l1uc3OaSQ0L2"
      },
      "source": [
        "Мы видим, что у этих таблиц есть что-то общее. Какая-то колонка присутствует в обоих наборах данных. Какая?"
      ]
    },
    {
      "cell_type": "markdown",
      "metadata": {
        "id": "OflSfKfCRCTl"
      },
      "source": [
        "**Введите название колонки**"
      ]
    },
    {
      "cell_type": "markdown",
      "metadata": {
        "id": "GuOfW8DWRG2q"
      },
      "source": [
        "В такой ситуации можно очень просто \"собрать\" из исходных датасетов один - выполнить merge:"
      ]
    },
    {
      "cell_type": "code",
      "metadata": {
        "colab": {
          "base_uri": "https://localhost:8080/"
        },
        "id": "Yazw7aPYRcUV",
        "outputId": "d5bda752-52e1-48c9-a181-c5f36f48acfc"
      },
      "source": [
        "df = df1.merge(df2)\n",
        "print(df.head(10))"
      ],
      "execution_count": null,
      "outputs": [
        {
          "output_type": "stream",
          "name": "stdout",
          "text": [
            "   Index  PassEngEr_Id  PclaSS;-  ...     Fare cabin  Embarked::\n",
            "0      0         892.0       3.0  ...   7.8292   NaN           Q\n",
            "1      1         893.0       3.0  ...   7.0000   NaN           S\n",
            "2      2         894.0       NaN  ...   9.6875   NaN           Q\n",
            "3      3         895.0       3.0  ...   8.6625   NaN           S\n",
            "4      4         896.0       3.0  ...  12.2875   NaN           S\n",
            "5      5         897.0       3.0  ...   9.2250   NaN           S\n",
            "6      6         898.0       3.0  ...   7.6292   NaN           Q\n",
            "7      7         899.0       2.0  ...      NaN   NaN           S\n",
            "8      8         900.0       3.0  ...   7.2292   NaN           C\n",
            "9      9           NaN       3.0  ...  24.1500   NaN           S\n",
            "\n",
            "[10 rows x 12 columns]\n"
          ]
        }
      ]
    },
    {
      "cell_type": "markdown",
      "metadata": {
        "id": "Qq7y4b2AR0Jf"
      },
      "source": [
        "Теперь нам не нужна колонка Index - pandas автоматически создаёт индекс. Можно её удалить:"
      ]
    },
    {
      "cell_type": "code",
      "metadata": {
        "colab": {
          "base_uri": "https://localhost:8080/"
        },
        "id": "dVLKWaDbR9Qp",
        "outputId": "ee42c80a-755f-43b0-9446-597ca16aafc8"
      },
      "source": [
        "df = df.drop(['Index'], axis=1)\n",
        "print(df.head(10))"
      ],
      "execution_count": null,
      "outputs": [
        {
          "output_type": "stream",
          "name": "stdout",
          "text": [
            "   PassEngEr_Id  PclaSS;-  ... cabin Embarked::\n",
            "0         892.0       3.0  ...   NaN          Q\n",
            "1         893.0       3.0  ...   NaN          S\n",
            "2         894.0       NaN  ...   NaN          Q\n",
            "3         895.0       3.0  ...   NaN          S\n",
            "4         896.0       3.0  ...   NaN          S\n",
            "5         897.0       3.0  ...   NaN          S\n",
            "6         898.0       3.0  ...   NaN          Q\n",
            "7         899.0       2.0  ...   NaN          S\n",
            "8         900.0       3.0  ...   NaN          C\n",
            "9           NaN       3.0  ...   NaN          S\n",
            "\n",
            "[10 rows x 11 columns]\n"
          ]
        }
      ]
    },
    {
      "cell_type": "markdown",
      "metadata": {
        "id": "pUuDMKofSRmj"
      },
      "source": [
        "Теперь можно работать с этими данными, как раньше."
      ]
    },
    {
      "cell_type": "markdown",
      "metadata": {
        "id": "cVE8-95kfV4f"
      },
      "source": [
        "## Повторение прошлого семинара"
      ]
    },
    {
      "cell_type": "markdown",
      "metadata": {
        "id": "lnUETV8MHc-6"
      },
      "source": [
        "Выводим названия колонок:"
      ]
    },
    {
      "cell_type": "code",
      "metadata": {
        "colab": {
          "base_uri": "https://localhost:8080/"
        },
        "id": "OIiQoQMSHcKn",
        "outputId": "aaec1ec4-646f-4d42-cec7-56a6912a60ae"
      },
      "source": [
        "df.columns"
      ],
      "execution_count": null,
      "outputs": [
        {
          "output_type": "execute_result",
          "data": {
            "text/plain": [
              "Index(['PassEngEr_Id', 'PclaSS;-', 'NAME', 'SEX', 'age .', 'Sib_Sp', 'PaRch__',\n",
              "       'TickEt', 'Fare', 'cabin', 'Embarked::'],\n",
              "      dtype='object')"
            ]
          },
          "metadata": {},
          "execution_count": 17
        }
      ]
    },
    {
      "cell_type": "code",
      "metadata": {
        "colab": {
          "base_uri": "https://localhost:8080/"
        },
        "id": "7VdZhdWRRGsi",
        "outputId": "742e6ddd-f080-4892-a48a-062830e2a96a"
      },
      "source": [
        "# Предобрабатываем названия колонок\n",
        "def column_name_preprocess(col_name):\n",
        "    for char in ['_', ';', '-', ' ', '.', ':']:\n",
        "        col_name = col_name.replace(char, '')\n",
        "    return col_name\n",
        "\n",
        "column_names = df.columns\n",
        "df.columns = [column_name_preprocess(col_name).title() for col_name in column_names]\n",
        "print(df.columns)"
      ],
      "execution_count": null,
      "outputs": [
        {
          "output_type": "stream",
          "name": "stdout",
          "text": [
            "Index(['Passengerid', 'Pclass', 'Name', 'Sex', 'Age', 'Sibsp', 'Parch',\n",
            "       'Ticket', 'Fare', 'Cabin', 'Embarked'],\n",
            "      dtype='object')\n"
          ]
        }
      ]
    },
    {
      "cell_type": "markdown",
      "metadata": {
        "id": "uHrAOhEAWYCf"
      },
      "source": [
        "Теперь давайте вспомним, какие типы были у каждой колонки."
      ]
    },
    {
      "cell_type": "code",
      "metadata": {
        "colab": {
          "base_uri": "https://localhost:8080/"
        },
        "id": "vzN83eBtYteX",
        "outputId": "76ef8f44-800b-4ddf-afec-8ea21293e383"
      },
      "source": [
        "df.dtypes"
      ],
      "execution_count": null,
      "outputs": [
        {
          "output_type": "execute_result",
          "data": {
            "text/plain": [
              "Passengerid    float64\n",
              "Pclass         float64\n",
              "Name            object\n",
              "Sex             object\n",
              "Age            float64\n",
              "Sibsp            int64\n",
              "Parch            int64\n",
              "Ticket          object\n",
              "Fare           float64\n",
              "Cabin           object\n",
              "Embarked        object\n",
              "dtype: object"
            ]
          },
          "metadata": {},
          "execution_count": 20
        }
      ]
    },
    {
      "cell_type": "markdown",
      "metadata": {
        "id": "-HZP1vYAeoUM"
      },
      "source": [
        "Построим различные статистические характеристики для числовых признаков:"
      ]
    },
    {
      "cell_type": "code",
      "metadata": {
        "colab": {
          "base_uri": "https://localhost:8080/",
          "height": 297
        },
        "id": "sr5rOryP7qg8",
        "outputId": "f6a6dcb7-8e2b-43c5-df2f-3bf2ba313ef8"
      },
      "source": [
        "df.describe()"
      ],
      "execution_count": null,
      "outputs": [
        {
          "output_type": "execute_result",
          "data": {
            "text/html": [
              "<div>\n",
              "<style scoped>\n",
              "    .dataframe tbody tr th:only-of-type {\n",
              "        vertical-align: middle;\n",
              "    }\n",
              "\n",
              "    .dataframe tbody tr th {\n",
              "        vertical-align: top;\n",
              "    }\n",
              "\n",
              "    .dataframe thead th {\n",
              "        text-align: right;\n",
              "    }\n",
              "</style>\n",
              "<table border=\"1\" class=\"dataframe\">\n",
              "  <thead>\n",
              "    <tr style=\"text-align: right;\">\n",
              "      <th></th>\n",
              "      <th>Passengerid</th>\n",
              "      <th>Pclass</th>\n",
              "      <th>Age</th>\n",
              "      <th>Sibsp</th>\n",
              "      <th>Parch</th>\n",
              "      <th>Fare</th>\n",
              "    </tr>\n",
              "  </thead>\n",
              "  <tbody>\n",
              "    <tr>\n",
              "      <th>count</th>\n",
              "      <td>376.000000</td>\n",
              "      <td>376.000000</td>\n",
              "      <td>295.000000</td>\n",
              "      <td>418.000000</td>\n",
              "      <td>418.000000</td>\n",
              "      <td>375.000000</td>\n",
              "    </tr>\n",
              "    <tr>\n",
              "      <th>mean</th>\n",
              "      <td>1101.808511</td>\n",
              "      <td>2.271277</td>\n",
              "      <td>30.271763</td>\n",
              "      <td>0.447368</td>\n",
              "      <td>0.392344</td>\n",
              "      <td>34.457245</td>\n",
              "    </tr>\n",
              "    <tr>\n",
              "      <th>std</th>\n",
              "      <td>121.234431</td>\n",
              "      <td>0.842741</td>\n",
              "      <td>13.904076</td>\n",
              "      <td>0.896760</td>\n",
              "      <td>0.981429</td>\n",
              "      <td>55.089213</td>\n",
              "    </tr>\n",
              "    <tr>\n",
              "      <th>min</th>\n",
              "      <td>892.000000</td>\n",
              "      <td>1.000000</td>\n",
              "      <td>0.170000</td>\n",
              "      <td>0.000000</td>\n",
              "      <td>0.000000</td>\n",
              "      <td>0.000000</td>\n",
              "    </tr>\n",
              "    <tr>\n",
              "      <th>25%</th>\n",
              "      <td>997.750000</td>\n",
              "      <td>1.000000</td>\n",
              "      <td>21.000000</td>\n",
              "      <td>0.000000</td>\n",
              "      <td>0.000000</td>\n",
              "      <td>7.895800</td>\n",
              "    </tr>\n",
              "    <tr>\n",
              "      <th>50%</th>\n",
              "      <td>1100.500000</td>\n",
              "      <td>3.000000</td>\n",
              "      <td>27.000000</td>\n",
              "      <td>0.000000</td>\n",
              "      <td>0.000000</td>\n",
              "      <td>13.862500</td>\n",
              "    </tr>\n",
              "    <tr>\n",
              "      <th>75%</th>\n",
              "      <td>1207.250000</td>\n",
              "      <td>3.000000</td>\n",
              "      <td>39.000000</td>\n",
              "      <td>1.000000</td>\n",
              "      <td>0.000000</td>\n",
              "      <td>30.943750</td>\n",
              "    </tr>\n",
              "    <tr>\n",
              "      <th>max</th>\n",
              "      <td>1309.000000</td>\n",
              "      <td>3.000000</td>\n",
              "      <td>76.000000</td>\n",
              "      <td>8.000000</td>\n",
              "      <td>9.000000</td>\n",
              "      <td>512.329200</td>\n",
              "    </tr>\n",
              "  </tbody>\n",
              "</table>\n",
              "</div>"
            ],
            "text/plain": [
              "       Passengerid      Pclass         Age       Sibsp       Parch        Fare\n",
              "count   376.000000  376.000000  295.000000  418.000000  418.000000  375.000000\n",
              "mean   1101.808511    2.271277   30.271763    0.447368    0.392344   34.457245\n",
              "std     121.234431    0.842741   13.904076    0.896760    0.981429   55.089213\n",
              "min     892.000000    1.000000    0.170000    0.000000    0.000000    0.000000\n",
              "25%     997.750000    1.000000   21.000000    0.000000    0.000000    7.895800\n",
              "50%    1100.500000    3.000000   27.000000    0.000000    0.000000   13.862500\n",
              "75%    1207.250000    3.000000   39.000000    1.000000    0.000000   30.943750\n",
              "max    1309.000000    3.000000   76.000000    8.000000    9.000000  512.329200"
            ]
          },
          "metadata": {},
          "execution_count": 21
        }
      ]
    },
    {
      "cell_type": "markdown",
      "metadata": {
        "id": "AEHWwX__fBtu"
      },
      "source": [
        "Вспомним, какие признаки являются категориальными."
      ]
    },
    {
      "cell_type": "code",
      "metadata": {
        "colab": {
          "base_uri": "https://localhost:8080/"
        },
        "id": "E6x-JMDSfGWW",
        "outputId": "1bff2e39-e5f7-4115-da52-2822b250220e"
      },
      "source": [
        "df.nunique()"
      ],
      "execution_count": null,
      "outputs": [
        {
          "output_type": "execute_result",
          "data": {
            "text/plain": [
              "Passengerid    376\n",
              "Pclass           3\n",
              "Name           376\n",
              "Sex              2\n",
              "Age             74\n",
              "Sibsp            7\n",
              "Parch            8\n",
              "Ticket         363\n",
              "Fare           160\n",
              "Cabin           76\n",
              "Embarked         3\n",
              "dtype: int64"
            ]
          },
          "metadata": {},
          "execution_count": 23
        }
      ]
    },
    {
      "cell_type": "markdown",
      "metadata": {
        "id": "sP1qD91q_gIS"
      },
      "source": [
        "Мы видим, что логично считать категориальными признаками Pclass, Sex, Sibsp, Parch, Embarked - потому что в данных колонках присутствует не много различных значений (меньше 50)."
      ]
    },
    {
      "cell_type": "markdown",
      "metadata": {
        "id": "COxaTkOsBSXD"
      },
      "source": [
        "Теперь давайте вспомним, в каких колонках содержатся пропуски:"
      ]
    },
    {
      "cell_type": "code",
      "metadata": {
        "colab": {
          "base_uri": "https://localhost:8080/"
        },
        "id": "WvVCZlp7DrKz",
        "outputId": "7bf1b8ba-bc47-4213-c6d1-163121aab2e6"
      },
      "source": [
        "df.isna().any()"
      ],
      "execution_count": null,
      "outputs": [
        {
          "output_type": "execute_result",
          "data": {
            "text/plain": [
              "Passengerid     True\n",
              "Pclass          True\n",
              "Name            True\n",
              "Sex             True\n",
              "Age             True\n",
              "Sibsp          False\n",
              "Parch          False\n",
              "Ticket         False\n",
              "Fare            True\n",
              "Cabin           True\n",
              "Embarked       False\n",
              "dtype: bool"
            ]
          },
          "metadata": {},
          "execution_count": 25
        }
      ]
    },
    {
      "cell_type": "markdown",
      "metadata": {
        "id": "EP33-Li3DxiX"
      },
      "source": [
        "Мы видим, что пропущены значения в колонках Passengerid, Pclass, Name, Sex, Age, Fare, Cabin."
      ]
    },
    {
      "cell_type": "markdown",
      "metadata": {
        "id": "U4KkZbLRfeuP"
      },
      "source": [
        "## Анализ числовых признаков"
      ]
    },
    {
      "cell_type": "markdown",
      "metadata": {
        "id": "GVwFFYu3fvbZ"
      },
      "source": [
        "Проведём анализ существующих числовых признаков. Для этого построим соответствующие графики."
      ]
    },
    {
      "cell_type": "markdown",
      "metadata": {
        "id": "qAHJ_Kl3gGLO"
      },
      "source": [
        "### Passengerid"
      ]
    },
    {
      "cell_type": "markdown",
      "metadata": {
        "id": "-3nWnoeNgNRE"
      },
      "source": [
        "Здесь присутствует много различных значений. Поэтому давайте для начала построим линейный график."
      ]
    },
    {
      "cell_type": "code",
      "metadata": {
        "colab": {
          "base_uri": "https://localhost:8080/",
          "height": 282
        },
        "id": "xsobdq7jgcuv",
        "outputId": "3e49e797-3f45-4b2a-ca59-e7e2c56cf2a9"
      },
      "source": [
        "df['Passengerid'].plot()"
      ],
      "execution_count": null,
      "outputs": [
        {
          "output_type": "execute_result",
          "data": {
            "text/plain": [
              "<matplotlib.axes._subplots.AxesSubplot at 0x7fbf8649fed0>"
            ]
          },
          "metadata": {},
          "execution_count": 26
        },
        {
          "output_type": "display_data",
          "data": {
            "image/png": "[encoded data removed]",
            "text/plain": [
              "<Figure size 432x288 with 1 Axes>"
            ]
          },
          "metadata": {
            "needs_background": "light"
          }
        }
      ]
    },
    {
      "cell_type": "markdown",
      "metadata": {
        "id": "VlC40PMXgnFB"
      },
      "source": [
        "Мы видим, что данные меняются линейно. Это логично, потому что Passengerid - это порядковый номер пассажира."
      ]
    },
    {
      "cell_type": "markdown",
      "metadata": {
        "id": "03-RctZusuen"
      },
      "source": [
        "### Pclass"
      ]
    },
    {
      "cell_type": "markdown",
      "metadata": {
        "id": "CU4LPfWRgvVt"
      },
      "source": [
        "Pclass - это категориальный признак, принимающий небольшое количество значений (3). Для таких признаков удобно строить гистограмму."
      ]
    },
    {
      "cell_type": "code",
      "metadata": {
        "colab": {
          "base_uri": "https://localhost:8080/",
          "height": 303
        },
        "id": "HObuNgKGhDC1",
        "outputId": "54df778b-7a95-47d3-f93c-d84ae4a79060"
      },
      "source": [
        "df['Pclass'].hist()"
      ],
      "execution_count": null,
      "outputs": [
        {
          "output_type": "execute_result",
          "data": {
            "text/plain": [
              "<matplotlib.axes._subplots.AxesSubplot at 0x7fdb60dc7b50>"
            ]
          },
          "metadata": {},
          "execution_count": 24
        },
        {
          "output_type": "display_data",
          "data": {
            "image/png": "[encoded data removed]",
            "text/plain": [
              "<Figure size 432x288 with 1 Axes>"
            ]
          },
          "metadata": {
            "needs_background": "light"
          }
        }
      ]
    },
    {
      "cell_type": "markdown",
      "metadata": {
        "id": "8hFkEOwHhfyf"
      },
      "source": [
        "Мы видим, что пассажиров класса 3 оказалось намного больше, чем пассажиров классов 1 и 2. Т.е. верной оказалась гипотеза: \"В титанике было больше пассажиров класса 3\"."
      ]
    },
    {
      "cell_type": "markdown",
      "metadata": {
        "id": "tKsRXsobhnXE"
      },
      "source": [
        "### Age"
      ]
    },
    {
      "cell_type": "markdown",
      "metadata": {
        "id": "dZegD8lRhuIq"
      },
      "source": [
        "Эта колонка отображает возраст. Она тоже имеет большое количество значений. Давайте построим линейный график:"
      ]
    },
    {
      "cell_type": "code",
      "metadata": {
        "colab": {
          "base_uri": "https://localhost:8080/",
          "height": 282
        },
        "id": "tIR39chDh5SC",
        "outputId": "dd3d8293-93f8-414a-c26e-3747685f6acd"
      },
      "source": [
        "df['Age'].plot()"
      ],
      "execution_count": null,
      "outputs": [
        {
          "output_type": "execute_result",
          "data": {
            "text/plain": [
              "<matplotlib.axes._subplots.AxesSubplot at 0x7fbf86393490>"
            ]
          },
          "metadata": {},
          "execution_count": 27
        },
        {
          "output_type": "display_data",
          "data": {
            "image/png": "[encoded data removed]",
            "text/plain": [
              "<Figure size 432x288 with 1 Axes>"
            ]
          },
          "metadata": {
            "needs_background": "light"
          }
        }
      ]
    },
    {
      "cell_type": "markdown",
      "metadata": {
        "id": "6E_CcH4Ch9RV"
      },
      "source": [
        "Мы видим, что этот график особой пользы нам не приносит. Нам было бы интересно узнать, например, каких пассажиров больше: молодых или пожилых.\n",
        "\n",
        "По линейному графику видно, что больше точек в середине отрезка. Т.е. 20-40 лет.\n",
        "Сформулируем следующую гипотезу: \"На Титанике большинство пассажиров были от 20 до 30 лет\".\n",
        "\n",
        "Для проверки этой гипотезы можно построить гистограмму. Но в наших данных очень много людей с разными возрастами. Поэтому логично их объединить в группы:"
      ]
    },
    {
      "cell_type": "code",
      "metadata": {
        "colab": {
          "base_uri": "https://localhost:8080/",
          "height": 282
        },
        "id": "pGTDPsoziLeG",
        "outputId": "5b39e6c7-ebe3-4a86-d4c0-d7459d953b51"
      },
      "source": [
        "df['Age'].hist(bins=10)"
      ],
      "execution_count": null,
      "outputs": [
        {
          "output_type": "execute_result",
          "data": {
            "text/plain": [
              "<matplotlib.axes._subplots.AxesSubplot at 0x7fbf81bb1350>"
            ]
          },
          "metadata": {},
          "execution_count": 32
        },
        {
          "output_type": "display_data",
          "data": {
            "image/png": "[encoded data removed]",
            "text/plain": [
              "<Figure size 432x288 with 1 Axes>"
            ]
          },
          "metadata": {
            "needs_background": "light"
          }
        }
      ]
    },
    {
      "cell_type": "markdown",
      "metadata": {
        "id": "yoc96Y0qivlM"
      },
      "source": [
        "Мы видим, что на корабле было не так много пожилых и молодых людей. Основная часть пассажиров - это люди 15-30 лет.\n",
        "Таким образом, наша гипотеза подтверждена, но частично (в первоначальной гипотезе мы не учли возраст 15-20 лет)."
      ]
    },
    {
      "cell_type": "markdown",
      "metadata": {
        "id": "2yL2T5Bds3QC"
      },
      "source": [
        "### Sibsp"
      ]
    },
    {
      "cell_type": "markdown",
      "metadata": {
        "id": "RQC7WKJttBzz"
      },
      "source": [
        "Sibsp - это количество братьев, сестёр и супругов на борту.Этот параметр можно также считать категориальным, поскольку он принимает всего 7 разных значений. Давайте и для него построим гистограмму и проверим, верна ли гипотеза: \"На борту большинство пассажиров имели хотя бы одного супруга, брата или сестру\"."
      ]
    },
    {
      "cell_type": "code",
      "metadata": {
        "colab": {
          "base_uri": "https://localhost:8080/",
          "height": 282
        },
        "id": "kFPwl76OtLhw",
        "outputId": "1957a1e8-a33b-4965-dc26-c5fb67be4ced"
      },
      "source": [
        "df['Sibsp'].hist(bins=10)"
      ],
      "execution_count": null,
      "outputs": [
        {
          "output_type": "execute_result",
          "data": {
            "text/plain": [
              "<matplotlib.axes._subplots.AxesSubplot at 0x7fbf8197f0d0>"
            ]
          },
          "metadata": {},
          "execution_count": 35
        },
        {
          "output_type": "display_data",
          "data": {
            "image/png": "[encoded data removed]",
            "text/plain": [
              "<Figure size 432x288 with 1 Axes>"
            ]
          },
          "metadata": {
            "needs_background": "light"
          }
        }
      ]
    },
    {
      "cell_type": "markdown",
      "metadata": {
        "id": "arInXTf5tqMC"
      },
      "source": [
        "Мы видим, что больше всего на Титанике было одиноких пассажиров. Т.е. наша гипотеза не подтвердилась."
      ]
    },
    {
      "cell_type": "markdown",
      "metadata": {
        "id": "AuA4PoyRtwW8"
      },
      "source": [
        "### Parch"
      ]
    },
    {
      "cell_type": "markdown",
      "metadata": {
        "id": "JJW09DV8t509"
      },
      "source": [
        "Этот признак показывает количество родителей и детей на корабле. Его анализировать можно так же, как и предыдущий признак:"
      ]
    },
    {
      "cell_type": "code",
      "metadata": {
        "colab": {
          "base_uri": "https://localhost:8080/",
          "height": 282
        },
        "id": "xvAm2S3kuV_2",
        "outputId": "eae05f4a-fbb8-4bb8-e924-8c337bde1dd2"
      },
      "source": [
        "df['Parch'].hist()"
      ],
      "execution_count": null,
      "outputs": [
        {
          "output_type": "execute_result",
          "data": {
            "text/plain": [
              "<matplotlib.axes._subplots.AxesSubplot at 0x7fbf81b23610>"
            ]
          },
          "metadata": {},
          "execution_count": 36
        },
        {
          "output_type": "display_data",
          "data": {
            "image/png": "[encoded data removed]",
            "text/plain": [
              "<Figure size 432x288 with 1 Axes>"
            ]
          },
          "metadata": {
            "needs_background": "light"
          }
        }
      ]
    },
    {
      "cell_type": "markdown",
      "metadata": {
        "id": "YTXsOwlduclz"
      },
      "source": [
        "И здесь мы видим, что большинство пассажиров Титаника не имело родителей и детей на корабле."
      ]
    },
    {
      "cell_type": "markdown",
      "metadata": {
        "id": "M-_bvvElu4tS"
      },
      "source": [
        "###  Fare"
      ]
    },
    {
      "cell_type": "markdown",
      "metadata": {
        "id": "QTfNv18Uu8XN"
      },
      "source": [
        "Fare - это стоимость билета очередного пассажира. Здесь можно так же построить обычный линейный график:"
      ]
    },
    {
      "cell_type": "code",
      "metadata": {
        "colab": {
          "base_uri": "https://localhost:8080/",
          "height": 282
        },
        "id": "gguE7JBYvGZM",
        "outputId": "e96fbcdc-72ae-4611-8f30-80d5de935f8a"
      },
      "source": [
        "df['Fare'].plot()"
      ],
      "execution_count": null,
      "outputs": [
        {
          "output_type": "execute_result",
          "data": {
            "text/plain": [
              "<matplotlib.axes._subplots.AxesSubplot at 0x7fbf818e0450>"
            ]
          },
          "metadata": {},
          "execution_count": 37
        },
        {
          "output_type": "display_data",
          "data": {
            "image/png": "[encoded data removed]",
            "text/plain": [
              "<Figure size 432x288 with 1 Axes>"
            ]
          },
          "metadata": {
            "needs_background": "light"
          }
        }
      ]
    },
    {
      "cell_type": "markdown",
      "metadata": {
        "id": "JsQPs90ZvikC"
      },
      "source": [
        "Мы видим по графику, что стоимость принимает различные значения. Но есть очень много пассажиров с небольшой ценой билета, а также есть пассажиры, заплатившие больше всего денег. Поэтому логично выдвинуть гипотезу: \"Пассажиры в основном заплатили менее 100$ за билет\". Для её проверки можно построить гистограмму:"
      ]
    },
    {
      "cell_type": "code",
      "metadata": {
        "colab": {
          "base_uri": "https://localhost:8080/",
          "height": 282
        },
        "id": "nNyt3bLsvwF0",
        "outputId": "1caec9b4-30ed-44a5-aeb8-bb32ac27e7ac"
      },
      "source": [
        "df['Fare'].hist(bins=30)"
      ],
      "execution_count": null,
      "outputs": [
        {
          "output_type": "execute_result",
          "data": {
            "text/plain": [
              "<matplotlib.axes._subplots.AxesSubplot at 0x7fbf817dd550>"
            ]
          },
          "metadata": {},
          "execution_count": 39
        },
        {
          "output_type": "display_data",
          "data": {
            "image/png": "[encoded data removed]",
            "text/plain": [
              "<Figure size 432x288 with 1 Axes>"
            ]
          },
          "metadata": {
            "needs_background": "light"
          }
        }
      ]
    },
    {
      "cell_type": "markdown",
      "metadata": {
        "id": "sNNcIiElwAUi"
      },
      "source": [
        "Мы видим, что большинство пассажиров отдало не так много денег за билет. Наша гипотеза подтверждена.\n",
        "\n",
        "Наверное, это логично. Известно, что на корабле большинство пассажиров ехали в третьем классе. Наверное, между этими значениями есть какая-то связь... Но об этом - позже."
      ]
    },
    {
      "cell_type": "markdown",
      "metadata": {
        "id": "-Y0h_Owdxo7c"
      },
      "source": [
        "## Анализ категориальных признаков"
      ]
    },
    {
      "cell_type": "markdown",
      "metadata": {
        "id": "SnBIiWdnxuvQ"
      },
      "source": [
        "Теперь давайте отдельно проанализируем категориальные признаки, не являющиеся числовыми. Какой тип графиков подойдет для них?"
      ]
    },
    {
      "cell_type": "markdown",
      "metadata": {
        "id": "6KeRBaFayPzn"
      },
      "source": [
        "Для них подойдёт **гистограмма**."
      ]
    },
    {
      "cell_type": "markdown",
      "metadata": {
        "id": "X_T9JLoizGVt"
      },
      "source": [
        "### Sex"
      ]
    },
    {
      "cell_type": "markdown",
      "metadata": {
        "id": "7LpM3fPtzIH7"
      },
      "source": [
        "Эта колонка определяет пол пассажира. Давайте попробуем построить гистограмму по ней:"
      ]
    },
    {
      "cell_type": "code",
      "metadata": {
        "colab": {
          "base_uri": "https://localhost:8080/",
          "height": 285
        },
        "id": "rkQe3z5gzAcI",
        "outputId": "ccbd9e33-ed07-4ae9-9f08-c9a8b0e995f0"
      },
      "source": [
        "df['Sex'].hist()"
      ],
      "execution_count": null,
      "outputs": [
        {
          "output_type": "execute_result",
          "data": {
            "text/plain": [
              "<matplotlib.axes._subplots.AxesSubplot at 0x7fbf8171cb90>"
            ]
          },
          "metadata": {},
          "execution_count": 40
        },
        {
          "output_type": "display_data",
          "data": {
            "image/png": "[encoded data removed]",
            "text/plain": [
              "<Figure size 432x288 with 1 Axes>"
            ]
          },
          "metadata": {
            "needs_background": "light"
          }
        }
      ]
    },
    {
      "cell_type": "markdown",
      "metadata": {
        "id": "fOZ6bfOQzTK6"
      },
      "source": [
        "Мы видим, что мужчин на Титанике было больше."
      ]
    },
    {
      "cell_type": "markdown",
      "metadata": {
        "id": "I4x662Bgzqzu"
      },
      "source": [
        "### Embarked"
      ]
    },
    {
      "cell_type": "markdown",
      "metadata": {
        "id": "KBiUYYpuztnr"
      },
      "source": [
        "Этот признак отвечает за название порта, где пассажир садился на корабль (C = Cherbourg, Q = Queenstown, S = Southampton). Давайте построим и его гистограмму:"
      ]
    },
    {
      "cell_type": "code",
      "metadata": {
        "colab": {
          "base_uri": "https://localhost:8080/",
          "height": 282
        },
        "id": "iQxK8JVK0Snl",
        "outputId": "dad89abb-11a8-4a2f-f8a5-b3abca82927c"
      },
      "source": [
        "df['Embarked'].hist()"
      ],
      "execution_count": null,
      "outputs": [
        {
          "output_type": "execute_result",
          "data": {
            "text/plain": [
              "<matplotlib.axes._subplots.AxesSubplot at 0x7fbf81691150>"
            ]
          },
          "metadata": {},
          "execution_count": 41
        },
        {
          "output_type": "display_data",
          "data": {
            "image/png": "[encoded data removed]",
            "text/plain": [
              "<Figure size 432x288 with 1 Axes>"
            ]
          },
          "metadata": {
            "needs_background": "light"
          }
        }
      ]
    },
    {
      "cell_type": "markdown",
      "metadata": {
        "id": "CY4uZcqB0b5c"
      },
      "source": [
        "Мы видим, что больше всего пассажиров было из Southampton."
      ]
    },
    {
      "cell_type": "markdown",
      "metadata": {
        "id": "6KQQXrdef2GU"
      },
      "source": [
        "## Заполнение пропусков. interpolate, fillna, apply."
      ]
    },
    {
      "cell_type": "markdown",
      "metadata": {
        "id": "Mbn1bjbJgDdl"
      },
      "source": [
        "Как мы помним, пропуски присутствуют в признаках Passengerid, Pclass, Name, Sex, Age, Fare, Cabin.\n",
        "\n",
        "Рассмотрим каждый из этих признаов в отдельности и подумаем, как стоит заполнять пропуски в каждом признаке."
      ]
    },
    {
      "cell_type": "markdown",
      "metadata": {
        "id": "RoMjAoYUhGEL"
      },
      "source": [
        "### Passengerid"
      ]
    },
    {
      "cell_type": "markdown",
      "metadata": {
        "id": "PtRTWsPghIs8"
      },
      "source": [
        "Как мы видели ранее на графике, значения индекса меняются линейно. Поэтому можно провести линейную интерполяцию.\n",
        "\n",
        "Работая с numpy нам приходилось использовать linspace и вручную искать пропуски.\n",
        "\n",
        "В pandas это делается с помощью одного метода: interpolate.\n",
        "\n"
      ]
    },
    {
      "cell_type": "code",
      "metadata": {
        "colab": {
          "base_uri": "https://localhost:8080/",
          "height": 282
        },
        "id": "IYzj0l-pie8F",
        "outputId": "38ff372e-144b-4205-badd-463f5937792c"
      },
      "source": [
        "df['Passengerid'] = df['Passengerid'].interpolate(method='linear')\n",
        "df['Passengerid'].plot()"
      ],
      "execution_count": null,
      "outputs": [
        {
          "output_type": "execute_result",
          "data": {
            "text/plain": [
              "<matplotlib.axes._subplots.AxesSubplot at 0x7fbf81685e10>"
            ]
          },
          "metadata": {},
          "execution_count": 42
        },
        {
          "output_type": "display_data",
          "data": {
            "image/png": "[encoded data removed]",
            "text/plain": [
              "<Figure size 432x288 with 1 Axes>"
            ]
          },
          "metadata": {
            "needs_background": "light"
          }
        }
      ]
    },
    {
      "cell_type": "markdown",
      "metadata": {
        "id": "64CoHOxsi4zl"
      },
      "source": [
        "### Pclass"
      ]
    },
    {
      "cell_type": "markdown",
      "metadata": {
        "id": "IX6uSdE1i-XE"
      },
      "source": [
        "Это - категориальный признак. Как мы помним, в данном случае следует заполнять пропуски наиболее частым значением. По графику (см. выше) видно, что это значение равно 3.\n",
        "\n",
        "Чтобы заполнить пропуски каким-то одним значением можно использовать fillna:"
      ]
    },
    {
      "cell_type": "code",
      "metadata": {
        "colab": {
          "base_uri": "https://localhost:8080/"
        },
        "id": "-HfvcGyLjb2o",
        "outputId": "85254b49-df66-490d-ed9d-2dd3ad2c7c5d"
      },
      "source": [
        "df['Pclass'] = df['Pclass'].fillna(3)\n",
        "df['Pclass'].isna().any()"
      ],
      "execution_count": null,
      "outputs": [
        {
          "output_type": "execute_result",
          "data": {
            "text/plain": [
              "False"
            ]
          },
          "metadata": {},
          "execution_count": 43
        }
      ]
    },
    {
      "cell_type": "markdown",
      "metadata": {
        "id": "ZNq15Q5ZkCCZ"
      },
      "source": [
        "Мы видим, что пропусков в этой колонке больше нет."
      ]
    },
    {
      "cell_type": "markdown",
      "metadata": {
        "id": "vk4MBDZWkGma"
      },
      "source": [
        "### Sex"
      ]
    },
    {
      "cell_type": "markdown",
      "metadata": {
        "id": "FNuZOqwNkOtH"
      },
      "source": [
        "Мы говорили ранее, что пол можно заполнять исходя из имени: если в имени встречается Mrs. или Miss - значит пол \"женский\", иначе пол - \"Мужской\".\n",
        "\n",
        "Ранее мы это могли сделать с помощью map.\n",
        "\n",
        "В pandas есть свой аналог map - функция apply. Она обладает более широкими возможностями, например, может применяться как к строкам, так и к столбцам.\n",
        "\n",
        "Таким образом, apply работает следующим образом:\n",
        "\n",
        "1. Итерируется по **всем** строкам или столбцам (как мы ему скажем).\n",
        "2. Для каждой строки или столбца выполняет указанное преобразование.\n",
        "3. Результат возвращает в виде DataFrame или Series."
      ]
    },
    {
      "cell_type": "markdown",
      "metadata": {
        "id": "TVDKOevfk_BX"
      },
      "source": [
        "Для того, чтобы выполнить указанное преобразование, давайте вспомним функцию, которая по имени получает пол:"
      ]
    },
    {
      "cell_type": "code",
      "metadata": {
        "id": "wv8EPwgelKDI"
      },
      "source": [
        "def get_sex_from_name(name):\n",
        "  if pd.isnull(name):\n",
        "    return None\n",
        "  elif 'Mr.' in name:\n",
        "      return 'male'\n",
        "  elif 'Mrs.' in name or 'Miss.' in name:\n",
        "      return 'female'\n",
        "  else:\n",
        "      return None"
      ],
      "execution_count": null,
      "outputs": []
    },
    {
      "cell_type": "markdown",
      "metadata": {
        "id": "U0Ahi4LVmvXc"
      },
      "source": [
        "Теперь давайте поймём, как написать функцию, которая по одной строке сформирует название пола:\n"
      ]
    },
    {
      "cell_type": "code",
      "metadata": {
        "id": "5GGMLH7GoBJU"
      },
      "source": [
        "def get_sex_for_row(row):\n",
        "  sex = row['Sex']\n",
        "  if not pd.isnull(sex):\n",
        "    return sex\n",
        "  else:\n",
        "    return get_sex_from_name(row['Name'])"
      ],
      "execution_count": null,
      "outputs": []
    },
    {
      "cell_type": "markdown",
      "metadata": {
        "id": "2l5W-NOZmMZZ"
      },
      "source": [
        "Теперь применяем**(apply)** нашу функцию к **каждой** строке."
      ]
    },
    {
      "cell_type": "code",
      "metadata": {
        "id": "PuWEwU3mmp7D"
      },
      "source": [
        "new_sex = df.apply(get_sex_for_row, axis=1)"
      ],
      "execution_count": null,
      "outputs": []
    },
    {
      "cell_type": "code",
      "metadata": {
        "colab": {
          "base_uri": "https://localhost:8080/"
        },
        "id": "_dwFitQ9mL1s",
        "outputId": "4648f29e-37bd-4a34-f70a-8241bec00bfc"
      },
      "source": [
        "print(df['Sex'])"
      ],
      "execution_count": null,
      "outputs": [
        {
          "output_type": "stream",
          "name": "stdout",
          "text": [
            "0        male\n",
            "1      female\n",
            "2         NaN\n",
            "3        male\n",
            "4      female\n",
            "        ...  \n",
            "413      male\n",
            "414    female\n",
            "415      male\n",
            "416      male\n",
            "417       NaN\n",
            "Name: Sex, Length: 418, dtype: object\n"
          ]
        }
      ]
    },
    {
      "cell_type": "code",
      "metadata": {
        "colab": {
          "base_uri": "https://localhost:8080/",
          "height": 285
        },
        "id": "67ZNpCSEqD2a",
        "outputId": "1275d88b-7d2e-4f02-e3d7-1ee7da596fd8"
      },
      "source": [
        "df['Sex'].hist()"
      ],
      "execution_count": null,
      "outputs": [
        {
          "output_type": "execute_result",
          "data": {
            "text/plain": [
              "<matplotlib.axes._subplots.AxesSubplot at 0x7fbf8158ff50>"
            ]
          },
          "metadata": {},
          "execution_count": 48
        },
        {
          "output_type": "display_data",
          "data": {
            "image/png": "[encoded data removed]",
            "text/plain": [
              "<Figure size 432x288 with 1 Axes>"
            ]
          },
          "metadata": {
            "needs_background": "light"
          }
        }
      ]
    },
    {
      "cell_type": "code",
      "metadata": {
        "colab": {
          "base_uri": "https://localhost:8080/"
        },
        "id": "E950mRb-oj4Q",
        "outputId": "4169b3f1-68fc-4f69-8dab-a68b9ebba860"
      },
      "source": [
        "new_sex"
      ],
      "execution_count": null,
      "outputs": [
        {
          "output_type": "execute_result",
          "data": {
            "text/plain": [
              "0        male\n",
              "1      female\n",
              "2        male\n",
              "3        male\n",
              "4      female\n",
              "        ...  \n",
              "413      male\n",
              "414    female\n",
              "415      male\n",
              "416      male\n",
              "417      None\n",
              "Length: 418, dtype: object"
            ]
          },
          "metadata": {},
          "execution_count": 49
        }
      ]
    },
    {
      "cell_type": "code",
      "metadata": {
        "id": "u6oWir53p3Av"
      },
      "source": [
        "df['Sex'] = new_sex.fillna('male')"
      ],
      "execution_count": null,
      "outputs": []
    },
    {
      "cell_type": "code",
      "metadata": {
        "colab": {
          "base_uri": "https://localhost:8080/"
        },
        "id": "xp0UkJ-2qKqU",
        "outputId": "39bee88d-cdb0-4295-92e7-b434280758bd"
      },
      "source": [
        "print(df['Sex'])"
      ],
      "execution_count": null,
      "outputs": [
        {
          "output_type": "stream",
          "name": "stdout",
          "text": [
            "0        male\n",
            "1      female\n",
            "2        male\n",
            "3        male\n",
            "4      female\n",
            "        ...  \n",
            "413      male\n",
            "414    female\n",
            "415      male\n",
            "416      male\n",
            "417      male\n",
            "Name: Sex, Length: 418, dtype: object\n"
          ]
        }
      ]
    },
    {
      "cell_type": "markdown",
      "metadata": {
        "id": "vcB_otDvqbsa"
      },
      "source": [
        "### Age"
      ]
    },
    {
      "cell_type": "markdown",
      "metadata": {
        "id": "pK3AQ1EQqfzG"
      },
      "source": [
        "Мы можем заполнить возраст средним.\n",
        "\n",
        "Однако по гистограмме видно, что больше всего людей имели возраст ниже среднего (15-30 лет).\n",
        "\n",
        "Поэтому логично заменить пропуски в этой колонке заполнить каким-то значением из этого периода. Давайте заполним значением 25:"
      ]
    },
    {
      "cell_type": "code",
      "metadata": {
        "id": "0zh3ILn0rQRu"
      },
      "source": [
        "df['Age'] = df['Age'].fillna(25)"
      ],
      "execution_count": null,
      "outputs": []
    },
    {
      "cell_type": "markdown",
      "metadata": {
        "id": "mC4UoTjcrY3j"
      },
      "source": [
        "### Fare"
      ]
    },
    {
      "cell_type": "markdown",
      "metadata": {
        "id": "nCPNeE4crbZc"
      },
      "source": [
        "Это - цена билета.\n",
        "\n",
        "Тут можно было бы заполнить просто средним.\n",
        "Однако, у нас было предположение, что цена билета зависит от класса пассажира.\n",
        "\n",
        "Давайте это проверим - построим гистограммы распределения цен для каждого класса."
      ]
    },
    {
      "cell_type": "markdown",
      "metadata": {
        "id": "PVj3FebisQ6C"
      },
      "source": [
        "Сначала вспомним, как выбрать данные по какому-то классу:"
      ]
    },
    {
      "cell_type": "code",
      "metadata": {
        "colab": {
          "base_uri": "https://localhost:8080/",
          "height": 419
        },
        "id": "tR6vh82ssIad",
        "outputId": "268282f5-5af0-49e7-9322-37c66fbd4697"
      },
      "source": [
        "df.query('Pclass==1')"
      ],
      "execution_count": null,
      "outputs": [
        {
          "output_type": "execute_result",
          "data": {
            "text/html": [
              "<div>\n",
              "<style scoped>\n",
              "    .dataframe tbody tr th:only-of-type {\n",
              "        vertical-align: middle;\n",
              "    }\n",
              "\n",
              "    .dataframe tbody tr th {\n",
              "        vertical-align: top;\n",
              "    }\n",
              "\n",
              "    .dataframe thead th {\n",
              "        text-align: right;\n",
              "    }\n",
              "</style>\n",
              "<table border=\"1\" class=\"dataframe\">\n",
              "  <thead>\n",
              "    <tr style=\"text-align: right;\">\n",
              "      <th></th>\n",
              "      <th>Passengerid</th>\n",
              "      <th>Pclass</th>\n",
              "      <th>Name</th>\n",
              "      <th>Sex</th>\n",
              "      <th>Age</th>\n",
              "      <th>Sibsp</th>\n",
              "      <th>Parch</th>\n",
              "      <th>Ticket</th>\n",
              "      <th>Fare</th>\n",
              "      <th>Cabin</th>\n",
              "      <th>Embarked</th>\n",
              "    </tr>\n",
              "  </thead>\n",
              "  <tbody>\n",
              "    <tr>\n",
              "      <th>12</th>\n",
              "      <td>904.0</td>\n",
              "      <td>1.0</td>\n",
              "      <td>Snyder; Mrs. John Pillsbury (Nelle Stevenson)</td>\n",
              "      <td>female</td>\n",
              "      <td>23.0</td>\n",
              "      <td>1</td>\n",
              "      <td>0</td>\n",
              "      <td>21228</td>\n",
              "      <td>82.2667</td>\n",
              "      <td>B45</td>\n",
              "      <td>S</td>\n",
              "    </tr>\n",
              "    <tr>\n",
              "      <th>14</th>\n",
              "      <td>906.0</td>\n",
              "      <td>1.0</td>\n",
              "      <td>Chaffee; Mrs. Herbert Fuller (Carrie Constance...</td>\n",
              "      <td>female</td>\n",
              "      <td>47.0</td>\n",
              "      <td>1</td>\n",
              "      <td>0</td>\n",
              "      <td>W.E.P. 5734</td>\n",
              "      <td>61.1750</td>\n",
              "      <td>E31</td>\n",
              "      <td>S</td>\n",
              "    </tr>\n",
              "    <tr>\n",
              "      <th>20</th>\n",
              "      <td>912.0</td>\n",
              "      <td>1.0</td>\n",
              "      <td>Rothschild; Mr. Martin</td>\n",
              "      <td>male</td>\n",
              "      <td>55.0</td>\n",
              "      <td>1</td>\n",
              "      <td>0</td>\n",
              "      <td>PC 17603</td>\n",
              "      <td>59.4000</td>\n",
              "      <td>NaN</td>\n",
              "      <td>C</td>\n",
              "    </tr>\n",
              "    <tr>\n",
              "      <th>22</th>\n",
              "      <td>914.0</td>\n",
              "      <td>1.0</td>\n",
              "      <td>Flegenheim; Mrs. Alfred (Antoinette)</td>\n",
              "      <td>female</td>\n",
              "      <td>25.0</td>\n",
              "      <td>0</td>\n",
              "      <td>0</td>\n",
              "      <td>PC 17598</td>\n",
              "      <td>31.6833</td>\n",
              "      <td>NaN</td>\n",
              "      <td>S</td>\n",
              "    </tr>\n",
              "    <tr>\n",
              "      <th>23</th>\n",
              "      <td>915.0</td>\n",
              "      <td>1.0</td>\n",
              "      <td>Williams; Mr. Richard Norris II</td>\n",
              "      <td>male</td>\n",
              "      <td>21.0</td>\n",
              "      <td>0</td>\n",
              "      <td>1</td>\n",
              "      <td>PC 17597</td>\n",
              "      <td>NaN</td>\n",
              "      <td>NaN</td>\n",
              "      <td>C</td>\n",
              "    </tr>\n",
              "    <tr>\n",
              "      <th>...</th>\n",
              "      <td>...</td>\n",
              "      <td>...</td>\n",
              "      <td>...</td>\n",
              "      <td>...</td>\n",
              "      <td>...</td>\n",
              "      <td>...</td>\n",
              "      <td>...</td>\n",
              "      <td>...</td>\n",
              "      <td>...</td>\n",
              "      <td>...</td>\n",
              "      <td>...</td>\n",
              "    </tr>\n",
              "    <tr>\n",
              "      <th>403</th>\n",
              "      <td>1295.0</td>\n",
              "      <td>1.0</td>\n",
              "      <td>Carrau; Mr. Jose Pedro</td>\n",
              "      <td>male</td>\n",
              "      <td>17.0</td>\n",
              "      <td>0</td>\n",
              "      <td>0</td>\n",
              "      <td>113059</td>\n",
              "      <td>47.1000</td>\n",
              "      <td>NaN</td>\n",
              "      <td>S</td>\n",
              "    </tr>\n",
              "    <tr>\n",
              "      <th>404</th>\n",
              "      <td>1296.0</td>\n",
              "      <td>1.0</td>\n",
              "      <td>NaN</td>\n",
              "      <td>male</td>\n",
              "      <td>43.0</td>\n",
              "      <td>1</td>\n",
              "      <td>0</td>\n",
              "      <td>17765</td>\n",
              "      <td>27.7208</td>\n",
              "      <td>D40</td>\n",
              "      <td>C</td>\n",
              "    </tr>\n",
              "    <tr>\n",
              "      <th>407</th>\n",
              "      <td>1299.0</td>\n",
              "      <td>1.0</td>\n",
              "      <td>Widener; Mr. George Dunton</td>\n",
              "      <td>male</td>\n",
              "      <td>50.0</td>\n",
              "      <td>1</td>\n",
              "      <td>1</td>\n",
              "      <td>113503</td>\n",
              "      <td>211.5000</td>\n",
              "      <td>C80</td>\n",
              "      <td>C</td>\n",
              "    </tr>\n",
              "    <tr>\n",
              "      <th>411</th>\n",
              "      <td>1303.0</td>\n",
              "      <td>1.0</td>\n",
              "      <td>Minahan; Mrs. William Edward (Lillian E Thorpe)</td>\n",
              "      <td>female</td>\n",
              "      <td>37.0</td>\n",
              "      <td>1</td>\n",
              "      <td>0</td>\n",
              "      <td>19928</td>\n",
              "      <td>90.0000</td>\n",
              "      <td>C78</td>\n",
              "      <td>Q</td>\n",
              "    </tr>\n",
              "    <tr>\n",
              "      <th>414</th>\n",
              "      <td>1306.0</td>\n",
              "      <td>1.0</td>\n",
              "      <td>Oliva y Ocana; Dona. Fermina</td>\n",
              "      <td>female</td>\n",
              "      <td>39.0</td>\n",
              "      <td>0</td>\n",
              "      <td>0</td>\n",
              "      <td>PC 17758</td>\n",
              "      <td>108.9000</td>\n",
              "      <td>C105</td>\n",
              "      <td>C</td>\n",
              "    </tr>\n",
              "  </tbody>\n",
              "</table>\n",
              "<p>96 rows × 11 columns</p>\n",
              "</div>"
            ],
            "text/plain": [
              "     Passengerid  Pclass  ... Cabin Embarked\n",
              "12         904.0     1.0  ...   B45        S\n",
              "14         906.0     1.0  ...   E31        S\n",
              "20         912.0     1.0  ...   NaN        C\n",
              "22         914.0     1.0  ...   NaN        S\n",
              "23         915.0     1.0  ...   NaN        C\n",
              "..           ...     ...  ...   ...      ...\n",
              "403       1295.0     1.0  ...   NaN        S\n",
              "404       1296.0     1.0  ...   D40        C\n",
              "407       1299.0     1.0  ...   C80        C\n",
              "411       1303.0     1.0  ...   C78        Q\n",
              "414       1306.0     1.0  ...  C105        C\n",
              "\n",
              "[96 rows x 11 columns]"
            ]
          },
          "metadata": {},
          "execution_count": 53
        }
      ]
    },
    {
      "cell_type": "markdown",
      "metadata": {
        "id": "xGgKjDsAsYVr"
      },
      "source": [
        "Теперь давайте построим гистограммы для каждого класса:"
      ]
    },
    {
      "cell_type": "code",
      "metadata": {
        "colab": {
          "base_uri": "https://localhost:8080/",
          "height": 282
        },
        "id": "fK6G80BSsc1H",
        "outputId": "fe19cbc6-0470-4b8c-d7b1-baa8a176633a"
      },
      "source": [
        "df.query('Pclass==1')['Fare'].hist(bins=20)"
      ],
      "execution_count": null,
      "outputs": [
        {
          "output_type": "execute_result",
          "data": {
            "text/plain": [
              "<matplotlib.axes._subplots.AxesSubplot at 0x7fbf8128bb90>"
            ]
          },
          "metadata": {},
          "execution_count": 54
        },
        {
          "output_type": "display_data",
          "data": {
            "image/png": "[encoded data removed]",
            "text/plain": [
              "<Figure size 432x288 with 1 Axes>"
            ]
          },
          "metadata": {
            "needs_background": "light"
          }
        }
      ]
    },
    {
      "cell_type": "code",
      "metadata": {
        "colab": {
          "base_uri": "https://localhost:8080/",
          "height": 282
        },
        "id": "gGbBKPkust9c",
        "outputId": "f57bd87c-47a6-4f63-9012-6d8418151083"
      },
      "source": [
        "df.query('Pclass==2')['Fare'].hist()"
      ],
      "execution_count": null,
      "outputs": [
        {
          "output_type": "execute_result",
          "data": {
            "text/plain": [
              "<matplotlib.axes._subplots.AxesSubplot at 0x7fbf801b5d50>"
            ]
          },
          "metadata": {},
          "execution_count": 56
        },
        {
          "output_type": "display_data",
          "data": {
            "image/png": "[encoded data removed]",
            "text/plain": [
              "<Figure size 432x288 with 1 Axes>"
            ]
          },
          "metadata": {
            "needs_background": "light"
          }
        }
      ]
    },
    {
      "cell_type": "code",
      "metadata": {
        "colab": {
          "base_uri": "https://localhost:8080/",
          "height": 282
        },
        "id": "t94teWcls1RR",
        "outputId": "1435f623-763a-4056-c8a2-9260186127d8"
      },
      "source": [
        "df.query('Pclass==3')['Fare'].hist(bins=20)"
      ],
      "execution_count": null,
      "outputs": [
        {
          "output_type": "execute_result",
          "data": {
            "text/plain": [
              "<matplotlib.axes._subplots.AxesSubplot at 0x7fbf800596d0>"
            ]
          },
          "metadata": {},
          "execution_count": 58
        },
        {
          "output_type": "display_data",
          "data": {
            "image/png": "[encoded data removed]",
            "text/plain": [
              "<Figure size 432x288 with 1 Axes>"
            ]
          },
          "metadata": {
            "needs_background": "light"
          }
        }
      ]
    },
    {
      "cell_type": "markdown",
      "metadata": {
        "id": "0XDI4bVItQTR"
      },
      "source": [
        "Мы видим, что в третьем классе есть несколько значений с очень большой ценой - это выбросы, которые возникли, когда мы заполняли значение класса. Их можно отбросить:"
      ]
    },
    {
      "cell_type": "code",
      "metadata": {
        "colab": {
          "base_uri": "https://localhost:8080/",
          "height": 282
        },
        "id": "rT7TyzdQtsax",
        "outputId": "9a816904-a249-4ba3-f93d-9c69c3c8889b"
      },
      "source": [
        "df.query('Pclass==3').query('Fare<100')['Fare'].hist(bins=20)"
      ],
      "execution_count": null,
      "outputs": [
        {
          "output_type": "execute_result",
          "data": {
            "text/plain": [
              "<matplotlib.axes._subplots.AxesSubplot at 0x7fbf8160ce90>"
            ]
          },
          "metadata": {},
          "execution_count": 59
        },
        {
          "output_type": "display_data",
          "data": {
            "image/png": "[encoded data removed]",
            "text/plain": [
              "<Figure size 432x288 with 1 Axes>"
            ]
          },
          "metadata": {
            "needs_background": "light"
          }
        }
      ]
    },
    {
      "cell_type": "markdown",
      "metadata": {
        "id": "YwOeNqjZuEfj"
      },
      "source": [
        "Мы видим, что в 3 классе преобладают билеты стоимостью до 10\\$, во втором - от 10\\$ до 70\\$.\n",
        "\n",
        "Таким образом, связь между стоимостью билета и классом кабины есть.\n",
        "\n",
        "Поэтому логично заполнять пропуски медианой по соответствующим классам с помощью apply."
      ]
    },
    {
      "cell_type": "markdown",
      "metadata": {
        "id": "ninu1IFUvD4C"
      },
      "source": [
        "Посчитаем медианы:"
      ]
    },
    {
      "cell_type": "code",
      "source": [
        "import numpy as np\n",
        "\n",
        "l1 = np.array([1, 2, 30, 40, 100000000000000000000000])\n",
        "l2 = np.array([1, 2, 30, 40, 100000000000000000000000])\n",
        "\n",
        "np.median(l1), np.mean(l1)"
      ],
      "metadata": {
        "colab": {
          "base_uri": "https://localhost:8080/"
        },
        "id": "_NSTQPlHi2ae",
        "outputId": "e1a2e984-1263-4747-88eb-af589a08254c"
      },
      "execution_count": null,
      "outputs": [
        {
          "output_type": "execute_result",
          "data": {
            "text/plain": [
              "(30.0, 2e+22)"
            ]
          },
          "metadata": {},
          "execution_count": 66
        }
      ]
    },
    {
      "cell_type": "code",
      "metadata": {
        "colab": {
          "base_uri": "https://localhost:8080/"
        },
        "id": "9cJOLh2nvIZU",
        "outputId": "959a9930-efe8-409b-e2fd-e8c029c87049"
      },
      "source": [
        "median1 = df.query('Pclass==1')['Fare'].median()\n",
        "print(median1)"
      ],
      "execution_count": null,
      "outputs": [
        {
          "output_type": "stream",
          "name": "stdout",
          "text": [
            "71.2833\n"
          ]
        }
      ]
    },
    {
      "cell_type": "code",
      "metadata": {
        "colab": {
          "base_uri": "https://localhost:8080/"
        },
        "id": "nRXpYvxJvWG_",
        "outputId": "27739c20-393c-4702-dec4-0297a2969f30"
      },
      "source": [
        "median2 = df.query('Pclass==2')['Fare'].median()\n",
        "print(median2)"
      ],
      "execution_count": null,
      "outputs": [
        {
          "output_type": "stream",
          "name": "stdout",
          "text": [
            "15.875\n"
          ]
        }
      ]
    },
    {
      "cell_type": "code",
      "metadata": {
        "colab": {
          "base_uri": "https://localhost:8080/"
        },
        "id": "u1TGATbbvbJP",
        "outputId": "b4e95071-0d5b-4596-e947-bc4d1ea530dc"
      },
      "source": [
        "median3 = df.query('Pclass==3').query('Fare<100')['Fare'].median()\n",
        "print(median3)"
      ],
      "execution_count": null,
      "outputs": [
        {
          "output_type": "stream",
          "name": "stdout",
          "text": [
            "8.05\n"
          ]
        }
      ]
    },
    {
      "cell_type": "markdown",
      "metadata": {
        "id": "rBOx6NuivjII"
      },
      "source": [
        "Теперь напишем функцию, которая по текущей строке заполнит пропущенное значение Fare: "
      ]
    },
    {
      "cell_type": "code",
      "metadata": {
        "id": "Ne2AMaFSvtrO"
      },
      "source": [
        "def get_fare_from_row(row):\n",
        "  fare = row['Fare']\n",
        "  if not pd.isna(fare):\n",
        "    return fare\n",
        "  else:\n",
        "    pclass = row['Pclass']\n",
        "    if pclass==1:\n",
        "      return median1\n",
        "    elif pclass==2:\n",
        "      return median2\n",
        "    else:\n",
        "      return median3"
      ],
      "execution_count": null,
      "outputs": []
    },
    {
      "cell_type": "markdown",
      "metadata": {
        "id": "YULd9vgMwNoC"
      },
      "source": [
        "Теперь заполним пропуски в колонке Fare:"
      ]
    },
    {
      "cell_type": "code",
      "metadata": {
        "id": "ajhmZFIiwU3f"
      },
      "source": [
        "df['Fare'] = df.apply(get_fare_from_row, axis=1)"
      ],
      "execution_count": null,
      "outputs": []
    },
    {
      "cell_type": "markdown",
      "metadata": {
        "id": "TO7D6evrwkTw"
      },
      "source": [
        "### Проверка корректности заполнения пропусков"
      ]
    },
    {
      "cell_type": "markdown",
      "metadata": {
        "id": "x6lSBUwbwoiw"
      },
      "source": [
        "Теперь давайте проверим, все ли пропуски мы заполнили"
      ]
    },
    {
      "cell_type": "code",
      "metadata": {
        "colab": {
          "base_uri": "https://localhost:8080/"
        },
        "id": "KB5YnlXPwr8e",
        "outputId": "961dcd05-9483-43aa-a0fe-468470eaeabd"
      },
      "source": [
        "df.isna().any()"
      ],
      "execution_count": null,
      "outputs": [
        {
          "output_type": "execute_result",
          "data": {
            "text/plain": [
              "Passengerid    False\n",
              "Pclass         False\n",
              "Name            True\n",
              "Sex            False\n",
              "Age            False\n",
              "Sibsp          False\n",
              "Parch          False\n",
              "Ticket         False\n",
              "Fare           False\n",
              "Cabin           True\n",
              "Embarked       False\n",
              "dtype: bool"
            ]
          },
          "metadata": {},
          "execution_count": 72
        }
      ]
    },
    {
      "cell_type": "markdown",
      "metadata": {
        "id": "H8lcGD3jw5cw"
      },
      "source": [
        "Мы видим, что пропуски остались только в колонке Name и Cabin. Но мы уже обсуждали, что эти колонки не нужны. Их можно или отбросить, или оставить с пропусками и не учитывать далее."
      ]
    },
    {
      "cell_type": "markdown",
      "metadata": {
        "id": "Hs0dD6H2xNaA"
      },
      "source": [
        "## Создание новых признаков"
      ]
    },
    {
      "cell_type": "markdown",
      "metadata": {
        "id": "rgmundeZxR_I"
      },
      "source": [
        "Часто в процессе анализа данных мы замечаем, что какие-то колонки связаны. И мы можем получить какую-то новую информацию по уже существующим данным.\n",
        "\n",
        "В этом случае мы можем создать новую колонку, значения которой получаются путём применения apply к существующему датафрейму."
      ]
    },
    {
      "cell_type": "markdown",
      "metadata": {
        "id": "BA8eOP9iywE0"
      },
      "source": [
        "Например, в нашем датасете можно было заметить, что есть 2 связных признака:\n",
        "1. Sibsp - количество братьев, сестёр и супругов.\n",
        "2. Parch - количество родителей и детей.\n",
        "\n",
        "Логично было бы также иметь дополнительную информацию о суммарном количестве родственников:"
      ]
    },
    {
      "cell_type": "code",
      "metadata": {
        "id": "TRxyW-u0zM50",
        "colab": {
          "base_uri": "https://localhost:8080/",
          "height": 419
        },
        "outputId": "f5fc7793-3714-4b0e-aad0-393208c2f6a3"
      },
      "source": [
        "df['Relatives'] = df.apply(lambda row: row['Sibsp'] + row['Parch'], axis=1)\n",
        "df"
      ],
      "execution_count": null,
      "outputs": [
        {
          "output_type": "execute_result",
          "data": {
            "text/html": [
              "<div>\n",
              "<style scoped>\n",
              "    .dataframe tbody tr th:only-of-type {\n",
              "        vertical-align: middle;\n",
              "    }\n",
              "\n",
              "    .dataframe tbody tr th {\n",
              "        vertical-align: top;\n",
              "    }\n",
              "\n",
              "    .dataframe thead th {\n",
              "        text-align: right;\n",
              "    }\n",
              "</style>\n",
              "<table border=\"1\" class=\"dataframe\">\n",
              "  <thead>\n",
              "    <tr style=\"text-align: right;\">\n",
              "      <th></th>\n",
              "      <th>Passengerid</th>\n",
              "      <th>Pclass</th>\n",
              "      <th>Name</th>\n",
              "      <th>Sex</th>\n",
              "      <th>Age</th>\n",
              "      <th>Sibsp</th>\n",
              "      <th>Parch</th>\n",
              "      <th>Ticket</th>\n",
              "      <th>Fare</th>\n",
              "      <th>Cabin</th>\n",
              "      <th>Embarked</th>\n",
              "      <th>Relatives</th>\n",
              "    </tr>\n",
              "  </thead>\n",
              "  <tbody>\n",
              "    <tr>\n",
              "      <th>0</th>\n",
              "      <td>892.0</td>\n",
              "      <td>3.0</td>\n",
              "      <td>Kelly; Mr. James</td>\n",
              "      <td>male</td>\n",
              "      <td>34.5</td>\n",
              "      <td>0</td>\n",
              "      <td>0</td>\n",
              "      <td>330911</td>\n",
              "      <td>7.8292</td>\n",
              "      <td>NaN</td>\n",
              "      <td>Q</td>\n",
              "      <td>0</td>\n",
              "    </tr>\n",
              "    <tr>\n",
              "      <th>1</th>\n",
              "      <td>893.0</td>\n",
              "      <td>3.0</td>\n",
              "      <td>Wilkes; Mrs. James (Ellen Needs)</td>\n",
              "      <td>female</td>\n",
              "      <td>47.0</td>\n",
              "      <td>1</td>\n",
              "      <td>0</td>\n",
              "      <td>363272</td>\n",
              "      <td>7.0000</td>\n",
              "      <td>NaN</td>\n",
              "      <td>S</td>\n",
              "      <td>1</td>\n",
              "    </tr>\n",
              "    <tr>\n",
              "      <th>2</th>\n",
              "      <td>894.0</td>\n",
              "      <td>3.0</td>\n",
              "      <td>Myles; Mr. Thomas Francis</td>\n",
              "      <td>male</td>\n",
              "      <td>25.0</td>\n",
              "      <td>0</td>\n",
              "      <td>0</td>\n",
              "      <td>240276</td>\n",
              "      <td>9.6875</td>\n",
              "      <td>NaN</td>\n",
              "      <td>Q</td>\n",
              "      <td>0</td>\n",
              "    </tr>\n",
              "    <tr>\n",
              "      <th>3</th>\n",
              "      <td>895.0</td>\n",
              "      <td>3.0</td>\n",
              "      <td>NaN</td>\n",
              "      <td>male</td>\n",
              "      <td>27.0</td>\n",
              "      <td>0</td>\n",
              "      <td>0</td>\n",
              "      <td>315154</td>\n",
              "      <td>8.6625</td>\n",
              "      <td>NaN</td>\n",
              "      <td>S</td>\n",
              "      <td>0</td>\n",
              "    </tr>\n",
              "    <tr>\n",
              "      <th>4</th>\n",
              "      <td>896.0</td>\n",
              "      <td>3.0</td>\n",
              "      <td>Hirvonen; Mrs. Alexander (Helga E Lindqvist)</td>\n",
              "      <td>female</td>\n",
              "      <td>22.0</td>\n",
              "      <td>1</td>\n",
              "      <td>1</td>\n",
              "      <td>3101298</td>\n",
              "      <td>12.2875</td>\n",
              "      <td>NaN</td>\n",
              "      <td>S</td>\n",
              "      <td>2</td>\n",
              "    </tr>\n",
              "    <tr>\n",
              "      <th>...</th>\n",
              "      <td>...</td>\n",
              "      <td>...</td>\n",
              "      <td>...</td>\n",
              "      <td>...</td>\n",
              "      <td>...</td>\n",
              "      <td>...</td>\n",
              "      <td>...</td>\n",
              "      <td>...</td>\n",
              "      <td>...</td>\n",
              "      <td>...</td>\n",
              "      <td>...</td>\n",
              "      <td>...</td>\n",
              "    </tr>\n",
              "    <tr>\n",
              "      <th>413</th>\n",
              "      <td>1305.0</td>\n",
              "      <td>3.0</td>\n",
              "      <td>Spector; Mr. Woolf</td>\n",
              "      <td>male</td>\n",
              "      <td>25.0</td>\n",
              "      <td>0</td>\n",
              "      <td>0</td>\n",
              "      <td>A.5. 3236</td>\n",
              "      <td>8.0500</td>\n",
              "      <td>NaN</td>\n",
              "      <td>S</td>\n",
              "      <td>0</td>\n",
              "    </tr>\n",
              "    <tr>\n",
              "      <th>414</th>\n",
              "      <td>1306.0</td>\n",
              "      <td>1.0</td>\n",
              "      <td>Oliva y Ocana; Dona. Fermina</td>\n",
              "      <td>female</td>\n",
              "      <td>39.0</td>\n",
              "      <td>0</td>\n",
              "      <td>0</td>\n",
              "      <td>PC 17758</td>\n",
              "      <td>108.9000</td>\n",
              "      <td>C105</td>\n",
              "      <td>C</td>\n",
              "      <td>0</td>\n",
              "    </tr>\n",
              "    <tr>\n",
              "      <th>415</th>\n",
              "      <td>1307.0</td>\n",
              "      <td>3.0</td>\n",
              "      <td>Saether; Mr. Simon Sivertsen</td>\n",
              "      <td>male</td>\n",
              "      <td>38.5</td>\n",
              "      <td>0</td>\n",
              "      <td>0</td>\n",
              "      <td>SOTON/O.Q. 3101262</td>\n",
              "      <td>7.2500</td>\n",
              "      <td>NaN</td>\n",
              "      <td>S</td>\n",
              "      <td>0</td>\n",
              "    </tr>\n",
              "    <tr>\n",
              "      <th>416</th>\n",
              "      <td>1308.0</td>\n",
              "      <td>3.0</td>\n",
              "      <td>Ware; Mr. Frederick</td>\n",
              "      <td>male</td>\n",
              "      <td>25.0</td>\n",
              "      <td>0</td>\n",
              "      <td>0</td>\n",
              "      <td>359309</td>\n",
              "      <td>8.0500</td>\n",
              "      <td>NaN</td>\n",
              "      <td>S</td>\n",
              "      <td>0</td>\n",
              "    </tr>\n",
              "    <tr>\n",
              "      <th>417</th>\n",
              "      <td>1309.0</td>\n",
              "      <td>3.0</td>\n",
              "      <td>Peter; Master. Michael J</td>\n",
              "      <td>male</td>\n",
              "      <td>25.0</td>\n",
              "      <td>1</td>\n",
              "      <td>1</td>\n",
              "      <td>2668</td>\n",
              "      <td>22.3583</td>\n",
              "      <td>NaN</td>\n",
              "      <td>C</td>\n",
              "      <td>2</td>\n",
              "    </tr>\n",
              "  </tbody>\n",
              "</table>\n",
              "<p>418 rows × 12 columns</p>\n",
              "</div>"
            ],
            "text/plain": [
              "     Passengerid  Pclass  ... Embarked Relatives\n",
              "0          892.0     3.0  ...        Q         0\n",
              "1          893.0     3.0  ...        S         1\n",
              "2          894.0     3.0  ...        Q         0\n",
              "3          895.0     3.0  ...        S         0\n",
              "4          896.0     3.0  ...        S         2\n",
              "..           ...     ...  ...      ...       ...\n",
              "413       1305.0     3.0  ...        S         0\n",
              "414       1306.0     1.0  ...        C         0\n",
              "415       1307.0     3.0  ...        S         0\n",
              "416       1308.0     3.0  ...        S         0\n",
              "417       1309.0     3.0  ...        C         2\n",
              "\n",
              "[418 rows x 12 columns]"
            ]
          },
          "metadata": {},
          "execution_count": 74
        }
      ]
    },
    {
      "cell_type": "markdown",
      "metadata": {
        "id": "uUVu_97BzY1C"
      },
      "source": [
        "Проанализируем значения в получившейся колонке, проверив гипотезу: \"На Титанике большинство пассажиров не имело родственников\". Она возникает из того, что ранее мы выяснили, что гистограммы для колонок Sibsp и Parch показывают, что большинство пассажиров не имеют ни братьев, сестер, супругов, ни родителей или детей."
      ]
    },
    {
      "cell_type": "markdown",
      "metadata": {
        "id": "LKbtcjVXz0rj"
      },
      "source": [
        "Строим гистограмму:"
      ]
    },
    {
      "cell_type": "code",
      "metadata": {
        "colab": {
          "base_uri": "https://localhost:8080/",
          "height": 282
        },
        "id": "jGzsf7qMz3FL",
        "outputId": "f2b4b4ef-16fb-4552-9e1f-8e475cd075a3"
      },
      "source": [
        "df['Relatives'].hist()"
      ],
      "execution_count": null,
      "outputs": [
        {
          "output_type": "execute_result",
          "data": {
            "text/plain": [
              "<matplotlib.axes._subplots.AxesSubplot at 0x7fbf7febd5d0>"
            ]
          },
          "metadata": {},
          "execution_count": 75
        },
        {
          "output_type": "display_data",
          "data": {
            "image/png": "[encoded data removed]",
            "text/plain": [
              "<Figure size 432x288 with 1 Axes>"
            ]
          },
          "metadata": {
            "needs_background": "light"
          }
        }
      ]
    },
    {
      "cell_type": "markdown",
      "metadata": {
        "id": "CnqurGsHz8Vi"
      },
      "source": [
        "Наша гипотеза оказалась верной.\n",
        "\n",
        "Действительно, большинство пассажиров были на Титанике без родственников."
      ]
    },
    {
      "cell_type": "markdown",
      "metadata": {
        "id": "hAF17mYNG9UE"
      },
      "source": [
        "# Задача"
      ]
    },
    {
      "cell_type": "markdown",
      "metadata": {
        "id": "ZTunFvXHNI2b"
      },
      "source": [
        "\n",
        "Рассмотрим, как следует выполнять анализ выбранных вами наборов данных."
      ]
    },
    {
      "cell_type": "markdown",
      "metadata": {
        "id": "O6IkLbqWNMYu"
      },
      "source": [
        "1. Если не была выполнена предобработка - возвращайтесь к предыдущему семинару и выполняйте её.\n",
        "2. Если в ваших данных несколько файлов - объедините их все в один (подумайте, по каким колонкам строить объединение) (pandas.merge()). Выполните предобработку уже для полного набора данных.\n",
        "3. Подумайте, есть ли в вашем наборе данных ненужные колонки. Если есть - удалите их (pandas.drop()). При удалении колонок обязательно нужно объяснить, почему колонка не нужна.\n",
        "4. Проведите анализ **каждого** числового признака. Сформулируйте простые гипотезы о возможных значениях этого признака. Для доказательства гипотез постройте соответствующие графики (с помощью plot, hist).\n",
        "5. Проведите анализ **каждого** категориального признака. Сформулируйте простые гипотезы о возможных значениях этого признака. Для доказательства гипотез постройте соответствующие графики (с помощью hist).\n",
        "6. Выполните заполнение пропущенных значений (с помощью pandas.interpolate(), pandas.fillna() или pandas.apply()).\n",
        "7. Подумайте, какие новые признаки можно получить по существующему датасету. Добавьте соответствующие признаки, проведите их анализ, постройте простую гипотезу о его распределении, графически докажите её."
      ]
    }
  ]
}