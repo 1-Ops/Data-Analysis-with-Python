{
  "nbformat": 4,
  "nbformat_minor": 0,
  "metadata": {
    "colab": {
      "name": "Семинар_№1.ipynb",
      "provenance": [],
      "collapsed_sections": []
    },
    "kernelspec": {
      "display_name": "Python 3",
      "language": "python",
      "name": "python3"
    },
    "language_info": {
      "codemirror_mode": {
        "name": "ipython",
        "version": 3
      },
      "file_extension": ".py",
      "mimetype": "text/x-python",
      "name": "python",
      "nbconvert_exporter": "python",
      "pygments_lexer": "ipython3",
      "version": "3.6.13"
    }
  },
  "cells": [
    {
      "cell_type": "markdown",
      "metadata": {
        "id": "Ceuo4S31VxgA"
      },
      "source": [
        "# Семинар 1. \"Текстовые данные\" и \"Итерируемые объекты\"\n"
      ]
    },
    {
      "cell_type": "markdown",
      "metadata": {
        "id": "GaaOHRrw8FgM"
      },
      "source": [
        "# Повторение - методы работ со строками"
      ]
    },
    {
      "cell_type": "markdown",
      "metadata": {
        "id": "WJlQP2XA9PkM"
      },
      "source": [
        "Какие методы работы со строками вы узнали на лекции? Давайте вспомним синтаксис и функционал данных методов.\n",
        "\n"
      ]
    },
    {
      "cell_type": "code",
      "metadata": {
        "id": "Kq5zrmvvT9wW"
      },
      "source": [
        "# WRITE YOUR CODE HERE"
      ],
      "execution_count": null,
      "outputs": []
    },
    {
      "cell_type": "markdown",
      "metadata": {
        "id": "LRLvcCGD9L1Q"
      },
      "source": [
        "# Задача\n",
        "Предположим, что вы набираете некоторый текст, но при этом случайно нажали на Сaps Look. Как исправить ситуацию? "
      ]
    },
    {
      "cell_type": "code",
      "metadata": {
        "id": "E_WQZ3O3-rfo"
      },
      "source": [
        "text = \"НАБИРАЮ ТЕКТ ЗАГЛАВНЫМИ БУКВАМИ\""
      ],
      "execution_count": null,
      "outputs": []
    },
    {
      "cell_type": "markdown",
      "metadata": {
        "id": "WGdv42gMGwNT"
      },
      "source": [
        "## Решение"
      ]
    },
    {
      "cell_type": "code",
      "metadata": {
        "id": "OIjnn-kgXHe7"
      },
      "source": [
        "# WRITE YOUR CODE HERE"
      ],
      "execution_count": null,
      "outputs": []
    },
    {
      "cell_type": "markdown",
      "metadata": {
        "id": "ENnTolMLDRAI"
      },
      "source": [
        "# Повторение - работа с файлами"
      ]
    },
    {
      "cell_type": "markdown",
      "metadata": {
        "id": "1D18MHBVewAH"
      },
      "source": [
        "#### Упражнение\n",
        "\n",
        "Давайте создадим файл и запишем в него данные. Не забываем закрывать файлы, иначе можно потерять записанные данные, так как они не сохранятся в постоянной (энергонезависимой) памяти.\n",
        "\n",
        "Создать файл `1.txt` и записать в него следующие строки:\n",
        "- `First String`\n",
        "- `Second String`\n",
        "- `Third String`\n",
        "\n",
        "Каждая строка должна быть на отдельной строке в файле"
      ]
    },
    {
      "cell_type": "code",
      "metadata": {
        "id": "zsl_-iD-FDnH"
      },
      "source": [
        "# WRITE YOUR CODE HERE"
      ],
      "execution_count": null,
      "outputs": []
    },
    {
      "cell_type": "markdown",
      "metadata": {
        "id": "0VLTeEXbFKDr"
      },
      "source": [
        "#### Упражнение \n",
        "\n",
        "Считать файл, созданный в предыдущем задании, и распечатать его содержимое."
      ]
    },
    {
      "cell_type": "code",
      "metadata": {
        "id": "3DwO9_iIFRZ8"
      },
      "source": [
        "# WRITE YOUR CODE HERE"
      ],
      "execution_count": null,
      "outputs": []
    },
    {
      "cell_type": "markdown",
      "metadata": {
        "id": "P6IBPP50FzA7"
      },
      "source": [
        "#### Упражнение\n",
        "\n",
        "Создайте файл `2.txt` с таким же содержимым, как в задании №1.\n",
        "\n",
        "Далее откройте файл на чтение и распечатайте его содержимое.\n",
        "\n",
        "Требование: метод `close()` для файла использовать нельзя."
      ]
    },
    {
      "cell_type": "code",
      "metadata": {
        "id": "BHcAhWjWF6r-"
      },
      "source": [
        "# WRITE YOUR CODE HERE"
      ],
      "execution_count": null,
      "outputs": []
    },
    {
      "cell_type": "markdown",
      "metadata": {
        "id": "tlDh1e3BaJKy"
      },
      "source": [
        "# Задача"
      ]
    },
    {
      "cell_type": "markdown",
      "metadata": {
        "id": "rFL7LYlFJZhT"
      },
      "source": [
        "Вы проводили статистический опрос cреди студентов МГУ через Google-форму. Ребята, которых вы опрашивали, оставляли свои имена и фамилии в различных форматах, кто-то использовал только строчные буквы, кто-то только заглавные. \n",
        "\n",
        "Например, \n",
        "\n",
        "\n",
        "```\n",
        "иван иванов\n",
        "ПЕТР ПЕТРОВ\n",
        "Иван ПЕТРОВ\n",
        "```\n",
        "и т.д.\n",
        "\n",
        "Вам необходимо исправить данные в файле, записав имена и фамилии в стандартном виде: \n",
        "```\n",
        "Иван Иванов\n",
        "Петр Петров\n",
        "Иван Петров\n",
        "```\n",
        "\n",
        "Вам необходим [файл](https://drive.google.com/file/d/1-KVoL24W8uXE7lAkrNLuzs5lutmkUJwU/view?usp=sharing) `names.txt`."
      ]
    },
    {
      "cell_type": "markdown",
      "metadata": {
        "id": "c8T-RnEJYTG4"
      },
      "source": [
        "Чтобы скачать файл, выполните команду в ячейке ниже:"
      ]
    },
    {
      "cell_type": "code",
      "metadata": {
        "id": "wxdiTGE7nWu-"
      },
      "source": [
        "! wget -O \"names.txt\" \"https://drive.google.com/uc?id=1-KVoL24W8uXE7lAkrNLuzs5lutmkUJwU&export=download\""
      ],
      "execution_count": null,
      "outputs": []
    },
    {
      "cell_type": "markdown",
      "metadata": {
        "id": "srHKlgJ9aF_9"
      },
      "source": [
        "## Решение"
      ]
    },
    {
      "cell_type": "markdown",
      "metadata": {
        "id": "dDaSYMecaU-r"
      },
      "source": [
        "Сначала откроем файл и распечатаем его содержимое."
      ]
    },
    {
      "cell_type": "code",
      "metadata": {
        "id": "K1urqjqCPebL"
      },
      "source": [
        "# WRITE YOUR CODE HERE"
      ],
      "execution_count": null,
      "outputs": []
    },
    {
      "cell_type": "markdown",
      "metadata": {
        "id": "rIg1GqRsabxt"
      },
      "source": [
        "Какой метод поможет нам решить задачу?"
      ]
    },
    {
      "cell_type": "code",
      "metadata": {
        "id": "7xdXBfmranpC"
      },
      "source": [
        "# WRITE YOUR CODE HERE"
      ],
      "execution_count": null,
      "outputs": []
    },
    {
      "cell_type": "markdown",
      "metadata": {
        "id": "PCpbEDqMbLGb"
      },
      "source": [
        "Запишем полученный результат в новый файл `names_new.txt`."
      ]
    },
    {
      "cell_type": "code",
      "metadata": {
        "id": "v1dDApJVbhF3"
      },
      "source": [
        "# WRITE YOUR CODE HERE"
      ],
      "execution_count": null,
      "outputs": []
    },
    {
      "cell_type": "markdown",
      "metadata": {
        "id": "Lp8YnYOenlqI"
      },
      "source": [
        "# Задача"
      ]
    },
    {
      "cell_type": "markdown",
      "metadata": {
        "id": "UZoyEIiIdxAi"
      },
      "source": [
        "Вы скопировали текст из интернета в [файл](https://drive.google.com/file/d/1hBeKrHc5OJq0ikqXBRcPVLKOvIeyqZrV/view?usp=sharing) `parable.txt`. Но вместе с текстом скопировались ненужные отступы, от которых вам необходимо избавиться. "
      ]
    },
    {
      "cell_type": "markdown",
      "metadata": {
        "id": "U6cKtFjKY-ie"
      },
      "source": [
        "Чтобы скачать файл, выполните команду в ячейке ниже:"
      ]
    },
    {
      "cell_type": "code",
      "metadata": {
        "id": "QhRj-PHsZD_s"
      },
      "source": [
        "! wget -O \"parable.txt\" \"https://drive.google.com/uc?id=1hBeKrHc5OJq0ikqXBRcPVLKOvIeyqZrV&export=download\""
      ],
      "execution_count": null,
      "outputs": []
    },
    {
      "cell_type": "markdown",
      "metadata": {
        "id": "lv-bQTaof1J-"
      },
      "source": [
        "## Решение\n",
        "\n"
      ]
    },
    {
      "cell_type": "code",
      "metadata": {
        "id": "saUL1L6SgUaa"
      },
      "source": [
        "# WRITE YOUR CODE HERE"
      ],
      "execution_count": null,
      "outputs": []
    },
    {
      "cell_type": "markdown",
      "metadata": {
        "id": "PTbqfEr-bYHD"
      },
      "source": [
        "## Повторение - работа со строками и срезы\n",
        "\n"
      ]
    },
    {
      "cell_type": "markdown",
      "metadata": {
        "id": "ul8afYqRXFIF"
      },
      "source": [
        "#### Упражнение\n",
        "\n",
        "Дана строка `Data Science with Python`\n",
        "\n",
        "Напечатать `Data`, используя **Python slice**"
      ]
    },
    {
      "cell_type": "markdown",
      "metadata": {
        "id": "PUQDMgGdVzNL"
      },
      "source": [
        "#### Решение"
      ]
    },
    {
      "cell_type": "code",
      "metadata": {
        "id": "aOEWuFDeVoE9"
      },
      "source": [
        "# WRITE YOUR CODE HERE"
      ],
      "execution_count": null,
      "outputs": []
    },
    {
      "cell_type": "markdown",
      "metadata": {
        "id": "TsORXzEXYR7-"
      },
      "source": [
        "#### Упражнение\n",
        "\n",
        "Дана строка `Data Science with Python`\n",
        "\n",
        "Напечатать `Science with Python`, используя **Python slice**"
      ]
    },
    {
      "cell_type": "markdown",
      "metadata": {
        "id": "j0KcrGinYtA8"
      },
      "source": [
        "#### Решение"
      ]
    },
    {
      "cell_type": "code",
      "metadata": {
        "id": "I9-uGCW5WOeW"
      },
      "source": [
        "# WRITE YOUR CODE HERE"
      ],
      "execution_count": null,
      "outputs": []
    },
    {
      "cell_type": "markdown",
      "metadata": {
        "id": "7VrdZdaBYsPG"
      },
      "source": [
        "#### Упражнение\n",
        "\n",
        "Дана строка `Data Science with Python`\n",
        "\n",
        "Напечатать `Sine`, используя **Python slice**"
      ]
    },
    {
      "cell_type": "markdown",
      "metadata": {
        "id": "GMy2axeDY4jt"
      },
      "source": [
        "#### Решение"
      ]
    },
    {
      "cell_type": "code",
      "metadata": {
        "id": "wDMYIC85WOpu"
      },
      "source": [
        "# WRITE YOUR CODE HERE"
      ],
      "execution_count": null,
      "outputs": []
    },
    {
      "cell_type": "markdown",
      "metadata": {
        "id": "O5lOgfqZY8U-"
      },
      "source": [
        "#### Упражнение\n",
        "\n",
        "Дана строка `Data Science with Python`\n",
        "\n",
        "Напечатать `ecneicS`, используя **Python slice**"
      ]
    },
    {
      "cell_type": "markdown",
      "metadata": {
        "id": "SZq990C3ZIWZ"
      },
      "source": [
        "#### Решение №1\n"
      ]
    },
    {
      "cell_type": "code",
      "metadata": {
        "id": "wgxa6qEuWO0Z"
      },
      "source": [
        "# WRITE YOUR CODE HERE"
      ],
      "execution_count": null,
      "outputs": []
    },
    {
      "cell_type": "markdown",
      "metadata": {
        "id": "psEEhrXSj7ra"
      },
      "source": [
        "#### Упражнение\n",
        "\n",
        "Дана строка ```Hellobadwordworld!```\n",
        "\n",
        "Напечатать строку ```Hello world!```, используя **Python slice**\n"
      ]
    },
    {
      "cell_type": "markdown",
      "metadata": {
        "id": "400cNOi7j_zg"
      },
      "source": [
        "#### Решение №1"
      ]
    },
    {
      "cell_type": "code",
      "metadata": {
        "id": "hIQMtyZtj-S7"
      },
      "source": [
        "# WRITE YOUR CODE HERE"
      ],
      "execution_count": null,
      "outputs": []
    },
    {
      "cell_type": "markdown",
      "metadata": {
        "id": "nGb8BLSHa8Wx"
      },
      "source": [
        "А если использовать методы строк?"
      ]
    },
    {
      "cell_type": "markdown",
      "metadata": {
        "id": "-y4GaB_gfd2f"
      },
      "source": [
        "#### Решение №2"
      ]
    },
    {
      "cell_type": "code",
      "metadata": {
        "id": "1PTR7cPcfhKE"
      },
      "source": [
        "# WRITE YOUR CODE HERE"
      ],
      "execution_count": null,
      "outputs": []
    },
    {
      "cell_type": "markdown",
      "metadata": {
        "id": "iycCO5usbU9q"
      },
      "source": [
        "#### Упражнение (*)\n",
        "\n",
        "Дана строка `Data Science with Python`\n",
        "\n",
        "Вывести на каждой строке через символ табуляции:\n",
        "- индекс символа в строке\n",
        "- отрицательный индекс символа в строке\n",
        "- сам символ\n",
        "\n",
        "В результате должен получиться следующий вывод:\n",
        "```python\n",
        "0\t -24\tD\n",
        "1\t -23\ta\n",
        "2\t -22\tt\n",
        "3\t -21\ta\n",
        "4\t -20\t \n",
        "5\t -19\tS\n",
        "6\t -18\tc\n",
        "7\t -17\ti\n",
        "8\t -16\te\n",
        "9\t -15\tn\n",
        "10\t-14\tc\n",
        "11\t-13\te\n",
        "12\t-12\t \n",
        "13\t-11\tw\n",
        "14\t-10\ti\n",
        "15\t-9\t t\n",
        "16\t-8\t h\n",
        "17\t-7\t \n",
        "18\t-6\t P\n",
        "19\t-5\t y\n",
        "20\t-4\t t\n",
        "21\t-3\t h\n",
        "22\t-2\t o\n",
        "23\t-1\t n\n",
        "```"
      ]
    },
    {
      "cell_type": "markdown",
      "metadata": {
        "id": "NmuqeyRgdxjA"
      },
      "source": [
        "#### Решение"
      ]
    },
    {
      "cell_type": "code",
      "metadata": {
        "id": "Rx8DARJ3apDG"
      },
      "source": [
        "# WRITE YOUR CODE HERE"
      ],
      "execution_count": null,
      "outputs": []
    },
    {
      "cell_type": "markdown",
      "metadata": {
        "id": "FUFlbFhwk6H6"
      },
      "source": [
        "# Задача \n",
        "\n",
        "По [ссылке](https://github.com/owid/covid-19-data/blob/master/public/data/vaccinations/vaccinations.csv) представлены данные о вакцинации от коронавируса. \n",
        "\n",
        "Дата представлена в формате `YYYY-MM-DD`, например `2021-03-06`.\n",
        "Попробуйте с помощью срезов строк привести дату `2021-03-06` к привычному для нас виду: `DD.MM.YYYY` (`06.03.2021`)."
      ]
    },
    {
      "cell_type": "markdown",
      "metadata": {
        "id": "klB4zrWTnOrC"
      },
      "source": [
        "## Решение\n"
      ]
    },
    {
      "cell_type": "code",
      "metadata": {
        "id": "hzFNL3IJneCx"
      },
      "source": [
        "# WRITE YOUR CODE HERE"
      ],
      "execution_count": null,
      "outputs": []
    },
    {
      "cell_type": "markdown",
      "metadata": {
        "id": "n2zF0zc-m_rL"
      },
      "source": [
        "## Повторение -  lambda-функции, map, filter"
      ]
    },
    {
      "cell_type": "markdown",
      "metadata": {
        "id": "Vk4KzZfuiXRV"
      },
      "source": [
        "## Упражнение\n",
        "\n",
        " Удалить пустые строки из списка строк:\n",
        "\n",
        " ```python\n",
        " [\"Alice\", \"Bob\", \"\", \"Eva\", None, \"Python\", \"\"]\n",
        " ```"
      ]
    },
    {
      "cell_type": "markdown",
      "metadata": {
        "id": "kFnIti9nieRe"
      },
      "source": [
        "#### Решение"
      ]
    },
    {
      "cell_type": "code",
      "metadata": {
        "id": "qAWe_QTNtU4u"
      },
      "source": [
        "# WRITE YOUR CODE HERE"
      ],
      "execution_count": null,
      "outputs": []
    },
    {
      "cell_type": "markdown",
      "metadata": {
        "id": "Ll4eJfqrjQBb"
      },
      "source": [
        "## Упражнение\n",
        "\n",
        "Разбить строку на подстроки с разделителем `;` и вывести два последних слова в перевернутом виде с заглавными буквами через пробел.\n",
        "\n",
        "```python\n",
        "s = \"Alice;is;a;atad;tsitneics\"\n",
        "```"
      ]
    },
    {
      "cell_type": "markdown",
      "metadata": {
        "id": "Lq8rZH6hjPrs"
      },
      "source": [
        "#### Решение"
      ]
    },
    {
      "cell_type": "code",
      "metadata": {
        "id": "B_bMBglwtU78"
      },
      "source": [
        "# WRITE YOUR CODE HERE"
      ],
      "execution_count": null,
      "outputs": []
    },
    {
      "cell_type": "markdown",
      "metadata": {
        "id": "FXIioax0onI-"
      },
      "source": [
        "# Задача \n",
        "\n",
        "Воспользуемся уже известными нам [данными](https://github.com/owid/covid-19-data/blob/master/public/data/vaccinations/vaccinations.csv) о вакцинации. \n",
        "\n",
        "Необходимо привести дату к формату `DD.MM.YYYY` во всех строках файла.\n"
      ]
    },
    {
      "cell_type": "markdown",
      "metadata": {
        "id": "eVVtm_0Hbtr5"
      },
      "source": [
        "Чтобы скачал файл с данными о вакцинации, выполните команду в ячейке ниже:"
      ]
    },
    {
      "cell_type": "code",
      "metadata": {
        "id": "AKTBKUn1buU7"
      },
      "source": [
        "! wget -O \"vaccinations.csv\" \"https://github.com/owid/covid-19-data/raw/master/public/data/vaccinations/vaccinations.csv\""
      ],
      "execution_count": null,
      "outputs": []
    },
    {
      "cell_type": "markdown",
      "metadata": {
        "id": "7ykzlumZDYuc"
      },
      "source": [
        "## Решение\n",
        "\n",
        "Попробуем сохранить все данные из файла в список.\n",
        "\n",
        "Мы увидим предупреждение, так как файл слишком большой."
      ]
    },
    {
      "cell_type": "code",
      "metadata": {
        "id": "w0Prv-2Rqu-A"
      },
      "source": [
        "# WRITE YOUR CODE HERE"
      ],
      "execution_count": null,
      "outputs": []
    },
    {
      "cell_type": "markdown",
      "metadata": {
        "id": "F2HM3ALjDpr3"
      },
      "source": [
        "Мы можем открыть 2 файла: один на чтение, другой на запись."
      ]
    },
    {
      "cell_type": "code",
      "metadata": {
        "id": "XXOd6n3QsIZy"
      },
      "source": [
        "# WRITE YOUR CODE HERE"
      ],
      "execution_count": null,
      "outputs": []
    },
    {
      "cell_type": "markdown",
      "metadata": {
        "id": "-rJdCiDBD4kE"
      },
      "source": [
        "А можем ли мы обрабатывать данные и смотреть на результат непосредственно в программе?\n",
        "\n",
        "Мы можем использовать генераторы и функцию `map`."
      ]
    },
    {
      "cell_type": "code",
      "metadata": {
        "id": "ZRiMJDnS98WK"
      },
      "source": [
        "# WRITE YOUR CODE HERE"
      ],
      "execution_count": null,
      "outputs": []
    },
    {
      "cell_type": "markdown",
      "metadata": {
        "id": "4YryfFfEFGO9"
      },
      "source": [
        "# Потворение `itertools`"
      ]
    },
    {
      "cell_type": "code",
      "metadata": {
        "id": "J3rPH5MQM_9g"
      },
      "source": [
        "import itertools as it"
      ],
      "execution_count": null,
      "outputs": []
    },
    {
      "cell_type": "markdown",
      "metadata": {
        "id": "LHQjbCPrF3QC"
      },
      "source": [
        "# Задача\n",
        "Пароль - это последовательность из 4-х символов, каждый из которых может принимать значения от 0 до 9 **без повторений**. \n",
        "\n",
        "1.   Сгенерируйте все пароли.\n",
        "2.   Сколько различных паролей таким образом можно составить?\n",
        "\n"
      ]
    },
    {
      "cell_type": "markdown",
      "metadata": {
        "id": "2yriWhbNOIgu"
      },
      "source": [
        "## Решение"
      ]
    },
    {
      "cell_type": "markdown",
      "metadata": {
        "id": "sXualFN6frMM"
      },
      "source": [
        "Генерация всех паролей:"
      ]
    },
    {
      "cell_type": "code",
      "metadata": {
        "id": "099BP7XdFmAm"
      },
      "source": [
        "# WRITE YOUR CODE HERE"
      ],
      "execution_count": null,
      "outputs": []
    },
    {
      "cell_type": "markdown",
      "metadata": {
        "id": "gEnTMeW0fucK"
      },
      "source": [
        "Количество различных паролей:"
      ]
    },
    {
      "cell_type": "code",
      "metadata": {
        "id": "LdJUOUjRQjCd"
      },
      "source": [
        "# WRITE YOUR CODE HERE"
      ],
      "execution_count": null,
      "outputs": []
    },
    {
      "cell_type": "markdown",
      "metadata": {
        "id": "g-cJe-VvTkGU"
      },
      "source": [
        "# Задача \n",
        "\n",
        "Пароль - это последовательность из 4-х символов, каждый из которых может принимать значения от 0 до 9 **с повторением**. \n",
        "\n",
        "1.   Сгенерируйте все пароли.\n",
        "2.   Сколько различных паролей таким образом можно составить?"
      ]
    },
    {
      "cell_type": "markdown",
      "metadata": {
        "id": "H_Riq80MT2aX"
      },
      "source": [
        "## Решение"
      ]
    },
    {
      "cell_type": "markdown",
      "metadata": {
        "id": "8chlClhhf5u4"
      },
      "source": [
        "Генерация всех паролей:"
      ]
    },
    {
      "cell_type": "code",
      "metadata": {
        "id": "tPyOJlIQRsSf"
      },
      "source": [
        "# WRITE YOUR CODE HERE"
      ],
      "execution_count": null,
      "outputs": []
    },
    {
      "cell_type": "markdown",
      "metadata": {
        "id": "VJHHHInsf7mp"
      },
      "source": [
        "Количество различных паролей:"
      ]
    },
    {
      "cell_type": "code",
      "metadata": {
        "id": "S9cycv_dSzMF"
      },
      "source": [
        "# WRITE YOUR CODE HERE"
      ],
      "execution_count": null,
      "outputs": []
    },
    {
      "cell_type": "markdown",
      "metadata": {
        "id": "FJawrDDy8jFA"
      },
      "source": [
        "# Задача \n",
        "\n",
        "В группе 9 человек. Для выполнения проекта необходимо разбиться на подгруппы по 3 человека. Какие возможные варианты разбиения существуют?"
      ]
    },
    {
      "cell_type": "code",
      "metadata": {
        "id": "7GgS3Ouv9GVd"
      },
      "source": [
        "group = ['Ваня', 'Маша', 'Катя', 'Сережа', 'Лиза', 'Даша', 'Саша', 'Андрей', 'Женя']"
      ],
      "execution_count": null,
      "outputs": []
    },
    {
      "cell_type": "markdown",
      "metadata": {
        "id": "Zwn6UwA99CY_"
      },
      "source": [
        "## Решение"
      ]
    },
    {
      "cell_type": "markdown",
      "metadata": {
        "id": "aw6-86p3gE4W"
      },
      "source": [
        "Вывести все возможные варианты разбиения на подгруппы:"
      ]
    },
    {
      "cell_type": "code",
      "metadata": {
        "id": "VIV51G1P8-hw"
      },
      "source": [
        "# WRITE YOUR CODE HERE"
      ],
      "execution_count": null,
      "outputs": []
    },
    {
      "cell_type": "markdown",
      "metadata": {
        "id": "1Pb7BzxigLkq"
      },
      "source": [
        "Количество подгрупп:"
      ]
    },
    {
      "cell_type": "code",
      "metadata": {
        "id": "ECm4XLS78BIU"
      },
      "source": [
        "# WRITE YOUR CODE HERE"
      ],
      "execution_count": null,
      "outputs": []
    }
  ]
}