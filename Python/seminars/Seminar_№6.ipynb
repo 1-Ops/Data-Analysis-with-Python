{
  "nbformat": 4,
  "nbformat_minor": 0,
  "metadata": {
    "colab": {
      "name": "Семинар_№6.ipynb",
      "provenance": [],
      "collapsed_sections": []
    },
    "kernelspec": {
      "name": "python3",
      "display_name": "Python 3"
    },
    "language_info": {
      "name": "python"
    }
  },
  "cells": [
    {
      "cell_type": "markdown",
      "metadata": {
        "id": "T67AwZn0eLhw"
      },
      "source": [
        "# Заполнение пропусков в данных"
      ]
    },
    {
      "cell_type": "markdown",
      "metadata": {
        "id": "tMblL3A9eWNv"
      },
      "source": [
        "При работе с данными мы часто встречаемся с пропущенными значениями. Как их можно обрабатывать?"
      ]
    },
    {
      "cell_type": "markdown",
      "metadata": {
        "id": "YdqjpcXcfFoH"
      },
      "source": [
        "\n",
        "\n",
        "1.   Удалить строки, содержащие пропущенные значения. Это выполнить не сложно, но при удалении некоторых строк теряется часть информации.\n",
        "2.   Заполнить пропущенные значения статистическими характеристиками присутствующих данных:\n",
        "  1. наиболее частым значением (подходит для категориальных признаков);\n",
        "  2. средним (медиана) по всем данным - подходит не для всех данных.\n",
        "3. Заполнить пропущенные значения на основании соседних непустых значений (интерполяция). \n",
        "  1. Среднее (медиана) - понятие рассмотрено на предыдущем семинаре.\n",
        "  2. *Линейная интерполяция.*"
      ]
    },
    {
      "cell_type": "markdown",
      "metadata": {
        "id": "NfsZGHwehSF8"
      },
      "source": [
        "## Задача\n",
        "\n",
        "Необходимо построить линейный график по количеству вакцинированных от covid-19 в России в зависимости от даты.\n",
        "Данные можно скачать по [ссылке](https://github.com/owid/covid-19-data/blob/master/public/data/vaccinations/vaccinations.csv)."
      ]
    },
    {
      "cell_type": "code",
      "metadata": {
        "colab": {
          "base_uri": "https://localhost:8080/"
        },
        "id": "-WLL7tK2fb8U",
        "outputId": "aa3131e7-4f6d-42bc-f7ed-323aa4f4b85a"
      },
      "source": [
        "!wget -O \"vaccinations.csv\" \"https://raw.githubusercontent.com/owid/covid-19-data/master/public/data/vaccinations/vaccinations.csv\""
      ],
      "execution_count": null,
      "outputs": [
        {
          "output_type": "stream",
          "name": "stdout",
          "text": [
            "--2021-11-24 09:31:12--  https://raw.githubusercontent.com/owid/covid-19-data/master/public/data/vaccinations/vaccinations.csv\n",
            "Resolving raw.githubusercontent.com (raw.githubusercontent.com)... 185.199.108.133, 185.199.109.133, 185.199.110.133, ...\n",
            "Connecting to raw.githubusercontent.com (raw.githubusercontent.com)|185.199.108.133|:443... connected.\n",
            "HTTP request sent, awaiting response... 200 OK\n",
            "Length: 4860478 (4.6M) [text/plain]\n",
            "Saving to: ‘vaccinations.csv’\n",
            "\n",
            "\rvaccinations.csv      0%[                    ]       0  --.-KB/s               \rvaccinations.csv    100%[===================>]   4.63M  --.-KB/s    in 0.1s    \n",
            "\n",
            "2021-11-24 09:31:12 (47.7 MB/s) - ‘vaccinations.csv’ saved [4860478/4860478]\n",
            "\n"
          ]
        }
      ]
    },
    {
      "cell_type": "markdown",
      "metadata": {
        "id": "vtOlusQAigen"
      },
      "source": [
        "### Решение"
      ]
    },
    {
      "cell_type": "code",
      "metadata": {
        "id": "rZSDtv_TibGp"
      },
      "source": [
        "import matplotlib.pyplot as plt\n",
        "import numpy as np"
      ],
      "execution_count": null,
      "outputs": []
    },
    {
      "cell_type": "code",
      "metadata": {
        "colab": {
          "base_uri": "https://localhost:8080/"
        },
        "id": "Ncn4fjMNkS6i",
        "outputId": "b36ee2f2-906b-4a94-bbb5-3c82a21515ce"
      },
      "source": [
        "total_vaccinations_rus = []\n",
        "with open(\"vaccinations.csv\", 'r') as file:\n",
        "    for i in file.readlines()[1:]:\n",
        "        line = i.strip().split(',')\n",
        "        if line[1] == 'RUS':\n",
        "          date = line[2]\n",
        "          if line[3] != '':\n",
        "            vacc = int(line[3])\n",
        "          else:\n",
        "            vacc = -1\n",
        "          total_vaccinations_rus.append([date, vacc])\n",
        "print(total_vaccinations_rus)"
      ],
      "execution_count": null,
      "outputs": [
        {
          "output_type": "stream",
          "name": "stdout",
          "text": [
            "[['2020-12-15', 28500], ['2020-12-16', -1], ['2020-12-17', -1], ['2020-12-18', -1], ['2020-12-19', -1], ['2020-12-20', -1], ['2020-12-21', -1], ['2020-12-22', 52000], ['2020-12-23', -1], ['2020-12-24', -1], ['2020-12-25', -1], ['2020-12-26', -1], ['2020-12-27', -1], ['2020-12-28', -1], ['2020-12-29', -1], ['2020-12-30', -1], ['2020-12-31', -1], ['2021-01-01', -1], ['2021-01-02', 800000], ['2021-01-03', -1], ['2021-01-04', -1], ['2021-01-05', -1], ['2021-01-06', -1], ['2021-01-07', -1], ['2021-01-08', -1], ['2021-01-09', -1], ['2021-01-10', -1], ['2021-01-11', -1], ['2021-01-12', -1], ['2021-01-13', 1000000], ['2021-01-14', -1], ['2021-01-15', -1], ['2021-01-16', -1], ['2021-01-17', -1], ['2021-01-18', -1], ['2021-01-19', -1], ['2021-01-20', -1], ['2021-01-21', -1], ['2021-01-22', -1], ['2021-01-23', -1], ['2021-01-24', -1], ['2021-01-25', -1], ['2021-01-26', -1], ['2021-01-27', -1], ['2021-01-28', -1], ['2021-01-29', -1], ['2021-01-30', -1], ['2021-01-31', -1], ['2021-02-01', -1], ['2021-02-02', -1], ['2021-02-03', -1], ['2021-02-04', -1], ['2021-02-05', -1], ['2021-02-06', -1], ['2021-02-07', -1], ['2021-02-08', -1], ['2021-02-09', -1], ['2021-02-10', -1], ['2021-02-11', -1], ['2021-02-12', -1], ['2021-02-13', -1], ['2021-02-14', -1], ['2021-02-15', -1], ['2021-02-16', -1], ['2021-02-17', -1], ['2021-02-18', -1], ['2021-02-19', -1], ['2021-02-20', -1], ['2021-02-21', -1], ['2021-02-22', -1], ['2021-02-23', -1], ['2021-02-24', -1], ['2021-02-25', -1], ['2021-02-26', -1], ['2021-02-27', -1], ['2021-02-28', -1], ['2021-03-01', -1], ['2021-03-02', 5249831], ['2021-03-03', 5489342], ['2021-03-04', 6010744], ['2021-03-05', 6301854], ['2021-03-06', 6583873], ['2021-03-07', 6655487], ['2021-03-08', 6669466], ['2021-03-09', 6694349], ['2021-03-10', 7048129], ['2021-03-11', 7273933], ['2021-03-12', -1], ['2021-03-13', -1], ['2021-03-14', -1], ['2021-03-15', -1], ['2021-03-16', -1], ['2021-03-17', 7818009], ['2021-03-18', 7909438], ['2021-03-19', 8185944], ['2021-03-20', 8306498], ['2021-03-21', 8362575], ['2021-03-22', -1], ['2021-03-23', -1], ['2021-03-24', -1], ['2021-03-25', -1], ['2021-03-26', -1], ['2021-03-27', -1], ['2021-03-28', -1], ['2021-03-29', 11124350], ['2021-03-30', 11183108], ['2021-03-31', 11373572], ['2021-04-01', 11642295], ['2021-04-02', 11779295], ['2021-04-03', 12038859], ['2021-04-04', 12120810], ['2021-04-05', 12215342], ['2021-04-06', 12474954], ['2021-04-07', 13047800], ['2021-04-08', 13354502], ['2021-04-09', 13628879], ['2021-04-10', 13977397], ['2021-04-11', 14108341], ['2021-04-12', 14269543], ['2021-04-13', 14583881], ['2021-04-14', 14967802], ['2021-04-15', 15164099], ['2021-04-16', 15469617], ['2021-04-17', 15700803], ['2021-04-18', 16167151], ['2021-04-19', 16237319], ['2021-04-20', 16567842], ['2021-04-21', 16821267], ['2021-04-22', 17218313], ['2021-04-23', 17535826], ['2021-04-24', 18080498], ['2021-04-25', 18152707], ['2021-04-26', 18315316], ['2021-04-27', 18557064], ['2021-04-28', 19043771], ['2021-04-29', 19523861], ['2021-04-30', 19834392], ['2021-05-01', 19934399], ['2021-05-02', 20070743], ['2021-05-03', 20110554], ['2021-05-04', 20168443], ['2021-05-05', 20720147], ['2021-05-06', 21177713], ['2021-05-07', 21296747], ['2021-05-08', 21597074], ['2021-05-09', -1], ['2021-05-10', 21786131], ['2021-05-11', 21844382], ['2021-05-12', 22575945], ['2021-05-13', 22782931], ['2021-05-14', 23292045], ['2021-05-15', 23858201], ['2021-05-16', 23970334], ['2021-05-17', 24087535], ['2021-05-18', 24519227], ['2021-05-19', 24862902], ['2021-05-20', 25166959], ['2021-05-21', 25468057], ['2021-05-22', 26419720], ['2021-05-23', 26472510], ['2021-05-24', 26802324], ['2021-05-25', 27026797], ['2021-05-26', 27611859], ['2021-05-27', 27739956], ['2021-05-28', 28112894], ['2021-05-29', 28365082], ['2021-05-30', 28449552], ['2021-05-31', 28501637], ['2021-06-01', 29325191], ['2021-06-02', 29792970], ['2021-06-03', 30001530], ['2021-06-04', 30501660], ['2021-06-05', 30606544], ['2021-06-06', 30708050], ['2021-06-07', 31050172], ['2021-06-08', 31295788], ['2021-06-09', 31605719], ['2021-06-10', 31953145], ['2021-06-11', 32267143], ['2021-06-12', 32734213], ['2021-06-13', 32831196], ['2021-06-14', 32865706], ['2021-06-15', 32907158], ['2021-06-16', 33220101], ['2021-06-17', 33923089], ['2021-06-18', 34337450], ['2021-06-19', 34768902], ['2021-06-20', 34901304], ['2021-06-21', 35237844], ['2021-06-22', 35983165], ['2021-06-23', 36044137], ['2021-06-24', 36970273], ['2021-06-25', 37603085], ['2021-06-26', 38098213], ['2021-06-27', 38440164], ['2021-06-28', 38773378], ['2021-06-29', 39328425], ['2021-06-30', 40027944], ['2021-07-01', 40875355], ['2021-07-02', 41821794], ['2021-07-03', 42450067], ['2021-07-04', 42830589], ['2021-07-05', 43033292], ['2021-07-06', 44317901], ['2021-07-07', 45061139], ['2021-07-08', 45570931], ['2021-07-09', 46626243], ['2021-07-10', 47334968], ['2021-07-11', 47572228], ['2021-07-12', 47809152], ['2021-07-13', 48693756], ['2021-07-14', 49757693], ['2021-07-15', 50383638], ['2021-07-16', 52329289], ['2021-07-17', 52471287], ['2021-07-18', 52782888], ['2021-07-19', 52924914], ['2021-07-20', 54765404], ['2021-07-21', 55278232], ['2021-07-22', 55829776], ['2021-07-23', 57119002], ['2021-07-24', 57313547], ['2021-07-25', 57493823], ['2021-07-26', 57730452], ['2021-07-27', 58627941], ['2021-07-28', 59222211], ['2021-07-29', 60086288], ['2021-07-30', 60996545], ['2021-07-31', 61902078], ['2021-08-01', 62225609], ['2021-08-02', 62369448], ['2021-08-03', 63106022], ['2021-08-04', 64276556], ['2021-08-05', 64612870], ['2021-08-06', 65093022], ['2021-08-07', 65886173], ['2021-08-08', 66245526], ['2021-08-09', 66369168], ['2021-08-10', 67340478], ['2021-08-11', 68010094], ['2021-08-12', 68643798], ['2021-08-13', 71033270], ['2021-08-14', 72895650], ['2021-08-15', 73164150], ['2021-08-16', 73509691], ['2021-08-17', 74000654], ['2021-08-18', 74425863], ['2021-08-19', 75043301], ['2021-08-20', 75677887], ['2021-08-21', 76458068], ['2021-08-22', 76801879], ['2021-08-23', 76957410], ['2021-08-24', 77577311], ['2021-08-25', 78053353], ['2021-08-26', 78431369], ['2021-08-27', 79130258], ['2021-08-28', 79493362], ['2021-08-29', 79708822], ['2021-08-30', 80012028], ['2021-08-31', 80244526], ['2021-09-01', 81226019], ['2021-09-02', 81609406], ['2021-09-03', 82319804], ['2021-09-04', 82550749], ['2021-09-05', 82803898], ['2021-09-06', 82918108], ['2021-09-07', 83633913], ['2021-09-08', 83818838], ['2021-09-09', 84307408], ['2021-09-10', 84915792], ['2021-09-11', 85117353], ['2021-09-12', 85282445], ['2021-09-13', 85977322], ['2021-09-14', 86073493], ['2021-09-15', 86564229], ['2021-09-16', 86956254], ['2021-09-17', 87267626], ['2021-09-18', -1], ['2021-09-19', 87736626], ['2021-09-20', 87900632], ['2021-09-21', 88138610], ['2021-09-22', 88567925], ['2021-09-23', -1], ['2021-09-24', 89028383], ['2021-09-25', 89204756], ['2021-09-26', 89301130], ['2021-09-27', 89627918], ['2021-09-28', 89704718], ['2021-09-29', 90015699], ['2021-09-30', 90298423], ['2021-10-01', 90667000], ['2021-10-02', 91015787], ['2021-10-03', 91151285], ['2021-10-04', 91243207], ['2021-10-05', 91497450], ['2021-10-06', 92192697], ['2021-10-07', 93888467], ['2021-10-08', 94115234], ['2021-10-09', 94289464], ['2021-10-10', 94491689], ['2021-10-11', 94671192], ['2021-10-12', 94790577], ['2021-10-13', 95156230], ['2021-10-14', 95345470], ['2021-10-15', 95885492], ['2021-10-16', -1], ['2021-10-17', -1], ['2021-10-18', -1], ['2021-10-19', -1], ['2021-10-20', 99382776], ['2021-10-21', 99443669], ['2021-10-22', 100030674], ['2021-10-23', 100766655], ['2021-10-24', -1], ['2021-10-25', -1], ['2021-10-26', -1], ['2021-10-27', -1], ['2021-10-28', 102428563], ['2021-10-29', 103215462], ['2021-10-30', 104062261], ['2021-10-31', 104464268], ['2021-11-01', 104776681], ['2021-11-02', 105580822], ['2021-11-03', 106519046], ['2021-11-04', 108485269], ['2021-11-05', -1], ['2021-11-06', -1], ['2021-11-07', 108839638], ['2021-11-08', 109012524], ['2021-11-09', 110013923], ['2021-11-10', 110548268], ['2021-11-11', 111504955], ['2021-11-12', 112305009], ['2021-11-13', 113186687], ['2021-11-14', 114006989], ['2021-11-15', 114562576], ['2021-11-16', 115373976], ['2021-11-17', 116626426], ['2021-11-18', 117352790], ['2021-11-19', 118078630], ['2021-11-20', 119759585], ['2021-11-21', -1], ['2021-11-22', 120606667]]\n"
          ]
        }
      ]
    },
    {
      "cell_type": "code",
      "metadata": {
        "colab": {
          "base_uri": "https://localhost:8080/"
        },
        "id": "vMv5O1bolHcU",
        "outputId": "53b2cb38-14a3-4684-a182-4f864fcbe4fc"
      },
      "source": [
        "# Делаем то же самое с помощью numpy\n",
        "\n",
        "with open(\"vaccinations.csv\", 'r') as file:\n",
        "  vacc_table = np.genfromtxt(file, delimiter=',', dtype=str, skip_header=1, usecols=(1, 2, 3))\n",
        "  vacc_table_rus = filter(lambda x: x[0]=='RUS', vacc_table)\n",
        "\n",
        "country, dates, vacc_rus = np.transpose(list(vacc_table_rus))\n",
        "vacc_rus = list(map(lambda x: int(x) if x!= '' else -1, vacc_rus))\n",
        "print(vacc_rus)\n"
      ],
      "execution_count": null,
      "outputs": [
        {
          "output_type": "stream",
          "name": "stdout",
          "text": [
            "[28500, -1, -1, -1, -1, -1, -1, 52000, -1, -1, -1, -1, -1, -1, -1, -1, -1, -1, 800000, -1, -1, -1, -1, -1, -1, -1, -1, -1, -1, 1000000, -1, -1, -1, -1, -1, -1, -1, -1, -1, -1, -1, -1, -1, -1, -1, -1, -1, -1, -1, -1, -1, -1, -1, -1, -1, -1, -1, -1, -1, -1, -1, -1, -1, -1, -1, -1, -1, -1, -1, -1, -1, -1, -1, -1, -1, -1, -1, 5249831, 5489342, 6010744, 6301854, 6583873, 6655487, 6669466, 6694349, 7048129, 7273933, -1, -1, -1, -1, -1, 7818009, 7909438, 8185944, 8306498, 8362575, -1, -1, -1, -1, -1, -1, -1, 11124350, 11183108, 11373572, 11642295, 11779295, 12038859, 12120810, 12215342, 12474954, 13047800, 13354502, 13628879, 13977397, 14108341, 14269543, 14583881, 14967802, 15164099, 15469617, 15700803, 16167151, 16237319, 16567842, 16821267, 17218313, 17535826, 18080498, 18152707, 18315316, 18557064, 19043771, 19523861, 19834392, 19934399, 20070743, 20110554, 20168443, 20720147, 21177713, 21296747, 21597074, -1, 21786131, 21844382, 22575945, 22782931, 23292045, 23858201, 23970334, 24087535, 24519227, 24862902, 25166959, 25468057, 26419720, 26472510, 26802324, 27026797, 27611859, 27739956, 28112894, 28365082, 28449552, 28501637, 29325191, 29792970, 30001530, 30501660, 30606544, 30708050, 31050172, 31295788, 31605719, 31953145, 32267143, 32734213, 32831196, 32865706, 32907158, 33220101, 33923089, 34337450, 34768902, 34901304, 35237844, 35983165, 36044137, 36970273, 37603085, 38098213, 38440164, 38773378, 39328425, 40027944, 40875355, 41821794, 42450067, 42830589, 43033292, 44317901, 45061139, 45570931, 46626243, 47334968, 47572228, 47809152, 48693756, 49757693, 50383638, 52329289, 52471287, 52782888, 52924914, 54765404, 55278232, 55829776, 57119002, 57313547, 57493823, 57730452, 58627941, 59222211, 60086288, 60996545, 61902078, 62225609, 62369448, 63106022, 64276556, 64612870, 65093022, 65886173, 66245526, 66369168, 67340478, 68010094, 68643798, 71033270, 72895650, 73164150, 73509691, 74000654, 74425863, 75043301, 75677887, 76458068, 76801879, 76957410, 77577311, 78053353, 78431369, 79130258, 79493362, 79708822, 80012028, 80244526, 81226019, 81609406, 82319804, 82550749, 82803898, 82918108, 83633913, 83818838, 84307408, 84915792, 85117353, 85282445, 85977322, 86073493, 86564229, 86956254, 87267626, -1, 87736626, 87900632, 88138610, 88567925, -1, 89028383, 89204756, 89301130, 89627918, 89704718, 90015699, 90298423, 90667000, 91015787, 91151285, 91243207, 91497450, 92192697, 93888467, 94115234, 94289464, 94491689, 94671192, 94790577, 95156230, 95345470, 95885492, -1, -1, -1, -1, 99382776, 99443669, 100030674, 100766655, -1, -1, -1, -1, 102428563, 103215462, 104062261, 104464268, 104776681, 105580822, 106519046, 108485269, -1, -1, 108839638, 109012524, 110013923, 110548268, 111504955, 112305009, 113186687, 114006989, 114562576, 115373976, 116626426, 117352790, 118078630, 119759585, -1, 120606667]\n"
          ]
        }
      ]
    },
    {
      "cell_type": "code",
      "metadata": {
        "colab": {
          "base_uri": "https://localhost:8080/",
          "height": 324
        },
        "id": "JuA0ghrzrp7L",
        "outputId": "a9ec49c5-eba9-40bc-9fe1-1b7857077824"
      },
      "source": [
        "xname = \"Дата\"\n",
        "yname=\"Количество вакцинированных\"\n",
        "title = \"Количество вакцинированных в России\"\n",
        "\n",
        "plt.xlabel(xname)\n",
        "plt.ylabel(yname)\n",
        "plt.title(title)\n",
        "\n",
        "tick_values = list(range(0, 365, 30))\n",
        "tick_names = ['декабрь', 'январь', 'февраль', 'март', 'апрель', 'май', 'июнь', 'июль', 'август', 'сентябрь', 'октябрь', 'ноябрь' ]\n",
        "tick_names_new = [elem[:2] for elem in tick_names]\n",
        "plt.xticks(tick_values, tick_names_new, rotation =45)\n",
        "\n",
        "step = (max(vacc_rus)-min(vacc_rus))//10\n",
        "\n",
        "tick_values_y = list(range(min(vacc_rus), max(vacc_rus), step))\n",
        "plt.yticks(tick_values_y, tick_values_y, rotation=45, fontfamily='fantasy', fontsize='large', color='red')\n",
        "\n",
        "plt.plot(dates, vacc_rus, linewidth=1, color='green')\n",
        "plt.show()"
      ],
      "execution_count": null,
      "outputs": [
        {
          "output_type": "display_data",
          "data": {
            "image/png": "[encoded data removed]",
            "text/plain": [
              "<Figure size 432x288 with 1 Axes>"
            ]
          },
          "metadata": {
            "needs_background": "light"
          }
        }
      ]
    },
    {
      "cell_type": "markdown",
      "metadata": {
        "id": "et0cX0FwvIOn"
      },
      "source": [
        "У нас есть предположение, что данные изменяются линейно."
      ]
    },
    {
      "cell_type": "markdown",
      "metadata": {
        "id": "in0HRZw63-bL"
      },
      "source": [
        "В numpy есть для этого метод linspace - он заполняет указанное число точек."
      ]
    },
    {
      "cell_type": "markdown",
      "metadata": {
        "id": "Q9dWHd1xK7_H"
      },
      "source": [
        "Мы можем заполнить все значения исходя из первого и последнего значения:"
      ]
    },
    {
      "cell_type": "code",
      "metadata": {
        "colab": {
          "base_uri": "https://localhost:8080/"
        },
        "id": "5H4JIhOlLGnN",
        "outputId": "6fff8553-265e-46cd-ae71-9b1e37327f86"
      },
      "source": [
        "vacc_rus_approx = np.linspace(vacc_rus[0], vacc_rus[-1], len(vacc_rus))\n",
        "print(*vacc_rus_approx)"
      ],
      "execution_count": null,
      "outputs": [
        {
          "output_type": "stream",
          "name": "stdout",
          "text": [
            "28500.0 381067.73976608185 733635.4795321637 1086203.2192982456 1438770.9590643274 1791338.6988304092 2143906.4385964912 2496474.178362573 2849041.918128655 3201609.6578947366 3554177.3976608184 3906745.1374269 4259312.8771929825 4611880.616959064 4964448.356725146 5317016.096491228 5669583.83625731 6022151.576023391 6374719.315789473 6727287.055555555 7079854.795321637 7432422.535087719 7784990.2748538 8137558.014619882 8490125.754385965 8842693.494152047 9195261.233918129 9547828.97368421 9900396.713450292 10252964.453216374 10605532.192982456 10958099.932748538 11310667.67251462 11663235.412280701 12015803.152046783 12368370.891812865 12720938.631578946 13073506.371345028 13426074.11111111 13778641.850877192 14131209.590643274 14483777.330409355 14836345.070175437 15188912.809941519 15541480.5497076 15894048.289473683 16246616.029239764 16599183.769005846 16951751.50877193 17304319.24853801 17656886.988304093 18009454.728070173 18362022.467836257 18714590.207602337 19067157.94736842 19419725.6871345 19772293.426900584 20124861.166666664 20477428.906432748 20829996.646198828 21182564.38596491 21535132.12573099 21887699.865497075 22240267.605263155 22592835.34502924 22945403.084795322 23297970.824561402 23650538.564327486 24003106.304093566 24355674.04385965 24708241.78362573 25060809.523391813 25413377.263157893 25765945.002923977 26118512.742690057 26471080.48245614 26823648.22222222 27176215.961988304 27528783.701754384 27881351.441520467 28233919.181286547 28586486.92105263 28939054.66081871 29291622.400584795 29644190.140350875 29996757.88011696 30349325.619883038 30701893.35964912 31054461.0994152 31407028.839181285 31759596.578947365 32112164.31871345 32464732.05847953 32817299.798245613 33169867.538011692 33522435.277777776 33875003.01754386 34227570.75730994 34580138.49707602 34932706.2368421 35285273.97660819 35637841.71637427 35990409.45614035 36342977.19590643 36695544.935672514 37048112.6754386 37400680.415204674 37753248.15497076 38105815.89473684 38458383.634502925 38810951.374269 39163519.114035085 39516086.85380117 39868654.59356725 40221222.33333333 40573790.07309941 40926357.812865496 41278925.55263158 41631493.292397656 41984061.03216374 42336628.77192982 42689196.51169591 43041764.25146198 43394331.99122807 43746899.73099415 44099467.47076023 44452035.21052631 44804602.95029239 45157170.69005848 45509738.42982456 45862306.169590645 46214873.90935672 46567441.649122804 46920009.38888889 47272577.12865497 47625144.86842105 47977712.60818713 48330280.347953215 48682848.0877193 49035415.827485375 49387983.56725146 49740551.30701754 50093119.046783626 50445686.7865497 50798254.526315786 51150822.26608187 51503390.00584795 51855957.74561403 52208525.48538011 52561093.2251462 52913660.96491228 53266228.70467836 53618796.44444444 53971364.184210524 54323931.92397661 54676499.663742684 55029067.40350877 55381635.14327485 55734202.883040935 56086770.62280701 56439338.362573095 56791906.10233918 57144473.84210526 57497041.581871346 57849609.32163742 58202177.061403506 58554744.80116959 58907312.54093567 59259880.28070175 59612448.02046783 59965015.76023392 60317583.5 60670151.239766076 61022718.97953216 61375286.71929824 61727854.45906433 62080422.1988304 62432989.93859649 62785557.67836257 63138125.418128654 63490693.15789473 63843260.897660814 64195828.6374269 64548396.37719298 64900964.11695906 65253531.85672514 65606099.596491225 65958667.33625731 66311235.076023385 66663802.81578947 67016370.55555555 67368938.29532163 67721506.03508772 68074073.7748538 68426641.51461989 68779209.25438596 69131776.99415204 69484344.73391813 69836912.4736842 70189480.21345028 70542047.95321637 70894615.69298245 71247183.43274854 71599751.17251462 71952318.9122807 72304886.65204678 72657454.39181286 73010022.13157894 73362589.87134503 73715157.6111111 74067725.3508772 74420293.09064327 74772860.83040935 75125428.57017544 75477996.30994152 75830564.04970759 76183131.78947368 76535699.52923976 76888267.26900585 77240835.00877193 77593402.748538 77945970.4883041 78298538.22807017 78651105.96783625 79003673.70760234 79356241.44736841 79708809.1871345 80061376.92690058 80413944.66666666 80766512.40643275 81119080.14619882 81471647.88596492 81824215.62573099 82176783.36549707 82529351.10526316 82881918.84502923 83234486.58479531 83587054.3245614 83939622.06432748 84292189.80409357 84644757.54385965 84997325.28362572 85349893.02339181 85702460.76315789 86055028.50292397 86407596.24269006 86760163.98245613 87112731.72222222 87465299.4619883 87817867.20175438 88170434.94152047 88523002.68128654 88875570.42105262 89228138.16081871 89580705.90058479 89933273.64035088 90285841.38011695 90638409.11988303 90990976.85964912 91343544.5994152 91696112.33918129 92048680.07894737 92401247.81871344 92753815.55847953 93106383.29824561 93458951.03801169 93811518.77777778 94164086.51754385 94516654.25730994 94869221.99707602 95221789.7368421 95574357.47660819 95926925.21637426 96279492.95614034 96632060.69590643 96984628.4356725 97337196.1754386 97689763.91520467 98042331.65497075 98394899.39473684 98747467.13450292 99100034.874269 99452602.61403508 99805170.35380116 100157738.09356725 100510305.83333333 100862873.5730994 101215441.3128655 101568009.05263157 101920576.79239766 102273144.53216374 102625712.27192982 102978280.0116959 103330847.75146198 103683415.49122806 104035983.23099415 104388550.97076023 104741118.71052632 105093686.4502924 105446254.19005847 105798821.92982456 106151389.66959064 106503957.40935671 106856525.1491228 107209092.88888888 107561660.62865497 107914228.36842105 108266796.10818712 108619363.84795322 108971931.58771929 109324499.32748537 109677067.06725146 110029634.80701753 110382202.54678363 110734770.2865497 111087338.02631578 111439905.76608187 111792473.50584795 112145041.24561402 112497608.98538011 112850176.72514619 113202744.46491228 113555312.20467836 113907879.94444443 114260447.68421052 114613015.4239766 114965583.16374269 115318150.90350877 115670718.64327484 116023286.38304093 116375854.12280701 116728421.86257309 117080989.60233918 117433557.34210525 117786125.08187135 118138692.82163742 118491260.5614035 118843828.30116959 119196396.04093567 119548963.78070174 119901531.52046783 120254099.26023391 120606667.0\n"
          ]
        }
      ]
    },
    {
      "cell_type": "code",
      "metadata": {
        "colab": {
          "base_uri": "https://localhost:8080/",
          "height": 324
        },
        "id": "t7W9BIlALdMu",
        "outputId": "ea82c0b0-e511-4712-d531-a6bd87183b3f"
      },
      "source": [
        "#Визуализируем аппроксимированный график\n",
        "\n",
        "xname = \"Дата\"\n",
        "yname=\"Количество вакцинированных\"\n",
        "title = \"Количество вакцинированных в России\"\n",
        "\n",
        "plt.xlabel(xname)\n",
        "plt.ylabel(yname)\n",
        "plt.title(title)\n",
        "\n",
        "tick_values = list(range(0, 365, 30))\n",
        "tick_names = ['декабрь', 'январь', 'февраль', 'март', 'апрель', 'май', 'июнь', 'июль', 'август', 'сентябрь', 'октябрь', 'ноябрь' ]\n",
        "tick_names_new = [elem[:2] for elem in tick_names]\n",
        "plt.xticks(tick_values, tick_names_new, rotation =45)\n",
        "\n",
        "vacc_rus_approx_min = int(min(vacc_rus_approx))\n",
        "vacc_rus_approx_max = int(max(vacc_rus_approx))\n",
        "step = (vacc_rus_approx_max-vacc_rus_approx_min)//10\n",
        "\n",
        "\n",
        "\n",
        "tick_values_y = list(range(vacc_rus_approx_min, vacc_rus_approx_max, step))\n",
        "plt.yticks(tick_values_y, tick_values_y, rotation=45, fontfamily='fantasy', fontsize='large', color='red')\n",
        "\n",
        "plt.plot(dates, vacc_rus_approx, linewidth=1, color='green')\n",
        "plt.show()"
      ],
      "execution_count": null,
      "outputs": [
        {
          "output_type": "display_data",
          "data": {
            "image/png": "[encoded data removed]",
            "text/plain": [
              "<Figure size 432x288 with 1 Axes>"
            ]
          },
          "metadata": {
            "needs_background": "light"
          }
        }
      ]
    },
    {
      "cell_type": "markdown",
      "metadata": {
        "id": "EG5R1jhQMgjP"
      },
      "source": [
        "Это не очень хорошо.\n",
        "Потому что исходные графики вели себя не постоянно линейно. Были различные выбросы.\n",
        "Поэтому мы можем применить linspace для заполнения пропусков между двумя соседними непропущенными значениями.\n",
        "При этом мы предполагаем, что данные в незаполненных промежутках ведут себя линейно."
      ]
    },
    {
      "cell_type": "markdown",
      "metadata": {
        "id": "Klse5dy8NbqB"
      },
      "source": [
        "Как это сделать?"
      ]
    },
    {
      "cell_type": "markdown",
      "metadata": {
        "id": "GL6rXdAZNd20"
      },
      "source": [
        "1. Ищем индекс первого непустого элемента.\n",
        "2. Ищем индекс второго непустого элемента, начиная с текущего индекса.\n",
        "3. Заполняем промежутки с помощью linspace, указав при этом индекс начала, конца и количество точек (его надо посчитать)."
      ]
    },
    {
      "cell_type": "code",
      "metadata": {
        "id": "fInVjrLNRBjW"
      },
      "source": [
        "# Функция поиска индекса первого отрицательного значения в списке, начиная с текущего индекса\n",
        "def find_first_na_idx(lst, first_idx):\n",
        "  for idx in range(first_idx, len(lst)):\n",
        "    if lst[idx]==-1:\n",
        "      return idx\n",
        "  return -1"
      ],
      "execution_count": null,
      "outputs": []
    },
    {
      "cell_type": "code",
      "metadata": {
        "id": "A4iNN0qNR2NT"
      },
      "source": [
        "# Функция поиска индекса первого НЕОТРИЦАТЕЛЬНОГО значения в списке, начиная с текущего индекса\n",
        "def find_first_not_na_idx(lst, first_idx):\n",
        "  for idx in range(first_idx, len(lst)):\n",
        "    if lst[idx]!=-1:\n",
        "      return idx\n",
        "  return -1"
      ],
      "execution_count": null,
      "outputs": []
    },
    {
      "cell_type": "code",
      "metadata": {
        "colab": {
          "base_uri": "https://localhost:8080/"
        },
        "id": "ds12mdwcNZZi",
        "outputId": "f557a1b4-601e-42ad-e528-8fc9029fbff5"
      },
      "source": [
        "vacc_rus_approx = vacc_rus\n",
        "idx=0\n",
        "while idx>=0 and idx<len(vacc_rus):\n",
        "  idx_na = find_first_na_idx(vacc_rus, idx)\n",
        "  if idx<0 or idx>=len(vacc_rus):\n",
        "    break\n",
        "  idx_not_na = find_first_not_na_idx(vacc_rus, idx_na)\n",
        "  vacc_rus_approx[idx:idx_na] = vacc_rus[idx:idx_na]\n",
        "  vacc_rus_approx[idx_na:idx_not_na] = np.linspace(vacc_rus[idx_na-1], vacc_rus[idx_not_na], idx_not_na-idx_na)\n",
        "  idx = idx_not_na\n",
        "\n",
        "print(vacc_rus_approx)\n"
      ],
      "execution_count": null,
      "outputs": [
        {
          "output_type": "stream",
          "name": "stdout",
          "text": [
            "[28500, 28500.0, 33200.0, 37900.0, 42600.0, 47300.0, 52000.0, 52000, 52000.0, 135111.11111111112, 218222.22222222222, 301333.3333333333, 384444.44444444444, 467555.55555555556, 550666.6666666666, 633777.7777777778, 716888.8888888889, 800000.0, 800000, 800000.0, 822222.2222222222, 844444.4444444445, 866666.6666666666, 888888.8888888889, 911111.1111111111, 933333.3333333334, 955555.5555555555, 977777.7777777778, 1000000.0, 1000000, 1000000.0, 1092387.6304347827, 1184775.2608695652, 1277162.891304348, 1369550.5217391304, 1461938.152173913, 1554325.7826086958, 1646713.4130434783, 1739101.0434782607, 1831488.6739130435, 1923876.3043478262, 2016263.9347826086, 2108651.5652173916, 2201039.195652174, 2293426.8260869565, 2385814.4565217393, 2478202.0869565215, 2570589.7173913047, 2662977.347826087, 2755364.9782608696, 2847752.6086956523, 2940140.2391304346, 3032527.8695652173, 3124915.5, 3217303.1304347827, 3309690.7608695654, 3402078.3913043477, 3494466.0217391304, 3586853.652173913, 3679241.282608696, 3771628.913043478, 3864016.5434782607, 3956404.1739130435, 4048791.804347826, 4141179.434782609, 4233567.065217391, 4325954.695652174, 4418342.326086957, 4510729.956521739, 4603117.5869565215, 4695505.217391305, 4787892.847826087, 4880280.478260869, 4972668.108695652, 5065055.739130435, 5157443.369565217, 5249831.0, 5249831, 5489342, 6010744, 6301854, 6583873, 6655487, 6669466, 6694349, 7048129, 7273933, 7273933.0, 7409952.0, 7545971.0, 7681990.0, 7818009.0, 7818009, 7909438, 8185944, 8306498, 8362575, 8362575.0, 8822870.833333334, 9283166.666666666, 9743462.5, 10203758.333333334, 10664054.166666666, 11124350.0, 11124350, 11183108, 11373572, 11642295, 11779295, 12038859, 12120810, 12215342, 12474954, 13047800, 13354502, 13628879, 13977397, 14108341, 14269543, 14583881, 14967802, 15164099, 15469617, 15700803, 16167151, 16237319, 16567842, 16821267, 17218313, 17535826, 18080498, 18152707, 18315316, 18557064, 19043771, 19523861, 19834392, 19934399, 20070743, 20110554, 20168443, 20720147, 21177713, 21296747, 21597074, 21597074.0, 21786131, 21844382, 22575945, 22782931, 23292045, 23858201, 23970334, 24087535, 24519227, 24862902, 25166959, 25468057, 26419720, 26472510, 26802324, 27026797, 27611859, 27739956, 28112894, 28365082, 28449552, 28501637, 29325191, 29792970, 30001530, 30501660, 30606544, 30708050, 31050172, 31295788, 31605719, 31953145, 32267143, 32734213, 32831196, 32865706, 32907158, 33220101, 33923089, 34337450, 34768902, 34901304, 35237844, 35983165, 36044137, 36970273, 37603085, 38098213, 38440164, 38773378, 39328425, 40027944, 40875355, 41821794, 42450067, 42830589, 43033292, 44317901, 45061139, 45570931, 46626243, 47334968, 47572228, 47809152, 48693756, 49757693, 50383638, 52329289, 52471287, 52782888, 52924914, 54765404, 55278232, 55829776, 57119002, 57313547, 57493823, 57730452, 58627941, 59222211, 60086288, 60996545, 61902078, 62225609, 62369448, 63106022, 64276556, 64612870, 65093022, 65886173, 66245526, 66369168, 67340478, 68010094, 68643798, 71033270, 72895650, 73164150, 73509691, 74000654, 74425863, 75043301, 75677887, 76458068, 76801879, 76957410, 77577311, 78053353, 78431369, 79130258, 79493362, 79708822, 80012028, 80244526, 81226019, 81609406, 82319804, 82550749, 82803898, 82918108, 83633913, 83818838, 84307408, 84915792, 85117353, 85282445, 85977322, 86073493, 86564229, 86956254, 87267626, 87267626.0, 87736626, 87900632, 88138610, 88567925, 88567925.0, 89028383, 89204756, 89301130, 89627918, 89704718, 90015699, 90298423, 90667000, 91015787, 91151285, 91243207, 91497450, 92192697, 93888467, 94115234, 94289464, 94491689, 94671192, 94790577, 95156230, 95345470, 95885492, 95885492.0, 97051253.33333333, 98217014.66666667, 99382776.0, 99382776, 99443669, 100030674, 100766655, 100766655.0, 101320624.33333333, 101874593.66666667, 102428563.0, 102428563, 103215462, 104062261, 104464268, 104776681, 105580822, 106519046, 108485269, 108485269.0, 108839638.0, 108839638, 109012524, 110013923, 110548268, 111504955, 112305009, 113186687, 114006989, 114562576, 115373976, 116626426, 117352790, 118078630, 119759585, 119759585.0, 120606667]\n"
          ]
        }
      ]
    },
    {
      "cell_type": "code",
      "metadata": {
        "colab": {
          "base_uri": "https://localhost:8080/",
          "height": 324
        },
        "id": "d1CeXQAvVRCl",
        "outputId": "8fc712c1-d711-4fc4-9fa4-06d37176f456"
      },
      "source": [
        "#Визуализируем аппроксимированный график\n",
        "\n",
        "xname = \"Дата\"\n",
        "yname=\"Количество вакцинированных\"\n",
        "title = \"Количество вакцинированных в России\"\n",
        "\n",
        "plt.xlabel(xname)\n",
        "plt.ylabel(yname)\n",
        "plt.title(title)\n",
        "\n",
        "tick_values = list(range(0, 365, 30))\n",
        "tick_names = ['декабрь', 'январь', 'февраль', 'март', 'апрель', 'май', 'июнь', 'июль', 'август', 'сентябрь', 'октябрь', 'ноябрь' ]\n",
        "tick_names_new = [elem[:2] for elem in tick_names]\n",
        "plt.xticks(tick_values, tick_names_new, rotation =45)\n",
        "\n",
        "vacc_rus_approx_min = int(min(vacc_rus_approx))\n",
        "vacc_rus_approx_max = int(max(vacc_rus_approx))\n",
        "step = (vacc_rus_approx_max-vacc_rus_approx_min)//10\n",
        "\n",
        "\n",
        "\n",
        "tick_values_y = list(range(vacc_rus_approx_min, vacc_rus_approx_max, step))\n",
        "plt.yticks(tick_values_y, tick_values_y, rotation=45, fontfamily='fantasy', fontsize='large', color='red')\n",
        "\n",
        "plt.plot(dates, vacc_rus_approx, linewidth=1, color='green')\n",
        "plt.show()"
      ],
      "execution_count": null,
      "outputs": [
        {
          "output_type": "display_data",
          "data": {
            "image/png": "[encoded data removed]",
            "text/plain": [
              "<Figure size 432x288 with 1 Axes>"
            ]
          },
          "metadata": {
            "needs_background": "light"
          }
        }
      ]
    },
    {
      "cell_type": "markdown",
      "metadata": {
        "id": "cpoUpWdbVZnm"
      },
      "source": [
        "# Задача\n",
        "Заполнение пропусков помогает также приводить данные к адекватному виду.\n",
        "\n",
        "Рассмотрим набор данных про пассажиров Титаника (вы уже видели его ранее).\n",
        "\n",
        "Однако в прошлый раз мы забыли закрыть доступ на его редактирование, и какой-то хакер решил нам насолить и испортил исходные данные.\n",
        "\n",
        "Мы проанализировали их и увидели, что данные были испорчены не очень сильно.\n",
        "Злоумышленник только исковеркал названия колонок, поменяв у некоторых букв размер и добавил лишние символы \"_\", \".\" и \";\", а также стёр некоторые данные в отдельных столбцах.\n",
        "\n",
        "Ваша задача - исправить данные:\n",
        "1. Привести названия колонок к единому виду, убрать лишние символы.\n",
        "2. Указать все названия колонок, где содержались пропуски, и подумать, как их можно исправить.\n",
        "\n",
        "При выполнении задания разрешается пользоваться всеми материалами с лекций и семинаров.\n",
        "\n",
        "Результат стоит записать в новый файл output.txt."
      ]
    },
    {
      "cell_type": "markdown",
      "metadata": {
        "id": "pzlqxW7eYIOp"
      },
      "source": [
        "# Решение\n",
        "\n",
        "1. Читаем файл (или с помощью read, или с помощью np.genfromtxt).\n",
        "2. Обрабатываем первую строку - названия колонок.\n",
        "  1. Читаем её из файла.\n",
        "  2. К каждому элементу применяем replace, title.\n",
        "3. Получаем значения каждой колонки (можно сделать numpy.transpose, можно просто вручную заполнить содержимое колонок).\n",
        "4. Ищем хотя бы одно пустое значение. Это можно сделать с помощью цикла, find.\n",
        "  1. Если пустое значение нашлось - сохраняем значение колонки (или ее индекс). \n",
        "5. Анализируем каждую колонку, содержащую пустые значения.\n",
        "  1. Для категориальной - вспоминаем частотный анализ.\n",
        "  2. Для числовой - вспоминаем сегодняшнюю и предыдущую лекцию.\n",
        "\n"
      ]
    },
    {
      "cell_type": "code",
      "metadata": {
        "colab": {
          "base_uri": "https://localhost:8080/"
        },
        "id": "UBNVY7iiFxHI",
        "outputId": "06ac2215-57f8-4752-b533-a8bf66077195"
      },
      "source": [
        "!wget -O \"titanic_corrupted.csv\" \"https://raw.githubusercontent.com/legas377/TestRepository/main/titanic_corrupted.csv\""
      ],
      "execution_count": null,
      "outputs": [
        {
          "output_type": "stream",
          "name": "stdout",
          "text": [
            "--2021-11-24 08:51:41--  https://raw.githubusercontent.com/legas377/TestRepository/main/titanic_corrupted.csv\n",
            "Resolving raw.githubusercontent.com (raw.githubusercontent.com)... 185.199.109.133, 185.199.111.133, 185.199.110.133, ...\n",
            "Connecting to raw.githubusercontent.com (raw.githubusercontent.com)|185.199.109.133|:443... connected.\n",
            "HTTP request sent, awaiting response... 200 OK\n",
            "Length: 26244 (26K) [text/plain]\n",
            "Saving to: ‘titanic_corrupted.csv’\n",
            "\n",
            "titanic_corrupted.c 100%[===================>]  25.63K  --.-KB/s    in 0.002s  \n",
            "\n",
            "2021-11-24 08:51:41 (10.1 MB/s) - ‘titanic_corrupted.csv’ saved [26244/26244]\n",
            "\n"
          ]
        }
      ]
    },
    {
      "cell_type": "code",
      "metadata": {
        "colab": {
          "base_uri": "https://localhost:8080/"
        },
        "id": "QKUILdQnWZq6",
        "outputId": "ac467829-7526-4dba-9f72-7e94d48175c9"
      },
      "source": [
        "with open('titanic_corrupted.csv') as in_file:\n",
        "    lines = in_file.readlines()\n",
        "    lst = [line.replace('\\n', '').split(',') for line in lines]\n",
        "print(lst[0])"
      ],
      "execution_count": null,
      "outputs": [
        {
          "output_type": "stream",
          "name": "stdout",
          "text": [
            "['PassEngEr_Id', 'PclaSS;-', 'NAME', 'SEX', 'age .', 'Sib_Sp', 'PaRch__', 'TickEt', 'Fare', 'cabin', 'Embarked::']\n"
          ]
        }
      ]
    },
    {
      "cell_type": "code",
      "metadata": {
        "colab": {
          "base_uri": "https://localhost:8080/"
        },
        "id": "7VdZhdWRRGsi",
        "outputId": "44300c06-8031-4523-cf4b-79701a345bf8"
      },
      "source": [
        "# Предобрабатываем названия колонок\n",
        "def column_name_preprocess(col_name):\n",
        "    for char in ['_', ';', '-', ' ', '.', ':']:\n",
        "        col_name = col_name.replace(char, '')\n",
        "    return col_name\n",
        "\n",
        "column_names = lst[0]\n",
        "column_names = [column_name_preprocess(col_name).title() for col_name in column_names]\n",
        "print(column_names)"
      ],
      "execution_count": null,
      "outputs": [
        {
          "output_type": "stream",
          "name": "stdout",
          "text": [
            "['Passengerid', 'Pclass', 'Name', 'Sex', 'Age', 'Sibsp', 'Parch', 'Ticket', 'Fare', 'Cabin', 'Embarked']\n"
          ]
        }
      ]
    },
    {
      "cell_type": "code",
      "metadata": {
        "colab": {
          "base_uri": "https://localhost:8080/"
        },
        "id": "s9sZD4-tRUKN",
        "outputId": "9f137ec3-c1d6-49db-cdab-31d9c4ce833d"
      },
      "source": [
        "# Получаем список содержимого колонок:\n",
        "import numpy as np\n",
        "\n",
        "data_lst = lst[1:] # Пропускаем первую строку\n",
        "columns_lst = np.transpose(data_lst)\n",
        "print(len(columns_lst))"
      ],
      "execution_count": null,
      "outputs": [
        {
          "output_type": "stream",
          "name": "stdout",
          "text": [
            "11\n"
          ]
        }
      ]
    },
    {
      "cell_type": "code",
      "metadata": {
        "colab": {
          "base_uri": "https://localhost:8080/"
        },
        "id": "AA1ks67xRjDv",
        "outputId": "fda9f0cb-289f-4a15-90d1-e55f5b8cc9da"
      },
      "source": [
        "# Проверяем, содержит ли колонка пустые значения\n",
        "def check_is_na(column):\n",
        "    for elem in column:\n",
        "        if elem=='':\n",
        "            return True\n",
        "    return False\n",
        "\n",
        "# Выводим названия колонок, содержащих пропуски\n",
        "for i in range(len(columns_lst)):\n",
        "    if check_is_na(columns_lst[i]):\n",
        "        print(i, column_names[i])"
      ],
      "execution_count": null,
      "outputs": [
        {
          "output_type": "stream",
          "name": "stdout",
          "text": [
            "0 Passengerid\n",
            "1 Pclass\n",
            "2 Name\n",
            "3 Sex\n",
            "4 Age\n",
            "8 Fare\n",
            "9 Cabin\n"
          ]
        }
      ]
    },
    {
      "cell_type": "markdown",
      "metadata": {
        "id": "3IgCU3uHR3DH"
      },
      "source": [
        "Должно быть выведено:\n",
        "Passengerid\n",
        "Pclass\n",
        "Name\n",
        "Sex\n",
        "Age\n",
        "Fare\n",
        "Cabin"
      ]
    },
    {
      "cell_type": "markdown",
      "metadata": {
        "id": "JqUQrMniR9cF"
      },
      "source": [
        "**Какие из этих колонок категориальные, а какие числовые?**"
      ]
    },
    {
      "cell_type": "markdown",
      "metadata": {
        "id": "w9AfmHfmSB7i"
      },
      "source": [
        "Категориальные колонки:  Pclass (значения - числа, но количество разных чисел - конечно, всего 3 класса), Name, Sex, Cabin.\n",
        "\n",
        "Числовые признаки: Passengerid, Age, Fare."
      ]
    },
    {
      "cell_type": "markdown",
      "metadata": {
        "id": "0p3kCOcKSbZ3"
      },
      "source": [
        "**Как можно заполнить пропуски?**"
      ]
    },
    {
      "cell_type": "markdown",
      "metadata": {
        "id": "tNTV7BTqSh3I"
      },
      "source": [
        "Pclass - заменяем самым частым (было ранее на семинаре).\n",
        "\n",
        "Name - можно не заполнять (имя нас особо не интересует).\n",
        "\n",
        "Sex - заполняем исходя из имени (Mrs., Miss - female, Mr. - male). Если имени нет - пока не заполняем.\n",
        "\n",
        "Passengerid - можно линейно заполнить.\n",
        "\n",
        "Age, fare - можно средним."
      ]
    },
    {
      "cell_type": "code",
      "metadata": {
        "id": "5tNIh7QkT-5A"
      },
      "source": [
        "# Заполняем Passengerid\n",
        "columns_lst[0] = np.linspace(int(columns_lst[0][0]), int(columns_lst[0][-1]), len(columns_lst[0]))"
      ],
      "execution_count": null,
      "outputs": []
    },
    {
      "cell_type": "code",
      "metadata": {
        "id": "dXtxEE3qYHLJ"
      },
      "source": [
        "# Заполняем Pclass - уже было на семинаре\n",
        "\n",
        "from collections import Counter\n",
        "\n",
        "pclasses = columns_lst[1]\n",
        "pclasses_filter = filter(lambda x: x != '', pclasses)\n",
        "how_much_pclasses = Counter(pclass for pclass in pclasses_filter)\n",
        "most_frequent_pclass = how_much_pclasses.most_common()[0][0]\n",
        "\n",
        "columns_lst[1] = [elem if elem!='' else most_frequent_pclass for elem in pclasses]"
      ],
      "execution_count": null,
      "outputs": []
    },
    {
      "cell_type": "code",
      "metadata": {
        "id": "AC1-ATP4YSww"
      },
      "source": [
        "# Name - пропускаем"
      ],
      "execution_count": null,
      "outputs": []
    },
    {
      "cell_type": "code",
      "metadata": {
        "id": "fj3aKlsoYTiN"
      },
      "source": [
        "# Заполняем пол, исходя из имени\n",
        "def get_sex_from_name(name):\n",
        "    if 'Mr.' in name:\n",
        "        return 'male'\n",
        "    elif 'Mrs.' in name or 'Miss.' in name:\n",
        "        return 'female'\n",
        "    else:\n",
        "        return ''\n",
        "\n",
        "sex_lst = []\n",
        "for name, sex in zip(columns_lst[2], columns_lst[3]):\n",
        "    if sex!='':\n",
        "        sex_lst.append(sex)\n",
        "    else:\n",
        "        sex_lst.append(get_sex_from_name(name))\n",
        "\n",
        "# Для незаполненных значений пола - заполняем самым частым значением\n",
        "\n",
        "sex_lst_filter = filter(lambda x: x != '', sex_lst)\n",
        "how_much_sexes = Counter(sex for sex in sex_lst_filter)\n",
        "most_frequent_sex = how_much_sexes.most_common()[0][0]\n",
        "\n",
        "columns_lst[3] = [elem if elem != '' else most_frequent_sex for elem in sex_lst]"
      ],
      "execution_count": null,
      "outputs": []
    },
    {
      "cell_type": "code",
      "metadata": {
        "id": "SuEiJC81Yiyd"
      },
      "source": [
        "# Age - заполняем средним\n",
        "\n",
        "ages = columns_lst[4]\n",
        "\n",
        "ages_filter = filter(lambda x: x!='', ages)\n",
        "\n",
        "ages_float = [float(age) for age in ages_filter]\n",
        "ages_mean = np.mean(ages_float)\n",
        "\n",
        "columns_lst[4] = [elem if elem != '' else str(ages_mean) for elem in ages]"
      ],
      "execution_count": null,
      "outputs": []
    },
    {
      "cell_type": "code",
      "metadata": {
        "id": "NXE2qSlYYmy2"
      },
      "source": [
        "# Fare - аналогично\n",
        "\n",
        "fares = columns_lst[8]\n",
        "\n",
        "fares_filter = filter(lambda x: x != '', fares)\n",
        "\n",
        "fares_float = [float(fare) for fare in fares_filter]\n",
        "fares_mean = np.mean(fares_float)\n",
        "\n",
        "columns_lst[8] = [elem if elem != '' else str(fares_mean) for elem in fares]"
      ],
      "execution_count": null,
      "outputs": []
    },
    {
      "cell_type": "code",
      "metadata": {
        "id": "7Ds9HR7GYqjq"
      },
      "source": [
        "# Cabin - пропускаем"
      ],
      "execution_count": null,
      "outputs": []
    },
    {
      "cell_type": "code",
      "metadata": {
        "id": "XSVpnDynYrO3"
      },
      "source": [
        "# Сохраняем результат\n",
        "\n",
        "with open('titanic_preprocessed.csv', 'w') as out_file:\n",
        "    # Записываем названия колонок\n",
        "    print(*column_names, sep=',', file=out_file)\n",
        "    # Записываем содержимое колонок\n",
        "    rows = np.transpose(columns_lst)\n",
        "    for row in rows:\n",
        "        print(*row, sep=',', file=out_file)"
      ],
      "execution_count": null,
      "outputs": []
    }
  ]
}