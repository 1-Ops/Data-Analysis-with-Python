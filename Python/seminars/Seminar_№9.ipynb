{
  "nbformat": 4,
  "nbformat_minor": 0,
  "metadata": {
    "colab": {
      "name": "Семинар_№9.ipynb",
      "provenance": [],
      "collapsed_sections": []
    },
    "kernelspec": {
      "name": "python3",
      "display_name": "Python 3"
    },
    "language_info": {
      "name": "python"
    }
  },
  "cells": [
    {
      "cell_type": "markdown",
      "metadata": {
        "id": "T67AwZn0eLhw"
      },
      "source": [
        "# Семинар № 9. Библиотека pandas (часть 3)"
      ]
    },
    {
      "cell_type": "markdown",
      "metadata": {
        "id": "cpoUpWdbVZnm"
      },
      "source": [
        "# Задача\n",
        "В рамках выполнения домашнего проекта вам придётся продолжить анализ выбранного набора данных.\n",
        "На предыдущих семинарах мы обсуждали, как можно провести предварительный анализ, выполнить предобработку и сформулировать простые гипотезы.\n",
        "\n",
        "Теперь настало время приступить к следующему этапу - построению сложных гипотез.\n",
        "\n",
        "Снова рассмотрим набор данных про пассажиров Титаника.\n",
        "\n",
        "Ваша задача - построить сложные гипотезы о зависимостях разных признаков, а также доказать или опровергнуть их."
      ]
    },
    {
      "cell_type": "markdown",
      "metadata": {
        "id": "gkFgTmUdGtKY"
      },
      "source": [
        "### Решение"
      ]
    },
    {
      "cell_type": "markdown",
      "metadata": {
        "id": "W86BUE1JP3Bc"
      },
      "source": [
        "Сначала загрузим файл с данными и посмотрим на него:"
      ]
    },
    {
      "cell_type": "code",
      "source": [
        "from google.colab import output"
      ],
      "metadata": {
        "id": "at91UGdJC15H"
      },
      "execution_count": null,
      "outputs": []
    },
    {
      "cell_type": "code",
      "metadata": {
        "id": "UBNVY7iiFxHI"
      },
      "source": [
        "!wget -O \"titanic_corrupted.csv\" \"https://raw.githubusercontent.com/legas377/TestRepository/main/titanic_corrupted.csv\"\n",
        "output.clear()"
      ],
      "execution_count": null,
      "outputs": []
    },
    {
      "cell_type": "code",
      "metadata": {
        "id": "QKUILdQnWZq6"
      },
      "source": [
        "import pandas as pd"
      ],
      "execution_count": null,
      "outputs": []
    },
    {
      "cell_type": "markdown",
      "metadata": {
        "id": "n08hPfbWG8gi"
      },
      "source": [
        "Считываем наборы данных в специальный объект df - датафрейм:"
      ]
    },
    {
      "cell_type": "code",
      "metadata": {
        "id": "Q7irBnhXeIgn"
      },
      "source": [
        "df = pd.read_csv('titanic_corrupted.csv')"
      ],
      "execution_count": null,
      "outputs": []
    },
    {
      "cell_type": "markdown",
      "source": [
        "Предобработаем названия колонок:"
      ],
      "metadata": {
        "id": "sXxWvDhbQkrN"
      }
    },
    {
      "cell_type": "code",
      "source": [
        "# Предобрабатываем названия колонок\n",
        "def column_name_preprocess(col_name):\n",
        "    for char in ['_', ';', '-', ' ', '.', ':']:\n",
        "        col_name = col_name.replace(char, '')\n",
        "    return col_name\n",
        "\n",
        "column_names = df.columns\n",
        "df.columns = [column_name_preprocess(col_name).title() for col_name in column_names]\n",
        "print(df.columns)"
      ],
      "metadata": {
        "colab": {
          "base_uri": "https://localhost:8080/"
        },
        "id": "7fy7Eo2WQnf_",
        "outputId": "893eec7d-9e2f-4b31-df76-7ef8d9a9c817"
      },
      "execution_count": null,
      "outputs": [
        {
          "output_type": "stream",
          "name": "stdout",
          "text": [
            "Index(['Passengerid', 'Pclass', 'Name', 'Sex', 'Age', 'Sibsp', 'Parch',\n",
            "       'Ticket', 'Fare', 'Cabin', 'Embarked'],\n",
            "      dtype='object')\n"
          ]
        }
      ]
    },
    {
      "cell_type": "markdown",
      "metadata": {
        "id": "ouzhgCuxQqxw"
      },
      "source": [
        "Смотрим содержимое набора данных:"
      ]
    },
    {
      "cell_type": "code",
      "metadata": {
        "colab": {
          "base_uri": "https://localhost:8080/",
          "height": 504
        },
        "id": "9z2N5ilRQutP",
        "outputId": "f0b2fe58-5ea5-4b22-a56c-ff36953590f9"
      },
      "source": [
        "df.head(10)"
      ],
      "execution_count": null,
      "outputs": [
        {
          "output_type": "execute_result",
          "data": {
            "text/html": [
              "<div>\n",
              "<style scoped>\n",
              "    .dataframe tbody tr th:only-of-type {\n",
              "        vertical-align: middle;\n",
              "    }\n",
              "\n",
              "    .dataframe tbody tr th {\n",
              "        vertical-align: top;\n",
              "    }\n",
              "\n",
              "    .dataframe thead th {\n",
              "        text-align: right;\n",
              "    }\n",
              "</style>\n",
              "<table border=\"1\" class=\"dataframe\">\n",
              "  <thead>\n",
              "    <tr style=\"text-align: right;\">\n",
              "      <th></th>\n",
              "      <th>Passengerid</th>\n",
              "      <th>Pclass</th>\n",
              "      <th>Name</th>\n",
              "      <th>Sex</th>\n",
              "      <th>Age</th>\n",
              "      <th>Sibsp</th>\n",
              "      <th>Parch</th>\n",
              "      <th>Ticket</th>\n",
              "      <th>Fare</th>\n",
              "      <th>Cabin</th>\n",
              "      <th>Embarked</th>\n",
              "    </tr>\n",
              "  </thead>\n",
              "  <tbody>\n",
              "    <tr>\n",
              "      <th>0</th>\n",
              "      <td>892.0</td>\n",
              "      <td>3.0</td>\n",
              "      <td>Kelly; Mr. James</td>\n",
              "      <td>male</td>\n",
              "      <td>34.5</td>\n",
              "      <td>0</td>\n",
              "      <td>0</td>\n",
              "      <td>330911</td>\n",
              "      <td>7.8292</td>\n",
              "      <td>NaN</td>\n",
              "      <td>Q</td>\n",
              "    </tr>\n",
              "    <tr>\n",
              "      <th>1</th>\n",
              "      <td>893.0</td>\n",
              "      <td>3.0</td>\n",
              "      <td>Wilkes; Mrs. James (Ellen Needs)</td>\n",
              "      <td>female</td>\n",
              "      <td>47.0</td>\n",
              "      <td>1</td>\n",
              "      <td>0</td>\n",
              "      <td>363272</td>\n",
              "      <td>7.0000</td>\n",
              "      <td>NaN</td>\n",
              "      <td>S</td>\n",
              "    </tr>\n",
              "    <tr>\n",
              "      <th>2</th>\n",
              "      <td>894.0</td>\n",
              "      <td>NaN</td>\n",
              "      <td>Myles; Mr. Thomas Francis</td>\n",
              "      <td>NaN</td>\n",
              "      <td>NaN</td>\n",
              "      <td>0</td>\n",
              "      <td>0</td>\n",
              "      <td>240276</td>\n",
              "      <td>9.6875</td>\n",
              "      <td>NaN</td>\n",
              "      <td>Q</td>\n",
              "    </tr>\n",
              "    <tr>\n",
              "      <th>3</th>\n",
              "      <td>895.0</td>\n",
              "      <td>3.0</td>\n",
              "      <td>NaN</td>\n",
              "      <td>male</td>\n",
              "      <td>27.0</td>\n",
              "      <td>0</td>\n",
              "      <td>0</td>\n",
              "      <td>315154</td>\n",
              "      <td>8.6625</td>\n",
              "      <td>NaN</td>\n",
              "      <td>S</td>\n",
              "    </tr>\n",
              "    <tr>\n",
              "      <th>4</th>\n",
              "      <td>896.0</td>\n",
              "      <td>3.0</td>\n",
              "      <td>Hirvonen; Mrs. Alexander (Helga E Lindqvist)</td>\n",
              "      <td>female</td>\n",
              "      <td>22.0</td>\n",
              "      <td>1</td>\n",
              "      <td>1</td>\n",
              "      <td>3101298</td>\n",
              "      <td>12.2875</td>\n",
              "      <td>NaN</td>\n",
              "      <td>S</td>\n",
              "    </tr>\n",
              "    <tr>\n",
              "      <th>5</th>\n",
              "      <td>897.0</td>\n",
              "      <td>3.0</td>\n",
              "      <td>Svensson; Mr. Johan Cervin</td>\n",
              "      <td>male</td>\n",
              "      <td>14.0</td>\n",
              "      <td>0</td>\n",
              "      <td>0</td>\n",
              "      <td>7538</td>\n",
              "      <td>9.2250</td>\n",
              "      <td>NaN</td>\n",
              "      <td>S</td>\n",
              "    </tr>\n",
              "    <tr>\n",
              "      <th>6</th>\n",
              "      <td>898.0</td>\n",
              "      <td>3.0</td>\n",
              "      <td>Connolly; Miss. Kate</td>\n",
              "      <td>female</td>\n",
              "      <td>30.0</td>\n",
              "      <td>0</td>\n",
              "      <td>0</td>\n",
              "      <td>330972</td>\n",
              "      <td>7.6292</td>\n",
              "      <td>NaN</td>\n",
              "      <td>Q</td>\n",
              "    </tr>\n",
              "    <tr>\n",
              "      <th>7</th>\n",
              "      <td>899.0</td>\n",
              "      <td>2.0</td>\n",
              "      <td>NaN</td>\n",
              "      <td>male</td>\n",
              "      <td>26.0</td>\n",
              "      <td>1</td>\n",
              "      <td>1</td>\n",
              "      <td>248738</td>\n",
              "      <td>NaN</td>\n",
              "      <td>NaN</td>\n",
              "      <td>S</td>\n",
              "    </tr>\n",
              "    <tr>\n",
              "      <th>8</th>\n",
              "      <td>900.0</td>\n",
              "      <td>3.0</td>\n",
              "      <td>Abrahim; Mrs. Joseph (Sophie Halaut Easu)</td>\n",
              "      <td>female</td>\n",
              "      <td>18.0</td>\n",
              "      <td>0</td>\n",
              "      <td>0</td>\n",
              "      <td>2657</td>\n",
              "      <td>7.2292</td>\n",
              "      <td>NaN</td>\n",
              "      <td>C</td>\n",
              "    </tr>\n",
              "    <tr>\n",
              "      <th>9</th>\n",
              "      <td>NaN</td>\n",
              "      <td>3.0</td>\n",
              "      <td>Davies; Mr. John Samuel</td>\n",
              "      <td>male</td>\n",
              "      <td>21.0</td>\n",
              "      <td>2</td>\n",
              "      <td>0</td>\n",
              "      <td>A/4 48871</td>\n",
              "      <td>24.1500</td>\n",
              "      <td>NaN</td>\n",
              "      <td>S</td>\n",
              "    </tr>\n",
              "  </tbody>\n",
              "</table>\n",
              "</div>"
            ],
            "text/plain": [
              "   Passengerid  Pclass  ... Cabin Embarked\n",
              "0        892.0     3.0  ...   NaN        Q\n",
              "1        893.0     3.0  ...   NaN        S\n",
              "2        894.0     NaN  ...   NaN        Q\n",
              "3        895.0     3.0  ...   NaN        S\n",
              "4        896.0     3.0  ...   NaN        S\n",
              "5        897.0     3.0  ...   NaN        S\n",
              "6        898.0     3.0  ...   NaN        Q\n",
              "7        899.0     2.0  ...   NaN        S\n",
              "8        900.0     3.0  ...   NaN        C\n",
              "9          NaN     3.0  ...   NaN        S\n",
              "\n",
              "[10 rows x 11 columns]"
            ]
          },
          "metadata": {},
          "execution_count": 7
        }
      ]
    },
    {
      "cell_type": "markdown",
      "source": [
        "Теперь вспомним, как можно добавить новый признак - количество родственников на борту пассажира?"
      ],
      "metadata": {
        "id": "-W-5Apw-UAYO"
      }
    },
    {
      "cell_type": "code",
      "source": [
        "df['Relatives'] = df.apply(lambda row: row['Sibsp'] + row['Parch'], axis=1)"
      ],
      "metadata": {
        "id": "VA0HRCuNUHF4"
      },
      "execution_count": null,
      "outputs": []
    },
    {
      "cell_type": "markdown",
      "source": [
        "Поскольку колонка Relatives - это просто сумма, её можно добавить наболее простым способом:"
      ],
      "metadata": {
        "id": "qRtXNJ53UW41"
      }
    },
    {
      "cell_type": "code",
      "source": [
        "df['Relatives'] = df['Sibsp'] + df['Parch']\n",
        "print(df['Relatives'])"
      ],
      "metadata": {
        "colab": {
          "base_uri": "https://localhost:8080/"
        },
        "id": "PK1XW6A0UdT_",
        "outputId": "424eeaf9-16da-4f15-ad21-4172b726eea0"
      },
      "execution_count": null,
      "outputs": [
        {
          "output_type": "stream",
          "name": "stdout",
          "text": [
            "0      0\n",
            "1      1\n",
            "2      0\n",
            "3      0\n",
            "4      2\n",
            "      ..\n",
            "413    0\n",
            "414    0\n",
            "415    0\n",
            "416    0\n",
            "417    2\n",
            "Name: Relatives, Length: 418, dtype: int64\n"
          ]
        }
      ]
    },
    {
      "cell_type": "markdown",
      "metadata": {
        "id": "19RDm8NQ2_5l"
      },
      "source": [
        "## Проверка сложных гипотез."
      ]
    },
    {
      "cell_type": "markdown",
      "metadata": {
        "id": "ymeIhXHw3IKt"
      },
      "source": [
        "До этого мы проверяли гипотезы только по отдельным признакам.\n",
        "\n",
        "Но в реальной жизни нужно строить более сложные гипотезы, в которых учавствуют уже несколько признаков.\n",
        "\n",
        "Самый простой пример такой гипотезы - гипотеза о влиянии одного признака на другой.\n",
        "\n",
        "Она формулируется следующийм образом: \"Признак A влияет на признак B.\"\n",
        "\n",
        "Далее попытаемся понять, как следует строить такие гипотезы."
      ]
    },
    {
      "cell_type": "markdown",
      "metadata": {
        "id": "raWSZ6Nc3oOl"
      },
      "source": [
        "### Выбор целевых переменных"
      ]
    },
    {
      "cell_type": "markdown",
      "metadata": {
        "id": "U4UHlrRm3sua"
      },
      "source": [
        "Прежде чем строить гипотезы о влиянии одного признака на другой, надо понять, влияние на какие признаки мы хотим изучить.\n",
        "\n",
        "Т.е. нужно выбрать так называемые целевые переменные (признаки) - это те признаки, на которые как-то могут влиять другие признаки.\n",
        "\n",
        "Обычно такой признак один. Но может быть и несколько.\n",
        "\n",
        "В нашем наборе данных логично в качестве целевого признака выбрать **Fare** (цену билета). Потому что было бы интересно посмотреть, какие пассажиры покупают дорогие билеты, а какие - дешёвые."
      ]
    },
    {
      "cell_type": "markdown",
      "metadata": {
        "id": "ZxVZlA8s43Kq"
      },
      "source": [
        "### Отбор потенциально влияющих на целевой признаков. Построение гипотез"
      ]
    },
    {
      "cell_type": "markdown",
      "metadata": {
        "id": "o6-AhJod5BaF"
      },
      "source": [
        "Теперь нужно понять, какие признаки могут влиять на целевую переменную. Отобранные признаки и будут определять, какие гипотезы мы будем ставить.\n"
      ]
    },
    {
      "cell_type": "markdown",
      "metadata": {
        "id": "Tnulj1ob8qZg"
      },
      "source": [
        "Логично предположить, что на цену билета могут влиять следующие признаки: **Pclass, Sex, Embarked, Age, Relatives**.\n",
        "\n",
        "Признак **Passengerid** - это уникальный номер пассажира. Обычно такие значения не влияют на целевую переменную.\n",
        "**Name, Ticket, Cabin** - строковые признаки, обозначающие имя, номер билета и название каюты. Они не несут никакой полезной смысловой информации.\n",
        "Признаки **Sibsp** и **Parch** - не рассматриваются как влияющие, поскольку они уже были учтены в признаке Relatives, который мы использовали, как влияющий."
      ]
    },
    {
      "cell_type": "markdown",
      "metadata": {
        "id": "y5vSe1z69-WB"
      },
      "source": [
        "Попробуем для каждого влияющего признака построить гипотезу о влиянии его на целевой признак. А затем докажем или опровергнем построенную гипотезу."
      ]
    },
    {
      "cell_type": "markdown",
      "metadata": {
        "id": "fulsvoLf-KNd"
      },
      "source": [
        "### Гипотеза 1. Признак Pclass влияет на признак Fare"
      ]
    },
    {
      "cell_type": "markdown",
      "metadata": {
        "id": "3q7JuUqD-SuN"
      },
      "source": [
        "На самом деле, мы ранее уже доказали эту гипотезу, когда построили гистограммы распределения Fare для разных Pclass:"
      ]
    },
    {
      "cell_type": "code",
      "source": [
        "# Гистограмма для Fare при Pclass==1"
      ],
      "metadata": {
        "colab": {
          "base_uri": "https://localhost:8080/",
          "height": 303
        },
        "id": "_oEMqDyRQZvX",
        "outputId": "f3a667ec-a5be-478b-9f28-036f41d615e8"
      },
      "execution_count": null,
      "outputs": [
        {
          "output_type": "execute_result",
          "data": {
            "text/plain": [
              "<matplotlib.axes._subplots.AxesSubplot at 0x7fea3e741f90>"
            ]
          },
          "metadata": {},
          "execution_count": 8
        },
        {
          "output_type": "display_data",
          "data": {
            "image/png": "[encoded data removed]",
            "text/plain": [
              "<Figure size 432x288 with 1 Axes>"
            ]
          },
          "metadata": {
            "needs_background": "light"
          }
        }
      ]
    },
    {
      "cell_type": "code",
      "source": [
        "# Гистограмма для Fare при Pclass==2"
      ],
      "metadata": {
        "colab": {
          "base_uri": "https://localhost:8080/",
          "height": 303
        },
        "id": "fKZVVGM5Q3HD",
        "outputId": "752e80c9-9d93-4a59-8f8a-85c95f5de0e6"
      },
      "execution_count": null,
      "outputs": [
        {
          "output_type": "execute_result",
          "data": {
            "text/plain": [
              "<matplotlib.axes._subplots.AxesSubplot at 0x7fea3e64cd10>"
            ]
          },
          "metadata": {},
          "execution_count": 9
        },
        {
          "output_type": "display_data",
          "data": {
            "image/png": "[encoded data removed]",
            "text/plain": [
              "<Figure size 432x288 with 1 Axes>"
            ]
          },
          "metadata": {
            "needs_background": "light"
          }
        }
      ]
    },
    {
      "cell_type": "code",
      "source": [
        "# Гистограмма для Fare при Pclass==3 и удалением выбросов"
      ],
      "metadata": {
        "colab": {
          "base_uri": "https://localhost:8080/",
          "height": 303
        },
        "id": "61Xi28X6Q8yQ",
        "outputId": "8e0d8b6f-4a46-4932-8350-afb3d0824af6"
      },
      "execution_count": null,
      "outputs": [
        {
          "output_type": "execute_result",
          "data": {
            "text/plain": [
              "<matplotlib.axes._subplots.AxesSubplot at 0x7fea372cf8d0>"
            ]
          },
          "metadata": {},
          "execution_count": 11
        },
        {
          "output_type": "display_data",
          "data": {
            "image/png": "[encoded data removed]",
            "text/plain": [
              "<Figure size 432x288 with 1 Axes>"
            ]
          },
          "metadata": {
            "needs_background": "light"
          }
        }
      ]
    },
    {
      "cell_type": "markdown",
      "source": [
        "Вспомните, почему мы отбросили значения Fare<100?"
      ],
      "metadata": {
        "id": "gUzG_JIVREj8"
      }
    },
    {
      "cell_type": "markdown",
      "source": [
        "*Потому что эти значения - выбросы, которые появились, когда мы заполняли пропуски в колонке Pclass*."
      ],
      "metadata": {
        "id": "4YwkD0_BRKOb"
      }
    },
    {
      "cell_type": "markdown",
      "metadata": {
        "id": "-w2HCoxl-v30"
      },
      "source": [
        "Дополнительно можно так же построить описательные статистики для колонки Fare и различных классов пассажиров."
      ]
    },
    {
      "cell_type": "code",
      "metadata": {
        "colab": {
          "base_uri": "https://localhost:8080/"
        },
        "id": "DnuKqxF9-kno",
        "outputId": "6e967aff-7329-4cac-e949-e5854cb140fd"
      },
      "source": [
        "df.query('Pclass==1')['Fare'].describe()"
      ],
      "execution_count": null,
      "outputs": [
        {
          "output_type": "execute_result",
          "data": {
            "text/plain": [
              "count     83.000000\n",
              "mean      94.660745\n",
              "std       74.385037\n",
              "min        0.000000\n",
              "25%       31.681250\n",
              "50%       71.283300\n",
              "75%      135.066650\n",
              "max      263.000000\n",
              "Name: Fare, dtype: float64"
            ]
          },
          "metadata": {},
          "execution_count": 12
        }
      ]
    },
    {
      "cell_type": "code",
      "metadata": {
        "colab": {
          "base_uri": "https://localhost:8080/"
        },
        "id": "oHo0flS4--QO",
        "outputId": "64bcff07-9cd1-4d4d-939d-c5c18ed19b46"
      },
      "source": [
        "df.query('Pclass==2')['Fare'].describe()"
      ],
      "execution_count": null,
      "outputs": [
        {
          "output_type": "execute_result",
          "data": {
            "text/plain": [
              "count    72.000000\n",
              "mean     21.990565\n",
              "std      13.381994\n",
              "min      10.500000\n",
              "25%      13.000000\n",
              "50%      15.875000\n",
              "75%      26.000000\n",
              "max      73.500000\n",
              "Name: Fare, dtype: float64"
            ]
          },
          "metadata": {},
          "execution_count": 13
        }
      ]
    },
    {
      "cell_type": "code",
      "metadata": {
        "colab": {
          "base_uri": "https://localhost:8080/"
        },
        "id": "mr5T-tli_EFA",
        "outputId": "be8a4cea-c504-4da2-e1d7-0b69f5569369"
      },
      "source": [
        "df.query('Pclass==3').query('Fare<100')['Fare'].describe()"
      ],
      "execution_count": null,
      "outputs": [
        {
          "output_type": "execute_result",
          "data": {
            "text/plain": [
              "count    182.000000\n",
              "mean      12.245765\n",
              "std       11.047959\n",
              "min        3.170800\n",
              "25%        7.750000\n",
              "50%        7.895800\n",
              "75%       13.775000\n",
              "max       69.550000\n",
              "Name: Fare, dtype: float64"
            ]
          },
          "metadata": {},
          "execution_count": 14
        }
      ]
    },
    {
      "cell_type": "markdown",
      "metadata": {
        "id": "JJ9c598d_K69"
      },
      "source": [
        "Мы видим, что основные статистические характеристики сильно разнятся у разных классов.\n",
        "\n",
        "Отсюда, можно сделать вывод, что наша гипотеза подтверждена. Действительно класс определяет стоимость билета."
      ]
    },
    {
      "cell_type": "markdown",
      "metadata": {
        "id": "bmzO7lKT_rKs"
      },
      "source": [
        "### Гипотеза 2. Признак Sex влияет на признак Fare"
      ]
    },
    {
      "cell_type": "markdown",
      "metadata": {
        "id": "ph4FKcqt_64v"
      },
      "source": [
        "Sex - также категориальный признак. Поэтому подтверждение данной гипотезы аналогично гипотезе 1:"
      ]
    },
    {
      "cell_type": "code",
      "metadata": {
        "colab": {
          "base_uri": "https://localhost:8080/",
          "height": 303
        },
        "id": "fRKjkMyvAC5R",
        "outputId": "59b01076-a935-4b49-ef3e-2437f74d704a"
      },
      "source": [
        "# Гистограмма для Fare при Sex=='male'"
      ],
      "execution_count": null,
      "outputs": [
        {
          "output_type": "execute_result",
          "data": {
            "text/plain": [
              "<matplotlib.axes._subplots.AxesSubplot at 0x7fea3718eb90>"
            ]
          },
          "metadata": {},
          "execution_count": 16
        },
        {
          "output_type": "display_data",
          "data": {
            "image/png": "[encoded data removed]",
            "text/plain": [
              "<Figure size 432x288 with 1 Axes>"
            ]
          },
          "metadata": {
            "needs_background": "light"
          }
        }
      ]
    },
    {
      "cell_type": "code",
      "metadata": {
        "colab": {
          "base_uri": "https://localhost:8080/",
          "height": 303
        },
        "id": "PXh18doIAROY",
        "outputId": "a2c9fefb-de15-4276-ef19-d1af3137604a"
      },
      "source": [
        "# Гистограмма для Fare при Sex=='female'"
      ],
      "execution_count": null,
      "outputs": [
        {
          "output_type": "execute_result",
          "data": {
            "text/plain": [
              "<matplotlib.axes._subplots.AxesSubplot at 0x7fea3723db10>"
            ]
          },
          "metadata": {},
          "execution_count": 17
        },
        {
          "output_type": "display_data",
          "data": {
            "image/png": "[encoded data removed]",
            "text/plain": [
              "<Figure size 432x288 with 1 Axes>"
            ]
          },
          "metadata": {
            "needs_background": "light"
          }
        }
      ]
    },
    {
      "cell_type": "markdown",
      "metadata": {
        "id": "ivS7PosnAYkY"
      },
      "source": [
        "Теперь давайте построим статистики:"
      ]
    },
    {
      "cell_type": "code",
      "metadata": {
        "colab": {
          "base_uri": "https://localhost:8080/"
        },
        "id": "sEYQ4ZdfAo65",
        "outputId": "9180a50e-9341-4973-dda0-78644d5e7560"
      },
      "source": [
        "# Вставьте свой код здесь"
      ],
      "execution_count": null,
      "outputs": [
        {
          "output_type": "execute_result",
          "data": {
            "text/plain": [
              "count    214.000000\n",
              "mean      22.598344\n",
              "std       29.219834\n",
              "min        0.000000\n",
              "25%        7.854200\n",
              "50%       11.104150\n",
              "75%       26.000000\n",
              "max      211.500000\n",
              "Name: Fare, dtype: float64"
            ]
          },
          "metadata": {},
          "execution_count": 18
        }
      ]
    },
    {
      "cell_type": "code",
      "metadata": {
        "colab": {
          "base_uri": "https://localhost:8080/"
        },
        "id": "IB5kt4oAAsav",
        "outputId": "3bf8dfce-0f86-4fbd-afbb-8592c77ec0b4"
      },
      "source": [
        "# Вставьте свой код здесь"
      ],
      "execution_count": null,
      "outputs": [
        {
          "output_type": "execute_result",
          "data": {
            "text/plain": [
              "count    124.000000\n",
              "mean      47.368046\n",
              "std       70.868229\n",
              "min        6.950000\n",
              "25%        8.626050\n",
              "50%       21.512500\n",
              "75%       53.685425\n",
              "max      512.329200\n",
              "Name: Fare, dtype: float64"
            ]
          },
          "metadata": {},
          "execution_count": 19
        }
      ]
    },
    {
      "cell_type": "markdown",
      "metadata": {
        "id": "0VCm4wvrA6cU"
      },
      "source": [
        "Мы видим, что цены билетов у женщин на самом деле в среднем больше, чем у мужчин. Интересно понять, почему так произошло =)\n",
        "\n",
        "Гипотеза 2 так же подтверждена."
      ]
    },
    {
      "cell_type": "markdown",
      "metadata": {
        "id": "YAUB6gg3BRq7"
      },
      "source": [
        "### Гипотеза 3. Признак Embarked влияет на признак Fare"
      ]
    },
    {
      "cell_type": "markdown",
      "metadata": {
        "id": "3keltiSyBk-L"
      },
      "source": [
        "Embarked - также категориальный признак. Давайте снова построим гистограммы:"
      ]
    },
    {
      "cell_type": "code",
      "metadata": {
        "colab": {
          "base_uri": "https://localhost:8080/",
          "height": 303
        },
        "id": "P96dUJcDB4Od",
        "outputId": "0abf94e9-b563-4b96-ae94-753e91c0d63e"
      },
      "source": [
        "df.query(\"Embarked=='Q'\")['Fare'].hist()"
      ],
      "execution_count": null,
      "outputs": [
        {
          "output_type": "execute_result",
          "data": {
            "text/plain": [
              "<matplotlib.axes._subplots.AxesSubplot at 0x7fea37099650>"
            ]
          },
          "metadata": {},
          "execution_count": 20
        },
        {
          "output_type": "display_data",
          "data": {
            "image/png": "[encoded data removed]",
            "text/plain": [
              "<Figure size 432x288 with 1 Axes>"
            ]
          },
          "metadata": {
            "needs_background": "light"
          }
        }
      ]
    },
    {
      "cell_type": "code",
      "metadata": {
        "colab": {
          "base_uri": "https://localhost:8080/",
          "height": 303
        },
        "id": "4h1PSjumB-Il",
        "outputId": "7048fc6c-f0c1-40b5-96a5-4da4ddbba4b6"
      },
      "source": [
        "df.query(\"Embarked=='S'\")['Fare'].hist()"
      ],
      "execution_count": null,
      "outputs": [
        {
          "output_type": "execute_result",
          "data": {
            "text/plain": [
              "<matplotlib.axes._subplots.AxesSubplot at 0x7fea36fa71d0>"
            ]
          },
          "metadata": {},
          "execution_count": 21
        },
        {
          "output_type": "display_data",
          "data": {
            "image/png": "[encoded data removed]",
            "text/plain": [
              "<Figure size 432x288 with 1 Axes>"
            ]
          },
          "metadata": {
            "needs_background": "light"
          }
        }
      ]
    },
    {
      "cell_type": "code",
      "metadata": {
        "colab": {
          "base_uri": "https://localhost:8080/",
          "height": 303
        },
        "id": "B2XGg3rDCCY0",
        "outputId": "e562f6fd-f1da-4ae5-ee4f-f0e5c2fa8f69"
      },
      "source": [
        "df.query(\"Embarked=='C'\")['Fare'].hist()"
      ],
      "execution_count": null,
      "outputs": [
        {
          "output_type": "execute_result",
          "data": {
            "text/plain": [
              "<matplotlib.axes._subplots.AxesSubplot at 0x7fea36f37990>"
            ]
          },
          "metadata": {},
          "execution_count": 22
        },
        {
          "output_type": "display_data",
          "data": {
            "image/png": "[encoded data removed]",
            "text/plain": [
              "<Figure size 432x288 with 1 Axes>"
            ]
          },
          "metadata": {
            "needs_background": "light"
          }
        }
      ]
    },
    {
      "cell_type": "markdown",
      "metadata": {
        "id": "Pz6vB7-lCMsf"
      },
      "source": [
        "Мы видим, что те пассажиры, что садились в первом порту, отдавали меньше всего денег за билет. Во втором порту отдавали уже больше денег. И самые дорогие билеты были проданы в третьем порту.\n",
        "\n",
        "Гипотеза доказана."
      ]
    },
    {
      "cell_type": "markdown",
      "metadata": {
        "id": "GCi_nbFSCe3t"
      },
      "source": [
        "### Гипотеза 4. Признак Age влияет на признак Fare"
      ]
    },
    {
      "cell_type": "markdown",
      "metadata": {
        "id": "Thyv4E0IC6wS"
      },
      "source": [
        "Здесь уже мы видим, что оба признака - числовые.\n",
        "\n",
        "Какие графики строить в этом случае?"
      ]
    },
    {
      "cell_type": "markdown",
      "metadata": {
        "id": "b4-YxDThDGG_"
      },
      "source": [
        "Мы могли бы построить гистограммы для разных групп возрастов. Но в этом случае получится очень много графиков, и они будут не очень информативными. "
      ]
    },
    {
      "cell_type": "markdown",
      "metadata": {
        "id": "UQ6hw2_UDOyB"
      },
      "source": [
        "В случае, когда оба признака числовые - можно строить точечные графики:"
      ]
    },
    {
      "cell_type": "code",
      "metadata": {
        "colab": {
          "base_uri": "https://localhost:8080/",
          "height": 317
        },
        "id": "yjuzmkIPDUJ_",
        "outputId": "b244181d-1494-4c9d-82d8-f0d416ef2089"
      },
      "source": [
        "df.plot.scatter(x='Age', y='Fare')"
      ],
      "execution_count": null,
      "outputs": [
        {
          "output_type": "execute_result",
          "data": {
            "text/plain": [
              "<matplotlib.axes._subplots.AxesSubplot at 0x7fea3725a790>"
            ]
          },
          "metadata": {},
          "execution_count": 23
        },
        {
          "output_type": "display_data",
          "data": {
            "image/png": "[encoded data removed]",
            "text/plain": [
              "<Figure size 432x288 with 1 Axes>"
            ]
          },
          "metadata": {
            "needs_background": "light"
          }
        }
      ]
    },
    {
      "cell_type": "markdown",
      "metadata": {
        "id": "JloDZMwyEAKr"
      },
      "source": [
        "На самом деле, мы видим, что дорогие билеты начинают покупать только для пассажиров после 25 лет.\n",
        "\n",
        "Возможно, это связано с дополнительными скидками на билеты для молодёжи.\n",
        "\n",
        "Поэтому, скорее всего, влияние возраста на цену билета есть."
      ]
    },
    {
      "cell_type": "markdown",
      "metadata": {
        "id": "IqVoBDoaEvaF"
      },
      "source": [
        "Тогда оценим уровень этого влияния. \n",
        "\n",
        "Для этого можно вычислить коррелляцию:"
      ]
    },
    {
      "cell_type": "code",
      "metadata": {
        "colab": {
          "base_uri": "https://localhost:8080/"
        },
        "id": "Xy2jkJ6XFEf3",
        "outputId": "a57de8d9-326d-459a-ba89-3ca403b3e620"
      },
      "source": [
        "df['Age'].corr(df['Fare'])"
      ],
      "execution_count": null,
      "outputs": [
        {
          "output_type": "execute_result",
          "data": {
            "text/plain": [
              "0.29393472849821073"
            ]
          },
          "metadata": {},
          "execution_count": 24
        }
      ]
    },
    {
      "cell_type": "markdown",
      "metadata": {
        "id": "wCZOUlf5FMMu"
      },
      "source": [
        "Мы видим, что коэффициент корелляции не очень большой. Поэтому можно считать, что какое-то влияние есть, но оно слабое.\n",
        "Т.е. гипотеза опровергнута."
      ]
    },
    {
      "cell_type": "markdown",
      "metadata": {
        "id": "EqosdYCFFvmH"
      },
      "source": [
        "### Гипотеза 5. Признак Relatives влияет на признак Fare"
      ]
    },
    {
      "cell_type": "markdown",
      "metadata": {
        "id": "r3kxjyY4FyHY"
      },
      "source": [
        "Этот признак можно также рассматривать и как категориальный, и как числовой. Поэтому проверять гипотезу можно путём построения 10 гистограмм, либо же при помощи вычисления коэффициента корелляции.\n",
        "\n",
        "Давайте выберем второй способ:"
      ]
    },
    {
      "cell_type": "code",
      "metadata": {
        "colab": {
          "base_uri": "https://localhost:8080/",
          "height": 317
        },
        "id": "xCuhudUIGBOT",
        "outputId": "c403c525-62af-45b4-e919-110b163ed6c3"
      },
      "source": [
        "# Строим точечный график"
      ],
      "execution_count": null,
      "outputs": [
        {
          "output_type": "execute_result",
          "data": {
            "text/plain": [
              "<matplotlib.axes._subplots.AxesSubplot at 0x7fea3222a610>"
            ]
          },
          "metadata": {},
          "execution_count": 29
        },
        {
          "output_type": "display_data",
          "data": {
            "image/png": "[encoded data removed]",
            "text/plain": [
              "<Figure size 432x288 with 1 Axes>"
            ]
          },
          "metadata": {
            "needs_background": "light"
          }
        }
      ]
    },
    {
      "cell_type": "markdown",
      "metadata": {
        "id": "HUafIIyaGNGU"
      },
      "source": [
        "Мы не видим сильной связи между двумя признаками на графиках.\n",
        "\n",
        "Давайте посчитаем коэффициент корелляции:"
      ]
    },
    {
      "cell_type": "code",
      "metadata": {
        "colab": {
          "base_uri": "https://localhost:8080/"
        },
        "id": "S4x_VPVIGTnx",
        "outputId": "709a8fd7-6e8d-40d0-a967-a668adcd7596"
      },
      "source": [
        "# Вычисляем коэффициент корелляции"
      ],
      "execution_count": null,
      "outputs": [
        {
          "output_type": "execute_result",
          "data": {
            "text/plain": [
              "0.23158173581935934"
            ]
          },
          "metadata": {},
          "execution_count": 30
        }
      ]
    },
    {
      "cell_type": "markdown",
      "metadata": {
        "id": "Rn9Sz8CeGX5i"
      },
      "source": [
        "Как мы видим, и здесь коэффициент корелляции не такой большой.\n",
        "\n",
        "Зависимости нет.\n",
        "\n",
        "Гипотеза отвергнута."
      ]
    },
    {
      "cell_type": "markdown",
      "metadata": {
        "id": "hAF17mYNG9UE"
      },
      "source": [
        "# Задача"
      ]
    },
    {
      "cell_type": "markdown",
      "metadata": {
        "id": "ZTunFvXHNI2b"
      },
      "source": [
        "\n",
        "Составим алгоритм построения сложных гипотез для выбранных вами наборов данных."
      ]
    },
    {
      "cell_type": "markdown",
      "metadata": {
        "id": "O6IkLbqWNMYu"
      },
      "source": [
        "1. Если не была выполнена предобработка - возвращайтесь к позапрошлому семинару и выполняйте её.\n",
        "2. Если не были построены простые гипотезы - возвращайтесь к прошлому семинару и выполняйте построение простых гипотез.\n",
        "3. Определите, какие признаки можно считать целевыми.\n",
        "4. Для каждого целевого признака отберите признаки, которые могут влиять на него. Постройте соответствующие гипотезы.\n",
        "5. Подтвердите или опровергните построенные гипотезы."
      ]
    }
  ]
}