{
  "nbformat": 4,
  "nbformat_minor": 0,
  "metadata": {
    "colab": {
      "name": "Семинар_№7.ipynb",
      "provenance": [],
      "collapsed_sections": []
    },
    "kernelspec": {
      "name": "python3",
      "display_name": "Python 3"
    },
    "language_info": {
      "name": "python"
    }
  },
  "cells": [
    {
      "cell_type": "markdown",
      "metadata": {
        "id": "T67AwZn0eLhw"
      },
      "source": [
        "# Библиотека pandas"
      ]
    },
    {
      "cell_type": "code",
      "metadata": {
        "id": "cn_7s1o9eq9O"
      },
      "source": [
        "from google.colab import output"
      ],
      "execution_count": null,
      "outputs": []
    },
    {
      "cell_type": "markdown",
      "metadata": {
        "id": "cpoUpWdbVZnm"
      },
      "source": [
        "# Задача\n",
        "В рамках выполнения домашнего проекта вам придётся анализировать выбранный набор данных.\n",
        "На предыдущих семинарах мы обсуждали, как это можно сделать средствами языка Python.\n",
        "\n",
        "Библиотека numpy позволила нам во многом упростить себе работу.\n",
        "Предлагаем рассмотреть новую библиотеку, которая позволяет работать с данными еще проще. Это библиотека pandas.\n",
        "\n",
        "Снова рассмотрим набор данных про пассажиров Титаника.\n",
        "\n",
        "Ваша задача - выполнить его предобработку и предварительный анализ:\n",
        "1. Дать описание признаков (столбцов), которые в нём содержатся.\n",
        "2. Указать все названия колонок, где содержались пропуски, и подумать, как их можно исправить."
      ]
    },
    {
      "cell_type": "markdown",
      "metadata": {
        "id": "gkFgTmUdGtKY"
      },
      "source": [
        "### Решение"
      ]
    },
    {
      "cell_type": "code",
      "metadata": {
        "id": "UBNVY7iiFxHI"
      },
      "source": [
        "!wget -O \"titanic_corrupted.csv\" \"https://raw.githubusercontent.com/legas377/TestRepository/main/titanic_corrupted.csv\"\n",
        "output.clear()"
      ],
      "execution_count": null,
      "outputs": []
    },
    {
      "cell_type": "code",
      "metadata": {
        "id": "QKUILdQnWZq6"
      },
      "source": [
        "import pandas as pd"
      ],
      "execution_count": null,
      "outputs": []
    },
    {
      "cell_type": "markdown",
      "metadata": {
        "id": "n08hPfbWG8gi"
      },
      "source": [
        "Считываем набор данных в специальный объект df - датафрейм:"
      ]
    },
    {
      "cell_type": "code",
      "metadata": {
        "colab": {
          "base_uri": "https://localhost:8080/"
        },
        "id": "tsg7dWzTG5X_",
        "outputId": "5325a051-96b3-4320-e523-b5d2aae1a854"
      },
      "source": [
        "df = pd.read_csv('titanic_corrupted.csv')\n",
        "print(df)"
      ],
      "execution_count": null,
      "outputs": [
        {
          "output_type": "stream",
          "name": "stdout",
          "text": [
            "     PassEngEr_Id  PclaSS;-  ... cabin Embarked::\n",
            "0           892.0       3.0  ...   NaN          Q\n",
            "1           893.0       3.0  ...   NaN          S\n",
            "2           894.0       NaN  ...   NaN          Q\n",
            "3           895.0       3.0  ...   NaN          S\n",
            "4           896.0       3.0  ...   NaN          S\n",
            "..            ...       ...  ...   ...        ...\n",
            "413        1305.0       3.0  ...   NaN          S\n",
            "414        1306.0       1.0  ...  C105          C\n",
            "415        1307.0       3.0  ...   NaN          S\n",
            "416        1308.0       NaN  ...   NaN          S\n",
            "417        1309.0       3.0  ...   NaN          C\n",
            "\n",
            "[418 rows x 11 columns]\n"
          ]
        }
      ]
    },
    {
      "cell_type": "markdown",
      "metadata": {
        "id": "lnUETV8MHc-6"
      },
      "source": [
        "Выводим названия колонок:"
      ]
    },
    {
      "cell_type": "code",
      "metadata": {
        "colab": {
          "base_uri": "https://localhost:8080/"
        },
        "id": "OIiQoQMSHcKn",
        "outputId": "b3817e62-3d2f-4d9b-8c12-1d0777487696"
      },
      "source": [
        "print(df.columns)"
      ],
      "execution_count": null,
      "outputs": [
        {
          "output_type": "stream",
          "name": "stdout",
          "text": [
            "Index(['PassEngEr_Id', 'PclaSS;-', 'NAME', 'SEX', 'age .', 'Sib_Sp', 'PaRch__',\n",
            "       'TickEt', 'Fare', 'cabin', 'Embarked::'],\n",
            "      dtype='object')\n"
          ]
        }
      ]
    },
    {
      "cell_type": "markdown",
      "metadata": {
        "id": "805rolOkHnHs"
      },
      "source": [
        "Мы видим, что pandas хранит названия колонок не в виде обычного списка. А в виде некоторого хитрого объекта Index. Это - особый вид итерируемого объекта.\n",
        "\n",
        "Мы можем преобразовать его к списку:"
      ]
    },
    {
      "cell_type": "code",
      "metadata": {
        "colab": {
          "base_uri": "https://localhost:8080/"
        },
        "id": "Z2FeeVQ1HmbJ",
        "outputId": "78791c20-a16f-46b0-a535-d6b0184c8657"
      },
      "source": [
        "print(list(df.columns))"
      ],
      "execution_count": null,
      "outputs": [
        {
          "output_type": "stream",
          "name": "stdout",
          "text": [
            "['PassEngEr_Id', 'PclaSS;-', 'NAME', 'SEX', 'age .', 'Sib_Sp', 'PaRch__', 'TickEt', 'Fare', 'cabin', 'Embarked::']\n"
          ]
        }
      ]
    },
    {
      "cell_type": "code",
      "metadata": {
        "colab": {
          "base_uri": "https://localhost:8080/"
        },
        "id": "7VdZhdWRRGsi",
        "outputId": "05fb1b68-a7d5-43af-a730-6b4abfdf3670"
      },
      "source": [
        "# Предобрабатываем названия колонок\n",
        "def column_name_preprocess(col_name):\n",
        "    for char in ['_', ';', '-', ' ', '.', ':']:\n",
        "        col_name = col_name.replace(char, '')\n",
        "    return col_name\n",
        "\n",
        "column_names = df.columns\n",
        "print(\"Old column's names: {}\\n\".format(column_names))\n",
        "print(\"New column's names: {}\\n\".format([column_name_preprocess(col_name).title() for col_name in column_names]))\n",
        "df.columns = [column_name_preprocess(col_name).title() for col_name in column_names]\n",
        "print(df.columns)"
      ],
      "execution_count": null,
      "outputs": [
        {
          "output_type": "stream",
          "name": "stdout",
          "text": [
            "Old column's names: Index(['Passengerid', 'Pclass', 'Name', 'Sex', 'Age', 'Sibsp', 'Parch',\n",
            "       'Ticket', 'Fare', 'Cabin', 'Embarked'],\n",
            "      dtype='object')\n",
            "\n",
            "New column's names: ['Passengerid', 'Pclass', 'Name', 'Sex', 'Age', 'Sibsp', 'Parch', 'Ticket', 'Fare', 'Cabin', 'Embarked']\n",
            "\n",
            "Index(['Passengerid', 'Pclass', 'Name', 'Sex', 'Age', 'Sibsp', 'Parch',\n",
            "       'Ticket', 'Fare', 'Cabin', 'Embarked'],\n",
            "      dtype='object')\n"
          ]
        }
      ]
    },
    {
      "cell_type": "markdown",
      "metadata": {
        "id": "h5NbUai3Iq0h"
      },
      "source": [
        "Теперь давайте посмотрим на содержимое колонок - выведем первые 10 строк:"
      ]
    },
    {
      "cell_type": "code",
      "metadata": {
        "colab": {
          "base_uri": "https://localhost:8080/"
        },
        "id": "s9sZD4-tRUKN",
        "outputId": "8962e7e9-c702-46fe-f67f-8beb1511008a"
      },
      "source": [
        "print(df.head(10))"
      ],
      "execution_count": null,
      "outputs": [
        {
          "output_type": "stream",
          "name": "stdout",
          "text": [
            "   Passengerid  Pclass  ... Cabin Embarked\n",
            "0        892.0     3.0  ...   NaN        Q\n",
            "1        893.0     3.0  ...   NaN        S\n",
            "2        894.0     NaN  ...   NaN        Q\n",
            "3        895.0     3.0  ...   NaN        S\n",
            "4        896.0     3.0  ...   NaN        S\n",
            "5        897.0     3.0  ...   NaN        S\n",
            "6        898.0     3.0  ...   NaN        Q\n",
            "7        899.0     2.0  ...   NaN        S\n",
            "8        900.0     3.0  ...   NaN        C\n",
            "9          NaN     3.0  ...   NaN        S\n",
            "\n",
            "[10 rows x 11 columns]\n"
          ]
        }
      ]
    },
    {
      "cell_type": "markdown",
      "metadata": {
        "id": "0mkmLRu2Swto"
      },
      "source": [
        "Мы видим, что pandas выводит не все колонки - вместо части данных выводятся \"...\"\n",
        "\n",
        "Исправим это, попросив pandas выводить все колонки. Для этого нужно использовать метод set_option, задав значение параметра display.max_columns как None:"
      ]
    },
    {
      "cell_type": "code",
      "metadata": {
        "id": "bxEhoQ9YTMuE"
      },
      "source": [
        "pd.set_option('display.max_columns', None)"
      ],
      "execution_count": null,
      "outputs": []
    },
    {
      "cell_type": "code",
      "metadata": {
        "colab": {
          "base_uri": "https://localhost:8080/"
        },
        "id": "fS6XeuJjTSVp",
        "outputId": "30e6bce1-5721-4c13-9c7f-a5ec908c36dc"
      },
      "source": [
        "print(df.head(10))"
      ],
      "execution_count": null,
      "outputs": [
        {
          "output_type": "stream",
          "name": "stdout",
          "text": [
            "   Passengerid  Pclass                                          Name     Sex  \\\n",
            "0        892.0     3.0                              Kelly; Mr. James    male   \n",
            "1        893.0     3.0              Wilkes; Mrs. James (Ellen Needs)  female   \n",
            "2        894.0     NaN                     Myles; Mr. Thomas Francis     NaN   \n",
            "3        895.0     3.0                                           NaN    male   \n",
            "4        896.0     3.0  Hirvonen; Mrs. Alexander (Helga E Lindqvist)  female   \n",
            "5        897.0     3.0                    Svensson; Mr. Johan Cervin    male   \n",
            "6        898.0     3.0                          Connolly; Miss. Kate  female   \n",
            "7        899.0     2.0                                           NaN    male   \n",
            "8        900.0     3.0     Abrahim; Mrs. Joseph (Sophie Halaut Easu)  female   \n",
            "9          NaN     3.0                       Davies; Mr. John Samuel    male   \n",
            "\n",
            "    Age  Sibsp  Parch     Ticket     Fare Cabin Embarked  \n",
            "0  34.5      0      0     330911   7.8292   NaN        Q  \n",
            "1  47.0      1      0     363272   7.0000   NaN        S  \n",
            "2   NaN      0      0     240276   9.6875   NaN        Q  \n",
            "3  27.0      0      0     315154   8.6625   NaN        S  \n",
            "4  22.0      1      1    3101298  12.2875   NaN        S  \n",
            "5  14.0      0      0       7538   9.2250   NaN        S  \n",
            "6  30.0      0      0     330972   7.6292   NaN        Q  \n",
            "7  26.0      1      1     248738      NaN   NaN        S  \n",
            "8  18.0      0      0       2657   7.2292   NaN        C  \n",
            "9  21.0      2      0  A/4 48871  24.1500   NaN        S  \n"
          ]
        }
      ]
    },
    {
      "cell_type": "markdown",
      "metadata": {
        "id": "OoRMq-UtTqNG"
      },
      "source": [
        "Мы видим, что теперь выводятся все колонки. При этом колонок много, поэтому pandas выводит их в виде двух таблиц. Помимо строк, которые хранятся в исходном файле, pandas автоматически добавляет отдельный столбец без имени - индекс. Он отображается слева от таблицы.\n",
        "\n",
        "Чтобы понять, к какой строке относятся те или иные значения в таблицах, нужно смотреть на этот индекс.\n",
        "Например, данные по пассажиру с именем \"Kelly; Mr. James\" содержатся в строках таблиц с индексом 0."
      ]
    },
    {
      "cell_type": "markdown",
      "metadata": {
        "id": "IxXr9xCVV4m2"
      },
      "source": [
        "Чтобы вывести описание отдельной колонки, можно указать ее в квадратных скобках после имени датафрейма:"
      ]
    },
    {
      "cell_type": "code",
      "metadata": {
        "colab": {
          "base_uri": "https://localhost:8080/"
        },
        "id": "9OhAYqmfaXT2",
        "outputId": "e23397af-0e7c-4f35-c06d-6d2316ebaa9f"
      },
      "source": [
        "df.columns"
      ],
      "execution_count": null,
      "outputs": [
        {
          "output_type": "execute_result",
          "data": {
            "text/plain": [
              "Index(['Passengerid', 'Pclass', 'Name', 'Sex', 'Age', 'Sibsp', 'Parch',\n",
              "       'Ticket', 'Fare', 'Cabin', 'Embarked'],\n",
              "      dtype='object')"
            ]
          },
          "metadata": {},
          "execution_count": 17
        }
      ]
    },
    {
      "cell_type": "code",
      "metadata": {
        "colab": {
          "base_uri": "https://localhost:8080/"
        },
        "id": "tKCzBsw2VuoY",
        "outputId": "13efb484-50a4-4995-b953-ed09b2c1ae5e"
      },
      "source": [
        "print(df['Passengerid'])"
      ],
      "execution_count": null,
      "outputs": [
        {
          "output_type": "stream",
          "name": "stdout",
          "text": [
            "0       892.0\n",
            "1       893.0\n",
            "2       894.0\n",
            "3       895.0\n",
            "4       896.0\n",
            "        ...  \n",
            "413    1305.0\n",
            "414    1306.0\n",
            "415    1307.0\n",
            "416    1308.0\n",
            "417    1309.0\n",
            "Name: Passengerid, Length: 418, dtype: float64\n"
          ]
        }
      ]
    },
    {
      "cell_type": "markdown",
      "metadata": {
        "id": "AIJqSotdfS3v"
      },
      "source": [
        "Аналогичным образом можно вывести содержимое только нужных нам колонок:"
      ]
    },
    {
      "cell_type": "code",
      "metadata": {
        "colab": {
          "base_uri": "https://localhost:8080/"
        },
        "id": "gaB-V1sqfS_A",
        "outputId": "c111560f-1d61-40dd-ded6-744a20e43846"
      },
      "source": [
        "print(df[df.columns[:3]])"
      ],
      "execution_count": null,
      "outputs": [
        {
          "output_type": "stream",
          "name": "stdout",
          "text": [
            "     Passengerid  Pclass                                          Name\n",
            "0          892.0     3.0                              Kelly; Mr. James\n",
            "1          893.0     3.0              Wilkes; Mrs. James (Ellen Needs)\n",
            "2          894.0     NaN                     Myles; Mr. Thomas Francis\n",
            "3          895.0     3.0                                           NaN\n",
            "4          896.0     3.0  Hirvonen; Mrs. Alexander (Helga E Lindqvist)\n",
            "..           ...     ...                                           ...\n",
            "413       1305.0     3.0                            Spector; Mr. Woolf\n",
            "414       1306.0     1.0                  Oliva y Ocana; Dona. Fermina\n",
            "415       1307.0     3.0                  Saether; Mr. Simon Sivertsen\n",
            "416       1308.0     NaN                           Ware; Mr. Frederick\n",
            "417       1309.0     3.0                      Peter; Master. Michael J\n",
            "\n",
            "[418 rows x 3 columns]\n"
          ]
        }
      ]
    },
    {
      "cell_type": "markdown",
      "metadata": {
        "id": "uHrAOhEAWYCf"
      },
      "source": [
        "А сейчас выведем типы каждой колонки:"
      ]
    },
    {
      "cell_type": "code",
      "metadata": {
        "colab": {
          "base_uri": "https://localhost:8080/"
        },
        "id": "tjloavlXWdwa",
        "outputId": "daa47e9f-4d0d-484b-cd45-c6ab7caff7d8"
      },
      "source": [
        "for column in df.columns:\n",
        "  print(column, df[column].dtype, sep=': ')"
      ],
      "execution_count": null,
      "outputs": [
        {
          "output_type": "stream",
          "name": "stdout",
          "text": [
            "Passengerid: float64\n",
            "Pclass: float64\n",
            "Name: object\n",
            "Sex: object\n",
            "Age: float64\n",
            "Sibsp: int64\n",
            "Parch: int64\n",
            "Ticket: object\n",
            "Fare: float64\n",
            "Cabin: object\n",
            "Embarked: object\n"
          ]
        }
      ]
    },
    {
      "cell_type": "markdown",
      "metadata": {
        "id": "_OnZPR4MVeY0"
      },
      "source": [
        "Тип int64 говорит нам о том, что содержимое колонки - целое число,\n",
        "float64 - вещественное число.\n",
        "Тип object указывается в тех ситуациях, где pandas не может автоматически распознать тип (например, если содержимое столбца - строка)."
      ]
    },
    {
      "cell_type": "markdown",
      "metadata": {
        "id": "rnariH9eVevi"
      },
      "source": [
        "Попробуем посмотреть описание числовых признаков для считанного набора данных:"
      ]
    },
    {
      "cell_type": "code",
      "metadata": {
        "colab": {
          "base_uri": "https://localhost:8080/",
          "height": 297
        },
        "id": "sr5rOryP7qg8",
        "outputId": "3da43429-b9a2-4384-8189-358a1e0d3555"
      },
      "source": [
        "df.describe()"
      ],
      "execution_count": null,
      "outputs": [
        {
          "output_type": "execute_result",
          "data": {
            "text/html": [
              "<div>\n",
              "<style scoped>\n",
              "    .dataframe tbody tr th:only-of-type {\n",
              "        vertical-align: middle;\n",
              "    }\n",
              "\n",
              "    .dataframe tbody tr th {\n",
              "        vertical-align: top;\n",
              "    }\n",
              "\n",
              "    .dataframe thead th {\n",
              "        text-align: right;\n",
              "    }\n",
              "</style>\n",
              "<table border=\"1\" class=\"dataframe\">\n",
              "  <thead>\n",
              "    <tr style=\"text-align: right;\">\n",
              "      <th></th>\n",
              "      <th>Passengerid</th>\n",
              "      <th>Pclass</th>\n",
              "      <th>Age</th>\n",
              "      <th>Sibsp</th>\n",
              "      <th>Parch</th>\n",
              "      <th>Fare</th>\n",
              "    </tr>\n",
              "  </thead>\n",
              "  <tbody>\n",
              "    <tr>\n",
              "      <th>count</th>\n",
              "      <td>376.000000</td>\n",
              "      <td>376.000000</td>\n",
              "      <td>295.000000</td>\n",
              "      <td>418.000000</td>\n",
              "      <td>418.000000</td>\n",
              "      <td>375.000000</td>\n",
              "    </tr>\n",
              "    <tr>\n",
              "      <th>mean</th>\n",
              "      <td>1101.808511</td>\n",
              "      <td>2.271277</td>\n",
              "      <td>30.271763</td>\n",
              "      <td>0.447368</td>\n",
              "      <td>0.392344</td>\n",
              "      <td>34.457245</td>\n",
              "    </tr>\n",
              "    <tr>\n",
              "      <th>std</th>\n",
              "      <td>121.234431</td>\n",
              "      <td>0.842741</td>\n",
              "      <td>13.904076</td>\n",
              "      <td>0.896760</td>\n",
              "      <td>0.981429</td>\n",
              "      <td>55.089213</td>\n",
              "    </tr>\n",
              "    <tr>\n",
              "      <th>min</th>\n",
              "      <td>892.000000</td>\n",
              "      <td>1.000000</td>\n",
              "      <td>0.170000</td>\n",
              "      <td>0.000000</td>\n",
              "      <td>0.000000</td>\n",
              "      <td>0.000000</td>\n",
              "    </tr>\n",
              "    <tr>\n",
              "      <th>25%</th>\n",
              "      <td>997.750000</td>\n",
              "      <td>1.000000</td>\n",
              "      <td>21.000000</td>\n",
              "      <td>0.000000</td>\n",
              "      <td>0.000000</td>\n",
              "      <td>7.895800</td>\n",
              "    </tr>\n",
              "    <tr>\n",
              "      <th>50%</th>\n",
              "      <td>1100.500000</td>\n",
              "      <td>3.000000</td>\n",
              "      <td>27.000000</td>\n",
              "      <td>0.000000</td>\n",
              "      <td>0.000000</td>\n",
              "      <td>13.862500</td>\n",
              "    </tr>\n",
              "    <tr>\n",
              "      <th>75%</th>\n",
              "      <td>1207.250000</td>\n",
              "      <td>3.000000</td>\n",
              "      <td>39.000000</td>\n",
              "      <td>1.000000</td>\n",
              "      <td>0.000000</td>\n",
              "      <td>30.943750</td>\n",
              "    </tr>\n",
              "    <tr>\n",
              "      <th>max</th>\n",
              "      <td>1309.000000</td>\n",
              "      <td>3.000000</td>\n",
              "      <td>76.000000</td>\n",
              "      <td>8.000000</td>\n",
              "      <td>9.000000</td>\n",
              "      <td>512.329200</td>\n",
              "    </tr>\n",
              "  </tbody>\n",
              "</table>\n",
              "</div>"
            ],
            "text/plain": [
              "       Passengerid      Pclass         Age       Sibsp       Parch        Fare\n",
              "count   376.000000  376.000000  295.000000  418.000000  418.000000  375.000000\n",
              "mean   1101.808511    2.271277   30.271763    0.447368    0.392344   34.457245\n",
              "std     121.234431    0.842741   13.904076    0.896760    0.981429   55.089213\n",
              "min     892.000000    1.000000    0.170000    0.000000    0.000000    0.000000\n",
              "25%     997.750000    1.000000   21.000000    0.000000    0.000000    7.895800\n",
              "50%    1100.500000    3.000000   27.000000    0.000000    0.000000   13.862500\n",
              "75%    1207.250000    3.000000   39.000000    1.000000    0.000000   30.943750\n",
              "max    1309.000000    3.000000   76.000000    8.000000    9.000000  512.329200"
            ]
          },
          "metadata": {},
          "execution_count": 23
        }
      ]
    },
    {
      "cell_type": "markdown",
      "metadata": {
        "id": "cgHHNaHi9LUX"
      },
      "source": [
        "Чтобы понять, какие признаки являются категориальными, можно использовать set:"
      ]
    },
    {
      "cell_type": "code",
      "metadata": {
        "colab": {
          "base_uri": "https://localhost:8080/"
        },
        "id": "h5mFmA8Z9e3N",
        "outputId": "b33702e8-ee37-4a45-b74d-83b3d6ae1d7a"
      },
      "source": [
        "print(set(df['Pclass']))"
      ],
      "execution_count": null,
      "outputs": [
        {
          "output_type": "stream",
          "name": "stdout",
          "text": [
            "{nan, nan, 2.0, 3.0, 1.0, nan, nan, nan, nan, nan, nan, nan, nan, nan, nan, nan, nan, nan, nan, nan, nan, nan, nan, nan, nan, nan, nan, nan, nan, nan, nan, nan, nan, nan, nan, nan, nan, nan, nan, nan, nan, nan, nan, nan, nan}\n"
          ]
        }
      ]
    },
    {
      "cell_type": "markdown",
      "metadata": {
        "id": "wj4yMlza9nYD"
      },
      "source": [
        "Но как вы видите, в наших данных были пропущенные значения (nan). В множестве они все считаются различными (т.к. их значения не определены).\n",
        "Чтобы обойти эту ситуацию, можем использовать стандартный метод unique:"
      ]
    },
    {
      "cell_type": "code",
      "metadata": {
        "colab": {
          "base_uri": "https://localhost:8080/"
        },
        "id": "ApFZ7FkN-BV8",
        "outputId": "6e201947-f3b0-4c99-b43e-e72cbf9f5ca2"
      },
      "source": [
        "print(df['Pclass'].unique())"
      ],
      "execution_count": null,
      "outputs": [
        {
          "output_type": "stream",
          "name": "stdout",
          "text": [
            "[ 3. nan  2.  1.]\n"
          ]
        }
      ]
    },
    {
      "cell_type": "markdown",
      "metadata": {
        "id": "QL86G6K1-JNf"
      },
      "source": [
        "Мы видим, что в колонке Pclass у нас всего 4 различных значения: 1, 2, 3 и nan (неопределенное значение). Такой признак можно считать категориальным."
      ]
    },
    {
      "cell_type": "markdown",
      "metadata": {
        "id": "04VO-ekB-ZIT"
      },
      "source": [
        "Попробуем посчитать для каждой колонки количество уникальных значений:"
      ]
    },
    {
      "cell_type": "code",
      "metadata": {
        "colab": {
          "base_uri": "https://localhost:8080/"
        },
        "id": "-xWbUNBid17s",
        "outputId": "f8411b99-8d0f-4d06-86d9-7e1795a4a33e"
      },
      "source": [
        "df[df.columns[:4]].nunique()"
      ],
      "execution_count": null,
      "outputs": [
        {
          "output_type": "execute_result",
          "data": {
            "text/plain": [
              "Passengerid    376\n",
              "Pclass           3\n",
              "Name           376\n",
              "Sex              2\n",
              "dtype: int64"
            ]
          },
          "metadata": {},
          "execution_count": 26
        }
      ]
    },
    {
      "cell_type": "code",
      "metadata": {
        "colab": {
          "base_uri": "https://localhost:8080/"
        },
        "id": "Jn4FjzXn_QTq",
        "outputId": "b5a4372c-ee30-4425-8f77-3731b9b9b8e3"
      },
      "source": [
        "print(df.nunique())"
      ],
      "execution_count": null,
      "outputs": [
        {
          "output_type": "stream",
          "name": "stdout",
          "text": [
            "Passengerid    376\n",
            "Pclass           3\n",
            "Name           376\n",
            "Sex              2\n",
            "Age             74\n",
            "Sibsp            7\n",
            "Parch            8\n",
            "Ticket         363\n",
            "Fare           160\n",
            "Cabin           76\n",
            "Embarked         3\n",
            "dtype: int64\n"
          ]
        }
      ]
    },
    {
      "cell_type": "markdown",
      "metadata": {
        "id": "sP1qD91q_gIS"
      },
      "source": [
        "Мы видим, что логично считать категориальными признаками Pclass, Sex, Sibsp, Parch, Embarked - потому что в данных колонках присутствует не много различных значений (меньше 50)."
      ]
    },
    {
      "cell_type": "markdown",
      "metadata": {
        "id": "RuILfcldAkQD"
      },
      "source": [
        "Выведем для признака Sex различные значения, которые могут встречаться, и укажем количество их упоминаний:"
      ]
    },
    {
      "cell_type": "code",
      "metadata": {
        "colab": {
          "base_uri": "https://localhost:8080/"
        },
        "id": "X61KSceQ9IrW",
        "outputId": "5598dcbe-89ce-4e66-98a2-4b7b358c3447"
      },
      "source": [
        "print(df['Sex'].value_counts())"
      ],
      "execution_count": null,
      "outputs": [
        {
          "output_type": "stream",
          "name": "stdout",
          "text": [
            "male      240\n",
            "female    136\n",
            "Name: Sex, dtype: int64\n"
          ]
        }
      ]
    },
    {
      "cell_type": "markdown",
      "metadata": {
        "id": "COxaTkOsBSXD"
      },
      "source": [
        "Определим, в каких колонках содержатся пропуски. Для этого используем метод isna():"
      ]
    },
    {
      "cell_type": "code",
      "metadata": {
        "colab": {
          "base_uri": "https://localhost:8080/",
          "height": 447
        },
        "id": "tjcI7K2KC_o3",
        "outputId": "20169eb1-d157-407f-8204-66bfb76edcbb"
      },
      "source": [
        "df.isna()"
      ],
      "execution_count": null,
      "outputs": [
        {
          "output_type": "execute_result",
          "data": {
            "text/html": [
              "<div>\n",
              "<style scoped>\n",
              "    .dataframe tbody tr th:only-of-type {\n",
              "        vertical-align: middle;\n",
              "    }\n",
              "\n",
              "    .dataframe tbody tr th {\n",
              "        vertical-align: top;\n",
              "    }\n",
              "\n",
              "    .dataframe thead th {\n",
              "        text-align: right;\n",
              "    }\n",
              "</style>\n",
              "<table border=\"1\" class=\"dataframe\">\n",
              "  <thead>\n",
              "    <tr style=\"text-align: right;\">\n",
              "      <th></th>\n",
              "      <th>Passengerid</th>\n",
              "      <th>Pclass</th>\n",
              "      <th>Name</th>\n",
              "      <th>Sex</th>\n",
              "      <th>Age</th>\n",
              "      <th>Sibsp</th>\n",
              "      <th>Parch</th>\n",
              "      <th>Ticket</th>\n",
              "      <th>Fare</th>\n",
              "      <th>Cabin</th>\n",
              "      <th>Embarked</th>\n",
              "    </tr>\n",
              "  </thead>\n",
              "  <tbody>\n",
              "    <tr>\n",
              "      <th>0</th>\n",
              "      <td>False</td>\n",
              "      <td>False</td>\n",
              "      <td>False</td>\n",
              "      <td>False</td>\n",
              "      <td>False</td>\n",
              "      <td>False</td>\n",
              "      <td>False</td>\n",
              "      <td>False</td>\n",
              "      <td>False</td>\n",
              "      <td>True</td>\n",
              "      <td>False</td>\n",
              "    </tr>\n",
              "    <tr>\n",
              "      <th>1</th>\n",
              "      <td>False</td>\n",
              "      <td>False</td>\n",
              "      <td>False</td>\n",
              "      <td>False</td>\n",
              "      <td>False</td>\n",
              "      <td>False</td>\n",
              "      <td>False</td>\n",
              "      <td>False</td>\n",
              "      <td>False</td>\n",
              "      <td>True</td>\n",
              "      <td>False</td>\n",
              "    </tr>\n",
              "    <tr>\n",
              "      <th>2</th>\n",
              "      <td>False</td>\n",
              "      <td>True</td>\n",
              "      <td>False</td>\n",
              "      <td>True</td>\n",
              "      <td>True</td>\n",
              "      <td>False</td>\n",
              "      <td>False</td>\n",
              "      <td>False</td>\n",
              "      <td>False</td>\n",
              "      <td>True</td>\n",
              "      <td>False</td>\n",
              "    </tr>\n",
              "    <tr>\n",
              "      <th>3</th>\n",
              "      <td>False</td>\n",
              "      <td>False</td>\n",
              "      <td>True</td>\n",
              "      <td>False</td>\n",
              "      <td>False</td>\n",
              "      <td>False</td>\n",
              "      <td>False</td>\n",
              "      <td>False</td>\n",
              "      <td>False</td>\n",
              "      <td>True</td>\n",
              "      <td>False</td>\n",
              "    </tr>\n",
              "    <tr>\n",
              "      <th>4</th>\n",
              "      <td>False</td>\n",
              "      <td>False</td>\n",
              "      <td>False</td>\n",
              "      <td>False</td>\n",
              "      <td>False</td>\n",
              "      <td>False</td>\n",
              "      <td>False</td>\n",
              "      <td>False</td>\n",
              "      <td>False</td>\n",
              "      <td>True</td>\n",
              "      <td>False</td>\n",
              "    </tr>\n",
              "    <tr>\n",
              "      <th>...</th>\n",
              "      <td>...</td>\n",
              "      <td>...</td>\n",
              "      <td>...</td>\n",
              "      <td>...</td>\n",
              "      <td>...</td>\n",
              "      <td>...</td>\n",
              "      <td>...</td>\n",
              "      <td>...</td>\n",
              "      <td>...</td>\n",
              "      <td>...</td>\n",
              "      <td>...</td>\n",
              "    </tr>\n",
              "    <tr>\n",
              "      <th>413</th>\n",
              "      <td>False</td>\n",
              "      <td>False</td>\n",
              "      <td>False</td>\n",
              "      <td>False</td>\n",
              "      <td>True</td>\n",
              "      <td>False</td>\n",
              "      <td>False</td>\n",
              "      <td>False</td>\n",
              "      <td>False</td>\n",
              "      <td>True</td>\n",
              "      <td>False</td>\n",
              "    </tr>\n",
              "    <tr>\n",
              "      <th>414</th>\n",
              "      <td>False</td>\n",
              "      <td>False</td>\n",
              "      <td>False</td>\n",
              "      <td>False</td>\n",
              "      <td>False</td>\n",
              "      <td>False</td>\n",
              "      <td>False</td>\n",
              "      <td>False</td>\n",
              "      <td>False</td>\n",
              "      <td>False</td>\n",
              "      <td>False</td>\n",
              "    </tr>\n",
              "    <tr>\n",
              "      <th>415</th>\n",
              "      <td>False</td>\n",
              "      <td>False</td>\n",
              "      <td>False</td>\n",
              "      <td>False</td>\n",
              "      <td>False</td>\n",
              "      <td>False</td>\n",
              "      <td>False</td>\n",
              "      <td>False</td>\n",
              "      <td>False</td>\n",
              "      <td>True</td>\n",
              "      <td>False</td>\n",
              "    </tr>\n",
              "    <tr>\n",
              "      <th>416</th>\n",
              "      <td>False</td>\n",
              "      <td>True</td>\n",
              "      <td>False</td>\n",
              "      <td>False</td>\n",
              "      <td>True</td>\n",
              "      <td>False</td>\n",
              "      <td>False</td>\n",
              "      <td>False</td>\n",
              "      <td>False</td>\n",
              "      <td>True</td>\n",
              "      <td>False</td>\n",
              "    </tr>\n",
              "    <tr>\n",
              "      <th>417</th>\n",
              "      <td>False</td>\n",
              "      <td>False</td>\n",
              "      <td>False</td>\n",
              "      <td>True</td>\n",
              "      <td>True</td>\n",
              "      <td>False</td>\n",
              "      <td>False</td>\n",
              "      <td>False</td>\n",
              "      <td>False</td>\n",
              "      <td>True</td>\n",
              "      <td>False</td>\n",
              "    </tr>\n",
              "  </tbody>\n",
              "</table>\n",
              "<p>418 rows × 11 columns</p>\n",
              "</div>"
            ],
            "text/plain": [
              "     Passengerid  Pclass   Name    Sex    Age  Sibsp  Parch  Ticket   Fare  \\\n",
              "0          False   False  False  False  False  False  False   False  False   \n",
              "1          False   False  False  False  False  False  False   False  False   \n",
              "2          False    True  False   True   True  False  False   False  False   \n",
              "3          False   False   True  False  False  False  False   False  False   \n",
              "4          False   False  False  False  False  False  False   False  False   \n",
              "..           ...     ...    ...    ...    ...    ...    ...     ...    ...   \n",
              "413        False   False  False  False   True  False  False   False  False   \n",
              "414        False   False  False  False  False  False  False   False  False   \n",
              "415        False   False  False  False  False  False  False   False  False   \n",
              "416        False    True  False  False   True  False  False   False  False   \n",
              "417        False   False  False   True   True  False  False   False  False   \n",
              "\n",
              "     Cabin  Embarked  \n",
              "0     True     False  \n",
              "1     True     False  \n",
              "2     True     False  \n",
              "3     True     False  \n",
              "4     True     False  \n",
              "..     ...       ...  \n",
              "413   True     False  \n",
              "414  False     False  \n",
              "415   True     False  \n",
              "416   True     False  \n",
              "417   True     False  \n",
              "\n",
              "[418 rows x 11 columns]"
            ]
          },
          "metadata": {},
          "execution_count": 17
        }
      ]
    },
    {
      "cell_type": "markdown",
      "metadata": {
        "id": "VQ3UaeoaDKbT"
      },
      "source": [
        "Он формирует новый набор данных, где автоматически для каждой ячейки таблицы получает логическое значение: True - если значение пропущено, False - если значение есть.\n",
        "Теперь надо пройтись по каждой колонке этого набора данных и сказать, встречается ли в данной колонке значение True: "
      ]
    },
    {
      "cell_type": "code",
      "metadata": {
        "colab": {
          "base_uri": "https://localhost:8080/"
        },
        "id": "WvVCZlp7DrKz",
        "outputId": "4786f07d-2085-48fc-f2ad-f8865ebf2832"
      },
      "source": [
        "df.isna().any()"
      ],
      "execution_count": null,
      "outputs": [
        {
          "output_type": "execute_result",
          "data": {
            "text/plain": [
              "Passengerid     True\n",
              "Pclass          True\n",
              "Name            True\n",
              "Sex             True\n",
              "Age             True\n",
              "Sibsp          False\n",
              "Parch          False\n",
              "Ticket         False\n",
              "Fare            True\n",
              "Cabin           True\n",
              "Embarked       False\n",
              "dtype: bool"
            ]
          },
          "metadata": {},
          "execution_count": 29
        }
      ]
    },
    {
      "cell_type": "markdown",
      "metadata": {
        "id": "EP33-Li3DxiX"
      },
      "source": [
        "Мы видим, что пропущены значения в колонках Passengerid, Pclass, Name, Sex, Age, Fare, Cabin."
      ]
    },
    {
      "cell_type": "markdown",
      "metadata": {
        "id": "bcG0FE08Ex2y"
      },
      "source": [
        "Таким образом, мы провели предварительный анализ данных, определив числовые и категориальные признаки. Также мы дали описание признакам."
      ]
    },
    {
      "cell_type": "code",
      "metadata": {
        "colab": {
          "base_uri": "https://localhost:8080/"
        },
        "id": "p6bEVYPGgEQS",
        "outputId": "045f9242-adcd-43ae-8ff4-bd6b4a209c1b"
      },
      "source": [
        "print(df['Pclass'].value_counts())\n",
        "total = 198 + 96 + 82\n",
        "print(\"High: {:.4f}, medium: {:.4f}, econom: {:.4f}\".format(96/total, 82/total, 198/total))\n",
        "\n",
        "print(len(df) - total)"
      ],
      "execution_count": null,
      "outputs": [
        {
          "output_type": "stream",
          "name": "stdout",
          "text": [
            "3.0    198\n",
            "1.0     96\n",
            "2.0     82\n",
            "Name: Pclass, dtype: int64\n",
            "High: 0.2553, medium: 0.2181, econom: 0.5266\n",
            "42\n"
          ]
        }
      ]
    },
    {
      "cell_type": "markdown",
      "metadata": {
        "id": "hAF17mYNG9UE"
      },
      "source": [
        "# Задача"
      ]
    },
    {
      "cell_type": "markdown",
      "metadata": {
        "id": "ZTunFvXHNI2b"
      },
      "source": [
        "\n",
        "Теперь начнём работу с выбранными вами наборами данных."
      ]
    },
    {
      "cell_type": "markdown",
      "metadata": {
        "id": "O6IkLbqWNMYu"
      },
      "source": [
        "1. Создайте новый ноутбук (если этого ещё не сделали).\n",
        "2. Загрузите в ноутбук ВСЕ файлы со своим набором данных.\n",
        "3. Считайте данные в датафрейм (pandas.read_csv()) (если файлов несколько, считайте пока один любой).\n",
        "4. Отобразите содержимое первых 15 строк.\n",
        "5. Выведите названия всех колонок с указанием типа содержащихся данных.\n",
        "6. Постройте описательные характеристики числовых признаков (pandas.describe()).\n",
        "7.  Определите, какие признаки можно считать категориальными.\n",
        "8. Для **каждого** категориального признака выведите уникальные значения с указанием количества повторений.\n",
        "9. Определите, какие признаки содержат пропущенные значения. Подумайте, как можно будет эти пропущенные значения заполнить."
      ]
    }
  ]
}