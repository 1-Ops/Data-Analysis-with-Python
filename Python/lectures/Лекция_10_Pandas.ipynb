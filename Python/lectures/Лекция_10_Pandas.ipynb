{
  "nbformat": 4,
  "nbformat_minor": 0,
  "metadata": {
    "colab": {
      "name": "Лекция_10_Pandas",
      "provenance": []
    },
    "kernelspec": {
      "name": "python3",
      "display_name": "Python 3"
    },
    "language_info": {
      "name": "python"
    }
  },
  "cells": [
    {
      "cell_type": "markdown",
      "metadata": {
        "id": "V9WGrYCq2uOO"
      },
      "source": [
        "# Лекция 10. Библиотека Pandas"
      ]
    },
    {
      "cell_type": "markdown",
      "metadata": {
        "id": "68E463eA20mW"
      },
      "source": [
        "## Работа с данными из системы Яндекс.Контест"
      ]
    },
    {
      "cell_type": "markdown",
      "metadata": {
        "id": "zez989rS2_7X"
      },
      "source": [
        "Проанализируем данные по домашней работе к лекции №4 \"Числовые данные\" с помощью бибилиотеки Pandas. Первым шагом импортируем библиотеку Pandas и загружаем [файл с результатами](https://drive.google.com/file/d/1HXAN02aFogUygSxN7Tz06jUPbro-9pBn/view). "
      ]
    },
    {
      "cell_type": "code",
      "metadata": {
        "id": "F2wISHiP2f0R"
      },
      "source": [
        "import pandas as pd\n",
        "import matplotlib.pyplot as plt"
      ],
      "execution_count": null,
      "outputs": []
    },
    {
      "cell_type": "code",
      "metadata": {
        "colab": {
          "base_uri": "https://localhost:8080/"
        },
        "id": "wESozuVS2roR",
        "outputId": "95a1ad7b-1c8f-499c-bc4e-b859b4020165"
      },
      "source": [
        "!wget -O \"result_lec04.csv\" \"https://drive.google.com/uc?id=1HXAN02aFogUygSxN7Tz06jUPbro-9pBn&export=download\""
      ],
      "execution_count": null,
      "outputs": [
        {
          "output_type": "stream",
          "name": "stdout",
          "text": [
            "--2021-12-08 04:27:17--  https://drive.google.com/uc?id=1HXAN02aFogUygSxN7Tz06jUPbro-9pBn&export=download\n",
            "Resolving drive.google.com (drive.google.com)... 142.250.152.138, 142.250.152.102, 142.250.152.100, ...\n",
            "Connecting to drive.google.com (drive.google.com)|142.250.152.138|:443... connected.\n",
            "HTTP request sent, awaiting response... 302 Moved Temporarily\n",
            "Location: https://doc-0s-1g-docs.googleusercontent.com/docs/securesc/ha0ro937gcuc7l7deffksulhg5h7mbp1/pqhmvgt8uekcc5pn5urd4ijegn1i2mcj/1638937575000/05476118052512889131/*/1HXAN02aFogUygSxN7Tz06jUPbro-9pBn?e=download [following]\n",
            "Warning: wildcards not supported in HTTP.\n",
            "--2021-12-08 04:27:18--  https://doc-0s-1g-docs.googleusercontent.com/docs/securesc/ha0ro937gcuc7l7deffksulhg5h7mbp1/pqhmvgt8uekcc5pn5urd4ijegn1i2mcj/1638937575000/05476118052512889131/*/1HXAN02aFogUygSxN7Tz06jUPbro-9pBn?e=download\n",
            "Resolving doc-0s-1g-docs.googleusercontent.com (doc-0s-1g-docs.googleusercontent.com)... 142.250.128.132, 2607:f8b0:4001:c32::84\n",
            "Connecting to doc-0s-1g-docs.googleusercontent.com (doc-0s-1g-docs.googleusercontent.com)|142.250.128.132|:443... connected.\n",
            "HTTP request sent, awaiting response... 200 OK\n",
            "Length: 73726 (72K) [text/csv]\n",
            "Saving to: ‘result_lec04.csv’\n",
            "\n",
            "result_lec04.csv    100%[===================>]  72.00K  --.-KB/s    in 0.001s  \n",
            "\n",
            "2021-12-08 04:27:18 (110 MB/s) - ‘result_lec04.csv’ saved [73726/73726]\n",
            "\n"
          ]
        }
      ]
    },
    {
      "cell_type": "markdown",
      "metadata": {
        "id": "W3UoURJ-6ijX"
      },
      "source": [
        "Считываем файл и выведим первые 5 строк.\n"
      ]
    },
    {
      "cell_type": "code",
      "metadata": {
        "id": "mXhvq32k4Ffz"
      },
      "source": [
        "df_res4 = pd.read_csv(\"result_lec04.csv\")"
      ],
      "execution_count": null,
      "outputs": []
    },
    {
      "cell_type": "code",
      "metadata": {
        "colab": {
          "base_uri": "https://localhost:8080/",
          "height": 679
        },
        "id": "HjzUEGKq5HL1",
        "outputId": "c63fb6b6-b967-4296-ba83-08ae620b15d9"
      },
      "source": [
        "df_res4.tail(15)"
      ],
      "execution_count": null,
      "outputs": [
        {
          "output_type": "execute_result",
          "data": {
            "text/html": [
              "<div>\n",
              "<style scoped>\n",
              "    .dataframe tbody tr th:only-of-type {\n",
              "        vertical-align: middle;\n",
              "    }\n",
              "\n",
              "    .dataframe tbody tr th {\n",
              "        vertical-align: top;\n",
              "    }\n",
              "\n",
              "    .dataframe thead th {\n",
              "        text-align: right;\n",
              "    }\n",
              "</style>\n",
              "<table border=\"1\" class=\"dataframe\">\n",
              "  <thead>\n",
              "    <tr style=\"text-align: right;\">\n",
              "      <th></th>\n",
              "      <th>Unnamed: 0</th>\n",
              "      <th>Факультет</th>\n",
              "      <th>login</th>\n",
              "      <th>1(ФИО)</th>\n",
              "      <th>2(Факультет)</th>\n",
              "      <th>3(Binary to decimal conversion)</th>\n",
              "      <th>4(Calculating the fraction)</th>\n",
              "      <th>5(Sum of a sequence of numbers)</th>\n",
              "      <th>6(Element of a geometric progression)</th>\n",
              "      <th>7(Bank deposit with CSV file)</th>\n",
              "      <th>8(Согласие на обработку персональных данных)</th>\n",
              "      <th>Score</th>\n",
              "      <th>Penalty</th>\n",
              "    </tr>\n",
              "  </thead>\n",
              "  <tbody>\n",
              "    <tr>\n",
              "      <th>577</th>\n",
              "      <td>577</td>\n",
              "      <td>Не из МГУ</td>\n",
              "      <td>6d3c0a5c6b2221166aa6a0175a6b980a1aa832b5</td>\n",
              "      <td>+</td>\n",
              "      <td>+</td>\n",
              "      <td>-1</td>\n",
              "      <td>NaN</td>\n",
              "      <td>NaN</td>\n",
              "      <td>NaN</td>\n",
              "      <td>NaN</td>\n",
              "      <td>NaN</td>\n",
              "      <td>2</td>\n",
              "      <td>0</td>\n",
              "    </tr>\n",
              "    <tr>\n",
              "      <th>578</th>\n",
              "      <td>578</td>\n",
              "      <td>Факультет журналистики</td>\n",
              "      <td>f31cb3e1d47bd5a779436703c022ee68cc0653e4</td>\n",
              "      <td>+</td>\n",
              "      <td>+</td>\n",
              "      <td>-1</td>\n",
              "      <td>NaN</td>\n",
              "      <td>-1</td>\n",
              "      <td>NaN</td>\n",
              "      <td>NaN</td>\n",
              "      <td>NaN</td>\n",
              "      <td>2</td>\n",
              "      <td>0</td>\n",
              "    </tr>\n",
              "    <tr>\n",
              "      <th>579</th>\n",
              "      <td>579</td>\n",
              "      <td>Механико-математический факультет</td>\n",
              "      <td>986b83299cab9095e565951824d45cade265bbab</td>\n",
              "      <td>+</td>\n",
              "      <td>+</td>\n",
              "      <td>NaN</td>\n",
              "      <td>NaN</td>\n",
              "      <td>NaN</td>\n",
              "      <td>NaN</td>\n",
              "      <td>NaN</td>\n",
              "      <td>NaN</td>\n",
              "      <td>2</td>\n",
              "      <td>0</td>\n",
              "    </tr>\n",
              "    <tr>\n",
              "      <th>580</th>\n",
              "      <td>580</td>\n",
              "      <td>Физический факультет</td>\n",
              "      <td>d5a866441c4a69303e124e2074113a8981e87ba9</td>\n",
              "      <td>+</td>\n",
              "      <td>+</td>\n",
              "      <td>NaN</td>\n",
              "      <td>NaN</td>\n",
              "      <td>NaN</td>\n",
              "      <td>NaN</td>\n",
              "      <td>NaN</td>\n",
              "      <td>NaN</td>\n",
              "      <td>2</td>\n",
              "      <td>0</td>\n",
              "    </tr>\n",
              "    <tr>\n",
              "      <th>581</th>\n",
              "      <td>581</td>\n",
              "      <td>NaN</td>\n",
              "      <td>65a45f47600abeb3aace52d1170e7219ca65c2ac</td>\n",
              "      <td>NaN</td>\n",
              "      <td>NaN</td>\n",
              "      <td>+</td>\n",
              "      <td>NaN</td>\n",
              "      <td>NaN</td>\n",
              "      <td>NaN</td>\n",
              "      <td>NaN</td>\n",
              "      <td>+</td>\n",
              "      <td>2</td>\n",
              "      <td>13018</td>\n",
              "    </tr>\n",
              "    <tr>\n",
              "      <th>582</th>\n",
              "      <td>582</td>\n",
              "      <td>NaN</td>\n",
              "      <td>4c249a917ecdd273356ab97285af53e43060f732</td>\n",
              "      <td>+</td>\n",
              "      <td>NaN</td>\n",
              "      <td>NaN</td>\n",
              "      <td>NaN</td>\n",
              "      <td>NaN</td>\n",
              "      <td>NaN</td>\n",
              "      <td>NaN</td>\n",
              "      <td>NaN</td>\n",
              "      <td>1</td>\n",
              "      <td>0</td>\n",
              "    </tr>\n",
              "    <tr>\n",
              "      <th>583</th>\n",
              "      <td>583</td>\n",
              "      <td>NaN</td>\n",
              "      <td>3b2d075bdf9f98d3b35fb26c3664be879e7fe175</td>\n",
              "      <td>+</td>\n",
              "      <td>NaN</td>\n",
              "      <td>NaN</td>\n",
              "      <td>NaN</td>\n",
              "      <td>NaN</td>\n",
              "      <td>NaN</td>\n",
              "      <td>NaN</td>\n",
              "      <td>NaN</td>\n",
              "      <td>1</td>\n",
              "      <td>0</td>\n",
              "    </tr>\n",
              "    <tr>\n",
              "      <th>584</th>\n",
              "      <td>584</td>\n",
              "      <td>NaN</td>\n",
              "      <td>b7290a66959ec510626b54e98fe2cbc95e2ca716</td>\n",
              "      <td>+</td>\n",
              "      <td>NaN</td>\n",
              "      <td>NaN</td>\n",
              "      <td>NaN</td>\n",
              "      <td>NaN</td>\n",
              "      <td>NaN</td>\n",
              "      <td>NaN</td>\n",
              "      <td>NaN</td>\n",
              "      <td>1</td>\n",
              "      <td>0</td>\n",
              "    </tr>\n",
              "    <tr>\n",
              "      <th>585</th>\n",
              "      <td>585</td>\n",
              "      <td>NaN</td>\n",
              "      <td>53910656ffea0a9877439247952795f43014ee44</td>\n",
              "      <td>+</td>\n",
              "      <td>NaN</td>\n",
              "      <td>NaN</td>\n",
              "      <td>NaN</td>\n",
              "      <td>NaN</td>\n",
              "      <td>NaN</td>\n",
              "      <td>NaN</td>\n",
              "      <td>NaN</td>\n",
              "      <td>1</td>\n",
              "      <td>0</td>\n",
              "    </tr>\n",
              "    <tr>\n",
              "      <th>586</th>\n",
              "      <td>586</td>\n",
              "      <td>NaN</td>\n",
              "      <td>337efde4e8d189ed9faee19c5a63f39a03414c24</td>\n",
              "      <td>+</td>\n",
              "      <td>NaN</td>\n",
              "      <td>-1</td>\n",
              "      <td>-2</td>\n",
              "      <td>NaN</td>\n",
              "      <td>NaN</td>\n",
              "      <td>NaN</td>\n",
              "      <td>NaN</td>\n",
              "      <td>1</td>\n",
              "      <td>0</td>\n",
              "    </tr>\n",
              "    <tr>\n",
              "      <th>587</th>\n",
              "      <td>587</td>\n",
              "      <td>NaN</td>\n",
              "      <td>bdf0fe5a7ee5cfaad23982778470d9a0cbe64bfc</td>\n",
              "      <td>+</td>\n",
              "      <td>NaN</td>\n",
              "      <td>NaN</td>\n",
              "      <td>NaN</td>\n",
              "      <td>NaN</td>\n",
              "      <td>NaN</td>\n",
              "      <td>NaN</td>\n",
              "      <td>NaN</td>\n",
              "      <td>1</td>\n",
              "      <td>1</td>\n",
              "    </tr>\n",
              "    <tr>\n",
              "      <th>588</th>\n",
              "      <td>588</td>\n",
              "      <td>NaN</td>\n",
              "      <td>712fd569fe3ec746285b4a851dc228e13ac649fe</td>\n",
              "      <td>NaN</td>\n",
              "      <td>NaN</td>\n",
              "      <td>NaN</td>\n",
              "      <td>NaN</td>\n",
              "      <td>NaN</td>\n",
              "      <td>+</td>\n",
              "      <td>NaN</td>\n",
              "      <td>NaN</td>\n",
              "      <td>1</td>\n",
              "      <td>5</td>\n",
              "    </tr>\n",
              "    <tr>\n",
              "      <th>589</th>\n",
              "      <td>589</td>\n",
              "      <td>NaN</td>\n",
              "      <td>d893441e9bfed2aa564effdf324baea9c70e7e90</td>\n",
              "      <td>NaN</td>\n",
              "      <td>NaN</td>\n",
              "      <td>NaN</td>\n",
              "      <td>NaN</td>\n",
              "      <td>NaN</td>\n",
              "      <td>NaN</td>\n",
              "      <td>+1</td>\n",
              "      <td>NaN</td>\n",
              "      <td>1</td>\n",
              "      <td>28</td>\n",
              "    </tr>\n",
              "    <tr>\n",
              "      <th>590</th>\n",
              "      <td>590</td>\n",
              "      <td>NaN</td>\n",
              "      <td>e587273f9ab911eb42b7e51380f0b2ba80dd2873</td>\n",
              "      <td>NaN</td>\n",
              "      <td>NaN</td>\n",
              "      <td>NaN</td>\n",
              "      <td>NaN</td>\n",
              "      <td>NaN</td>\n",
              "      <td>NaN</td>\n",
              "      <td>+1</td>\n",
              "      <td>NaN</td>\n",
              "      <td>1</td>\n",
              "      <td>36</td>\n",
              "    </tr>\n",
              "    <tr>\n",
              "      <th>591</th>\n",
              "      <td>591</td>\n",
              "      <td>NaN</td>\n",
              "      <td>e58c1207e8d7d811fa509a5f47c2d5aa5551754c</td>\n",
              "      <td>NaN</td>\n",
              "      <td>NaN</td>\n",
              "      <td>+</td>\n",
              "      <td>-2</td>\n",
              "      <td>-3</td>\n",
              "      <td>NaN</td>\n",
              "      <td>NaN</td>\n",
              "      <td>NaN</td>\n",
              "      <td>1</td>\n",
              "      <td>4145</td>\n",
              "    </tr>\n",
              "  </tbody>\n",
              "</table>\n",
              "</div>"
            ],
            "text/plain": [
              "     Unnamed: 0                          Факультет  ... Score Penalty\n",
              "577         577                          Не из МГУ  ...     2       0\n",
              "578         578             Факультет журналистики  ...     2       0\n",
              "579         579  Механико-математический факультет  ...     2       0\n",
              "580         580               Физический факультет  ...     2       0\n",
              "581         581                                NaN  ...     2   13018\n",
              "582         582                                NaN  ...     1       0\n",
              "583         583                                NaN  ...     1       0\n",
              "584         584                                NaN  ...     1       0\n",
              "585         585                                NaN  ...     1       0\n",
              "586         586                                NaN  ...     1       0\n",
              "587         587                                NaN  ...     1       1\n",
              "588         588                                NaN  ...     1       5\n",
              "589         589                                NaN  ...     1      28\n",
              "590         590                                NaN  ...     1      36\n",
              "591         591                                NaN  ...     1    4145\n",
              "\n",
              "[15 rows x 13 columns]"
            ]
          },
          "metadata": {},
          "execution_count": 73
        }
      ]
    },
    {
      "cell_type": "markdown",
      "metadata": {
        "id": "_umrtshM6uLk"
      },
      "source": [
        "Удаляем колонки, которые нам не пригодяться для дальнейшего анализа."
      ]
    },
    {
      "cell_type": "code",
      "metadata": {
        "id": "OE2SC75A5Nfw"
      },
      "source": [
        "df_res4.drop(['Unnamed: 0', '1(ФИО)', '2(Факультет)', '8(Согласие на обработку персональных данных)', 'Penalty'], axis = 1, inplace=True)"
      ],
      "execution_count": null,
      "outputs": []
    },
    {
      "cell_type": "code",
      "metadata": {
        "colab": {
          "base_uri": "https://localhost:8080/"
        },
        "id": "9_s7-eEk7X5a",
        "outputId": "4c0a50ec-2af9-4570-b343-fe55dba2bb60"
      },
      "source": [
        "df_res4.shape  # 592 строки, 8 столбцов"
      ],
      "execution_count": null,
      "outputs": [
        {
          "output_type": "execute_result",
          "data": {
            "text/plain": [
              "(592, 8)"
            ]
          },
          "metadata": {},
          "execution_count": 75
        }
      ]
    },
    {
      "cell_type": "markdown",
      "metadata": {
        "id": "LgSpdpvC7F9Q"
      },
      "source": [
        "Выведем информацию о колонках датасета: название, тип значений (целочисленный, вещественный, строковый и т.д.)."
      ]
    },
    {
      "cell_type": "code",
      "metadata": {
        "colab": {
          "base_uri": "https://localhost:8080/"
        },
        "id": "exT30YfY7MEK",
        "outputId": "728d9ef4-8ef1-4382-c110-726b97cfe668"
      },
      "source": [
        "df_res4.info()"
      ],
      "execution_count": null,
      "outputs": [
        {
          "output_type": "stream",
          "name": "stdout",
          "text": [
            "<class 'pandas.core.frame.DataFrame'>\n",
            "RangeIndex: 592 entries, 0 to 591\n",
            "Data columns (total 8 columns):\n",
            " #   Column                                 Non-Null Count  Dtype \n",
            "---  ------                                 --------------  ----- \n",
            " 0   Факультет                              562 non-null    object\n",
            " 1   login                                  592 non-null    object\n",
            " 2   3(Binary to decimal conversion)        575 non-null    object\n",
            " 3   4(Calculating the fraction)            566 non-null    object\n",
            " 4   5(Sum of a sequence of numbers)        559 non-null    object\n",
            " 5   6(Element of a geometric progression)  547 non-null    object\n",
            " 6   7(Bank deposit with CSV file)          433 non-null    object\n",
            " 7   Score                                  592 non-null    int64 \n",
            "dtypes: int64(1), object(7)\n",
            "memory usage: 37.1+ KB\n"
          ]
        }
      ]
    },
    {
      "cell_type": "markdown",
      "metadata": {
        "id": "7PC30Olu-fwD"
      },
      "source": [
        "Приведем названия колонок к единому виду: все символы в названии колонок должны быть в нижнем регистре, между словами в названии должен быть символ «_»."
      ]
    },
    {
      "cell_type": "code",
      "metadata": {
        "colab": {
          "base_uri": "https://localhost:8080/"
        },
        "id": "o_LksFPB-vEk",
        "outputId": "d65746c8-6f06-4d90-b9df-1752a1fdfec9"
      },
      "source": [
        "df_res4.columns"
      ],
      "execution_count": null,
      "outputs": [
        {
          "output_type": "execute_result",
          "data": {
            "text/plain": [
              "Index(['Факультет', 'login', '3(Binary to decimal conversion)',\n",
              "       '4(Calculating the fraction)', '5(Sum of a sequence of numbers)',\n",
              "       '6(Element of a geometric progression)',\n",
              "       '7(Bank deposit with CSV file)', 'Score'],\n",
              "      dtype='object')"
            ]
          },
          "metadata": {},
          "execution_count": 77
        }
      ]
    },
    {
      "cell_type": "code",
      "metadata": {
        "colab": {
          "base_uri": "https://localhost:8080/"
        },
        "id": "z628_4aq-fJJ",
        "outputId": "dd5f1de9-4d6e-4c17-d805-031414fdf5e2"
      },
      "source": [
        "column_names = df_res4.columns\n",
        "df_res4.columns = [col_name.lower().replace(')', '').replace('(', '_').replace(' ', '_') for col_name in column_names]\n",
        "df_res4.columns"
      ],
      "execution_count": null,
      "outputs": [
        {
          "output_type": "execute_result",
          "data": {
            "text/plain": [
              "Index(['факультет', 'login', '3_binary_to_decimal_conversion',\n",
              "       '4_calculating_the_fraction', '5_sum_of_a_sequence_of_numbers',\n",
              "       '6_element_of_a_geometric_progression', '7_bank_deposit_with_csv_file',\n",
              "       'score'],\n",
              "      dtype='object')"
            ]
          },
          "metadata": {},
          "execution_count": 78
        }
      ]
    },
    {
      "cell_type": "markdown",
      "metadata": {
        "id": "1_A5HidV-9Nf"
      },
      "source": [
        "Факультет - это категориальный признак. Распечатаем все возможные значения с количеством повторений этих значений."
      ]
    },
    {
      "cell_type": "code",
      "metadata": {
        "colab": {
          "base_uri": "https://localhost:8080/"
        },
        "id": "w1dCupnh_5ji",
        "outputId": "1a9328fd-f7ae-4630-8aa1-6acf72ebe373"
      },
      "source": [
        "df_res4['факультет'].value_counts()"
      ],
      "execution_count": null,
      "outputs": [
        {
          "output_type": "execute_result",
          "data": {
            "text/plain": [
              "Факультет вычислительной математики и кибернетики        129\n",
              "Физический факультет                                     108\n",
              "Механико-математический факультет                         93\n",
              "Не из МГУ                                                 41\n",
              "Химический факультет                                      40\n",
              "Экономический факультет                                   27\n",
              "Биологический факультет                                   25\n",
              "Московская школа экономики                                10\n",
              "Факультет наук о материалах                                8\n",
              "Географический факультет                                   8\n",
              "Философский факультет                                      7\n",
              "Факультет фундаментальной медицины                         6\n",
              "Исторический факультет                                     6\n",
              "Геологический факультет                                    6\n",
              "Факультет биоинженерии и биоинформатики                    5\n",
              "Социологический факультет                                  5\n",
              "Высшая школа современных социальных наук                   4\n",
              "Факультет государственного управления                      4\n",
              "Факультет психологии                                       4\n",
              "Факультет глобальных процессов                             3\n",
              "Филологический факультет                                   3\n",
              "Факультет космических исследований                         3\n",
              "Факультет фундаментальной физико-химической инженерии      2\n",
              "Биотехнологический факультет                               2\n",
              "Факультет журналистики                                     2\n",
              "Факультет мировой политики                                 2\n",
              "Факультет почвоведения                                     2\n",
              "Высшая школа государственногоадминистрирования             2\n",
              "Юридический факультет                                      2\n",
              "Институт стран Азии и Африки                               1\n",
              "Высшая школа управления и инноваций                        1\n",
              "Факультет политологии                                      1\n",
              "Name: факультет, dtype: int64"
            ]
          },
          "metadata": {},
          "execution_count": 79
        }
      ]
    },
    {
      "cell_type": "code",
      "metadata": {
        "colab": {
          "base_uri": "https://localhost:8080/",
          "height": 500
        },
        "id": "Jh23jTuXmep_",
        "outputId": "8c23f7fb-7851-4dfb-d9b0-4650d5297338"
      },
      "source": [
        "df_res4['факультет'].value_counts().sort_values(ascending=True).plot(kind = 'barh', figsize=(9, 8)) #kind = 'bar'"
      ],
      "execution_count": null,
      "outputs": [
        {
          "output_type": "execute_result",
          "data": {
            "text/plain": [
              "<matplotlib.axes._subplots.AxesSubplot at 0x7ffb523aad90>"
            ]
          },
          "metadata": {},
          "execution_count": 80
        },
        {
          "output_type": "display_data",
          "data": {
            "image/png": "[encoded data removed]",
            "text/plain": [
              "<Figure size 648x576 with 1 Axes>"
            ]
          },
          "metadata": {
            "needs_background": "light"
          }
        }
      ]
    },
    {
      "cell_type": "markdown",
      "metadata": {
        "id": "4tdY7UAqBR4a"
      },
      "source": [
        "Удалим строки, для которых не заполнен факультет. "
      ]
    },
    {
      "cell_type": "code",
      "metadata": {
        "id": "8wR2oel5BXQ6"
      },
      "source": [
        "df_res4.dropna(subset = ['факультет'], axis=0, inplace=True)"
      ],
      "execution_count": null,
      "outputs": []
    },
    {
      "cell_type": "markdown",
      "metadata": {
        "id": "UieBUwT-Dkxs"
      },
      "source": [
        "Проверим, в каких столбцах есть пустые значения."
      ]
    },
    {
      "cell_type": "code",
      "metadata": {
        "colab": {
          "base_uri": "https://localhost:8080/",
          "height": 444
        },
        "id": "oNjWmMH-DskM",
        "outputId": "cddce5e3-4f3b-40e7-cd12-147da70b36a8"
      },
      "source": [
        "df_res4.isna()"
      ],
      "execution_count": null,
      "outputs": [
        {
          "output_type": "execute_result",
          "data": {
            "text/html": [
              "<div>\n",
              "<style scoped>\n",
              "    .dataframe tbody tr th:only-of-type {\n",
              "        vertical-align: middle;\n",
              "    }\n",
              "\n",
              "    .dataframe tbody tr th {\n",
              "        vertical-align: top;\n",
              "    }\n",
              "\n",
              "    .dataframe thead th {\n",
              "        text-align: right;\n",
              "    }\n",
              "</style>\n",
              "<table border=\"1\" class=\"dataframe\">\n",
              "  <thead>\n",
              "    <tr style=\"text-align: right;\">\n",
              "      <th></th>\n",
              "      <th>факультет</th>\n",
              "      <th>login</th>\n",
              "      <th>3_binary_to_decimal_conversion</th>\n",
              "      <th>4_calculating_the_fraction</th>\n",
              "      <th>5_sum_of_a_sequence_of_numbers</th>\n",
              "      <th>6_element_of_a_geometric_progression</th>\n",
              "      <th>7_bank_deposit_with_csv_file</th>\n",
              "      <th>score</th>\n",
              "    </tr>\n",
              "  </thead>\n",
              "  <tbody>\n",
              "    <tr>\n",
              "      <th>0</th>\n",
              "      <td>False</td>\n",
              "      <td>False</td>\n",
              "      <td>False</td>\n",
              "      <td>False</td>\n",
              "      <td>False</td>\n",
              "      <td>False</td>\n",
              "      <td>False</td>\n",
              "      <td>False</td>\n",
              "    </tr>\n",
              "    <tr>\n",
              "      <th>1</th>\n",
              "      <td>False</td>\n",
              "      <td>False</td>\n",
              "      <td>False</td>\n",
              "      <td>False</td>\n",
              "      <td>False</td>\n",
              "      <td>False</td>\n",
              "      <td>False</td>\n",
              "      <td>False</td>\n",
              "    </tr>\n",
              "    <tr>\n",
              "      <th>2</th>\n",
              "      <td>False</td>\n",
              "      <td>False</td>\n",
              "      <td>False</td>\n",
              "      <td>False</td>\n",
              "      <td>False</td>\n",
              "      <td>False</td>\n",
              "      <td>False</td>\n",
              "      <td>False</td>\n",
              "    </tr>\n",
              "    <tr>\n",
              "      <th>3</th>\n",
              "      <td>False</td>\n",
              "      <td>False</td>\n",
              "      <td>False</td>\n",
              "      <td>False</td>\n",
              "      <td>False</td>\n",
              "      <td>False</td>\n",
              "      <td>False</td>\n",
              "      <td>False</td>\n",
              "    </tr>\n",
              "    <tr>\n",
              "      <th>4</th>\n",
              "      <td>False</td>\n",
              "      <td>False</td>\n",
              "      <td>False</td>\n",
              "      <td>False</td>\n",
              "      <td>False</td>\n",
              "      <td>False</td>\n",
              "      <td>False</td>\n",
              "      <td>False</td>\n",
              "    </tr>\n",
              "    <tr>\n",
              "      <th>...</th>\n",
              "      <td>...</td>\n",
              "      <td>...</td>\n",
              "      <td>...</td>\n",
              "      <td>...</td>\n",
              "      <td>...</td>\n",
              "      <td>...</td>\n",
              "      <td>...</td>\n",
              "      <td>...</td>\n",
              "    </tr>\n",
              "    <tr>\n",
              "      <th>576</th>\n",
              "      <td>False</td>\n",
              "      <td>False</td>\n",
              "      <td>True</td>\n",
              "      <td>True</td>\n",
              "      <td>True</td>\n",
              "      <td>True</td>\n",
              "      <td>True</td>\n",
              "      <td>False</td>\n",
              "    </tr>\n",
              "    <tr>\n",
              "      <th>577</th>\n",
              "      <td>False</td>\n",
              "      <td>False</td>\n",
              "      <td>False</td>\n",
              "      <td>True</td>\n",
              "      <td>True</td>\n",
              "      <td>True</td>\n",
              "      <td>True</td>\n",
              "      <td>False</td>\n",
              "    </tr>\n",
              "    <tr>\n",
              "      <th>578</th>\n",
              "      <td>False</td>\n",
              "      <td>False</td>\n",
              "      <td>False</td>\n",
              "      <td>True</td>\n",
              "      <td>False</td>\n",
              "      <td>True</td>\n",
              "      <td>True</td>\n",
              "      <td>False</td>\n",
              "    </tr>\n",
              "    <tr>\n",
              "      <th>579</th>\n",
              "      <td>False</td>\n",
              "      <td>False</td>\n",
              "      <td>True</td>\n",
              "      <td>True</td>\n",
              "      <td>True</td>\n",
              "      <td>True</td>\n",
              "      <td>True</td>\n",
              "      <td>False</td>\n",
              "    </tr>\n",
              "    <tr>\n",
              "      <th>580</th>\n",
              "      <td>False</td>\n",
              "      <td>False</td>\n",
              "      <td>True</td>\n",
              "      <td>True</td>\n",
              "      <td>True</td>\n",
              "      <td>True</td>\n",
              "      <td>True</td>\n",
              "      <td>False</td>\n",
              "    </tr>\n",
              "  </tbody>\n",
              "</table>\n",
              "<p>562 rows × 8 columns</p>\n",
              "</div>"
            ],
            "text/plain": [
              "     факультет  login  ...  7_bank_deposit_with_csv_file  score\n",
              "0        False  False  ...                         False  False\n",
              "1        False  False  ...                         False  False\n",
              "2        False  False  ...                         False  False\n",
              "3        False  False  ...                         False  False\n",
              "4        False  False  ...                         False  False\n",
              "..         ...    ...  ...                           ...    ...\n",
              "576      False  False  ...                          True  False\n",
              "577      False  False  ...                          True  False\n",
              "578      False  False  ...                          True  False\n",
              "579      False  False  ...                          True  False\n",
              "580      False  False  ...                          True  False\n",
              "\n",
              "[562 rows x 8 columns]"
            ]
          },
          "metadata": {},
          "execution_count": 82
        }
      ]
    },
    {
      "cell_type": "code",
      "metadata": {
        "colab": {
          "base_uri": "https://localhost:8080/"
        },
        "id": "m4qgbAgYDaJR",
        "outputId": "a6cff110-5ff7-4a8f-e966-2e55040f4144"
      },
      "source": [
        "df_res4.isna().any()"
      ],
      "execution_count": null,
      "outputs": [
        {
          "output_type": "execute_result",
          "data": {
            "text/plain": [
              "факультет                               False\n",
              "login                                   False\n",
              "3_binary_to_decimal_conversion           True\n",
              "4_calculating_the_fraction               True\n",
              "5_sum_of_a_sequence_of_numbers           True\n",
              "6_element_of_a_geometric_progression     True\n",
              "7_bank_deposit_with_csv_file             True\n",
              "score                                   False\n",
              "dtype: bool"
            ]
          },
          "metadata": {},
          "execution_count": 83
        }
      ]
    },
    {
      "cell_type": "markdown",
      "metadata": {
        "id": "A80ut6wuEg40"
      },
      "source": [
        "Проверим, какие значения есть в данных по столбцу ```7_bank_deposit_with_csv_file ```.\n",
        "\n"
      ]
    },
    {
      "cell_type": "code",
      "metadata": {
        "colab": {
          "base_uri": "https://localhost:8080/"
        },
        "id": "9IVsPeVjEr-n",
        "outputId": "001932d5-7856-4a77-a46d-9aa5f2742fbf"
      },
      "source": [
        "df_res4['7_bank_deposit_with_csv_file'].unique()"
      ],
      "execution_count": null,
      "outputs": [
        {
          "output_type": "execute_result",
          "data": {
            "text/plain": [
              "array(['+', '+1', '+2', '+4', '+3', '+5', '+11', '+6', '+7', '+10', '+8',\n",
              "       '+9', '+16', '+14', '+12', '+15', '+41', '+13', nan, '-1', '-5',\n",
              "       '-2', '-17', '-4', '-9', '-3', '-7', '-6', '-12'], dtype=object)"
            ]
          },
          "metadata": {},
          "execution_count": 84
        }
      ]
    },
    {
      "cell_type": "markdown",
      "metadata": {
        "id": "DH8zv6mpFK7C"
      },
      "source": [
        "`+` - задача сдана (число - это количество посылок в систему)\n",
        "\n",
        "`-` - решение задачи неверное (число - это количество посылок в систему)\n",
        "\n",
        "`пустое значение` - задача не решалась"
      ]
    },
    {
      "cell_type": "markdown",
      "metadata": {
        "id": "kL13dkeDFpCd"
      },
      "source": [
        "Заменим отрицальные и пустые значения - 0. А положительные значения - 1."
      ]
    },
    {
      "cell_type": "code",
      "metadata": {
        "colab": {
          "base_uri": "https://localhost:8080/",
          "height": 296
        },
        "id": "pRRBngD4G1IL",
        "outputId": "e8feeaa8-9b13-45bc-c007-870efcf585bb"
      },
      "source": [
        "df_res4.fillna(0, inplace = True)\n",
        "df_res4.tail()"
      ],
      "execution_count": null,
      "outputs": [
        {
          "output_type": "execute_result",
          "data": {
            "text/html": [
              "<div>\n",
              "<style scoped>\n",
              "    .dataframe tbody tr th:only-of-type {\n",
              "        vertical-align: middle;\n",
              "    }\n",
              "\n",
              "    .dataframe tbody tr th {\n",
              "        vertical-align: top;\n",
              "    }\n",
              "\n",
              "    .dataframe thead th {\n",
              "        text-align: right;\n",
              "    }\n",
              "</style>\n",
              "<table border=\"1\" class=\"dataframe\">\n",
              "  <thead>\n",
              "    <tr style=\"text-align: right;\">\n",
              "      <th></th>\n",
              "      <th>факультет</th>\n",
              "      <th>login</th>\n",
              "      <th>3_binary_to_decimal_conversion</th>\n",
              "      <th>4_calculating_the_fraction</th>\n",
              "      <th>5_sum_of_a_sequence_of_numbers</th>\n",
              "      <th>6_element_of_a_geometric_progression</th>\n",
              "      <th>7_bank_deposit_with_csv_file</th>\n",
              "      <th>score</th>\n",
              "    </tr>\n",
              "  </thead>\n",
              "  <tbody>\n",
              "    <tr>\n",
              "      <th>576</th>\n",
              "      <td>Не из МГУ</td>\n",
              "      <td>649785e57a2a3aee0e9ac4a21e415f5933885b9a</td>\n",
              "      <td>0</td>\n",
              "      <td>0</td>\n",
              "      <td>0</td>\n",
              "      <td>0</td>\n",
              "      <td>0</td>\n",
              "      <td>2</td>\n",
              "    </tr>\n",
              "    <tr>\n",
              "      <th>577</th>\n",
              "      <td>Не из МГУ</td>\n",
              "      <td>6d3c0a5c6b2221166aa6a0175a6b980a1aa832b5</td>\n",
              "      <td>-1</td>\n",
              "      <td>0</td>\n",
              "      <td>0</td>\n",
              "      <td>0</td>\n",
              "      <td>0</td>\n",
              "      <td>2</td>\n",
              "    </tr>\n",
              "    <tr>\n",
              "      <th>578</th>\n",
              "      <td>Факультет журналистики</td>\n",
              "      <td>f31cb3e1d47bd5a779436703c022ee68cc0653e4</td>\n",
              "      <td>-1</td>\n",
              "      <td>0</td>\n",
              "      <td>-1</td>\n",
              "      <td>0</td>\n",
              "      <td>0</td>\n",
              "      <td>2</td>\n",
              "    </tr>\n",
              "    <tr>\n",
              "      <th>579</th>\n",
              "      <td>Механико-математический факультет</td>\n",
              "      <td>986b83299cab9095e565951824d45cade265bbab</td>\n",
              "      <td>0</td>\n",
              "      <td>0</td>\n",
              "      <td>0</td>\n",
              "      <td>0</td>\n",
              "      <td>0</td>\n",
              "      <td>2</td>\n",
              "    </tr>\n",
              "    <tr>\n",
              "      <th>580</th>\n",
              "      <td>Физический факультет</td>\n",
              "      <td>d5a866441c4a69303e124e2074113a8981e87ba9</td>\n",
              "      <td>0</td>\n",
              "      <td>0</td>\n",
              "      <td>0</td>\n",
              "      <td>0</td>\n",
              "      <td>0</td>\n",
              "      <td>2</td>\n",
              "    </tr>\n",
              "  </tbody>\n",
              "</table>\n",
              "</div>"
            ],
            "text/plain": [
              "                             факультет  ... score\n",
              "576                          Не из МГУ  ...     2\n",
              "577                          Не из МГУ  ...     2\n",
              "578             Факультет журналистики  ...     2\n",
              "579  Механико-математический факультет  ...     2\n",
              "580               Физический факультет  ...     2\n",
              "\n",
              "[5 rows x 8 columns]"
            ]
          },
          "metadata": {},
          "execution_count": 85
        }
      ]
    },
    {
      "cell_type": "code",
      "metadata": {
        "id": "21bBYqPGGoPV"
      },
      "source": [
        "def func_score(s):\n",
        "  if s == 0:\n",
        "    return 0\n",
        "  elif s[0] == '+':\n",
        "    return 1\n",
        "  else:\n",
        "    return 0"
      ],
      "execution_count": null,
      "outputs": []
    },
    {
      "cell_type": "code",
      "metadata": {
        "id": "ybMj482BFKQX"
      },
      "source": [
        "df_res4['7_bank_deposit_with_csv_file'] = df_res4['7_bank_deposit_with_csv_file'].apply(func_score)"
      ],
      "execution_count": null,
      "outputs": []
    },
    {
      "cell_type": "code",
      "metadata": {
        "colab": {
          "base_uri": "https://localhost:8080/"
        },
        "id": "SReDFE3YH7_3",
        "outputId": "6bec7f21-a445-491b-90a9-3d00e09faa37"
      },
      "source": [
        "df_res4['7_bank_deposit_with_csv_file'].unique()"
      ],
      "execution_count": null,
      "outputs": [
        {
          "output_type": "execute_result",
          "data": {
            "text/plain": [
              "array([1, 0])"
            ]
          },
          "metadata": {},
          "execution_count": 88
        }
      ]
    },
    {
      "cell_type": "markdown",
      "source": [
        "То же самое проделаем для данных по всем задачам."
      ],
      "metadata": {
        "id": "mNLfPZRAZVQ6"
      }
    },
    {
      "cell_type": "code",
      "metadata": {
        "id": "kU805aedIEUV"
      },
      "source": [
        "for column in df_res4.columns[2:6]:\n",
        "  df_res4[column] = df_res4[column].apply(func_score)"
      ],
      "execution_count": null,
      "outputs": []
    },
    {
      "cell_type": "markdown",
      "metadata": {
        "id": "iGHVYXKednVk"
      },
      "source": [
        "## Визуализация"
      ]
    },
    {
      "cell_type": "markdown",
      "metadata": {
        "id": "6inuf_HtdKt7"
      },
      "source": [
        "Посмотрим, сколько человек решили каждую из задач."
      ]
    },
    {
      "cell_type": "code",
      "metadata": {
        "colab": {
          "base_uri": "https://localhost:8080/",
          "height": 282
        },
        "id": "xVhTwZVTenYz",
        "outputId": "4e5ced0b-0ec5-4bb7-ec7f-d2c94da90989"
      },
      "source": [
        "tasks = df_res4.columns[2:7]\n",
        "df_res4[tasks].sum().plot(kind='barh')"
      ],
      "execution_count": null,
      "outputs": [
        {
          "output_type": "execute_result",
          "data": {
            "text/plain": [
              "<matplotlib.axes._subplots.AxesSubplot at 0x7ffb46b9ae10>"
            ]
          },
          "metadata": {},
          "execution_count": 90
        },
        {
          "output_type": "display_data",
          "data": {
            "image/png": "[encoded data removed]",
            "text/plain": [
              "<Figure size 432x288 with 1 Axes>"
            ]
          },
          "metadata": {
            "needs_background": "light"
          }
        }
      ]
    },
    {
      "cell_type": "markdown",
      "metadata": {
        "id": "Nu0HSZDfqIle"
      },
      "source": [
        "## Объединение данных из нескольких таблиц"
      ]
    },
    {
      "cell_type": "markdown",
      "metadata": {
        "id": "ErFTwDctzWWC"
      },
      "source": [
        "В одной таблице хранятся данные только по одному домашнему заданию. Чтобы получить полную картину по результатам выполнения домашних работ, необходимо объединить все данные. Объединим результаты выполнения домашнего задания к лекции 4 и домашнего задания к лекции 5."
      ]
    },
    {
      "cell_type": "markdown",
      "metadata": {
        "id": "I2omRka2iCe9"
      },
      "source": [
        "## merge"
      ]
    },
    {
      "cell_type": "code",
      "metadata": {
        "id": "WuI5KmRUiEPr"
      },
      "source": [
        "hw4 = {'login':  ['login1', 'login2', 'login3'], \\\n",
        "       'score4': [5, 4, 5]}\n",
        "hw5 = {'login':  ['login3', 'login1', 'login4', 'login5'], \\\n",
        "       'score5': [2, 0, 5, 4]}"
      ],
      "execution_count": null,
      "outputs": []
    },
    {
      "cell_type": "code",
      "metadata": {
        "id": "hjOq0rqciu3w"
      },
      "source": [
        "df_hw4 = pd.DataFrame(hw4)\n",
        "df_hw5 = pd.DataFrame(hw5)"
      ],
      "execution_count": null,
      "outputs": []
    },
    {
      "cell_type": "code",
      "metadata": {
        "colab": {
          "base_uri": "https://localhost:8080/",
          "height": 143
        },
        "id": "F07ZF8m9i-ts",
        "outputId": "c97c5af4-821d-4d73-8245-c526edd4c9d8"
      },
      "source": [
        "df_hw4"
      ],
      "execution_count": null,
      "outputs": [
        {
          "output_type": "execute_result",
          "data": {
            "text/html": [
              "<div>\n",
              "<style scoped>\n",
              "    .dataframe tbody tr th:only-of-type {\n",
              "        vertical-align: middle;\n",
              "    }\n",
              "\n",
              "    .dataframe tbody tr th {\n",
              "        vertical-align: top;\n",
              "    }\n",
              "\n",
              "    .dataframe thead th {\n",
              "        text-align: right;\n",
              "    }\n",
              "</style>\n",
              "<table border=\"1\" class=\"dataframe\">\n",
              "  <thead>\n",
              "    <tr style=\"text-align: right;\">\n",
              "      <th></th>\n",
              "      <th>login</th>\n",
              "      <th>score4</th>\n",
              "    </tr>\n",
              "  </thead>\n",
              "  <tbody>\n",
              "    <tr>\n",
              "      <th>0</th>\n",
              "      <td>login1</td>\n",
              "      <td>5</td>\n",
              "    </tr>\n",
              "    <tr>\n",
              "      <th>1</th>\n",
              "      <td>login2</td>\n",
              "      <td>4</td>\n",
              "    </tr>\n",
              "    <tr>\n",
              "      <th>2</th>\n",
              "      <td>login3</td>\n",
              "      <td>5</td>\n",
              "    </tr>\n",
              "  </tbody>\n",
              "</table>\n",
              "</div>"
            ],
            "text/plain": [
              "    login  score4\n",
              "0  login1       5\n",
              "1  login2       4\n",
              "2  login3       5"
            ]
          },
          "metadata": {},
          "execution_count": 160
        }
      ]
    },
    {
      "cell_type": "code",
      "metadata": {
        "colab": {
          "base_uri": "https://localhost:8080/",
          "height": 175
        },
        "id": "_ee2QSTDjA8m",
        "outputId": "7e08831c-9ce2-40e0-9bf6-78b94b1664c9"
      },
      "source": [
        "df_hw5"
      ],
      "execution_count": null,
      "outputs": [
        {
          "output_type": "execute_result",
          "data": {
            "text/html": [
              "<div>\n",
              "<style scoped>\n",
              "    .dataframe tbody tr th:only-of-type {\n",
              "        vertical-align: middle;\n",
              "    }\n",
              "\n",
              "    .dataframe tbody tr th {\n",
              "        vertical-align: top;\n",
              "    }\n",
              "\n",
              "    .dataframe thead th {\n",
              "        text-align: right;\n",
              "    }\n",
              "</style>\n",
              "<table border=\"1\" class=\"dataframe\">\n",
              "  <thead>\n",
              "    <tr style=\"text-align: right;\">\n",
              "      <th></th>\n",
              "      <th>login</th>\n",
              "      <th>score5</th>\n",
              "    </tr>\n",
              "  </thead>\n",
              "  <tbody>\n",
              "    <tr>\n",
              "      <th>0</th>\n",
              "      <td>login3</td>\n",
              "      <td>2</td>\n",
              "    </tr>\n",
              "    <tr>\n",
              "      <th>1</th>\n",
              "      <td>login1</td>\n",
              "      <td>0</td>\n",
              "    </tr>\n",
              "    <tr>\n",
              "      <th>2</th>\n",
              "      <td>login4</td>\n",
              "      <td>5</td>\n",
              "    </tr>\n",
              "    <tr>\n",
              "      <th>3</th>\n",
              "      <td>login5</td>\n",
              "      <td>4</td>\n",
              "    </tr>\n",
              "  </tbody>\n",
              "</table>\n",
              "</div>"
            ],
            "text/plain": [
              "    login  score5\n",
              "0  login3       2\n",
              "1  login1       0\n",
              "2  login4       5\n",
              "3  login5       4"
            ]
          },
          "metadata": {},
          "execution_count": 161
        }
      ]
    },
    {
      "cell_type": "code",
      "metadata": {
        "colab": {
          "base_uri": "https://localhost:8080/",
          "height": 112
        },
        "id": "t4i81SQojT4S",
        "outputId": "c868db86-8a71-47ff-9ff7-bd90bdea0a2d"
      },
      "source": [
        "df_hw4.merge(df_hw5, on = 'login', how = 'inner')"
      ],
      "execution_count": null,
      "outputs": [
        {
          "output_type": "execute_result",
          "data": {
            "text/html": [
              "<div>\n",
              "<style scoped>\n",
              "    .dataframe tbody tr th:only-of-type {\n",
              "        vertical-align: middle;\n",
              "    }\n",
              "\n",
              "    .dataframe tbody tr th {\n",
              "        vertical-align: top;\n",
              "    }\n",
              "\n",
              "    .dataframe thead th {\n",
              "        text-align: right;\n",
              "    }\n",
              "</style>\n",
              "<table border=\"1\" class=\"dataframe\">\n",
              "  <thead>\n",
              "    <tr style=\"text-align: right;\">\n",
              "      <th></th>\n",
              "      <th>login</th>\n",
              "      <th>score4</th>\n",
              "      <th>score5</th>\n",
              "    </tr>\n",
              "  </thead>\n",
              "  <tbody>\n",
              "    <tr>\n",
              "      <th>0</th>\n",
              "      <td>login1</td>\n",
              "      <td>5</td>\n",
              "      <td>0</td>\n",
              "    </tr>\n",
              "    <tr>\n",
              "      <th>1</th>\n",
              "      <td>login3</td>\n",
              "      <td>5</td>\n",
              "      <td>2</td>\n",
              "    </tr>\n",
              "  </tbody>\n",
              "</table>\n",
              "</div>"
            ],
            "text/plain": [
              "    login  score4  score5\n",
              "0  login1       5       0\n",
              "1  login3       5       2"
            ]
          },
          "metadata": {},
          "execution_count": 163
        }
      ]
    },
    {
      "cell_type": "code",
      "metadata": {
        "colab": {
          "base_uri": "https://localhost:8080/",
          "height": 206
        },
        "id": "2LLx6ZBWkZsw",
        "outputId": "bbea8cc1-cc20-4701-b3bf-0101d41a11dd"
      },
      "source": [
        "df_full = df_hw4.merge(df_hw5, on = 'login', how = 'outer')\n",
        "df_full"
      ],
      "execution_count": null,
      "outputs": [
        {
          "output_type": "execute_result",
          "data": {
            "text/html": [
              "<div>\n",
              "<style scoped>\n",
              "    .dataframe tbody tr th:only-of-type {\n",
              "        vertical-align: middle;\n",
              "    }\n",
              "\n",
              "    .dataframe tbody tr th {\n",
              "        vertical-align: top;\n",
              "    }\n",
              "\n",
              "    .dataframe thead th {\n",
              "        text-align: right;\n",
              "    }\n",
              "</style>\n",
              "<table border=\"1\" class=\"dataframe\">\n",
              "  <thead>\n",
              "    <tr style=\"text-align: right;\">\n",
              "      <th></th>\n",
              "      <th>login</th>\n",
              "      <th>score4</th>\n",
              "      <th>score5</th>\n",
              "    </tr>\n",
              "  </thead>\n",
              "  <tbody>\n",
              "    <tr>\n",
              "      <th>0</th>\n",
              "      <td>login1</td>\n",
              "      <td>5.0</td>\n",
              "      <td>0.0</td>\n",
              "    </tr>\n",
              "    <tr>\n",
              "      <th>1</th>\n",
              "      <td>login2</td>\n",
              "      <td>4.0</td>\n",
              "      <td>NaN</td>\n",
              "    </tr>\n",
              "    <tr>\n",
              "      <th>2</th>\n",
              "      <td>login3</td>\n",
              "      <td>5.0</td>\n",
              "      <td>2.0</td>\n",
              "    </tr>\n",
              "    <tr>\n",
              "      <th>3</th>\n",
              "      <td>login4</td>\n",
              "      <td>NaN</td>\n",
              "      <td>5.0</td>\n",
              "    </tr>\n",
              "    <tr>\n",
              "      <th>4</th>\n",
              "      <td>login5</td>\n",
              "      <td>NaN</td>\n",
              "      <td>4.0</td>\n",
              "    </tr>\n",
              "  </tbody>\n",
              "</table>\n",
              "</div>"
            ],
            "text/plain": [
              "    login  score4  score5\n",
              "0  login1     5.0     0.0\n",
              "1  login2     4.0     NaN\n",
              "2  login3     5.0     2.0\n",
              "3  login4     NaN     5.0\n",
              "4  login5     NaN     4.0"
            ]
          },
          "metadata": {},
          "execution_count": 169
        }
      ]
    },
    {
      "cell_type": "code",
      "metadata": {
        "id": "kzYBO7pOkl-8"
      },
      "source": [
        "full_names_msu = {'login':  ['login1', 'login2', 'login3', 'login4', 'login6'],\\\n",
        "              'names': ['name1', 'name2', 'name3', 'name4', 'name6']}\n",
        "df_msu = pd.DataFrame(full_names_msu)"
      ],
      "execution_count": null,
      "outputs": []
    },
    {
      "cell_type": "code",
      "metadata": {
        "colab": {
          "base_uri": "https://localhost:8080/",
          "height": 206
        },
        "id": "45nUFt7NmKqb",
        "outputId": "9ac979a5-d647-49bd-968d-ad2d131eaf6e"
      },
      "source": [
        "df_msu.merge(df_full, on = 'login', how = 'left')"
      ],
      "execution_count": null,
      "outputs": [
        {
          "output_type": "execute_result",
          "data": {
            "text/html": [
              "<div>\n",
              "<style scoped>\n",
              "    .dataframe tbody tr th:only-of-type {\n",
              "        vertical-align: middle;\n",
              "    }\n",
              "\n",
              "    .dataframe tbody tr th {\n",
              "        vertical-align: top;\n",
              "    }\n",
              "\n",
              "    .dataframe thead th {\n",
              "        text-align: right;\n",
              "    }\n",
              "</style>\n",
              "<table border=\"1\" class=\"dataframe\">\n",
              "  <thead>\n",
              "    <tr style=\"text-align: right;\">\n",
              "      <th></th>\n",
              "      <th>login</th>\n",
              "      <th>names</th>\n",
              "      <th>score4</th>\n",
              "      <th>score5</th>\n",
              "    </tr>\n",
              "  </thead>\n",
              "  <tbody>\n",
              "    <tr>\n",
              "      <th>0</th>\n",
              "      <td>login1</td>\n",
              "      <td>name1</td>\n",
              "      <td>5.0</td>\n",
              "      <td>0.0</td>\n",
              "    </tr>\n",
              "    <tr>\n",
              "      <th>1</th>\n",
              "      <td>login2</td>\n",
              "      <td>name2</td>\n",
              "      <td>4.0</td>\n",
              "      <td>NaN</td>\n",
              "    </tr>\n",
              "    <tr>\n",
              "      <th>2</th>\n",
              "      <td>login3</td>\n",
              "      <td>name3</td>\n",
              "      <td>5.0</td>\n",
              "      <td>2.0</td>\n",
              "    </tr>\n",
              "    <tr>\n",
              "      <th>3</th>\n",
              "      <td>login4</td>\n",
              "      <td>name4</td>\n",
              "      <td>NaN</td>\n",
              "      <td>5.0</td>\n",
              "    </tr>\n",
              "    <tr>\n",
              "      <th>4</th>\n",
              "      <td>login6</td>\n",
              "      <td>name6</td>\n",
              "      <td>NaN</td>\n",
              "      <td>NaN</td>\n",
              "    </tr>\n",
              "  </tbody>\n",
              "</table>\n",
              "</div>"
            ],
            "text/plain": [
              "    login  names  score4  score5\n",
              "0  login1  name1     5.0     0.0\n",
              "1  login2  name2     4.0     NaN\n",
              "2  login3  name3     5.0     2.0\n",
              "3  login4  name4     NaN     5.0\n",
              "4  login6  name6     NaN     NaN"
            ]
          },
          "metadata": {},
          "execution_count": 176
        }
      ]
    },
    {
      "cell_type": "code",
      "metadata": {
        "colab": {
          "base_uri": "https://localhost:8080/",
          "height": 206
        },
        "id": "pY6k5Ttbo2Fx",
        "outputId": "54696e87-f55c-4d69-d0dd-5cb76ce4c77f"
      },
      "source": [
        "df_full.merge(df_msu, on = 'login', how = 'left')"
      ],
      "execution_count": null,
      "outputs": [
        {
          "output_type": "execute_result",
          "data": {
            "text/html": [
              "<div>\n",
              "<style scoped>\n",
              "    .dataframe tbody tr th:only-of-type {\n",
              "        vertical-align: middle;\n",
              "    }\n",
              "\n",
              "    .dataframe tbody tr th {\n",
              "        vertical-align: top;\n",
              "    }\n",
              "\n",
              "    .dataframe thead th {\n",
              "        text-align: right;\n",
              "    }\n",
              "</style>\n",
              "<table border=\"1\" class=\"dataframe\">\n",
              "  <thead>\n",
              "    <tr style=\"text-align: right;\">\n",
              "      <th></th>\n",
              "      <th>login</th>\n",
              "      <th>score4</th>\n",
              "      <th>score5</th>\n",
              "      <th>names</th>\n",
              "    </tr>\n",
              "  </thead>\n",
              "  <tbody>\n",
              "    <tr>\n",
              "      <th>0</th>\n",
              "      <td>login1</td>\n",
              "      <td>5.0</td>\n",
              "      <td>0.0</td>\n",
              "      <td>name1</td>\n",
              "    </tr>\n",
              "    <tr>\n",
              "      <th>1</th>\n",
              "      <td>login2</td>\n",
              "      <td>4.0</td>\n",
              "      <td>NaN</td>\n",
              "      <td>name2</td>\n",
              "    </tr>\n",
              "    <tr>\n",
              "      <th>2</th>\n",
              "      <td>login3</td>\n",
              "      <td>5.0</td>\n",
              "      <td>2.0</td>\n",
              "      <td>name3</td>\n",
              "    </tr>\n",
              "    <tr>\n",
              "      <th>3</th>\n",
              "      <td>login4</td>\n",
              "      <td>NaN</td>\n",
              "      <td>5.0</td>\n",
              "      <td>name4</td>\n",
              "    </tr>\n",
              "    <tr>\n",
              "      <th>4</th>\n",
              "      <td>login5</td>\n",
              "      <td>NaN</td>\n",
              "      <td>4.0</td>\n",
              "      <td>NaN</td>\n",
              "    </tr>\n",
              "  </tbody>\n",
              "</table>\n",
              "</div>"
            ],
            "text/plain": [
              "    login  score4  score5  names\n",
              "0  login1     5.0     0.0  name1\n",
              "1  login2     4.0     NaN  name2\n",
              "2  login3     5.0     2.0  name3\n",
              "3  login4     NaN     5.0  name4\n",
              "4  login5     NaN     4.0    NaN"
            ]
          },
          "metadata": {},
          "execution_count": 177
        }
      ]
    },
    {
      "cell_type": "code",
      "metadata": {
        "colab": {
          "base_uri": "https://localhost:8080/",
          "height": 206
        },
        "id": "aIBFZNADo-86",
        "outputId": "c9a32f9e-4a4e-410d-d639-090dcd7ce244"
      },
      "source": [
        "df_msu.merge(df_full, on = 'login', how = 'right')"
      ],
      "execution_count": null,
      "outputs": [
        {
          "output_type": "execute_result",
          "data": {
            "text/html": [
              "<div>\n",
              "<style scoped>\n",
              "    .dataframe tbody tr th:only-of-type {\n",
              "        vertical-align: middle;\n",
              "    }\n",
              "\n",
              "    .dataframe tbody tr th {\n",
              "        vertical-align: top;\n",
              "    }\n",
              "\n",
              "    .dataframe thead th {\n",
              "        text-align: right;\n",
              "    }\n",
              "</style>\n",
              "<table border=\"1\" class=\"dataframe\">\n",
              "  <thead>\n",
              "    <tr style=\"text-align: right;\">\n",
              "      <th></th>\n",
              "      <th>login</th>\n",
              "      <th>names</th>\n",
              "      <th>score4</th>\n",
              "      <th>score5</th>\n",
              "    </tr>\n",
              "  </thead>\n",
              "  <tbody>\n",
              "    <tr>\n",
              "      <th>0</th>\n",
              "      <td>login1</td>\n",
              "      <td>name1</td>\n",
              "      <td>5.0</td>\n",
              "      <td>0.0</td>\n",
              "    </tr>\n",
              "    <tr>\n",
              "      <th>1</th>\n",
              "      <td>login2</td>\n",
              "      <td>name2</td>\n",
              "      <td>4.0</td>\n",
              "      <td>NaN</td>\n",
              "    </tr>\n",
              "    <tr>\n",
              "      <th>2</th>\n",
              "      <td>login3</td>\n",
              "      <td>name3</td>\n",
              "      <td>5.0</td>\n",
              "      <td>2.0</td>\n",
              "    </tr>\n",
              "    <tr>\n",
              "      <th>3</th>\n",
              "      <td>login4</td>\n",
              "      <td>name4</td>\n",
              "      <td>NaN</td>\n",
              "      <td>5.0</td>\n",
              "    </tr>\n",
              "    <tr>\n",
              "      <th>4</th>\n",
              "      <td>login5</td>\n",
              "      <td>NaN</td>\n",
              "      <td>NaN</td>\n",
              "      <td>4.0</td>\n",
              "    </tr>\n",
              "  </tbody>\n",
              "</table>\n",
              "</div>"
            ],
            "text/plain": [
              "    login  names  score4  score5\n",
              "0  login1  name1     5.0     0.0\n",
              "1  login2  name2     4.0     NaN\n",
              "2  login3  name3     5.0     2.0\n",
              "3  login4  name4     NaN     5.0\n",
              "4  login5    NaN     NaN     4.0"
            ]
          },
          "metadata": {},
          "execution_count": 178
        }
      ]
    },
    {
      "cell_type": "markdown",
      "metadata": {
        "id": "KtU1j34mqmrV"
      },
      "source": [
        "## Объединение данных из контеста"
      ]
    },
    {
      "cell_type": "markdown",
      "metadata": {
        "id": "Kmer2LIMrAYo"
      },
      "source": [
        "Агрегируем данные. "
      ]
    },
    {
      "cell_type": "code",
      "metadata": {
        "colab": {
          "base_uri": "https://localhost:8080/"
        },
        "id": "-gdThWHl3cfM",
        "outputId": "0c8cdb08-e825-4e43-94cd-4b83ce7d3e1f"
      },
      "source": [
        "df_res4.columns"
      ],
      "execution_count": null,
      "outputs": [
        {
          "output_type": "execute_result",
          "data": {
            "text/plain": [
              "Index(['факультет', 'login', '3_binary_to_decimal_conversion',\n",
              "       '4_calculating_the_fraction', '5_sum_of_a_sequence_of_numbers',\n",
              "       '6_element_of_a_geometric_progression', '7_bank_deposit_with_csv_file',\n",
              "       'score'],\n",
              "      dtype='object')"
            ]
          },
          "metadata": {},
          "execution_count": 91
        }
      ]
    },
    {
      "cell_type": "code",
      "metadata": {
        "id": "btsYTRpF4Smt"
      },
      "source": [
        "df_res4.drop('score', axis=1, inplace=True)"
      ],
      "execution_count": null,
      "outputs": []
    },
    {
      "cell_type": "code",
      "metadata": {
        "id": "4XZbOy8qvg_Z"
      },
      "source": [
        "df_res4['score'] = df_res4.apply(lambda row: row['3_binary_to_decimal_conversion'] + row['4_calculating_the_fraction']\\\n",
        "                       +row['5_sum_of_a_sequence_of_numbers'] + row['6_element_of_a_geometric_progression'] \\\n",
        "                       + row['7_bank_deposit_with_csv_file'], axis=1)"
      ],
      "execution_count": null,
      "outputs": []
    },
    {
      "cell_type": "code",
      "metadata": {
        "id": "4K9lA_0r4h0e"
      },
      "source": [
        "df_res4.drop(df_res4.columns[2:7], axis=1, inplace=True)"
      ],
      "execution_count": null,
      "outputs": []
    },
    {
      "cell_type": "code",
      "metadata": {
        "colab": {
          "base_uri": "https://localhost:8080/",
          "height": 206
        },
        "id": "-IPAMgfS39Js",
        "outputId": "8e2b3abe-64a0-44c3-ddf8-88550dcc8ddd"
      },
      "source": [
        "df_res4.tail()"
      ],
      "execution_count": null,
      "outputs": [
        {
          "output_type": "execute_result",
          "data": {
            "text/html": [
              "<div>\n",
              "<style scoped>\n",
              "    .dataframe tbody tr th:only-of-type {\n",
              "        vertical-align: middle;\n",
              "    }\n",
              "\n",
              "    .dataframe tbody tr th {\n",
              "        vertical-align: top;\n",
              "    }\n",
              "\n",
              "    .dataframe thead th {\n",
              "        text-align: right;\n",
              "    }\n",
              "</style>\n",
              "<table border=\"1\" class=\"dataframe\">\n",
              "  <thead>\n",
              "    <tr style=\"text-align: right;\">\n",
              "      <th></th>\n",
              "      <th>факультет</th>\n",
              "      <th>login</th>\n",
              "      <th>score</th>\n",
              "    </tr>\n",
              "  </thead>\n",
              "  <tbody>\n",
              "    <tr>\n",
              "      <th>576</th>\n",
              "      <td>Не из МГУ</td>\n",
              "      <td>649785e57a2a3aee0e9ac4a21e415f5933885b9a</td>\n",
              "      <td>0</td>\n",
              "    </tr>\n",
              "    <tr>\n",
              "      <th>577</th>\n",
              "      <td>Не из МГУ</td>\n",
              "      <td>6d3c0a5c6b2221166aa6a0175a6b980a1aa832b5</td>\n",
              "      <td>0</td>\n",
              "    </tr>\n",
              "    <tr>\n",
              "      <th>578</th>\n",
              "      <td>Факультет журналистики</td>\n",
              "      <td>f31cb3e1d47bd5a779436703c022ee68cc0653e4</td>\n",
              "      <td>0</td>\n",
              "    </tr>\n",
              "    <tr>\n",
              "      <th>579</th>\n",
              "      <td>Механико-математический факультет</td>\n",
              "      <td>986b83299cab9095e565951824d45cade265bbab</td>\n",
              "      <td>0</td>\n",
              "    </tr>\n",
              "    <tr>\n",
              "      <th>580</th>\n",
              "      <td>Физический факультет</td>\n",
              "      <td>d5a866441c4a69303e124e2074113a8981e87ba9</td>\n",
              "      <td>0</td>\n",
              "    </tr>\n",
              "  </tbody>\n",
              "</table>\n",
              "</div>"
            ],
            "text/plain": [
              "                             факультет  ... score\n",
              "576                          Не из МГУ  ...     0\n",
              "577                          Не из МГУ  ...     0\n",
              "578             Факультет журналистики  ...     0\n",
              "579  Механико-математический факультет  ...     0\n",
              "580               Физический факультет  ...     0\n",
              "\n",
              "[5 rows x 3 columns]"
            ]
          },
          "metadata": {},
          "execution_count": 95
        }
      ]
    },
    {
      "cell_type": "code",
      "metadata": {
        "colab": {
          "base_uri": "https://localhost:8080/"
        },
        "id": "y18g68VCzqux",
        "outputId": "5858be8b-4b70-40e5-abf7-102746aa6bee"
      },
      "source": [
        "!wget -O \"result_lec05.csv\" \"https://drive.google.com/uc?id=12r-Y3lOw6nPAVN1VtZM9gWoBDRcwF-Bg&export=download\""
      ],
      "execution_count": null,
      "outputs": [
        {
          "output_type": "stream",
          "name": "stdout",
          "text": [
            "--2021-12-08 04:28:43--  https://drive.google.com/uc?id=12r-Y3lOw6nPAVN1VtZM9gWoBDRcwF-Bg&export=download\n",
            "Resolving drive.google.com (drive.google.com)... 142.250.152.100, 142.250.152.101, 142.250.152.113, ...\n",
            "Connecting to drive.google.com (drive.google.com)|142.250.152.100|:443... connected.\n",
            "HTTP request sent, awaiting response... 302 Moved Temporarily\n",
            "Location: https://doc-0o-1g-docs.googleusercontent.com/docs/securesc/ha0ro937gcuc7l7deffksulhg5h7mbp1/aquk75jcu226r94t7j5lokhl2jdj5ivf/1638937650000/05476118052512889131/*/12r-Y3lOw6nPAVN1VtZM9gWoBDRcwF-Bg?e=download [following]\n",
            "Warning: wildcards not supported in HTTP.\n",
            "--2021-12-08 04:28:44--  https://doc-0o-1g-docs.googleusercontent.com/docs/securesc/ha0ro937gcuc7l7deffksulhg5h7mbp1/aquk75jcu226r94t7j5lokhl2jdj5ivf/1638937650000/05476118052512889131/*/12r-Y3lOw6nPAVN1VtZM9gWoBDRcwF-Bg?e=download\n",
            "Resolving doc-0o-1g-docs.googleusercontent.com (doc-0o-1g-docs.googleusercontent.com)... 142.250.128.132, 2607:f8b0:4001:c32::84\n",
            "Connecting to doc-0o-1g-docs.googleusercontent.com (doc-0o-1g-docs.googleusercontent.com)|142.250.128.132|:443... connected.\n",
            "HTTP request sent, awaiting response... 200 OK\n",
            "Length: 35954 (35K) [text/csv]\n",
            "Saving to: ‘result_lec05.csv’\n",
            "\n",
            "result_lec05.csv    100%[===================>]  35.11K  --.-KB/s    in 0.001s  \n",
            "\n",
            "2021-12-08 04:28:44 (47.2 MB/s) - ‘result_lec05.csv’ saved [35954/35954]\n",
            "\n"
          ]
        }
      ]
    },
    {
      "cell_type": "code",
      "metadata": {
        "id": "eeU_xa9-OVcg"
      },
      "source": [
        "df_res5 = pd.read_csv(\"result_lec05.csv\")"
      ],
      "execution_count": null,
      "outputs": []
    },
    {
      "cell_type": "code",
      "metadata": {
        "colab": {
          "base_uri": "https://localhost:8080/",
          "height": 592
        },
        "id": "bmeAYf5pOdOL",
        "outputId": "f1b9eef4-91d2-403f-8f20-88865bfc828f"
      },
      "source": [
        "df_res5.head(15)"
      ],
      "execution_count": null,
      "outputs": [
        {
          "output_type": "execute_result",
          "data": {
            "text/html": [
              "<div>\n",
              "<style scoped>\n",
              "    .dataframe tbody tr th:only-of-type {\n",
              "        vertical-align: middle;\n",
              "    }\n",
              "\n",
              "    .dataframe tbody tr th {\n",
              "        vertical-align: top;\n",
              "    }\n",
              "\n",
              "    .dataframe thead th {\n",
              "        text-align: right;\n",
              "    }\n",
              "</style>\n",
              "<table border=\"1\" class=\"dataframe\">\n",
              "  <thead>\n",
              "    <tr style=\"text-align: right;\">\n",
              "      <th></th>\n",
              "      <th>Unnamed: 0</th>\n",
              "      <th>login</th>\n",
              "      <th>1(ФИО)</th>\n",
              "      <th>2(Факультет)</th>\n",
              "      <th>3(Две команды)</th>\n",
              "      <th>4(Неопубликованный шедевр)</th>\n",
              "      <th>5(Транспонирование)</th>\n",
              "      <th>6(Логирование звонков)</th>\n",
              "      <th>7(Согласие на обработку персональных данных)</th>\n",
              "      <th>Score</th>\n",
              "      <th>Penalty</th>\n",
              "    </tr>\n",
              "  </thead>\n",
              "  <tbody>\n",
              "    <tr>\n",
              "      <th>0</th>\n",
              "      <td>0</td>\n",
              "      <td>fbfc5d6ad4c6bf3fb324392fb69493abf458a70a</td>\n",
              "      <td>+</td>\n",
              "      <td>+</td>\n",
              "      <td>+</td>\n",
              "      <td>+</td>\n",
              "      <td>+</td>\n",
              "      <td>+</td>\n",
              "      <td>+</td>\n",
              "      <td>7</td>\n",
              "      <td>3</td>\n",
              "    </tr>\n",
              "    <tr>\n",
              "      <th>1</th>\n",
              "      <td>1</td>\n",
              "      <td>5f573d6862c12cf65380db14a20a8b38af2fdc87</td>\n",
              "      <td>+</td>\n",
              "      <td>+</td>\n",
              "      <td>+</td>\n",
              "      <td>+</td>\n",
              "      <td>+</td>\n",
              "      <td>+</td>\n",
              "      <td>+</td>\n",
              "      <td>7</td>\n",
              "      <td>4</td>\n",
              "    </tr>\n",
              "    <tr>\n",
              "      <th>2</th>\n",
              "      <td>2</td>\n",
              "      <td>9b0ea49f8304ecd88fc0d325a4321b760b8850bd</td>\n",
              "      <td>+</td>\n",
              "      <td>+</td>\n",
              "      <td>+</td>\n",
              "      <td>+</td>\n",
              "      <td>+</td>\n",
              "      <td>+</td>\n",
              "      <td>+</td>\n",
              "      <td>7</td>\n",
              "      <td>6</td>\n",
              "    </tr>\n",
              "    <tr>\n",
              "      <th>3</th>\n",
              "      <td>3</td>\n",
              "      <td>f6ece086ffc99cc0c964cf210ac28bd136e5c832</td>\n",
              "      <td>+</td>\n",
              "      <td>+</td>\n",
              "      <td>+</td>\n",
              "      <td>+</td>\n",
              "      <td>+</td>\n",
              "      <td>+</td>\n",
              "      <td>+</td>\n",
              "      <td>7</td>\n",
              "      <td>8</td>\n",
              "    </tr>\n",
              "    <tr>\n",
              "      <th>4</th>\n",
              "      <td>4</td>\n",
              "      <td>851f8c0ecfacae4a02552246a8c500d6000b5c27</td>\n",
              "      <td>+</td>\n",
              "      <td>+</td>\n",
              "      <td>+</td>\n",
              "      <td>+</td>\n",
              "      <td>+</td>\n",
              "      <td>+</td>\n",
              "      <td>+</td>\n",
              "      <td>7</td>\n",
              "      <td>9</td>\n",
              "    </tr>\n",
              "    <tr>\n",
              "      <th>5</th>\n",
              "      <td>5</td>\n",
              "      <td>4e9e7211e52c739bf8306f760f2e5aeac39638f2</td>\n",
              "      <td>+</td>\n",
              "      <td>+</td>\n",
              "      <td>+</td>\n",
              "      <td>+</td>\n",
              "      <td>+</td>\n",
              "      <td>+</td>\n",
              "      <td>+</td>\n",
              "      <td>7</td>\n",
              "      <td>10</td>\n",
              "    </tr>\n",
              "    <tr>\n",
              "      <th>6</th>\n",
              "      <td>6</td>\n",
              "      <td>669cfced9d7181d42bb84c6a8a976e524de2f429</td>\n",
              "      <td>+</td>\n",
              "      <td>+</td>\n",
              "      <td>+</td>\n",
              "      <td>+</td>\n",
              "      <td>+</td>\n",
              "      <td>+</td>\n",
              "      <td>+</td>\n",
              "      <td>7</td>\n",
              "      <td>10</td>\n",
              "    </tr>\n",
              "    <tr>\n",
              "      <th>7</th>\n",
              "      <td>7</td>\n",
              "      <td>41747d3351e7134e02d3a8c580945a6b7393bcfd</td>\n",
              "      <td>+</td>\n",
              "      <td>+</td>\n",
              "      <td>+</td>\n",
              "      <td>+</td>\n",
              "      <td>+</td>\n",
              "      <td>+</td>\n",
              "      <td>+</td>\n",
              "      <td>7</td>\n",
              "      <td>10</td>\n",
              "    </tr>\n",
              "    <tr>\n",
              "      <th>8</th>\n",
              "      <td>8</td>\n",
              "      <td>e846adc68ab04c06b4021a1b29bfbdbcd4fe0121</td>\n",
              "      <td>+</td>\n",
              "      <td>+</td>\n",
              "      <td>+</td>\n",
              "      <td>+</td>\n",
              "      <td>+</td>\n",
              "      <td>+</td>\n",
              "      <td>+</td>\n",
              "      <td>7</td>\n",
              "      <td>11</td>\n",
              "    </tr>\n",
              "    <tr>\n",
              "      <th>9</th>\n",
              "      <td>9</td>\n",
              "      <td>15cd5ff3626ebe87e54c6158afac933e691f2995</td>\n",
              "      <td>+</td>\n",
              "      <td>+</td>\n",
              "      <td>+</td>\n",
              "      <td>+</td>\n",
              "      <td>+</td>\n",
              "      <td>+</td>\n",
              "      <td>+</td>\n",
              "      <td>7</td>\n",
              "      <td>12</td>\n",
              "    </tr>\n",
              "    <tr>\n",
              "      <th>10</th>\n",
              "      <td>10</td>\n",
              "      <td>b0440ba24aff1d69175fb3eac919e8d05c8148f7</td>\n",
              "      <td>+</td>\n",
              "      <td>+</td>\n",
              "      <td>+</td>\n",
              "      <td>+</td>\n",
              "      <td>+</td>\n",
              "      <td>+</td>\n",
              "      <td>+</td>\n",
              "      <td>7</td>\n",
              "      <td>16</td>\n",
              "    </tr>\n",
              "    <tr>\n",
              "      <th>11</th>\n",
              "      <td>11</td>\n",
              "      <td>a4ddb2a043ebc9032ed85b8e0379eb6090ac9b98</td>\n",
              "      <td>+</td>\n",
              "      <td>+</td>\n",
              "      <td>+</td>\n",
              "      <td>+</td>\n",
              "      <td>+</td>\n",
              "      <td>+</td>\n",
              "      <td>+</td>\n",
              "      <td>7</td>\n",
              "      <td>33</td>\n",
              "    </tr>\n",
              "    <tr>\n",
              "      <th>12</th>\n",
              "      <td>12</td>\n",
              "      <td>017c015607d4b36be7282f59d42a8e801388091b</td>\n",
              "      <td>+</td>\n",
              "      <td>+</td>\n",
              "      <td>+</td>\n",
              "      <td>+</td>\n",
              "      <td>+</td>\n",
              "      <td>+</td>\n",
              "      <td>+</td>\n",
              "      <td>7</td>\n",
              "      <td>35</td>\n",
              "    </tr>\n",
              "    <tr>\n",
              "      <th>13</th>\n",
              "      <td>13</td>\n",
              "      <td>066bcce1cc9894c345c5ccedf51a6c5d5274e4da</td>\n",
              "      <td>+</td>\n",
              "      <td>+</td>\n",
              "      <td>+</td>\n",
              "      <td>+</td>\n",
              "      <td>+</td>\n",
              "      <td>+</td>\n",
              "      <td>+</td>\n",
              "      <td>7</td>\n",
              "      <td>36</td>\n",
              "    </tr>\n",
              "    <tr>\n",
              "      <th>14</th>\n",
              "      <td>14</td>\n",
              "      <td>0b832c281713c9931b18c622f4eac9771220afbd</td>\n",
              "      <td>+</td>\n",
              "      <td>+</td>\n",
              "      <td>+1</td>\n",
              "      <td>+</td>\n",
              "      <td>+</td>\n",
              "      <td>+</td>\n",
              "      <td>+</td>\n",
              "      <td>7</td>\n",
              "      <td>38</td>\n",
              "    </tr>\n",
              "  </tbody>\n",
              "</table>\n",
              "</div>"
            ],
            "text/plain": [
              "    Unnamed: 0                                     login  ... Score Penalty\n",
              "0            0  fbfc5d6ad4c6bf3fb324392fb69493abf458a70a  ...     7       3\n",
              "1            1  5f573d6862c12cf65380db14a20a8b38af2fdc87  ...     7       4\n",
              "2            2  9b0ea49f8304ecd88fc0d325a4321b760b8850bd  ...     7       6\n",
              "3            3  f6ece086ffc99cc0c964cf210ac28bd136e5c832  ...     7       8\n",
              "4            4  851f8c0ecfacae4a02552246a8c500d6000b5c27  ...     7       9\n",
              "5            5  4e9e7211e52c739bf8306f760f2e5aeac39638f2  ...     7      10\n",
              "6            6  669cfced9d7181d42bb84c6a8a976e524de2f429  ...     7      10\n",
              "7            7  41747d3351e7134e02d3a8c580945a6b7393bcfd  ...     7      10\n",
              "8            8  e846adc68ab04c06b4021a1b29bfbdbcd4fe0121  ...     7      11\n",
              "9            9  15cd5ff3626ebe87e54c6158afac933e691f2995  ...     7      12\n",
              "10          10  b0440ba24aff1d69175fb3eac919e8d05c8148f7  ...     7      16\n",
              "11          11  a4ddb2a043ebc9032ed85b8e0379eb6090ac9b98  ...     7      33\n",
              "12          12  017c015607d4b36be7282f59d42a8e801388091b  ...     7      35\n",
              "13          13  066bcce1cc9894c345c5ccedf51a6c5d5274e4da  ...     7      36\n",
              "14          14  0b832c281713c9931b18c622f4eac9771220afbd  ...     7      38\n",
              "\n",
              "[15 rows x 11 columns]"
            ]
          },
          "metadata": {},
          "execution_count": 98
        }
      ]
    },
    {
      "cell_type": "code",
      "metadata": {
        "id": "pLsdLXj-OqBs"
      },
      "source": [
        "df_res5.drop(['Unnamed: 0', '1(ФИО)', '2(Факультет)', 'Score', 'Penalty' , '7(Согласие на обработку персональных данных)'], axis = 1, inplace=True)"
      ],
      "execution_count": null,
      "outputs": []
    },
    {
      "cell_type": "code",
      "metadata": {
        "colab": {
          "base_uri": "https://localhost:8080/"
        },
        "id": "goNYjrkjO_iv",
        "outputId": "7e0547d8-a2ab-4255-d90d-d6cd62e73ee7"
      },
      "source": [
        "column_names = df_res5.columns\n",
        "df_res5.columns = [col_name.lower().replace(')', '').replace('(', '_').replace(' ', '_') for col_name in column_names]\n",
        "df_res5.columns"
      ],
      "execution_count": null,
      "outputs": [
        {
          "output_type": "execute_result",
          "data": {
            "text/plain": [
              "Index(['login', '3_две_команды', '4_неопубликованный_шедевр',\n",
              "       '5_транспонирование', '6_логирование_звонков'],\n",
              "      dtype='object')"
            ]
          },
          "metadata": {},
          "execution_count": 100
        }
      ]
    },
    {
      "cell_type": "code",
      "metadata": {
        "id": "Zx-lB__FZPM4"
      },
      "source": [
        "df_res5.fillna(0, inplace = True)\n",
        "for column in df_res5.columns[1:5]:\n",
        "  df_res5[column] = df_res5[column].apply(func_score)"
      ],
      "execution_count": null,
      "outputs": []
    },
    {
      "cell_type": "code",
      "metadata": {
        "id": "D84TLMCf5tpW"
      },
      "source": [
        "df_res5['score'] = df_res5.apply(lambda row: row['3_две_команды'] + row['4_неопубликованный_шедевр']\\\n",
        "                       +row['5_транспонирование'] + row['6_логирование_звонков'] \\\n",
        "                       , axis=1)"
      ],
      "execution_count": null,
      "outputs": []
    },
    {
      "cell_type": "code",
      "metadata": {
        "id": "X9NMuw9G6BIS"
      },
      "source": [
        "df_res5.drop(df_res5.columns[1:5], axis=1, inplace=True)"
      ],
      "execution_count": null,
      "outputs": []
    },
    {
      "cell_type": "code",
      "metadata": {
        "colab": {
          "base_uri": "https://localhost:8080/"
        },
        "id": "9DkV925-6a94",
        "outputId": "252173bf-a8a5-436f-d302-298241cc9fd5"
      },
      "source": [
        "df_res4.shape"
      ],
      "execution_count": null,
      "outputs": [
        {
          "output_type": "execute_result",
          "data": {
            "text/plain": [
              "(562, 3)"
            ]
          },
          "metadata": {},
          "execution_count": 104
        }
      ]
    },
    {
      "cell_type": "code",
      "metadata": {
        "colab": {
          "base_uri": "https://localhost:8080/"
        },
        "id": "ekttMG0U6ezw",
        "outputId": "a5a9d354-778c-46ee-848d-5bdd47d5ca8a"
      },
      "source": [
        "df_res5.shape"
      ],
      "execution_count": null,
      "outputs": [
        {
          "output_type": "execute_result",
          "data": {
            "text/plain": [
              "(538, 2)"
            ]
          },
          "metadata": {},
          "execution_count": 105
        }
      ]
    },
    {
      "cell_type": "code",
      "metadata": {
        "colab": {
          "base_uri": "https://localhost:8080/",
          "height": 424
        },
        "id": "BprAtJX16ioD",
        "outputId": "7b21f294-45d2-4da4-ffc0-8a135564cff3"
      },
      "source": [
        "df = df_res4.merge(df_res5, on = 'login', how = 'left')\n",
        "df"
      ],
      "execution_count": null,
      "outputs": [
        {
          "output_type": "execute_result",
          "data": {
            "text/html": [
              "<div>\n",
              "<style scoped>\n",
              "    .dataframe tbody tr th:only-of-type {\n",
              "        vertical-align: middle;\n",
              "    }\n",
              "\n",
              "    .dataframe tbody tr th {\n",
              "        vertical-align: top;\n",
              "    }\n",
              "\n",
              "    .dataframe thead th {\n",
              "        text-align: right;\n",
              "    }\n",
              "</style>\n",
              "<table border=\"1\" class=\"dataframe\">\n",
              "  <thead>\n",
              "    <tr style=\"text-align: right;\">\n",
              "      <th></th>\n",
              "      <th>факультет</th>\n",
              "      <th>login</th>\n",
              "      <th>score_x</th>\n",
              "      <th>score_y</th>\n",
              "    </tr>\n",
              "  </thead>\n",
              "  <tbody>\n",
              "    <tr>\n",
              "      <th>0</th>\n",
              "      <td>Московская школа экономики</td>\n",
              "      <td>b7130fe59e99562e3021d4d91ee08ffff901767d</td>\n",
              "      <td>5</td>\n",
              "      <td>3.0</td>\n",
              "    </tr>\n",
              "    <tr>\n",
              "      <th>1</th>\n",
              "      <td>Факультет глобальных процессов</td>\n",
              "      <td>41747d3351e7134e02d3a8c580945a6b7393bcfd</td>\n",
              "      <td>5</td>\n",
              "      <td>4.0</td>\n",
              "    </tr>\n",
              "    <tr>\n",
              "      <th>2</th>\n",
              "      <td>Социологический факультет</td>\n",
              "      <td>851f8c0ecfacae4a02552246a8c500d6000b5c27</td>\n",
              "      <td>5</td>\n",
              "      <td>4.0</td>\n",
              "    </tr>\n",
              "    <tr>\n",
              "      <th>3</th>\n",
              "      <td>Московская школа экономики</td>\n",
              "      <td>f7cf7be1d95fa902574ba091b9ff09d9882989b2</td>\n",
              "      <td>5</td>\n",
              "      <td>3.0</td>\n",
              "    </tr>\n",
              "    <tr>\n",
              "      <th>4</th>\n",
              "      <td>Московская школа экономики</td>\n",
              "      <td>f5574bb030871502b8d18328d85223699150b266</td>\n",
              "      <td>5</td>\n",
              "      <td>3.0</td>\n",
              "    </tr>\n",
              "    <tr>\n",
              "      <th>...</th>\n",
              "      <td>...</td>\n",
              "      <td>...</td>\n",
              "      <td>...</td>\n",
              "      <td>...</td>\n",
              "    </tr>\n",
              "    <tr>\n",
              "      <th>557</th>\n",
              "      <td>Не из МГУ</td>\n",
              "      <td>649785e57a2a3aee0e9ac4a21e415f5933885b9a</td>\n",
              "      <td>0</td>\n",
              "      <td>NaN</td>\n",
              "    </tr>\n",
              "    <tr>\n",
              "      <th>558</th>\n",
              "      <td>Не из МГУ</td>\n",
              "      <td>6d3c0a5c6b2221166aa6a0175a6b980a1aa832b5</td>\n",
              "      <td>0</td>\n",
              "      <td>NaN</td>\n",
              "    </tr>\n",
              "    <tr>\n",
              "      <th>559</th>\n",
              "      <td>Факультет журналистики</td>\n",
              "      <td>f31cb3e1d47bd5a779436703c022ee68cc0653e4</td>\n",
              "      <td>0</td>\n",
              "      <td>NaN</td>\n",
              "    </tr>\n",
              "    <tr>\n",
              "      <th>560</th>\n",
              "      <td>Механико-математический факультет</td>\n",
              "      <td>986b83299cab9095e565951824d45cade265bbab</td>\n",
              "      <td>0</td>\n",
              "      <td>NaN</td>\n",
              "    </tr>\n",
              "    <tr>\n",
              "      <th>561</th>\n",
              "      <td>Физический факультет</td>\n",
              "      <td>d5a866441c4a69303e124e2074113a8981e87ba9</td>\n",
              "      <td>0</td>\n",
              "      <td>NaN</td>\n",
              "    </tr>\n",
              "  </tbody>\n",
              "</table>\n",
              "<p>562 rows × 4 columns</p>\n",
              "</div>"
            ],
            "text/plain": [
              "                             факультет  ... score_y\n",
              "0           Московская школа экономики  ...     3.0\n",
              "1       Факультет глобальных процессов  ...     4.0\n",
              "2            Социологический факультет  ...     4.0\n",
              "3           Московская школа экономики  ...     3.0\n",
              "4           Московская школа экономики  ...     3.0\n",
              "..                                 ...  ...     ...\n",
              "557                          Не из МГУ  ...     NaN\n",
              "558                          Не из МГУ  ...     NaN\n",
              "559             Факультет журналистики  ...     NaN\n",
              "560  Механико-математический факультет  ...     NaN\n",
              "561               Физический факультет  ...     NaN\n",
              "\n",
              "[562 rows x 4 columns]"
            ]
          },
          "metadata": {},
          "execution_count": 106
        }
      ]
    },
    {
      "cell_type": "code",
      "metadata": {
        "colab": {
          "base_uri": "https://localhost:8080/",
          "height": 424
        },
        "id": "i5tOzG55I-Zm",
        "outputId": "4181ced5-a493-4b06-9aca-193537100277"
      },
      "source": [
        "df = df_res4.merge(df_res5, on = 'login', how = 'left', suffixes=('_4', '_5'))\n",
        "df"
      ],
      "execution_count": null,
      "outputs": [
        {
          "output_type": "execute_result",
          "data": {
            "text/html": [
              "<div>\n",
              "<style scoped>\n",
              "    .dataframe tbody tr th:only-of-type {\n",
              "        vertical-align: middle;\n",
              "    }\n",
              "\n",
              "    .dataframe tbody tr th {\n",
              "        vertical-align: top;\n",
              "    }\n",
              "\n",
              "    .dataframe thead th {\n",
              "        text-align: right;\n",
              "    }\n",
              "</style>\n",
              "<table border=\"1\" class=\"dataframe\">\n",
              "  <thead>\n",
              "    <tr style=\"text-align: right;\">\n",
              "      <th></th>\n",
              "      <th>факультет</th>\n",
              "      <th>login</th>\n",
              "      <th>score_4</th>\n",
              "      <th>score_5</th>\n",
              "    </tr>\n",
              "  </thead>\n",
              "  <tbody>\n",
              "    <tr>\n",
              "      <th>0</th>\n",
              "      <td>Московская школа экономики</td>\n",
              "      <td>b7130fe59e99562e3021d4d91ee08ffff901767d</td>\n",
              "      <td>5</td>\n",
              "      <td>3.0</td>\n",
              "    </tr>\n",
              "    <tr>\n",
              "      <th>1</th>\n",
              "      <td>Факультет глобальных процессов</td>\n",
              "      <td>41747d3351e7134e02d3a8c580945a6b7393bcfd</td>\n",
              "      <td>5</td>\n",
              "      <td>4.0</td>\n",
              "    </tr>\n",
              "    <tr>\n",
              "      <th>2</th>\n",
              "      <td>Социологический факультет</td>\n",
              "      <td>851f8c0ecfacae4a02552246a8c500d6000b5c27</td>\n",
              "      <td>5</td>\n",
              "      <td>4.0</td>\n",
              "    </tr>\n",
              "    <tr>\n",
              "      <th>3</th>\n",
              "      <td>Московская школа экономики</td>\n",
              "      <td>f7cf7be1d95fa902574ba091b9ff09d9882989b2</td>\n",
              "      <td>5</td>\n",
              "      <td>3.0</td>\n",
              "    </tr>\n",
              "    <tr>\n",
              "      <th>4</th>\n",
              "      <td>Московская школа экономики</td>\n",
              "      <td>f5574bb030871502b8d18328d85223699150b266</td>\n",
              "      <td>5</td>\n",
              "      <td>3.0</td>\n",
              "    </tr>\n",
              "    <tr>\n",
              "      <th>...</th>\n",
              "      <td>...</td>\n",
              "      <td>...</td>\n",
              "      <td>...</td>\n",
              "      <td>...</td>\n",
              "    </tr>\n",
              "    <tr>\n",
              "      <th>557</th>\n",
              "      <td>Не из МГУ</td>\n",
              "      <td>649785e57a2a3aee0e9ac4a21e415f5933885b9a</td>\n",
              "      <td>0</td>\n",
              "      <td>NaN</td>\n",
              "    </tr>\n",
              "    <tr>\n",
              "      <th>558</th>\n",
              "      <td>Не из МГУ</td>\n",
              "      <td>6d3c0a5c6b2221166aa6a0175a6b980a1aa832b5</td>\n",
              "      <td>0</td>\n",
              "      <td>NaN</td>\n",
              "    </tr>\n",
              "    <tr>\n",
              "      <th>559</th>\n",
              "      <td>Факультет журналистики</td>\n",
              "      <td>f31cb3e1d47bd5a779436703c022ee68cc0653e4</td>\n",
              "      <td>0</td>\n",
              "      <td>NaN</td>\n",
              "    </tr>\n",
              "    <tr>\n",
              "      <th>560</th>\n",
              "      <td>Механико-математический факультет</td>\n",
              "      <td>986b83299cab9095e565951824d45cade265bbab</td>\n",
              "      <td>0</td>\n",
              "      <td>NaN</td>\n",
              "    </tr>\n",
              "    <tr>\n",
              "      <th>561</th>\n",
              "      <td>Физический факультет</td>\n",
              "      <td>d5a866441c4a69303e124e2074113a8981e87ba9</td>\n",
              "      <td>0</td>\n",
              "      <td>NaN</td>\n",
              "    </tr>\n",
              "  </tbody>\n",
              "</table>\n",
              "<p>562 rows × 4 columns</p>\n",
              "</div>"
            ],
            "text/plain": [
              "                             факультет  ... score_5\n",
              "0           Московская школа экономики  ...     3.0\n",
              "1       Факультет глобальных процессов  ...     4.0\n",
              "2            Социологический факультет  ...     4.0\n",
              "3           Московская школа экономики  ...     3.0\n",
              "4           Московская школа экономики  ...     3.0\n",
              "..                                 ...  ...     ...\n",
              "557                          Не из МГУ  ...     NaN\n",
              "558                          Не из МГУ  ...     NaN\n",
              "559             Факультет журналистики  ...     NaN\n",
              "560  Механико-математический факультет  ...     NaN\n",
              "561               Физический факультет  ...     NaN\n",
              "\n",
              "[562 rows x 4 columns]"
            ]
          },
          "metadata": {},
          "execution_count": 107
        }
      ]
    },
    {
      "cell_type": "code",
      "source": [
        "df['score_4'].hist()"
      ],
      "metadata": {
        "colab": {
          "base_uri": "https://localhost:8080/",
          "height": 282
        },
        "id": "yjIFrLzpTw84",
        "outputId": "c69cf849-9502-4308-d059-b452271d7992"
      },
      "execution_count": null,
      "outputs": [
        {
          "output_type": "execute_result",
          "data": {
            "text/plain": [
              "<matplotlib.axes._subplots.AxesSubplot at 0x7ffb43063090>"
            ]
          },
          "metadata": {},
          "execution_count": 127
        },
        {
          "output_type": "display_data",
          "data": {
            "image/png": "[encoded data removed]",
            "text/plain": [
              "<Figure size 432x288 with 1 Axes>"
            ]
          },
          "metadata": {
            "needs_background": "light"
          }
        }
      ]
    },
    {
      "cell_type": "markdown",
      "metadata": {
        "id": "RrqlBs8lAZv3"
      },
      "source": [
        "## groupby"
      ]
    },
    {
      "cell_type": "code",
      "metadata": {
        "colab": {
          "base_uri": "https://localhost:8080/"
        },
        "id": "6wBUs3DHAYpS",
        "outputId": "64d9fc5a-83b7-44ac-ab5e-91d5c2dcc46d"
      },
      "source": [
        "df[df['факультет'] == 'Физический факультет']['score_4'].mean()"
      ],
      "execution_count": null,
      "outputs": [
        {
          "output_type": "execute_result",
          "data": {
            "text/plain": [
              "4.435185185185185"
            ]
          },
          "metadata": {},
          "execution_count": 108
        }
      ]
    },
    {
      "cell_type": "code",
      "metadata": {
        "colab": {
          "base_uri": "https://localhost:8080/"
        },
        "id": "7OLIM7b-Brt3",
        "outputId": "2df37457-ddc7-43cf-eaa7-d3e85cfbc88d"
      },
      "source": [
        "df[df['факультет'] == 'Социологический факультет']['score_4'].mean()"
      ],
      "execution_count": null,
      "outputs": [
        {
          "output_type": "execute_result",
          "data": {
            "text/plain": [
              "4.4"
            ]
          },
          "metadata": {},
          "execution_count": 109
        }
      ]
    },
    {
      "cell_type": "code",
      "metadata": {
        "colab": {
          "base_uri": "https://localhost:8080/"
        },
        "id": "i6rTgBoNBypT",
        "outputId": "7ee182a5-dc1b-422e-83cd-15bd612ce667"
      },
      "source": [
        "df[df['факультет'] == 'Факультет вычислительной математики и кибернетики']['score_4'].mean()"
      ],
      "execution_count": null,
      "outputs": [
        {
          "output_type": "execute_result",
          "data": {
            "text/plain": [
              "4.6976744186046515"
            ]
          },
          "metadata": {},
          "execution_count": 110
        }
      ]
    },
    {
      "cell_type": "code",
      "metadata": {
        "colab": {
          "base_uri": "https://localhost:8080/"
        },
        "id": "kp60BRhUB_pU",
        "outputId": "4b8b2786-2917-4f43-99a6-a51557f88908"
      },
      "source": [
        "df[df['факультет'] == 'Не из МГУ']['score_4'].mean()"
      ],
      "execution_count": null,
      "outputs": [
        {
          "output_type": "execute_result",
          "data": {
            "text/plain": [
              "4.073170731707317"
            ]
          },
          "metadata": {},
          "execution_count": 111
        }
      ]
    },
    {
      "cell_type": "code",
      "metadata": {
        "colab": {
          "base_uri": "https://localhost:8080/"
        },
        "id": "fuuk2Mx9CRTA",
        "outputId": "211df504-ffd7-46b9-e7af-c72d6ffa5a25"
      },
      "source": [
        "df.groupby('факультет')['score_4'].mean()"
      ],
      "execution_count": null,
      "outputs": [
        {
          "output_type": "execute_result",
          "data": {
            "text/plain": [
              "факультет\n",
              "Биологический факультет                                  3.880000\n",
              "Биотехнологический факультет                             3.000000\n",
              "Высшая школа государственногоадминистрирования           5.000000\n",
              "Высшая школа современных социальных наук                 4.750000\n",
              "Высшая школа управления и инноваций                      4.000000\n",
              "Географический факультет                                 5.000000\n",
              "Геологический факультет                                  5.000000\n",
              "Институт стран Азии и Африки                             1.000000\n",
              "Исторический факультет                                   3.333333\n",
              "Механико-математический факультет                        4.741935\n",
              "Московская школа экономики                               4.900000\n",
              "Не из МГУ                                                4.073171\n",
              "Социологический факультет                                4.400000\n",
              "Факультет биоинженерии и биоинформатики                  4.800000\n",
              "Факультет вычислительной математики и кибернетики        4.697674\n",
              "Факультет глобальных процессов                           5.000000\n",
              "Факультет государственного управления                    4.500000\n",
              "Факультет журналистики                                   2.000000\n",
              "Факультет космических исследований                       4.666667\n",
              "Факультет мировой политики                               4.000000\n",
              "Факультет наук о материалах                              3.875000\n",
              "Факультет политологии                                    5.000000\n",
              "Факультет почвоведения                                   5.000000\n",
              "Факультет психологии                                     4.250000\n",
              "Факультет фундаментальной медицины                       4.000000\n",
              "Факультет фундаментальной физико-химической инженерии    3.500000\n",
              "Физический факультет                                     4.435185\n",
              "Филологический факультет                                 4.000000\n",
              "Философский факультет                                    4.142857\n",
              "Химический факультет                                     4.500000\n",
              "Экономический факультет                                  4.370370\n",
              "Юридический факультет                                    4.000000\n",
              "Name: score_4, dtype: float64"
            ]
          },
          "metadata": {},
          "execution_count": 112
        }
      ]
    },
    {
      "cell_type": "code",
      "metadata": {
        "colab": {
          "base_uri": "https://localhost:8080/",
          "height": 1000
        },
        "id": "AHG_Og7tEbB1",
        "outputId": "cb86b45d-8f49-4caa-d4e6-24fdfcfd1258"
      },
      "source": [
        "df.groupby('факультет')[['score_4', 'score_5']].mean()"
      ],
      "execution_count": null,
      "outputs": [
        {
          "output_type": "execute_result",
          "data": {
            "text/html": [
              "<div>\n",
              "<style scoped>\n",
              "    .dataframe tbody tr th:only-of-type {\n",
              "        vertical-align: middle;\n",
              "    }\n",
              "\n",
              "    .dataframe tbody tr th {\n",
              "        vertical-align: top;\n",
              "    }\n",
              "\n",
              "    .dataframe thead th {\n",
              "        text-align: right;\n",
              "    }\n",
              "</style>\n",
              "<table border=\"1\" class=\"dataframe\">\n",
              "  <thead>\n",
              "    <tr style=\"text-align: right;\">\n",
              "      <th></th>\n",
              "      <th>score_4</th>\n",
              "      <th>score_5</th>\n",
              "    </tr>\n",
              "    <tr>\n",
              "      <th>факультет</th>\n",
              "      <th></th>\n",
              "      <th></th>\n",
              "    </tr>\n",
              "  </thead>\n",
              "  <tbody>\n",
              "    <tr>\n",
              "      <th>Биологический факультет</th>\n",
              "      <td>3.880000</td>\n",
              "      <td>3.000000</td>\n",
              "    </tr>\n",
              "    <tr>\n",
              "      <th>Биотехнологический факультет</th>\n",
              "      <td>3.000000</td>\n",
              "      <td>3.000000</td>\n",
              "    </tr>\n",
              "    <tr>\n",
              "      <th>Высшая школа государственногоадминистрирования</th>\n",
              "      <td>5.000000</td>\n",
              "      <td>4.000000</td>\n",
              "    </tr>\n",
              "    <tr>\n",
              "      <th>Высшая школа современных социальных наук</th>\n",
              "      <td>4.750000</td>\n",
              "      <td>3.750000</td>\n",
              "    </tr>\n",
              "    <tr>\n",
              "      <th>Высшая школа управления и инноваций</th>\n",
              "      <td>4.000000</td>\n",
              "      <td>4.000000</td>\n",
              "    </tr>\n",
              "    <tr>\n",
              "      <th>Географический факультет</th>\n",
              "      <td>5.000000</td>\n",
              "      <td>3.625000</td>\n",
              "    </tr>\n",
              "    <tr>\n",
              "      <th>Геологический факультет</th>\n",
              "      <td>5.000000</td>\n",
              "      <td>4.000000</td>\n",
              "    </tr>\n",
              "    <tr>\n",
              "      <th>Институт стран Азии и Африки</th>\n",
              "      <td>1.000000</td>\n",
              "      <td>NaN</td>\n",
              "    </tr>\n",
              "    <tr>\n",
              "      <th>Исторический факультет</th>\n",
              "      <td>3.333333</td>\n",
              "      <td>3.500000</td>\n",
              "    </tr>\n",
              "    <tr>\n",
              "      <th>Механико-математический факультет</th>\n",
              "      <td>4.741935</td>\n",
              "      <td>3.715909</td>\n",
              "    </tr>\n",
              "    <tr>\n",
              "      <th>Московская школа экономики</th>\n",
              "      <td>4.900000</td>\n",
              "      <td>2.857143</td>\n",
              "    </tr>\n",
              "    <tr>\n",
              "      <th>Не из МГУ</th>\n",
              "      <td>4.073171</td>\n",
              "      <td>3.137931</td>\n",
              "    </tr>\n",
              "    <tr>\n",
              "      <th>Социологический факультет</th>\n",
              "      <td>4.400000</td>\n",
              "      <td>2.000000</td>\n",
              "    </tr>\n",
              "    <tr>\n",
              "      <th>Факультет биоинженерии и биоинформатики</th>\n",
              "      <td>4.800000</td>\n",
              "      <td>3.666667</td>\n",
              "    </tr>\n",
              "    <tr>\n",
              "      <th>Факультет вычислительной математики и кибернетики</th>\n",
              "      <td>4.697674</td>\n",
              "      <td>3.711864</td>\n",
              "    </tr>\n",
              "    <tr>\n",
              "      <th>Факультет глобальных процессов</th>\n",
              "      <td>5.000000</td>\n",
              "      <td>4.000000</td>\n",
              "    </tr>\n",
              "    <tr>\n",
              "      <th>Факультет государственного управления</th>\n",
              "      <td>4.500000</td>\n",
              "      <td>4.000000</td>\n",
              "    </tr>\n",
              "    <tr>\n",
              "      <th>Факультет журналистики</th>\n",
              "      <td>2.000000</td>\n",
              "      <td>3.000000</td>\n",
              "    </tr>\n",
              "    <tr>\n",
              "      <th>Факультет космических исследований</th>\n",
              "      <td>4.666667</td>\n",
              "      <td>4.000000</td>\n",
              "    </tr>\n",
              "    <tr>\n",
              "      <th>Факультет мировой политики</th>\n",
              "      <td>4.000000</td>\n",
              "      <td>3.000000</td>\n",
              "    </tr>\n",
              "    <tr>\n",
              "      <th>Факультет наук о материалах</th>\n",
              "      <td>3.875000</td>\n",
              "      <td>2.666667</td>\n",
              "    </tr>\n",
              "    <tr>\n",
              "      <th>Факультет политологии</th>\n",
              "      <td>5.000000</td>\n",
              "      <td>4.000000</td>\n",
              "    </tr>\n",
              "    <tr>\n",
              "      <th>Факультет почвоведения</th>\n",
              "      <td>5.000000</td>\n",
              "      <td>1.000000</td>\n",
              "    </tr>\n",
              "    <tr>\n",
              "      <th>Факультет психологии</th>\n",
              "      <td>4.250000</td>\n",
              "      <td>2.750000</td>\n",
              "    </tr>\n",
              "    <tr>\n",
              "      <th>Факультет фундаментальной медицины</th>\n",
              "      <td>4.000000</td>\n",
              "      <td>2.666667</td>\n",
              "    </tr>\n",
              "    <tr>\n",
              "      <th>Факультет фундаментальной физико-химической инженерии</th>\n",
              "      <td>3.500000</td>\n",
              "      <td>3.500000</td>\n",
              "    </tr>\n",
              "    <tr>\n",
              "      <th>Физический факультет</th>\n",
              "      <td>4.435185</td>\n",
              "      <td>3.447917</td>\n",
              "    </tr>\n",
              "    <tr>\n",
              "      <th>Филологический факультет</th>\n",
              "      <td>4.000000</td>\n",
              "      <td>2.666667</td>\n",
              "    </tr>\n",
              "    <tr>\n",
              "      <th>Философский факультет</th>\n",
              "      <td>4.142857</td>\n",
              "      <td>3.500000</td>\n",
              "    </tr>\n",
              "    <tr>\n",
              "      <th>Химический факультет</th>\n",
              "      <td>4.500000</td>\n",
              "      <td>3.184211</td>\n",
              "    </tr>\n",
              "    <tr>\n",
              "      <th>Экономический факультет</th>\n",
              "      <td>4.370370</td>\n",
              "      <td>3.347826</td>\n",
              "    </tr>\n",
              "    <tr>\n",
              "      <th>Юридический факультет</th>\n",
              "      <td>4.000000</td>\n",
              "      <td>3.000000</td>\n",
              "    </tr>\n",
              "  </tbody>\n",
              "</table>\n",
              "</div>"
            ],
            "text/plain": [
              "                                                     score_4   score_5\n",
              "факультет                                                             \n",
              "Биологический факультет                             3.880000  3.000000\n",
              "Биотехнологический факультет                        3.000000  3.000000\n",
              "Высшая школа государственногоадминистрирования      5.000000  4.000000\n",
              "Высшая школа современных социальных наук            4.750000  3.750000\n",
              "Высшая школа управления и инноваций                 4.000000  4.000000\n",
              "Географический факультет                            5.000000  3.625000\n",
              "Геологический факультет                             5.000000  4.000000\n",
              "Институт стран Азии и Африки                        1.000000       NaN\n",
              "Исторический факультет                              3.333333  3.500000\n",
              "Механико-математический факультет                   4.741935  3.715909\n",
              "Московская школа экономики                          4.900000  2.857143\n",
              "Не из МГУ                                           4.073171  3.137931\n",
              "Социологический факультет                           4.400000  2.000000\n",
              "Факультет биоинженерии и биоинформатики             4.800000  3.666667\n",
              "Факультет вычислительной математики и кибернетики   4.697674  3.711864\n",
              "Факультет глобальных процессов                      5.000000  4.000000\n",
              "Факультет государственного управления               4.500000  4.000000\n",
              "Факультет журналистики                              2.000000  3.000000\n",
              "Факультет космических исследований                  4.666667  4.000000\n",
              "Факультет мировой политики                          4.000000  3.000000\n",
              "Факультет наук о материалах                         3.875000  2.666667\n",
              "Факультет политологии                               5.000000  4.000000\n",
              "Факультет почвоведения                              5.000000  1.000000\n",
              "Факультет психологии                                4.250000  2.750000\n",
              "Факультет фундаментальной медицины                  4.000000  2.666667\n",
              "Факультет фундаментальной физико-химической инж...  3.500000  3.500000\n",
              "Физический факультет                                4.435185  3.447917\n",
              "Филологический факультет                            4.000000  2.666667\n",
              "Философский факультет                               4.142857  3.500000\n",
              "Химический факультет                                4.500000  3.184211\n",
              "Экономический факультет                             4.370370  3.347826\n",
              "Юридический факультет                               4.000000  3.000000"
            ]
          },
          "metadata": {},
          "execution_count": 113
        }
      ]
    },
    {
      "cell_type": "markdown",
      "metadata": {
        "id": "D2W08QQmKMn2"
      },
      "source": [
        "# Индексация"
      ]
    },
    {
      "cell_type": "code",
      "source": [
        "hw5 = {'login':  ['login3', 'login1', 'login4', 'login5'], \\\n",
        "       'score4': [2, 0, 5, 4], 'score5': [5, 3, 5, 4],'score6': [5, 3, 5, 4],}\n",
        "df_hw5 = pd.DataFrame(hw5)\n",
        "df_hw5"
      ],
      "metadata": {
        "colab": {
          "base_uri": "https://localhost:8080/",
          "height": 175
        },
        "id": "LT9ee2e6UIOI",
        "outputId": "1279a98d-3760-4b38-ba8d-5a458b9449f6"
      },
      "execution_count": null,
      "outputs": [
        {
          "output_type": "execute_result",
          "data": {
            "text/html": [
              "<div>\n",
              "<style scoped>\n",
              "    .dataframe tbody tr th:only-of-type {\n",
              "        vertical-align: middle;\n",
              "    }\n",
              "\n",
              "    .dataframe tbody tr th {\n",
              "        vertical-align: top;\n",
              "    }\n",
              "\n",
              "    .dataframe thead th {\n",
              "        text-align: right;\n",
              "    }\n",
              "</style>\n",
              "<table border=\"1\" class=\"dataframe\">\n",
              "  <thead>\n",
              "    <tr style=\"text-align: right;\">\n",
              "      <th></th>\n",
              "      <th>login</th>\n",
              "      <th>score4</th>\n",
              "      <th>score5</th>\n",
              "      <th>score6</th>\n",
              "    </tr>\n",
              "  </thead>\n",
              "  <tbody>\n",
              "    <tr>\n",
              "      <th>0</th>\n",
              "      <td>login3</td>\n",
              "      <td>2</td>\n",
              "      <td>5</td>\n",
              "      <td>5</td>\n",
              "    </tr>\n",
              "    <tr>\n",
              "      <th>1</th>\n",
              "      <td>login1</td>\n",
              "      <td>0</td>\n",
              "      <td>3</td>\n",
              "      <td>3</td>\n",
              "    </tr>\n",
              "    <tr>\n",
              "      <th>2</th>\n",
              "      <td>login4</td>\n",
              "      <td>5</td>\n",
              "      <td>5</td>\n",
              "      <td>5</td>\n",
              "    </tr>\n",
              "    <tr>\n",
              "      <th>3</th>\n",
              "      <td>login5</td>\n",
              "      <td>4</td>\n",
              "      <td>4</td>\n",
              "      <td>4</td>\n",
              "    </tr>\n",
              "  </tbody>\n",
              "</table>\n",
              "</div>"
            ],
            "text/plain": [
              "    login  score4  score5  score6\n",
              "0  login3       2       5       5\n",
              "1  login1       0       3       3\n",
              "2  login4       5       5       5\n",
              "3  login5       4       4       4"
            ]
          },
          "metadata": {},
          "execution_count": 114
        }
      ]
    },
    {
      "cell_type": "code",
      "source": [
        "type(df_hw5['login'])"
      ],
      "metadata": {
        "colab": {
          "base_uri": "https://localhost:8080/"
        },
        "id": "-0PqPP3ZLi8w",
        "outputId": "75b7d377-1e44-4b8f-bd07-a3f43995dc94"
      },
      "execution_count": null,
      "outputs": [
        {
          "output_type": "execute_result",
          "data": {
            "text/plain": [
              "pandas.core.series.Series"
            ]
          },
          "metadata": {},
          "execution_count": 115
        }
      ]
    },
    {
      "cell_type": "code",
      "source": [
        "df_hw5.iloc[1]"
      ],
      "metadata": {
        "colab": {
          "base_uri": "https://localhost:8080/"
        },
        "id": "ZXRq9wdEQLdD",
        "outputId": "132346f7-4fa0-4ca1-a5fc-d1f9822166f0"
      },
      "execution_count": null,
      "outputs": [
        {
          "output_type": "execute_result",
          "data": {
            "text/plain": [
              "login     login1\n",
              "score4         0\n",
              "score5         3\n",
              "score6         3\n",
              "Name: 1, dtype: object"
            ]
          },
          "metadata": {},
          "execution_count": 116
        }
      ]
    },
    {
      "cell_type": "code",
      "source": [
        "logins = ['login3', 'login1', 'login4', 'login5']\n",
        "logins[1:3]"
      ],
      "metadata": {
        "colab": {
          "base_uri": "https://localhost:8080/"
        },
        "id": "xDdFIjn2LqpL",
        "outputId": "d5884b7a-7163-4410-ad53-7788907ee8d6"
      },
      "execution_count": null,
      "outputs": [
        {
          "output_type": "execute_result",
          "data": {
            "text/plain": [
              "['login1', 'login4']"
            ]
          },
          "metadata": {},
          "execution_count": 117
        }
      ]
    },
    {
      "cell_type": "code",
      "source": [
        ""
      ],
      "metadata": {
        "id": "jhu7fqviTucL"
      },
      "execution_count": null,
      "outputs": []
    },
    {
      "cell_type": "code",
      "source": [
        "df_hw5.iloc[1:3]"
      ],
      "metadata": {
        "colab": {
          "base_uri": "https://localhost:8080/",
          "height": 112
        },
        "id": "QZ-yFakHMZTe",
        "outputId": "7d4f014d-c16f-4272-966e-561b84823951"
      },
      "execution_count": null,
      "outputs": [
        {
          "output_type": "execute_result",
          "data": {
            "text/html": [
              "<div>\n",
              "<style scoped>\n",
              "    .dataframe tbody tr th:only-of-type {\n",
              "        vertical-align: middle;\n",
              "    }\n",
              "\n",
              "    .dataframe tbody tr th {\n",
              "        vertical-align: top;\n",
              "    }\n",
              "\n",
              "    .dataframe thead th {\n",
              "        text-align: right;\n",
              "    }\n",
              "</style>\n",
              "<table border=\"1\" class=\"dataframe\">\n",
              "  <thead>\n",
              "    <tr style=\"text-align: right;\">\n",
              "      <th></th>\n",
              "      <th>login</th>\n",
              "      <th>score4</th>\n",
              "      <th>score5</th>\n",
              "      <th>score6</th>\n",
              "    </tr>\n",
              "  </thead>\n",
              "  <tbody>\n",
              "    <tr>\n",
              "      <th>1</th>\n",
              "      <td>login1</td>\n",
              "      <td>0</td>\n",
              "      <td>3</td>\n",
              "      <td>3</td>\n",
              "    </tr>\n",
              "    <tr>\n",
              "      <th>2</th>\n",
              "      <td>login4</td>\n",
              "      <td>5</td>\n",
              "      <td>5</td>\n",
              "      <td>5</td>\n",
              "    </tr>\n",
              "  </tbody>\n",
              "</table>\n",
              "</div>"
            ],
            "text/plain": [
              "    login  score4  score5  score6\n",
              "1  login1       0       3       3\n",
              "2  login4       5       5       5"
            ]
          },
          "metadata": {},
          "execution_count": 42
        }
      ]
    },
    {
      "cell_type": "code",
      "source": [
        "df_hw5.iloc[:3, 1:3]"
      ],
      "metadata": {
        "colab": {
          "base_uri": "https://localhost:8080/",
          "height": 143
        },
        "id": "iIviwZnTL0g2",
        "outputId": "44c37066-1b10-4859-bec0-ef231c81140f"
      },
      "execution_count": null,
      "outputs": [
        {
          "output_type": "execute_result",
          "data": {
            "text/html": [
              "<div>\n",
              "<style scoped>\n",
              "    .dataframe tbody tr th:only-of-type {\n",
              "        vertical-align: middle;\n",
              "    }\n",
              "\n",
              "    .dataframe tbody tr th {\n",
              "        vertical-align: top;\n",
              "    }\n",
              "\n",
              "    .dataframe thead th {\n",
              "        text-align: right;\n",
              "    }\n",
              "</style>\n",
              "<table border=\"1\" class=\"dataframe\">\n",
              "  <thead>\n",
              "    <tr style=\"text-align: right;\">\n",
              "      <th></th>\n",
              "      <th>score4</th>\n",
              "      <th>score5</th>\n",
              "    </tr>\n",
              "  </thead>\n",
              "  <tbody>\n",
              "    <tr>\n",
              "      <th>0</th>\n",
              "      <td>2</td>\n",
              "      <td>5</td>\n",
              "    </tr>\n",
              "    <tr>\n",
              "      <th>1</th>\n",
              "      <td>0</td>\n",
              "      <td>3</td>\n",
              "    </tr>\n",
              "    <tr>\n",
              "      <th>2</th>\n",
              "      <td>5</td>\n",
              "      <td>5</td>\n",
              "    </tr>\n",
              "  </tbody>\n",
              "</table>\n",
              "</div>"
            ],
            "text/plain": [
              "   score4  score5\n",
              "0       2       5\n",
              "1       0       3\n",
              "2       5       5"
            ]
          },
          "metadata": {},
          "execution_count": 46
        }
      ]
    },
    {
      "cell_type": "code",
      "source": [
        "df_hw5.loc[1:3]"
      ],
      "metadata": {
        "colab": {
          "base_uri": "https://localhost:8080/",
          "height": 143
        },
        "id": "BwzO80_oMSIG",
        "outputId": "83a49e2b-31af-4f1a-bbee-889cbd425934"
      },
      "execution_count": null,
      "outputs": [
        {
          "output_type": "execute_result",
          "data": {
            "text/html": [
              "<div>\n",
              "<style scoped>\n",
              "    .dataframe tbody tr th:only-of-type {\n",
              "        vertical-align: middle;\n",
              "    }\n",
              "\n",
              "    .dataframe tbody tr th {\n",
              "        vertical-align: top;\n",
              "    }\n",
              "\n",
              "    .dataframe thead th {\n",
              "        text-align: right;\n",
              "    }\n",
              "</style>\n",
              "<table border=\"1\" class=\"dataframe\">\n",
              "  <thead>\n",
              "    <tr style=\"text-align: right;\">\n",
              "      <th></th>\n",
              "      <th>login</th>\n",
              "      <th>score4</th>\n",
              "      <th>score5</th>\n",
              "      <th>score6</th>\n",
              "    </tr>\n",
              "  </thead>\n",
              "  <tbody>\n",
              "    <tr>\n",
              "      <th>1</th>\n",
              "      <td>login1</td>\n",
              "      <td>0</td>\n",
              "      <td>3</td>\n",
              "      <td>3</td>\n",
              "    </tr>\n",
              "    <tr>\n",
              "      <th>2</th>\n",
              "      <td>login4</td>\n",
              "      <td>5</td>\n",
              "      <td>5</td>\n",
              "      <td>5</td>\n",
              "    </tr>\n",
              "    <tr>\n",
              "      <th>3</th>\n",
              "      <td>login5</td>\n",
              "      <td>4</td>\n",
              "      <td>4</td>\n",
              "      <td>4</td>\n",
              "    </tr>\n",
              "  </tbody>\n",
              "</table>\n",
              "</div>"
            ],
            "text/plain": [
              "    login  score4  score5  score6\n",
              "1  login1       0       3       3\n",
              "2  login4       5       5       5\n",
              "3  login5       4       4       4"
            ]
          },
          "metadata": {},
          "execution_count": 47
        }
      ]
    },
    {
      "cell_type": "code",
      "source": [
        "df_hw5_sort = df_hw5.set_index('login').sort_index()\n",
        "df_hw5_sort"
      ],
      "metadata": {
        "colab": {
          "base_uri": "https://localhost:8080/",
          "height": 206
        },
        "id": "pBK37IEDMoVF",
        "outputId": "890e4ce8-2e2d-4416-dfa6-cb9d9accf066"
      },
      "execution_count": null,
      "outputs": [
        {
          "output_type": "execute_result",
          "data": {
            "text/html": [
              "<div>\n",
              "<style scoped>\n",
              "    .dataframe tbody tr th:only-of-type {\n",
              "        vertical-align: middle;\n",
              "    }\n",
              "\n",
              "    .dataframe tbody tr th {\n",
              "        vertical-align: top;\n",
              "    }\n",
              "\n",
              "    .dataframe thead th {\n",
              "        text-align: right;\n",
              "    }\n",
              "</style>\n",
              "<table border=\"1\" class=\"dataframe\">\n",
              "  <thead>\n",
              "    <tr style=\"text-align: right;\">\n",
              "      <th></th>\n",
              "      <th>score4</th>\n",
              "      <th>score5</th>\n",
              "      <th>score6</th>\n",
              "    </tr>\n",
              "    <tr>\n",
              "      <th>login</th>\n",
              "      <th></th>\n",
              "      <th></th>\n",
              "      <th></th>\n",
              "    </tr>\n",
              "  </thead>\n",
              "  <tbody>\n",
              "    <tr>\n",
              "      <th>login1</th>\n",
              "      <td>0</td>\n",
              "      <td>3</td>\n",
              "      <td>3</td>\n",
              "    </tr>\n",
              "    <tr>\n",
              "      <th>login3</th>\n",
              "      <td>2</td>\n",
              "      <td>5</td>\n",
              "      <td>5</td>\n",
              "    </tr>\n",
              "    <tr>\n",
              "      <th>login4</th>\n",
              "      <td>5</td>\n",
              "      <td>5</td>\n",
              "      <td>5</td>\n",
              "    </tr>\n",
              "    <tr>\n",
              "      <th>login5</th>\n",
              "      <td>4</td>\n",
              "      <td>4</td>\n",
              "      <td>4</td>\n",
              "    </tr>\n",
              "  </tbody>\n",
              "</table>\n",
              "</div>"
            ],
            "text/plain": [
              "        score4  score5  score6\n",
              "login                         \n",
              "login1       0       3       3\n",
              "login3       2       5       5\n",
              "login4       5       5       5\n",
              "login5       4       4       4"
            ]
          },
          "metadata": {},
          "execution_count": 48
        }
      ]
    },
    {
      "cell_type": "code",
      "source": [
        "df_hw5_sort.loc['login3':'login4']"
      ],
      "metadata": {
        "colab": {
          "base_uri": "https://localhost:8080/",
          "height": 143
        },
        "id": "cu3JcFMsM-7U",
        "outputId": "42e9d58c-41a1-4e37-9305-d4a4f437c019"
      },
      "execution_count": null,
      "outputs": [
        {
          "output_type": "execute_result",
          "data": {
            "text/html": [
              "<div>\n",
              "<style scoped>\n",
              "    .dataframe tbody tr th:only-of-type {\n",
              "        vertical-align: middle;\n",
              "    }\n",
              "\n",
              "    .dataframe tbody tr th {\n",
              "        vertical-align: top;\n",
              "    }\n",
              "\n",
              "    .dataframe thead th {\n",
              "        text-align: right;\n",
              "    }\n",
              "</style>\n",
              "<table border=\"1\" class=\"dataframe\">\n",
              "  <thead>\n",
              "    <tr style=\"text-align: right;\">\n",
              "      <th></th>\n",
              "      <th>score4</th>\n",
              "      <th>score5</th>\n",
              "      <th>score6</th>\n",
              "    </tr>\n",
              "    <tr>\n",
              "      <th>login</th>\n",
              "      <th></th>\n",
              "      <th></th>\n",
              "      <th></th>\n",
              "    </tr>\n",
              "  </thead>\n",
              "  <tbody>\n",
              "    <tr>\n",
              "      <th>login3</th>\n",
              "      <td>2</td>\n",
              "      <td>5</td>\n",
              "      <td>5</td>\n",
              "    </tr>\n",
              "    <tr>\n",
              "      <th>login4</th>\n",
              "      <td>5</td>\n",
              "      <td>5</td>\n",
              "      <td>5</td>\n",
              "    </tr>\n",
              "  </tbody>\n",
              "</table>\n",
              "</div>"
            ],
            "text/plain": [
              "        score4  score5  score6\n",
              "login                         \n",
              "login3       2       5       5\n",
              "login4       5       5       5"
            ]
          },
          "metadata": {},
          "execution_count": 49
        }
      ]
    },
    {
      "cell_type": "code",
      "source": [
        "df_hw5_sort.loc['login3':'login4', 'score5':]"
      ],
      "metadata": {
        "colab": {
          "base_uri": "https://localhost:8080/",
          "height": 143
        },
        "id": "1hvEEl26PB03",
        "outputId": "29c7457e-b9f2-4630-da52-54eb7eaedd09"
      },
      "execution_count": null,
      "outputs": [
        {
          "output_type": "execute_result",
          "data": {
            "text/html": [
              "<div>\n",
              "<style scoped>\n",
              "    .dataframe tbody tr th:only-of-type {\n",
              "        vertical-align: middle;\n",
              "    }\n",
              "\n",
              "    .dataframe tbody tr th {\n",
              "        vertical-align: top;\n",
              "    }\n",
              "\n",
              "    .dataframe thead th {\n",
              "        text-align: right;\n",
              "    }\n",
              "</style>\n",
              "<table border=\"1\" class=\"dataframe\">\n",
              "  <thead>\n",
              "    <tr style=\"text-align: right;\">\n",
              "      <th></th>\n",
              "      <th>score5</th>\n",
              "      <th>score6</th>\n",
              "    </tr>\n",
              "    <tr>\n",
              "      <th>login</th>\n",
              "      <th></th>\n",
              "      <th></th>\n",
              "    </tr>\n",
              "  </thead>\n",
              "  <tbody>\n",
              "    <tr>\n",
              "      <th>login3</th>\n",
              "      <td>5</td>\n",
              "      <td>5</td>\n",
              "    </tr>\n",
              "    <tr>\n",
              "      <th>login4</th>\n",
              "      <td>5</td>\n",
              "      <td>5</td>\n",
              "    </tr>\n",
              "  </tbody>\n",
              "</table>\n",
              "</div>"
            ],
            "text/plain": [
              "        score5  score6\n",
              "login                 \n",
              "login3       5       5\n",
              "login4       5       5"
            ]
          },
          "metadata": {},
          "execution_count": 50
        }
      ]
    },
    {
      "cell_type": "code",
      "source": [
        "hw5 = {'login':  ['login3', 'login1', 'login4', 'login5'], \\\n",
        "       'score4': [2, 0, 5, 4], 'score5': [5, 3, 5, 4],'score6': [5, 3, 5, 4],}\n",
        "df_hw5 = pd.DataFrame(hw5)\n",
        "df_hw5"
      ],
      "metadata": {
        "colab": {
          "base_uri": "https://localhost:8080/",
          "height": 175
        },
        "id": "ZcS_aWe9P3H8",
        "outputId": "3e31d0bb-1d29-4f5f-b576-d50dca9d1845"
      },
      "execution_count": null,
      "outputs": [
        {
          "output_type": "execute_result",
          "data": {
            "text/html": [
              "<div>\n",
              "<style scoped>\n",
              "    .dataframe tbody tr th:only-of-type {\n",
              "        vertical-align: middle;\n",
              "    }\n",
              "\n",
              "    .dataframe tbody tr th {\n",
              "        vertical-align: top;\n",
              "    }\n",
              "\n",
              "    .dataframe thead th {\n",
              "        text-align: right;\n",
              "    }\n",
              "</style>\n",
              "<table border=\"1\" class=\"dataframe\">\n",
              "  <thead>\n",
              "    <tr style=\"text-align: right;\">\n",
              "      <th></th>\n",
              "      <th>login</th>\n",
              "      <th>score4</th>\n",
              "      <th>score5</th>\n",
              "      <th>score6</th>\n",
              "    </tr>\n",
              "  </thead>\n",
              "  <tbody>\n",
              "    <tr>\n",
              "      <th>0</th>\n",
              "      <td>login3</td>\n",
              "      <td>2</td>\n",
              "      <td>5</td>\n",
              "      <td>5</td>\n",
              "    </tr>\n",
              "    <tr>\n",
              "      <th>1</th>\n",
              "      <td>login1</td>\n",
              "      <td>0</td>\n",
              "      <td>3</td>\n",
              "      <td>3</td>\n",
              "    </tr>\n",
              "    <tr>\n",
              "      <th>2</th>\n",
              "      <td>login4</td>\n",
              "      <td>5</td>\n",
              "      <td>5</td>\n",
              "      <td>5</td>\n",
              "    </tr>\n",
              "    <tr>\n",
              "      <th>3</th>\n",
              "      <td>login5</td>\n",
              "      <td>4</td>\n",
              "      <td>4</td>\n",
              "      <td>4</td>\n",
              "    </tr>\n",
              "  </tbody>\n",
              "</table>\n",
              "</div>"
            ],
            "text/plain": [
              "    login  score4  score5  score6\n",
              "0  login3       2       5       5\n",
              "1  login1       0       3       3\n",
              "2  login4       5       5       5\n",
              "3  login5       4       4       4"
            ]
          },
          "metadata": {},
          "execution_count": 9
        }
      ]
    },
    {
      "cell_type": "code",
      "source": [
        "df_hw5.index = [1, 2, 3, 4]\n",
        "df_hw5"
      ],
      "metadata": {
        "colab": {
          "base_uri": "https://localhost:8080/",
          "height": 175
        },
        "id": "5ev6CkvfP6cw",
        "outputId": "944bee05-d616-4591-d7dc-11acc69cf068"
      },
      "execution_count": null,
      "outputs": [
        {
          "output_type": "execute_result",
          "data": {
            "text/html": [
              "<div>\n",
              "<style scoped>\n",
              "    .dataframe tbody tr th:only-of-type {\n",
              "        vertical-align: middle;\n",
              "    }\n",
              "\n",
              "    .dataframe tbody tr th {\n",
              "        vertical-align: top;\n",
              "    }\n",
              "\n",
              "    .dataframe thead th {\n",
              "        text-align: right;\n",
              "    }\n",
              "</style>\n",
              "<table border=\"1\" class=\"dataframe\">\n",
              "  <thead>\n",
              "    <tr style=\"text-align: right;\">\n",
              "      <th></th>\n",
              "      <th>login</th>\n",
              "      <th>score4</th>\n",
              "      <th>score5</th>\n",
              "      <th>score6</th>\n",
              "    </tr>\n",
              "  </thead>\n",
              "  <tbody>\n",
              "    <tr>\n",
              "      <th>1</th>\n",
              "      <td>login3</td>\n",
              "      <td>2</td>\n",
              "      <td>5</td>\n",
              "      <td>5</td>\n",
              "    </tr>\n",
              "    <tr>\n",
              "      <th>2</th>\n",
              "      <td>login1</td>\n",
              "      <td>0</td>\n",
              "      <td>3</td>\n",
              "      <td>3</td>\n",
              "    </tr>\n",
              "    <tr>\n",
              "      <th>3</th>\n",
              "      <td>login4</td>\n",
              "      <td>5</td>\n",
              "      <td>5</td>\n",
              "      <td>5</td>\n",
              "    </tr>\n",
              "    <tr>\n",
              "      <th>4</th>\n",
              "      <td>login5</td>\n",
              "      <td>4</td>\n",
              "      <td>4</td>\n",
              "      <td>4</td>\n",
              "    </tr>\n",
              "  </tbody>\n",
              "</table>\n",
              "</div>"
            ],
            "text/plain": [
              "    login  score4  score5  score6\n",
              "1  login3       2       5       5\n",
              "2  login1       0       3       3\n",
              "3  login4       5       5       5\n",
              "4  login5       4       4       4"
            ]
          },
          "metadata": {},
          "execution_count": 10
        }
      ]
    },
    {
      "cell_type": "code",
      "source": [
        "df_hw5.loc[2:3]"
      ],
      "metadata": {
        "colab": {
          "base_uri": "https://localhost:8080/",
          "height": 112
        },
        "id": "wXl4XCJkQcBU",
        "outputId": "566a4ccb-04d6-4099-991d-e4d6d0317b6d"
      },
      "execution_count": null,
      "outputs": [
        {
          "output_type": "execute_result",
          "data": {
            "text/html": [
              "<div>\n",
              "<style scoped>\n",
              "    .dataframe tbody tr th:only-of-type {\n",
              "        vertical-align: middle;\n",
              "    }\n",
              "\n",
              "    .dataframe tbody tr th {\n",
              "        vertical-align: top;\n",
              "    }\n",
              "\n",
              "    .dataframe thead th {\n",
              "        text-align: right;\n",
              "    }\n",
              "</style>\n",
              "<table border=\"1\" class=\"dataframe\">\n",
              "  <thead>\n",
              "    <tr style=\"text-align: right;\">\n",
              "      <th></th>\n",
              "      <th>login</th>\n",
              "      <th>score4</th>\n",
              "      <th>score5</th>\n",
              "      <th>score6</th>\n",
              "    </tr>\n",
              "  </thead>\n",
              "  <tbody>\n",
              "    <tr>\n",
              "      <th>2</th>\n",
              "      <td>login1</td>\n",
              "      <td>0</td>\n",
              "      <td>3</td>\n",
              "      <td>3</td>\n",
              "    </tr>\n",
              "    <tr>\n",
              "      <th>3</th>\n",
              "      <td>login4</td>\n",
              "      <td>5</td>\n",
              "      <td>5</td>\n",
              "      <td>5</td>\n",
              "    </tr>\n",
              "  </tbody>\n",
              "</table>\n",
              "</div>"
            ],
            "text/plain": [
              "    login  score4  score5  score6\n",
              "2  login1       0       3       3\n",
              "3  login4       5       5       5"
            ]
          },
          "metadata": {},
          "execution_count": 11
        }
      ]
    },
    {
      "cell_type": "code",
      "source": [
        "df_hw5.iloc[1]"
      ],
      "metadata": {
        "colab": {
          "base_uri": "https://localhost:8080/"
        },
        "id": "kyP1R6OyRalC",
        "outputId": "4e77b938-457c-4956-f5d0-86062b64e132"
      },
      "execution_count": null,
      "outputs": [
        {
          "output_type": "execute_result",
          "data": {
            "text/plain": [
              "login     login1\n",
              "score4         0\n",
              "score5         3\n",
              "score6         3\n",
              "Name: 2, dtype: object"
            ]
          },
          "metadata": {},
          "execution_count": 61
        }
      ]
    },
    {
      "cell_type": "code",
      "source": [
        "df_hw5.loc[2:3]"
      ],
      "metadata": {
        "colab": {
          "base_uri": "https://localhost:8080/",
          "height": 112
        },
        "id": "rM5BA165RWxZ",
        "outputId": "57877f82-8ffe-41b9-dee4-c30da8d97a15"
      },
      "execution_count": null,
      "outputs": [
        {
          "output_type": "execute_result",
          "data": {
            "text/html": [
              "<div>\n",
              "<style scoped>\n",
              "    .dataframe tbody tr th:only-of-type {\n",
              "        vertical-align: middle;\n",
              "    }\n",
              "\n",
              "    .dataframe tbody tr th {\n",
              "        vertical-align: top;\n",
              "    }\n",
              "\n",
              "    .dataframe thead th {\n",
              "        text-align: right;\n",
              "    }\n",
              "</style>\n",
              "<table border=\"1\" class=\"dataframe\">\n",
              "  <thead>\n",
              "    <tr style=\"text-align: right;\">\n",
              "      <th></th>\n",
              "      <th>login</th>\n",
              "      <th>score4</th>\n",
              "      <th>score5</th>\n",
              "      <th>score6</th>\n",
              "    </tr>\n",
              "  </thead>\n",
              "  <tbody>\n",
              "    <tr>\n",
              "      <th>2</th>\n",
              "      <td>login1</td>\n",
              "      <td>0</td>\n",
              "      <td>3</td>\n",
              "      <td>3</td>\n",
              "    </tr>\n",
              "    <tr>\n",
              "      <th>3</th>\n",
              "      <td>login4</td>\n",
              "      <td>5</td>\n",
              "      <td>5</td>\n",
              "      <td>5</td>\n",
              "    </tr>\n",
              "  </tbody>\n",
              "</table>\n",
              "</div>"
            ],
            "text/plain": [
              "    login  score4  score5  score6\n",
              "2  login1       0       3       3\n",
              "3  login4       5       5       5"
            ]
          },
          "metadata": {},
          "execution_count": 59
        }
      ]
    },
    {
      "cell_type": "code",
      "source": [
        "df_hw5.loc[1]"
      ],
      "metadata": {
        "colab": {
          "base_uri": "https://localhost:8080/"
        },
        "id": "XIyLuGRwRdlO",
        "outputId": "15ed4a29-ac74-48f9-dd0b-23608e27f4f1"
      },
      "execution_count": null,
      "outputs": [
        {
          "output_type": "execute_result",
          "data": {
            "text/plain": [
              "login     login3\n",
              "score4         2\n",
              "score5         5\n",
              "score6         5\n",
              "Name: 1, dtype: object"
            ]
          },
          "metadata": {},
          "execution_count": 62
        }
      ]
    },
    {
      "cell_type": "markdown",
      "source": [
        "## Сохранение данных, работа с excel"
      ],
      "metadata": {
        "id": "6Pf5jemkRniV"
      }
    },
    {
      "cell_type": "code",
      "source": [
        "df_res4.to_csv('new.csv')"
      ],
      "metadata": {
        "id": "vibOICuzRtl_"
      },
      "execution_count": null,
      "outputs": []
    },
    {
      "cell_type": "code",
      "source": [
        "df_res4.to_excel('new.xlsx')"
      ],
      "metadata": {
        "id": "LnZKcPDIR-QS"
      },
      "execution_count": null,
      "outputs": []
    },
    {
      "cell_type": "code",
      "source": [
        "df_excel = pd.read_excel('new.xlsx')"
      ],
      "metadata": {
        "id": "v6DLxW6ySbKj"
      },
      "execution_count": null,
      "outputs": []
    },
    {
      "cell_type": "code",
      "source": [
        "df_excel"
      ],
      "metadata": {
        "id": "Og3OjcykSpWN"
      },
      "execution_count": null,
      "outputs": []
    }
  ]
}