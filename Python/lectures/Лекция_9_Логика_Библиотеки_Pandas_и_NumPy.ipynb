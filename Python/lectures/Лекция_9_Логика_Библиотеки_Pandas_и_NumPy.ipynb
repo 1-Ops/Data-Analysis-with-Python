{
  "nbformat": 4,
  "nbformat_minor": 5,
  "metadata": {
    "kernelspec": {
      "display_name": "Python 3",
      "language": "python",
      "name": "python3"
    },
    "language_info": {
      "codemirror_mode": {
        "name": "ipython",
        "version": 3
      },
      "file_extension": ".py",
      "mimetype": "text/x-python",
      "name": "python",
      "nbconvert_exporter": "python",
      "pygments_lexer": "ipython3",
      "version": "3.5.3"
    },
    "colab": {
      "name": "Лекция 9. Логика. Библиотеки Pandas  и NumPy",
      "provenance": []
    }
  },
  "cells": [
    {
      "cell_type": "markdown",
      "metadata": {
        "id": "icF4aN5n-7Ay"
      },
      "source": [
        "# Логика и библиотеки NumPy и Pandas\n",
        "\n",
        "## Логика высказываний\n",
        "\n",
        "Логика — это не естественная, а *нормативная наука*, «наука о правильном мышлении». Её формализацию начал ещё древнегреческий философ Аристотель, при этом **формальную логику** он сам называл «аналитика».\n",
        "\n",
        "История развития логики включает и средневековый схоластический период, и диалектическую логику Гегеля, но благодаря таким учёным, как Джордж Буль, Огастес де Морган, Чарльз Сандерс Пирс и другим, в XIX веке была разработана **математическая логика**, включающая логику высказываний, логику 1-го, 2-го и высших порядков.\n",
        "\n",
        "**Логика высказываний** — это логика 0-го порядка. В ней бывают *атомарные* и *составные* высказывания. **Атомарные высказывания** для логики 0-го порядка являются неделимыми.\n",
        "\n",
        "> Примеры атомарных высказываний: \n",
        "> 1. \"*Петя любит Машу*\",\n",
        "> 2. \"*2 + 2 = 4*\", \n",
        "> 3. \"*Через точку, лежащую вне прямой, можно провести только одну параллельную ей прямую*\".\n",
        "\n",
        "Каждое высказывание либо **истинно**, либо **ложно**, третьего не дано. Два этих значения составляют *булево множество* (в честь Джорджа Буля).\n",
        "\n",
        "Для хранения логических значений в Python используется **логический тип `bool`**, у которого только два возможных состояния `True` и `False`. Обратите внимание, что они пишутся с заглавной буквы.\n",
        "\n",
        "Надо сказать, что как в жизни, так и в программировании реально бывает третий вариант — высказывание нельзя вычислить: в процессе его вычисления происходит ошибка, например, деление на ноль."
      ],
      "id": "icF4aN5n-7Ay"
    },
    {
      "cell_type": "code",
      "metadata": {
        "id": "i2S-1mHu-7A6",
        "outputId": "a964f8d6-3fae-4dd4-ceb0-5b9e84669c5c"
      },
      "source": [
        "a = True\n",
        "b = False\n",
        "print(a, type(a))\n",
        "print(b, type(b))"
      ],
      "id": "i2S-1mHu-7A6",
      "execution_count": null,
      "outputs": [
        {
          "name": "stdout",
          "output_type": "stream",
          "text": [
            "True <class 'bool'>\n",
            "False <class 'bool'>\n"
          ]
        }
      ]
    },
    {
      "cell_type": "markdown",
      "metadata": {
        "id": "PHfl1ZrT-7A8"
      },
      "source": [
        "Атомарные высказывания обретают истинность или ложность в рамках некоторой \"языковой игры\", некоторой теории. Например, высказывание про точку и прямую является истинной аксиомой в геометрии Евклида, но ложной в геометрии Лобачевского или Римана. Короче говоря, высказывания не бывают истинными или ложными \"в вакууме\", важен контекст.\n",
        "\n",
        "В языках программирования таких трудностей практически нет: высказывание — это выражение, которое возвращает логическое значение. Оно должно быть синтаксически корректным и вычислимым без ошибок за конечное время.\n",
        "С точки зрения алгебры логики они являются *предикатами*, которые, вычисляясь для конкретных значений переменных, далее являются простыми логическими значениями `True` или `False`.\n",
        "\n",
        "Вот примеры таких предикатов для чисел:"
      ],
      "id": "PHfl1ZrT-7A8"
    },
    {
      "cell_type": "code",
      "metadata": {
        "collapsed": true,
        "id": "Z_sfurtB-7A8"
      },
      "source": [
        "x = 55"
      ],
      "id": "Z_sfurtB-7A8",
      "execution_count": null,
      "outputs": []
    },
    {
      "cell_type": "code",
      "metadata": {
        "id": "XdnCbty5-7A9",
        "outputId": "1a4dd0cb-7548-452e-d461-c457fa28ca2f"
      },
      "source": [
        "x > 10"
      ],
      "id": "XdnCbty5-7A9",
      "execution_count": null,
      "outputs": [
        {
          "data": {
            "text/plain": [
              "True"
            ]
          },
          "execution_count": 4,
          "metadata": {},
          "output_type": "execute_result"
        }
      ]
    },
    {
      "cell_type": "code",
      "metadata": {
        "id": "ivNXXAoh-7A9",
        "outputId": "c1f1c120-b2f0-4219-9734-02ef5a49a754"
      },
      "source": [
        "x == 100"
      ],
      "id": "ivNXXAoh-7A9",
      "execution_count": null,
      "outputs": [
        {
          "data": {
            "text/plain": [
              "False"
            ]
          },
          "execution_count": 5,
          "metadata": {},
          "output_type": "execute_result"
        }
      ]
    },
    {
      "cell_type": "code",
      "metadata": {
        "id": "p8kmUdTd-7A-",
        "outputId": "a4401342-f608-4889-8fac-f734e699085e"
      },
      "source": [
        "15.3 <= x <= 62.5"
      ],
      "id": "p8kmUdTd-7A-",
      "execution_count": null,
      "outputs": [
        {
          "data": {
            "text/plain": [
              "True"
            ]
          },
          "execution_count": 6,
          "metadata": {},
          "output_type": "execute_result"
        }
      ]
    },
    {
      "cell_type": "markdown",
      "metadata": {
        "id": "HvXadamr-7A_"
      },
      "source": [
        "Для строк и множеств есть удобные операции `in` и `not in`: "
      ],
      "id": "HvXadamr-7A_"
    },
    {
      "cell_type": "code",
      "metadata": {
        "id": "1I519d0e-7A_",
        "outputId": "f7a4545a-a6af-4b6c-94f7-8128ceaf2f6a"
      },
      "source": [
        "\"слово\" in \"Какой-то текст, возможно, содержащий слово\""
      ],
      "id": "1I519d0e-7A_",
      "execution_count": null,
      "outputs": [
        {
          "data": {
            "text/plain": [
              "True"
            ]
          },
          "execution_count": 7,
          "metadata": {},
          "output_type": "execute_result"
        }
      ]
    },
    {
      "cell_type": "code",
      "metadata": {
        "id": "jc5sAgc2-7BA",
        "outputId": "dddf0faa-01a0-4b66-9e77-6c7bb5eeb4cc"
      },
      "source": [
        "\"слово\" not in \"Какой-то текст, возможно, содержащий слово\""
      ],
      "id": "jc5sAgc2-7BA",
      "execution_count": null,
      "outputs": [
        {
          "data": {
            "text/plain": [
              "False"
            ]
          },
          "execution_count": 8,
          "metadata": {},
          "output_type": "execute_result"
        }
      ]
    },
    {
      "cell_type": "code",
      "metadata": {
        "id": "Y4cCOO4r-7BB",
        "outputId": "73d4fb0a-6627-4e34-ef22-d6cb713dee65"
      },
      "source": [
        "\"пицца\" in {\"борщ\", \"макароны\", \"сосиска\", \"чай\", \"булочка\"}"
      ],
      "id": "Y4cCOO4r-7BB",
      "execution_count": null,
      "outputs": [
        {
          "data": {
            "text/plain": [
              "False"
            ]
          },
          "execution_count": 9,
          "metadata": {},
          "output_type": "execute_result"
        }
      ]
    },
    {
      "cell_type": "code",
      "metadata": {
        "id": "OpYXDzIm-7BB",
        "outputId": "d66bc1b9-d725-4497-ef87-64bf2e77b948"
      },
      "source": [
        "\"пицца\" not in {\"борщ\", \"макароны\", \"сосиска\", \"чай\", \"булочка\"}"
      ],
      "id": "OpYXDzIm-7BB",
      "execution_count": null,
      "outputs": [
        {
          "data": {
            "text/plain": [
              "True"
            ]
          },
          "execution_count": 10,
          "metadata": {},
          "output_type": "execute_result"
        }
      ]
    },
    {
      "cell_type": "markdown",
      "metadata": {
        "id": "uXcTMF8s-7BC"
      },
      "source": [
        "Числовое значение лжи — ноль, истины — единица. При изучении алгебры логики их для краткости так и обозначают.\n",
        "\n",
        "В Python числовой и логический тип отличаются, но они всё-таки связаны друг с другом этой логикой: `False` — `0`, `True` — `1`:"
      ],
      "id": "uXcTMF8s-7BC"
    },
    {
      "cell_type": "code",
      "metadata": {
        "id": "BRX2Ar2d-7BC",
        "outputId": "1f52dcb3-fb3c-4fa7-fd5c-cd9afe1e498f"
      },
      "source": [
        "int(False)"
      ],
      "id": "BRX2Ar2d-7BC",
      "execution_count": null,
      "outputs": [
        {
          "data": {
            "text/plain": [
              "0"
            ]
          },
          "execution_count": 11,
          "metadata": {},
          "output_type": "execute_result"
        }
      ]
    },
    {
      "cell_type": "code",
      "metadata": {
        "id": "Mjkd_NLi-7BC",
        "outputId": "06439495-ca86-4557-c71b-f0e136619a1d"
      },
      "source": [
        "int(True)"
      ],
      "id": "Mjkd_NLi-7BC",
      "execution_count": null,
      "outputs": [
        {
          "data": {
            "text/plain": [
              "1"
            ]
          },
          "execution_count": 12,
          "metadata": {},
          "output_type": "execute_result"
        }
      ]
    },
    {
      "cell_type": "markdown",
      "metadata": {
        "id": "CPquRDV6-7BD"
      },
      "source": [
        "Применение арифметической операции к логическому значению автоматически (неявно) делает его числом 0 или 1.\n",
        "\n",
        "Используем этот факт — выполним сложение логических выражений `(char in wordX)`, чтобы посчитать, для скольких слов это высказывание является истинным."
      ],
      "id": "CPquRDV6-7BD"
    },
    {
      "cell_type": "code",
      "metadata": {
        "id": "9tS0PBZF-7BE",
        "outputId": "6fb6b9ac-6e72-4af4-c8ec-1171ed5e84d1"
      },
      "source": [
        "word1, word2, word3 = \"складываем\", \"логические\", \"выражения\"\n",
        "for char in \"абвгдежзик\":\n",
        "    print(\"Символ\", char, \"есть в\", (char in word1) + (char in word2) + (char in word3), \"словах.\")"
      ],
      "id": "9tS0PBZF-7BE",
      "execution_count": null,
      "outputs": [
        {
          "name": "stdout",
          "output_type": "stream",
          "text": [
            "Символ а есть в 2 словах.\n",
            "Символ б есть в 0 словах.\n",
            "Символ в есть в 2 словах.\n",
            "Символ г есть в 1 словах.\n",
            "Символ д есть в 1 словах.\n",
            "Символ е есть в 3 словах.\n",
            "Символ ж есть в 1 словах.\n",
            "Символ з есть в 0 словах.\n",
            "Символ и есть в 2 словах.\n",
            "Символ к есть в 2 словах.\n"
          ]
        }
      ]
    },
    {
      "cell_type": "markdown",
      "metadata": {
        "id": "KM1sBhlW-7BE"
      },
      "source": [
        "Можно *приводить* значения в обратном направлении — из числового в логический тип. В этом случае истиной становится не только единица, и но *любое ненулевое число*."
      ],
      "id": "KM1sBhlW-7BE"
    },
    {
      "cell_type": "code",
      "metadata": {
        "id": "MEkX8Kdk-7BF",
        "outputId": "e5158fd2-9327-4c5e-9bda-1877aa410a69"
      },
      "source": [
        "for x in -5, -2, 0, 1, 100:\n",
        "    print(f'bool({x:3}) ==', bool(x))"
      ],
      "id": "MEkX8Kdk-7BF",
      "execution_count": null,
      "outputs": [
        {
          "name": "stdout",
          "output_type": "stream",
          "text": [
            "bool( -5) == True\n",
            "bool( -2) == True\n",
            "bool(  0) == False\n",
            "bool(  1) == True\n",
            "bool(100) == True\n"
          ]
        }
      ]
    },
    {
      "cell_type": "markdown",
      "metadata": {
        "id": "ZayXWG7a-7BF"
      },
      "source": [
        "### Логические операции И, ИЛИ, НЕ\n",
        "**Составные высказывания** образуются из атомарных при помощи **логических операций**. Они бывают *унарные* — применимые к одному значению, и *бинарные* — применимые к двум значениям.\n",
        "\n",
        "Операции  И, ИЛИ, НЕ — это три стандартные логические функции, которые задают полный *базис*. Это значит, что при их помощи может быть выражена любая логическая функция. Но что вообще такое логическая функция и как она задаётся?\n",
        "\n",
        "Функция — это отображение из области определения в множество значений. Для логических функций это булево множество {True, False}.\n",
        "\n",
        "Однако, удобнее задавать логическую функцию **таблицей истинности** — перечислить, чему она равна в каждом конкретном случае.\n",
        "#### Таблица истинности для НЕ:\n",
        "| x | not x |\n",
        "|---|-------|\n",
        "| 0 | 1     |\n",
        "| 1 | 0     |\n",
        "\n",
        "Проверим её при помощи Python:"
      ],
      "id": "ZayXWG7a-7BF"
    },
    {
      "cell_type": "code",
      "metadata": {
        "id": "EMAsxg7b-7BG",
        "outputId": "d5e63630-2557-4acf-a979-f7cc05d5bdf5"
      },
      "source": [
        "print('x', 'not x', sep='\\t| ')\n",
        "print('-'*16)\n",
        "for x in False, True:\n",
        "    print(x, not x, sep='\\t| ')"
      ],
      "id": "EMAsxg7b-7BG",
      "execution_count": null,
      "outputs": [
        {
          "name": "stdout",
          "output_type": "stream",
          "text": [
            "x\t| not x\n",
            "----------------\n",
            "False\t| True\n",
            "True\t| False\n"
          ]
        }
      ]
    },
    {
      "cell_type": "markdown",
      "metadata": {
        "id": "wQSQSPtx-7BH"
      },
      "source": [
        "#### Таблицы истинности для И и ИЛИ:\n",
        "| x | y | x and y|\n",
        "|---|---|--------|\n",
        "| 0 | 0 | 0      |\n",
        "| 0 | 1 | 0      |\n",
        "| 1 | 0 | 0      |\n",
        "| 1 | 1 | 1      |\n",
        "\n",
        "| x | y | x or y|\n",
        "|---|---|-------|\n",
        "| 0 | 0 | 0     |\n",
        "| 0 | 1 | 1     |\n",
        "| 1 | 0 | 1     |\n",
        "| 1 | 1 | 1     |\n",
        "\n",
        "Вычислим их же на Python:"
      ],
      "id": "wQSQSPtx-7BH"
    },
    {
      "cell_type": "code",
      "metadata": {
        "id": "x8iJH823-7BH",
        "outputId": "2f2abf1f-dda0-42c9-e800-2fa0ec8c6e11"
      },
      "source": [
        "print('', 'x', 'y', 'x and y', 'x', 'y', 'x or y', sep='\\t| ')\n",
        "print('\\t', '-'*25, '\\t', '-'*24, sep='')\n",
        "for x in False, True:\n",
        "    for y in False, True:\n",
        "        print('', x, y, x and y, sep='\\t| ', end='\\t')\n",
        "        print('', x, y, x or y, sep='\\t| ')"
      ],
      "id": "x8iJH823-7BH",
      "execution_count": null,
      "outputs": [
        {
          "name": "stdout",
          "output_type": "stream",
          "text": [
            "\t| x\t| y\t| x and y\t| x\t| y\t| x or y\n",
            "\t-------------------------\t------------------------\n",
            "\t| False\t| False\t| False\t\t| False\t| False\t| False\n",
            "\t| False\t| True\t| False\t\t| False\t| True\t| True\n",
            "\t| True\t| False\t| False\t\t| True\t| False\t| True\n",
            "\t| True\t| True\t| True\t\t| True\t| True\t| True\n"
          ]
        }
      ]
    },
    {
      "cell_type": "markdown",
      "metadata": {
        "id": "7fVfNWEv-7BI"
      },
      "source": [
        "Обратите внимание, что ИЛИ является *неисключающим*. Это значит, что вот такое составное высказывание будет истинным:"
      ],
      "id": "7fVfNWEv-7BI"
    },
    {
      "cell_type": "code",
      "metadata": {
        "id": "VWfPrsyd-7BI",
        "outputId": "6ad928b8-7833-4d82-fce5-7ac5cdad8905"
      },
      "source": [
        "\"ворон\" in \"Ты его проворонил!\" or \"ворон\" in \"Я поймал ворона.\""
      ],
      "id": "VWfPrsyd-7BI",
      "execution_count": null,
      "outputs": [
        {
          "data": {
            "text/plain": [
              "True"
            ]
          },
          "execution_count": 19,
          "metadata": {},
          "output_type": "execute_result"
        }
      ]
    },
    {
      "cell_type": "markdown",
      "metadata": {
        "id": "d4I5UdGV-7BI"
      },
      "source": [
        "#### Приоритеты операций\n",
        "Если сложное выражение содержит несколько операторов, то они вычисляются в следующей последовательности: вначале действует `not`, затем действует `and`, а затем `or`. Если этот порядок действий нужно изменить, то управлять последовательностью вычислений могут обычные круглые скобки.\n",
        "\n",
        "Зададим логическую функцию, по которой собака на цепи решает, пропускать ей пытающуюся войти группу людей или нет:"
      ],
      "id": "d4I5UdGV-7BI"
    },
    {
      "cell_type": "code",
      "metadata": {
        "collapsed": true,
        "id": "U0c2j13P-7BJ"
      },
      "source": [
        "def dog_allows_passage(group):\n",
        "    owner = \"хозяин\"\n",
        "    child = \"ребёнок хозяина\"\n",
        "    alien = \"подозрительный незнакомец\"\n",
        "    \n",
        "    return owner in group or child in group and not alien in group"
      ],
      "id": "U0c2j13P-7BJ",
      "execution_count": null,
      "outputs": []
    },
    {
      "cell_type": "markdown",
      "metadata": {
        "id": "U8sZ4Y0h-7BJ"
      },
      "source": [
        "По умолчанию тут такой порядок:\n",
        "``` text\n",
        "owner in group or child in group and not alien in group\n",
        "               3                  2   1\n",
        "```\n",
        "Таким образом, наличие хозяина в группе людей даёт проход при любых людях в группе, а ребёнок обеспечивает проход только при отсутствии в группе подозрительного незнакомца."
      ],
      "id": "U8sZ4Y0h-7BJ"
    },
    {
      "cell_type": "code",
      "metadata": {
        "id": "Mb-ACw8Z-7BK",
        "outputId": "7d112ca6-11c0-459a-9931-d56a03bd166c"
      },
      "source": [
        "for group in [{\"хозяин\"},\n",
        "              {\"хозяин\", \"ребёнок хозяина\"},\n",
        "              {\"хозяин\", \"подозрительный незнакомец\"},\n",
        "              {\"ребёнок хозяина\"},\n",
        "              {\"ребёнок хозяина\", \"друг ребёнка\"},\n",
        "              {\"ребёнок хозяина\", \"подозрительный незнакомец\"},\n",
        "              {\"подозрительный незнакомец\"}]:\n",
        "    if dog_allows_passage(group):\n",
        "        message = \"Пропустить в дом\"\n",
        "    else:\n",
        "        message = \"Запретить проход\"\n",
        "    print(message, group)"
      ],
      "id": "Mb-ACw8Z-7BK",
      "execution_count": null,
      "outputs": [
        {
          "name": "stdout",
          "output_type": "stream",
          "text": [
            "Пропустить в дом {'хозяин'}\n",
            "Пропустить в дом {'хозяин', 'ребёнок хозяина'}\n",
            "Пропустить в дом {'хозяин', 'подозрительный незнакомец'}\n",
            "Пропустить в дом {'ребёнок хозяина'}\n",
            "Пропустить в дом {'ребёнок хозяина', 'друг ребёнка'}\n",
            "Запретить проход {'ребёнок хозяина', 'подозрительный незнакомец'}\n",
            "Запретить проход {'подозрительный незнакомец'}\n"
          ]
        }
      ]
    },
    {
      "cell_type": "markdown",
      "metadata": {
        "id": "H9b_cNAh-7BK"
      },
      "source": [
        "Ещё один типичный пример, когда важно понимать расстановку приоритетов:\n",
        "`A and B or C and D` будет правдой тогда, когда A одновременно истинно с B или же C одновременно истинно с D.\n",
        "\n",
        "Если же мы хотим сделать выражение, где требуется одновременная истинность A, D, а также одного из двух — B или C, то нам обязательно нужно использовать скобки, чтобы Python понял необходимый нам порядок операций:\n",
        "`A and (B or C) and D`."
      ],
      "id": "H9b_cNAh-7BK"
    },
    {
      "cell_type": "markdown",
      "metadata": {
        "id": "8BeotQWa-7BK"
      },
      "source": [
        "### Задача из демо-варианта ЕГЭ по информатике 2008 года\n",
        "Вам дано логическое уравнение, зависящее от нескольких логических переменных.\n",
        "Требуется найти количество решений данного логического уравнения.\n",
        "\n",
        "$(\\lnot (K \\lor L) \\lor (L \\land M \\land N)) = 0$\n",
        "\n",
        "В ЕГЭ предполагалось, что эта задача решается вручную через тождественные преобразования и аккуратный перебор предположений. Мы можем воспользоваться полным перебором решений при помощи Python:"
      ],
      "id": "8BeotQWa-7BK"
    },
    {
      "cell_type": "code",
      "metadata": {
        "id": "1APbNxtt-7BL",
        "outputId": "4a85eca9-d03a-4d9c-f657-e4bf51ac970e"
      },
      "source": [
        "count = 0\n",
        "for K in False, True:\n",
        "    for L in False, True:\n",
        "        for M in False, True:\n",
        "            for N in False, True:\n",
        "                if (not (K or L) or (L and M and N)) == False:\n",
        "                    count += 1\n",
        "print(\"Количество решений: \", count)"
      ],
      "id": "1APbNxtt-7BL",
      "execution_count": null,
      "outputs": [
        {
          "name": "stdout",
          "output_type": "stream",
          "text": [
            "Количество решений:  10\n"
          ]
        }
      ]
    },
    {
      "cell_type": "markdown",
      "metadata": {
        "id": "c8n6Led4-7BL"
      },
      "source": [
        "Впрочем, писать несколько вложенных циклов не очень удобно, и здесь мы можем заменить это вложение через декартово произведение из модуля itertools:"
      ],
      "id": "c8n6Led4-7BL"
    },
    {
      "cell_type": "code",
      "metadata": {
        "id": "nlRrEni5-7BL",
        "outputId": "ac7c7741-cd0d-4e24-9374-b691a70d73ca"
      },
      "source": [
        "import itertools\n",
        "B = (False, True)\n",
        "count = 0\n",
        "for K, L, M, N in itertools.product(B, B, B, B):\n",
        "    count += ((not (K or L) or (L and M and N)) == False)\n",
        "print(\"Количество решений: \", count)"
      ],
      "id": "nlRrEni5-7BL",
      "execution_count": null,
      "outputs": [
        {
          "name": "stdout",
          "output_type": "stream",
          "text": [
            "Количество решений:  10\n"
          ]
        }
      ]
    },
    {
      "cell_type": "markdown",
      "metadata": {
        "id": "pupXb_gF-7BM"
      },
      "source": [
        "### Ленивые операции И и ИЛИ\n",
        "Если значение высказывания уже ясно исходя из значения левого операнда (того, что *слева* от оператора), то логический оператор \"ленится\" вычислять правый операнд. Иногда это бывает важно, особенно если вычисление правого операнда невозможно при условии истинности или ложности левого.\n",
        "\n",
        "В большинстве случаев не важно, какое высказывание стоит слева, а какое справа от И и ИЛИ, поскольку таблица истинности от этого не зависит.\n",
        "Но вот пример, когда мы явно пользуемся \"ленивыми операциями\":"
      ],
      "id": "pupXb_gF-7BM"
    },
    {
      "cell_type": "code",
      "metadata": {
        "collapsed": true,
        "id": "UpZnIGVV-7BM"
      },
      "source": [
        "A = \"UCAGAGCGGAUAGUGACGC\"\n",
        "i = 10"
      ],
      "id": "UpZnIGVV-7BM",
      "execution_count": null,
      "outputs": []
    },
    {
      "cell_type": "code",
      "metadata": {
        "id": "Gzpw9-Ko-7BN",
        "outputId": "ced7a07b-d31f-4e46-af5e-5d1c8552473e"
      },
      "source": [
        "i < len(A) and A[i] == 'U'"
      ],
      "id": "Gzpw9-Ko-7BN",
      "execution_count": null,
      "outputs": [
        {
          "data": {
            "text/plain": [
              "True"
            ]
          },
          "execution_count": 25,
          "metadata": {},
          "output_type": "execute_result"
        }
      ]
    },
    {
      "cell_type": "code",
      "metadata": {
        "id": "DnNGVVyg-7BN",
        "outputId": "ed424ff0-1849-4cfb-b418-2dc7d5fbea09"
      },
      "source": [
        "A[i] == 'U' and i < len(A)"
      ],
      "id": "DnNGVVyg-7BN",
      "execution_count": null,
      "outputs": [
        {
          "data": {
            "text/plain": [
              "True"
            ]
          },
          "execution_count": 26,
          "metadata": {},
          "output_type": "execute_result"
        }
      ]
    },
    {
      "cell_type": "markdown",
      "metadata": {
        "id": "56YVpzoI-7BO"
      },
      "source": [
        "Если вам показалось, что второе выражение эквивалентно первому, то посмотрите на эту ошибку. Выражения абсолютно те же самые, но значение `i` другое, в результате во втором высказывании возникает ошибка:"
      ],
      "id": "56YVpzoI-7BO"
    },
    {
      "cell_type": "code",
      "metadata": {
        "collapsed": true,
        "id": "w9gbZKv3-7BO"
      },
      "source": [
        "A = \"UCAGAGCGGAUAGUGACGC\"\n",
        "i = 20"
      ],
      "id": "w9gbZKv3-7BO",
      "execution_count": null,
      "outputs": []
    },
    {
      "cell_type": "code",
      "metadata": {
        "id": "7pf8SGQ8-7BO",
        "outputId": "8ef92dfb-df4a-4d57-e819-8e77cc2cb7de"
      },
      "source": [
        "i < len(A) and A[i] == 'U'"
      ],
      "id": "7pf8SGQ8-7BO",
      "execution_count": null,
      "outputs": [
        {
          "data": {
            "text/plain": [
              "False"
            ]
          },
          "execution_count": 28,
          "metadata": {},
          "output_type": "execute_result"
        }
      ]
    },
    {
      "cell_type": "code",
      "metadata": {
        "id": "YGe1MiYJ-7BO",
        "outputId": "da75fbe4-bed3-4618-938b-c2be006a6c8a"
      },
      "source": [
        "A[i] == 'U' and i < len(A)"
      ],
      "id": "YGe1MiYJ-7BO",
      "execution_count": null,
      "outputs": [
        {
          "ename": "IndexError",
          "evalue": "string index out of range",
          "output_type": "error",
          "traceback": [
            "\u001b[1;31m---------------------------------------------------------------------------\u001b[0m",
            "\u001b[1;31mIndexError\u001b[0m                                Traceback (most recent call last)",
            "\u001b[1;32m<ipython-input-29-a1e0739256a0>\u001b[0m in \u001b[0;36m<module>\u001b[1;34m\u001b[0m\n\u001b[1;32m----> 1\u001b[1;33m \u001b[0mA\u001b[0m\u001b[1;33m[\u001b[0m\u001b[0mi\u001b[0m\u001b[1;33m]\u001b[0m \u001b[1;33m==\u001b[0m \u001b[1;34m'U'\u001b[0m \u001b[1;32mand\u001b[0m \u001b[0mi\u001b[0m \u001b[1;33m<\u001b[0m \u001b[0mlen\u001b[0m\u001b[1;33m(\u001b[0m\u001b[0mA\u001b[0m\u001b[1;33m)\u001b[0m\u001b[1;33m\u001b[0m\u001b[1;33m\u001b[0m\u001b[0m\n\u001b[0m",
            "\u001b[1;31mIndexError\u001b[0m: string index out of range"
          ]
        }
      ]
    },
    {
      "cell_type": "markdown",
      "metadata": {
        "id": "g5h6yziZ-7BP"
      },
      "source": [
        "### Функции all и any\n",
        "Когда требуется осуществить длинное логическое И/ИЛИ с целой последовательностью булевых значений, используются функции `all` и `any`. Они работают с любыми итерируемыми объектами, а значит, их удобно использовать вкупе с генераторами.\n",
        "\n",
        "Допустим, у студента-биолога есть два набора отрезков матричных РНК. Он хочет определить, во всех ли отрезках есть кодон *метионина* — триплет нуклеотидных остатков, который кодирует аминокислоту *метионин*."
      ],
      "id": "g5h6yziZ-7BP"
    },
    {
      "cell_type": "code",
      "metadata": {
        "collapsed": true,
        "id": "KPUtn5_F-7BP"
      },
      "source": [
        "methionine_code = \"AUG\"\n",
        "A = [\"GCAAUGGCA\", \"GCAGUAAAU\", \"CGAACCAGU\"]\n",
        "B = [\"AUGGCAGCA\", \"GCAUGAAAU\", \"CGAACCAUG\"]"
      ],
      "id": "KPUtn5_F-7BP",
      "execution_count": null,
      "outputs": []
    },
    {
      "cell_type": "code",
      "metadata": {
        "id": "_IuuR0KH-7BP",
        "outputId": "76737b44-f982-4a0c-faf0-f837a0801522"
      },
      "source": [
        "all(methionine_code in gene for gene in A)"
      ],
      "id": "_IuuR0KH-7BP",
      "execution_count": null,
      "outputs": [
        {
          "data": {
            "text/plain": [
              "False"
            ]
          },
          "execution_count": 32,
          "metadata": {},
          "output_type": "execute_result"
        }
      ]
    },
    {
      "cell_type": "code",
      "metadata": {
        "id": "BFQ0EJmY-7BP",
        "outputId": "e8c6483a-7951-4786-fc65-2a4355030e98"
      },
      "source": [
        "all(methionine_code in gene for gene in B)"
      ],
      "id": "BFQ0EJmY-7BP",
      "execution_count": null,
      "outputs": [
        {
          "data": {
            "text/plain": [
              "True"
            ]
          },
          "execution_count": 33,
          "metadata": {},
          "output_type": "execute_result"
        }
      ]
    },
    {
      "cell_type": "markdown",
      "metadata": {
        "id": "XMCJCQdc-7BQ"
      },
      "source": [
        "А теперь его задача узнать, есть ли кодон *метионина* хоть в каком-нибудь отрезке из набора:"
      ],
      "id": "XMCJCQdc-7BQ"
    },
    {
      "cell_type": "code",
      "metadata": {
        "id": "7UEtWDPl-7BQ",
        "outputId": "46c39eaa-b29c-4fc3-d1e4-d22b93e355bd"
      },
      "source": [
        "any(methionine_code in gene for gene in A)"
      ],
      "id": "7UEtWDPl-7BQ",
      "execution_count": null,
      "outputs": [
        {
          "data": {
            "text/plain": [
              "True"
            ]
          },
          "execution_count": 34,
          "metadata": {},
          "output_type": "execute_result"
        }
      ]
    },
    {
      "cell_type": "code",
      "metadata": {
        "id": "A-n-BOC9-7BQ",
        "outputId": "1e0aa887-a07a-4980-8fd9-74161f8136f3"
      },
      "source": [
        "any(methionine_code in gene for gene in B)"
      ],
      "id": "A-n-BOC9-7BQ",
      "execution_count": null,
      "outputs": [
        {
          "data": {
            "text/plain": [
              "True"
            ]
          },
          "execution_count": 35,
          "metadata": {},
          "output_type": "execute_result"
        }
      ]
    },
    {
      "cell_type": "markdown",
      "metadata": {
        "id": "gJrfGcsK-7BQ"
      },
      "source": [
        "## NumPy и логические выражения"
      ],
      "id": "gJrfGcsK-7BQ"
    },
    {
      "cell_type": "markdown",
      "metadata": {
        "id": "5gpI2AA2-7BR"
      },
      "source": [
        "### Векторные логические операции\n",
        "Как вы уже знаете, операции с массивами NumPy векторные, то есть они выполняются сразу со всеми элементами массива. Это касается не только домножений на число и применений функций NumPy, но и логических операций:"
      ],
      "id": "5gpI2AA2-7BR"
    },
    {
      "cell_type": "code",
      "metadata": {
        "id": "TGOrP6rU-7BR",
        "outputId": "a0364f92-7316-427b-8969-457f522cfb50"
      },
      "source": [
        "import numpy as np\n",
        "A = np.array([10, 53, 61, 23, 66, 12, 63, 63, 36, 77, 91, 82]).reshape((3, 4))\n",
        "print(A)\n",
        "print(A > 50)"
      ],
      "id": "TGOrP6rU-7BR",
      "execution_count": null,
      "outputs": [
        {
          "name": "stdout",
          "output_type": "stream",
          "text": [
            "[[10 53 61 23]\n",
            " [66 12 63 63]\n",
            " [36 77 91 82]]\n",
            "[[False  True  True False]\n",
            " [ True False  True  True]\n",
            " [False  True  True  True]]\n"
          ]
        }
      ]
    },
    {
      "cell_type": "markdown",
      "metadata": {
        "id": "E251sDHj-7BR"
      },
      "source": [
        "Ценно то, что такой **массив логических значений может быть использован для доступа к элементам исходного массива** как на чтение, так и на запись. Для этого важно совпадение `shape` данных массивов. Можно считать, что логический массив является как бы \"маской доступа\" к элементам исходного массива.\n",
        "\n",
        "Теперь мы можем занулить элементы по некоторому условию:"
      ],
      "id": "E251sDHj-7BR"
    },
    {
      "cell_type": "code",
      "metadata": {
        "id": "SeDsbTF3-7BR",
        "outputId": "945a00f6-4aeb-4b85-abae-ceb13cee605f"
      },
      "source": [
        "B = A.copy()\n",
        "B[B > 50] = 0\n",
        "print(B)"
      ],
      "id": "SeDsbTF3-7BR",
      "execution_count": null,
      "outputs": [
        {
          "name": "stdout",
          "output_type": "stream",
          "text": [
            "[[10  0  0 23]\n",
            " [ 0 12  0  0]\n",
            " [36  0  0  0]]\n"
          ]
        }
      ]
    },
    {
      "cell_type": "markdown",
      "metadata": {
        "id": "vX-6JWXt-7BS"
      },
      "source": [
        "Или поменять им знак:"
      ],
      "id": "vX-6JWXt-7BS"
    },
    {
      "cell_type": "code",
      "metadata": {
        "id": "XRVmLMvL-7BS",
        "outputId": "67913eaf-40fb-42ee-fb2b-85b9402224ee"
      },
      "source": [
        "B = A.copy()\n",
        "B[B > 50] *= -1  # Домножить на минус единицу.\n",
        "print(B)"
      ],
      "id": "XRVmLMvL-7BS",
      "execution_count": null,
      "outputs": [
        {
          "name": "stdout",
          "output_type": "stream",
          "text": [
            "[[ 10 -53 -61  23]\n",
            " [-66  12 -63 -63]\n",
            " [ 36 -77 -91 -82]]\n"
          ]
        }
      ]
    },
    {
      "cell_type": "markdown",
      "metadata": {
        "id": "Zam8peTA-7BS"
      },
      "source": [
        "Тем же синтаксисом может быть выполнена операция с картинкой, изменяющая значение цветового канала пиксела по условию на значение этого канала пиксела."
      ],
      "id": "Zam8peTA-7BS"
    },
    {
      "cell_type": "code",
      "metadata": {
        "colab": {
          "base_uri": "https://localhost:8080/"
        },
        "id": "6PrC-qcGttTT",
        "outputId": "cada383f-fbe5-41c0-a407-1bd5b4e6c73b"
      },
      "source": [
        "!wget -O \"2_python.jpg\" \"https://drive.google.com/uc?id=1vNnDQU5KEi1yxA60sv91S2gCdhy3LkYr&export=download\""
      ],
      "id": "6PrC-qcGttTT",
      "execution_count": null,
      "outputs": [
        {
          "output_type": "stream",
          "name": "stdout",
          "text": [
            "--2021-12-01 06:38:46--  https://drive.google.com/uc?id=1vNnDQU5KEi1yxA60sv91S2gCdhy3LkYr&export=download\n",
            "Resolving drive.google.com (drive.google.com)... 173.194.210.102, 173.194.210.139, 173.194.210.101, ...\n",
            "Connecting to drive.google.com (drive.google.com)|173.194.210.102|:443... connected.\n",
            "HTTP request sent, awaiting response... 302 Moved Temporarily\n",
            "Location: https://doc-0c-1g-docs.googleusercontent.com/docs/securesc/ha0ro937gcuc7l7deffksulhg5h7mbp1/8ktl97110emibet987d06n25qsnghllj/1638340725000/05476118052512889131/*/1vNnDQU5KEi1yxA60sv91S2gCdhy3LkYr?e=download [following]\n",
            "Warning: wildcards not supported in HTTP.\n",
            "--2021-12-01 06:38:46--  https://doc-0c-1g-docs.googleusercontent.com/docs/securesc/ha0ro937gcuc7l7deffksulhg5h7mbp1/8ktl97110emibet987d06n25qsnghllj/1638340725000/05476118052512889131/*/1vNnDQU5KEi1yxA60sv91S2gCdhy3LkYr?e=download\n",
            "Resolving doc-0c-1g-docs.googleusercontent.com (doc-0c-1g-docs.googleusercontent.com)... 173.194.215.132, 2607:f8b0:400c:c0c::84\n",
            "Connecting to doc-0c-1g-docs.googleusercontent.com (doc-0c-1g-docs.googleusercontent.com)|173.194.215.132|:443... connected.\n",
            "HTTP request sent, awaiting response... 200 OK\n",
            "Length: 149855 (146K) [image/jpeg]\n",
            "Saving to: ‘2_python.jpg’\n",
            "\n",
            "2_python.jpg        100%[===================>] 146.34K  --.-KB/s    in 0.001s  \n",
            "\n",
            "2021-12-01 06:38:46 (109 MB/s) - ‘2_python.jpg’ saved [149855/149855]\n",
            "\n"
          ]
        }
      ]
    },
    {
      "cell_type": "code",
      "metadata": {
        "id": "8zZn6pzs-7BS",
        "colab": {
          "base_uri": "https://localhost:8080/",
          "height": 286
        },
        "outputId": "2652d071-07d0-4b1f-e046-90136cf2e4e1"
      },
      "source": [
        "import matplotlib.pyplot as plt\n",
        "image = plt.imread(\"2_python.jpg\")\n",
        "plt.imshow(image)"
      ],
      "id": "8zZn6pzs-7BS",
      "execution_count": null,
      "outputs": [
        {
          "output_type": "execute_result",
          "data": {
            "text/plain": [
              "<matplotlib.image.AxesImage at 0x7f7e66707710>"
            ]
          },
          "metadata": {},
          "execution_count": 10
        },
        {
          "output_type": "display_data",
          "data": {
            "image/png": "[encoded data removed]",
            "text/plain": [
              "<Figure size 432x288 with 1 Axes>"
            ]
          },
          "metadata": {
            "needs_background": "light"
          }
        }
      ]
    },
    {
      "cell_type": "code",
      "metadata": {
        "id": "4aPbS9YF-7BT",
        "colab": {
          "base_uri": "https://localhost:8080/",
          "height": 286
        },
        "outputId": "b6c6fb4c-af0f-4c63-ae2f-d2b07b4841d5"
      },
      "source": [
        "data = image.copy()\n",
        "data[data > 150] = 255\n",
        "plt.imshow(data)"
      ],
      "id": "4aPbS9YF-7BT",
      "execution_count": null,
      "outputs": [
        {
          "output_type": "execute_result",
          "data": {
            "text/plain": [
              "<matplotlib.image.AxesImage at 0x7f7e5e927f50>"
            ]
          },
          "metadata": {},
          "execution_count": 11
        },
        {
          "output_type": "display_data",
          "data": {
            "image/png": "[encoded data removed]",
            "text/plain": [
              "<Figure size 432x288 with 1 Axes>"
            ]
          },
          "metadata": {
            "needs_background": "light"
          }
        }
      ]
    },
    {
      "cell_type": "markdown",
      "metadata": {
        "id": "wxMiGMwM-7BT"
      },
      "source": [
        "#### Логические операции с логическими массивами NumPy\n",
        "Раз массивы логических значений так удобны, стоит узнать как осуществлять с ними массовые, *векторные логические операции*.\n",
        "Создадим два логических массива для экспериментов:"
      ],
      "id": "wxMiGMwM-7BT"
    },
    {
      "cell_type": "code",
      "metadata": {
        "collapsed": true,
        "id": "5kDd4njl-7BT"
      },
      "source": [
        "import numpy as np\n",
        "A = np.array([False, False, True, True])\n",
        "B = np.array([False, True, False, True])"
      ],
      "id": "5kDd4njl-7BT",
      "execution_count": null,
      "outputs": []
    },
    {
      "cell_type": "markdown",
      "metadata": {
        "id": "mK36BI7u-7BT"
      },
      "source": [
        "Однако логические операции `and`, `or` и `not` с массивами NumPy не работают!"
      ],
      "id": "mK36BI7u-7BT"
    },
    {
      "cell_type": "code",
      "metadata": {
        "id": "XDlys0e--7BU",
        "outputId": "bba72933-9fb7-47ea-c8a3-42d7139ebeef"
      },
      "source": [
        "A and B"
      ],
      "id": "XDlys0e--7BU",
      "execution_count": null,
      "outputs": [
        {
          "ename": "ValueError",
          "evalue": "The truth value of an array with more than one element is ambiguous. Use a.any() or a.all()",
          "output_type": "error",
          "traceback": [
            "\u001b[1;31m---------------------------------------------------------------------------\u001b[0m",
            "\u001b[1;31mValueError\u001b[0m                                Traceback (most recent call last)",
            "\u001b[1;32m<ipython-input-3-0cc67685677c>\u001b[0m in \u001b[0;36m<module>\u001b[1;34m\u001b[0m\n\u001b[1;32m----> 1\u001b[1;33m \u001b[0mA\u001b[0m \u001b[1;32mand\u001b[0m \u001b[0mB\u001b[0m\u001b[1;33m\u001b[0m\u001b[1;33m\u001b[0m\u001b[0m\n\u001b[0m",
            "\u001b[1;31mValueError\u001b[0m: The truth value of an array with more than one element is ambiguous. Use a.any() or a.all()"
          ]
        }
      ]
    },
    {
      "cell_type": "markdown",
      "metadata": {
        "id": "QF6ua2bl-7BU"
      },
      "source": [
        "Зато работают операции `&`, `|`, `~`:"
      ],
      "id": "QF6ua2bl-7BU"
    },
    {
      "cell_type": "code",
      "metadata": {
        "id": "xR8fU4ac-7BU",
        "outputId": "9dd6dc19-e5f3-435f-da01-374e53dd00cc"
      },
      "source": [
        "print(A)\n",
        "print(B)\n",
        "print(A & B)"
      ],
      "id": "xR8fU4ac-7BU",
      "execution_count": null,
      "outputs": [
        {
          "name": "stdout",
          "output_type": "stream",
          "text": [
            "[False False  True  True]\n",
            "[False  True False  True]\n",
            "[False False False  True]\n"
          ]
        }
      ]
    },
    {
      "cell_type": "code",
      "metadata": {
        "id": "mTYRo2fw-7BU",
        "outputId": "1bde9ee5-37c0-40ac-e857-c98f804d060a"
      },
      "source": [
        "print(A)\n",
        "print(B)\n",
        "print(A | B)"
      ],
      "id": "mTYRo2fw-7BU",
      "execution_count": null,
      "outputs": [
        {
          "name": "stdout",
          "output_type": "stream",
          "text": [
            "[False False  True  True]\n",
            "[False  True False  True]\n",
            "[False  True  True  True]\n"
          ]
        }
      ]
    },
    {
      "cell_type": "code",
      "metadata": {
        "id": "YxyZojwZ-7BV",
        "outputId": "2d6c04be-0bfb-4b20-94cb-3f4e00eb80cc"
      },
      "source": [
        "print(A)\n",
        "print(~A)"
      ],
      "id": "YxyZojwZ-7BV",
      "execution_count": null,
      "outputs": [
        {
          "name": "stdout",
          "output_type": "stream",
          "text": [
            "[False False  True  True]\n",
            "[ True  True False False]\n"
          ]
        }
      ]
    },
    {
      "cell_type": "markdown",
      "metadata": {
        "id": "4Kdv5UIa-7BV"
      },
      "source": [
        "###  Редукция массивов NumPy методами any и all\n",
        "Для редукции логического массива лучше пользоваться не стандартными `all` и `any`, а **аналогичными методами** массива:"
      ],
      "id": "4Kdv5UIa-7BV"
    },
    {
      "cell_type": "code",
      "metadata": {
        "collapsed": true,
        "id": "GlrYWyvk-7BV"
      },
      "source": [
        "import numpy as np\n",
        "logical_array = np.array([[ True,  True,  True,  True,  True],\n",
        "                          [ True, False, False, False,  True],\n",
        "                          [False,  True, False, False,  True],\n",
        "                          [False, False, False, False,  True]])"
      ],
      "id": "GlrYWyvk-7BV",
      "execution_count": null,
      "outputs": []
    },
    {
      "cell_type": "code",
      "metadata": {
        "id": "dtUnPPp--7BV",
        "outputId": "7b78c1f7-8ff4-439d-8d3f-7910419691df"
      },
      "source": [
        "any(logical_array)"
      ],
      "id": "dtUnPPp--7BV",
      "execution_count": null,
      "outputs": [
        {
          "ename": "ValueError",
          "evalue": "The truth value of an array with more than one element is ambiguous. Use a.any() or a.all()",
          "output_type": "error",
          "traceback": [
            "\u001b[1;31m---------------------------------------------------------------------------\u001b[0m",
            "\u001b[1;31mValueError\u001b[0m                                Traceback (most recent call last)",
            "\u001b[1;32m<ipython-input-20-341b431a6da2>\u001b[0m in \u001b[0;36m<module>\u001b[1;34m\u001b[0m\n\u001b[1;32m----> 1\u001b[1;33m \u001b[0many\u001b[0m\u001b[1;33m(\u001b[0m\u001b[0mlogical_array\u001b[0m\u001b[1;33m)\u001b[0m\u001b[1;33m\u001b[0m\u001b[1;33m\u001b[0m\u001b[0m\n\u001b[0m",
            "\u001b[1;31mValueError\u001b[0m: The truth value of an array with more than one element is ambiguous. Use a.any() or a.all()"
          ]
        }
      ]
    },
    {
      "cell_type": "code",
      "metadata": {
        "id": "pePxY_PC-7BV",
        "outputId": "7cb1711b-9fde-4b48-9feb-16de6356981f"
      },
      "source": [
        "logical_array.any()"
      ],
      "id": "pePxY_PC-7BV",
      "execution_count": null,
      "outputs": [
        {
          "data": {
            "text/plain": [
              "True"
            ]
          },
          "execution_count": 21,
          "metadata": {},
          "output_type": "execute_result"
        }
      ]
    },
    {
      "cell_type": "markdown",
      "metadata": {
        "id": "fXRE7ghd-7BV"
      },
      "source": [
        "При этом в NumPy можно провести редукцию логического массива по конкретной оси!\n",
        "\n",
        "Для этого в параметре метода укажем индекс оси:"
      ],
      "id": "fXRE7ghd-7BV"
    },
    {
      "cell_type": "code",
      "metadata": {
        "id": "ukTJwAhd-7BW",
        "outputId": "36edfc0a-25dc-4920-f742-dfa577689d44"
      },
      "source": [
        "logical_array.any(0)"
      ],
      "id": "ukTJwAhd-7BW",
      "execution_count": null,
      "outputs": [
        {
          "data": {
            "text/plain": [
              "array([ True,  True,  True,  True,  True])"
            ]
          },
          "execution_count": 9,
          "metadata": {},
          "output_type": "execute_result"
        }
      ]
    },
    {
      "cell_type": "code",
      "metadata": {
        "id": "yaiYICum-7BW",
        "outputId": "0eabbdbb-0a3a-41be-e776-e20a4a30e95b"
      },
      "source": [
        "logical_array.any(1)"
      ],
      "id": "yaiYICum-7BW",
      "execution_count": null,
      "outputs": [
        {
          "data": {
            "text/plain": [
              "array([ True,  True,  True,  True])"
            ]
          },
          "execution_count": 10,
          "metadata": {},
          "output_type": "execute_result"
        }
      ]
    },
    {
      "cell_type": "code",
      "metadata": {
        "id": "eKjeZQAC-7BW",
        "outputId": "c8ef766f-b521-44b9-f611-cb18be4b6700"
      },
      "source": [
        "logical_array.all(0)"
      ],
      "id": "eKjeZQAC-7BW",
      "execution_count": null,
      "outputs": [
        {
          "data": {
            "text/plain": [
              "array([False, False, False, False,  True])"
            ]
          },
          "execution_count": 11,
          "metadata": {},
          "output_type": "execute_result"
        }
      ]
    },
    {
      "cell_type": "code",
      "metadata": {
        "id": "bL3hwqtw-7BW",
        "outputId": "9698c008-f37f-4a5a-da6e-addee4383e5f"
      },
      "source": [
        "logical_array.all(1)"
      ],
      "id": "bL3hwqtw-7BW",
      "execution_count": null,
      "outputs": [
        {
          "data": {
            "text/plain": [
              "array([ True, False, False, False])"
            ]
          },
          "execution_count": 12,
          "metadata": {},
          "output_type": "execute_result"
        }
      ]
    },
    {
      "cell_type": "markdown",
      "metadata": {
        "id": "IQrzHbfk-7BW"
      },
      "source": [
        "## Основы работы с данными в Pandas\n",
        "Pandas — популярная библиотека для работы с табличными данными различных типов.\n",
        "С её помощью загрузка файла в формате CSV или XLS становится примитивной:"
      ],
      "id": "IQrzHbfk-7BW"
    },
    {
      "cell_type": "code",
      "metadata": {
        "colab": {
          "base_uri": "https://localhost:8080/"
        },
        "id": "ARdyk0XjpZtz",
        "outputId": "f920bd9f-7d84-4e79-e429-0d584b103da3"
      },
      "source": [
        "!wget -O \"demodata.csv\" \"https://drive.google.com/uc?id=1q7uSBWVzmanMtdtnBUOjJm8BXwBgAb0p&export=download\""
      ],
      "id": "ARdyk0XjpZtz",
      "execution_count": null,
      "outputs": [
        {
          "output_type": "stream",
          "name": "stdout",
          "text": [
            "--2021-12-01 06:33:30--  https://drive.google.com/uc?id=1q7uSBWVzmanMtdtnBUOjJm8BXwBgAb0p&export=download\n",
            "Resolving drive.google.com (drive.google.com)... 173.194.210.113, 173.194.210.102, 173.194.210.100, ...\n",
            "Connecting to drive.google.com (drive.google.com)|173.194.210.113|:443... connected.\n",
            "HTTP request sent, awaiting response... 302 Moved Temporarily\n",
            "Location: https://doc-14-1g-docs.googleusercontent.com/docs/securesc/ha0ro937gcuc7l7deffksulhg5h7mbp1/s4lo91b65an7cioojd8c8fe9t0t5o274/1638340350000/05476118052512889131/*/1q7uSBWVzmanMtdtnBUOjJm8BXwBgAb0p?e=download [following]\n",
            "Warning: wildcards not supported in HTTP.\n",
            "--2021-12-01 06:33:30--  https://doc-14-1g-docs.googleusercontent.com/docs/securesc/ha0ro937gcuc7l7deffksulhg5h7mbp1/s4lo91b65an7cioojd8c8fe9t0t5o274/1638340350000/05476118052512889131/*/1q7uSBWVzmanMtdtnBUOjJm8BXwBgAb0p?e=download\n",
            "Resolving doc-14-1g-docs.googleusercontent.com (doc-14-1g-docs.googleusercontent.com)... 173.194.215.132, 2607:f8b0:400c:c0c::84\n",
            "Connecting to doc-14-1g-docs.googleusercontent.com (doc-14-1g-docs.googleusercontent.com)|173.194.215.132|:443... connected.\n",
            "HTTP request sent, awaiting response... 200 OK\n",
            "Length: 659 [text/csv]\n",
            "Saving to: ‘demodata.csv’\n",
            "\n",
            "demodata.csv        100%[===================>]     659  --.-KB/s    in 0s      \n",
            "\n",
            "2021-12-01 06:33:30 (18.9 MB/s) - ‘demodata.csv’ saved [659/659]\n",
            "\n"
          ]
        }
      ]
    },
    {
      "cell_type": "code",
      "metadata": {
        "collapsed": true,
        "id": "fQXh-6kR-7BX"
      },
      "source": [
        "import pandas as pd\n",
        "data = pd.read_csv(\"demodata.csv\")"
      ],
      "id": "fQXh-6kR-7BX",
      "execution_count": null,
      "outputs": []
    },
    {
      "cell_type": "markdown",
      "metadata": {
        "id": "voRGLBN8-7BX"
      },
      "source": [
        "Что за тип у объекта, который хранит считанные из файла данные?"
      ],
      "id": "voRGLBN8-7BX"
    },
    {
      "cell_type": "code",
      "metadata": {
        "id": "ZI24bgAu-7BX",
        "outputId": "09cda670-d3b2-43c8-cf9f-50e30dae8787"
      },
      "source": [
        "type(data)"
      ],
      "id": "ZI24bgAu-7BX",
      "execution_count": null,
      "outputs": [
        {
          "data": {
            "text/plain": [
              "pandas.core.frame.DataFrame"
            ]
          },
          "execution_count": 87,
          "metadata": {},
          "output_type": "execute_result"
        }
      ]
    },
    {
      "cell_type": "markdown",
      "metadata": {
        "id": "ptySgA2R-7BX"
      },
      "source": [
        "`DataFrame` — основной тип библиотеки Pandas, и почти все операции над листом с данными будут осуществляться через его методы."
      ],
      "id": "ptySgA2R-7BX"
    },
    {
      "cell_type": "markdown",
      "metadata": {
        "id": "MekpUoWe-7BX"
      },
      "source": [
        "Размеры листа хранятся в *атрибуте* `shape`:"
      ],
      "id": "MekpUoWe-7BX"
    },
    {
      "cell_type": "code",
      "metadata": {
        "id": "cIGtLhan-7BX",
        "outputId": "325b3e15-9570-4f4c-aa51-23d8e38d1940"
      },
      "source": [
        "data.shape"
      ],
      "id": "cIGtLhan-7BX",
      "execution_count": null,
      "outputs": [
        {
          "data": {
            "text/plain": [
              "(10, 6)"
            ]
          },
          "execution_count": 88,
          "metadata": {},
          "output_type": "execute_result"
        }
      ]
    },
    {
      "cell_type": "markdown",
      "metadata": {
        "id": "x48YL1EN-7BY"
      },
      "source": [
        "### Знакомство с данными\n",
        "После того, как вы открыли файл, нужно познакомиться с данными. Для этого есть несколько путей.\n",
        "\n",
        "Посмотреть на несколько первых строк:"
      ],
      "id": "x48YL1EN-7BY"
    },
    {
      "cell_type": "code",
      "metadata": {
        "id": "xs-0n1OK-7BY",
        "outputId": "ecfce77e-3544-4735-c49b-2ee519e341f7"
      },
      "source": [
        "data.head()"
      ],
      "id": "xs-0n1OK-7BY",
      "execution_count": null,
      "outputs": [
        {
          "data": {
            "text/html": [
              "<div>\n",
              "<style scoped>\n",
              "    .dataframe tbody tr th:only-of-type {\n",
              "        vertical-align: middle;\n",
              "    }\n",
              "\n",
              "    .dataframe tbody tr th {\n",
              "        vertical-align: top;\n",
              "    }\n",
              "\n",
              "    .dataframe thead th {\n",
              "        text-align: right;\n",
              "    }\n",
              "</style>\n",
              "<table border=\"1\" class=\"dataframe\">\n",
              "  <thead>\n",
              "    <tr style=\"text-align: right;\">\n",
              "      <th></th>\n",
              "      <th>clientid</th>\n",
              "      <th>date</th>\n",
              "      <th>weekdays</th>\n",
              "      <th>gains</th>\n",
              "      <th>prices</th>\n",
              "      <th>up</th>\n",
              "    </tr>\n",
              "  </thead>\n",
              "  <tbody>\n",
              "    <tr>\n",
              "      <th>0</th>\n",
              "      <td>0</td>\n",
              "      <td>2008-04-30</td>\n",
              "      <td>Wed</td>\n",
              "      <td>-0.524582</td>\n",
              "      <td>7.791404e+06</td>\n",
              "      <td>False</td>\n",
              "    </tr>\n",
              "    <tr>\n",
              "      <th>1</th>\n",
              "      <td>1</td>\n",
              "      <td>2008-05-01</td>\n",
              "      <td>Thu</td>\n",
              "      <td>0.076192</td>\n",
              "      <td>3.167181e+06</td>\n",
              "      <td>True</td>\n",
              "    </tr>\n",
              "    <tr>\n",
              "      <th>2</th>\n",
              "      <td>2</td>\n",
              "      <td>2008-05-02</td>\n",
              "      <td>Fri</td>\n",
              "      <td>-0.868510</td>\n",
              "      <td>9.589767e+06</td>\n",
              "      <td>False</td>\n",
              "    </tr>\n",
              "    <tr>\n",
              "      <th>3</th>\n",
              "      <td>3</td>\n",
              "      <td>2008-05-03</td>\n",
              "      <td>Sat</td>\n",
              "      <td>-0.427011</td>\n",
              "      <td>8.949415e+06</td>\n",
              "      <td>False</td>\n",
              "    </tr>\n",
              "    <tr>\n",
              "      <th>4</th>\n",
              "      <td>4</td>\n",
              "      <td>2008-05-04</td>\n",
              "      <td>Sun</td>\n",
              "      <td>0.253255</td>\n",
              "      <td>9.371634e+05</td>\n",
              "      <td>True</td>\n",
              "    </tr>\n",
              "  </tbody>\n",
              "</table>\n",
              "</div>"
            ],
            "text/plain": [
              "   clientid        date weekdays     gains        prices     up\n",
              "0         0  2008-04-30      Wed -0.524582  7.791404e+06  False\n",
              "1         1  2008-05-01      Thu  0.076192  3.167181e+06   True\n",
              "2         2  2008-05-02      Fri -0.868510  9.589767e+06  False\n",
              "3         3  2008-05-03      Sat -0.427011  8.949415e+06  False\n",
              "4         4  2008-05-04      Sun  0.253255  9.371634e+05   True"
            ]
          },
          "execution_count": 91,
          "metadata": {},
          "output_type": "execute_result"
        }
      ]
    },
    {
      "cell_type": "markdown",
      "metadata": {
        "id": "ljFoOO93-7BY"
      },
      "source": [
        "Иногда полезно посмотреть не только на \"голову\", но и на \"хвостик\" листа с данными:"
      ],
      "id": "ljFoOO93-7BY"
    },
    {
      "cell_type": "code",
      "metadata": {
        "id": "pQnkRjt--7BY",
        "outputId": "c5ed0058-f302-43ad-c150-567da8b9acf2"
      },
      "source": [
        "data.tail(3)"
      ],
      "id": "pQnkRjt--7BY",
      "execution_count": null,
      "outputs": [
        {
          "data": {
            "text/html": [
              "<div>\n",
              "<style scoped>\n",
              "    .dataframe tbody tr th:only-of-type {\n",
              "        vertical-align: middle;\n",
              "    }\n",
              "\n",
              "    .dataframe tbody tr th {\n",
              "        vertical-align: top;\n",
              "    }\n",
              "\n",
              "    .dataframe thead th {\n",
              "        text-align: right;\n",
              "    }\n",
              "</style>\n",
              "<table border=\"1\" class=\"dataframe\">\n",
              "  <thead>\n",
              "    <tr style=\"text-align: right;\">\n",
              "      <th></th>\n",
              "      <th>clientid</th>\n",
              "      <th>date</th>\n",
              "      <th>weekdays</th>\n",
              "      <th>gains</th>\n",
              "      <th>prices</th>\n",
              "      <th>up</th>\n",
              "    </tr>\n",
              "  </thead>\n",
              "  <tbody>\n",
              "    <tr>\n",
              "      <th>7</th>\n",
              "      <td>7</td>\n",
              "      <td>2008-05-07</td>\n",
              "      <td>Wed</td>\n",
              "      <td>0.674497</td>\n",
              "      <td>7.517015e+06</td>\n",
              "      <td>True</td>\n",
              "    </tr>\n",
              "    <tr>\n",
              "      <th>8</th>\n",
              "      <td>8</td>\n",
              "      <td>2008-05-08</td>\n",
              "      <td>Thu</td>\n",
              "      <td>-1.184101</td>\n",
              "      <td>1.920960e+06</td>\n",
              "      <td>False</td>\n",
              "    </tr>\n",
              "    <tr>\n",
              "      <th>9</th>\n",
              "      <td>9</td>\n",
              "      <td>2008-05-09</td>\n",
              "      <td>Fri</td>\n",
              "      <td>-1.580369</td>\n",
              "      <td>8.456241e+06</td>\n",
              "      <td>False</td>\n",
              "    </tr>\n",
              "  </tbody>\n",
              "</table>\n",
              "</div>"
            ],
            "text/plain": [
              "   clientid        date weekdays     gains        prices     up\n",
              "7         7  2008-05-07      Wed  0.674497  7.517015e+06   True\n",
              "8         8  2008-05-08      Thu -1.184101  1.920960e+06  False\n",
              "9         9  2008-05-09      Fri -1.580369  8.456241e+06  False"
            ]
          },
          "execution_count": 92,
          "metadata": {},
          "output_type": "execute_result"
        }
      ]
    },
    {
      "cell_type": "markdown",
      "metadata": {
        "id": "DUGEyHHQ-7BY"
      },
      "source": [
        "Узнать подробную информацию о названиях и *типах данных* в столбцах:"
      ],
      "id": "DUGEyHHQ-7BY"
    },
    {
      "cell_type": "code",
      "metadata": {
        "id": "8h07a0_i-7BZ",
        "outputId": "7ce83579-25a8-49b6-d536-bc0fd82e4c69"
      },
      "source": [
        "data.info()"
      ],
      "id": "8h07a0_i-7BZ",
      "execution_count": null,
      "outputs": [
        {
          "name": "stdout",
          "output_type": "stream",
          "text": [
            "<class 'pandas.core.frame.DataFrame'>\n",
            "RangeIndex: 10 entries, 0 to 9\n",
            "Data columns (total 6 columns):\n",
            " #   Column    Non-Null Count  Dtype  \n",
            "---  ------    --------------  -----  \n",
            " 0   clientid  10 non-null     int64  \n",
            " 1   date      10 non-null     object \n",
            " 2   weekdays  10 non-null     object \n",
            " 3   gains     10 non-null     float64\n",
            " 4   prices    10 non-null     float64\n",
            " 5   up        10 non-null     bool   \n",
            "dtypes: bool(1), float64(2), int64(1), object(2)\n",
            "memory usage: 538.0+ bytes\n"
          ]
        }
      ]
    },
    {
      "cell_type": "markdown",
      "metadata": {
        "id": "HIDjb559-7BZ"
      },
      "source": [
        "Основные статистические характеристики, описывающие распределение величин в числовых столбцах:"
      ],
      "id": "HIDjb559-7BZ"
    },
    {
      "cell_type": "code",
      "metadata": {
        "id": "0x2873z4-7BZ",
        "outputId": "f897357b-d6d8-4219-8e15-9bcd39f35303"
      },
      "source": [
        "data.describe()"
      ],
      "id": "0x2873z4-7BZ",
      "execution_count": null,
      "outputs": [
        {
          "data": {
            "text/html": [
              "<div>\n",
              "<style scoped>\n",
              "    .dataframe tbody tr th:only-of-type {\n",
              "        vertical-align: middle;\n",
              "    }\n",
              "\n",
              "    .dataframe tbody tr th {\n",
              "        vertical-align: top;\n",
              "    }\n",
              "\n",
              "    .dataframe thead th {\n",
              "        text-align: right;\n",
              "    }\n",
              "</style>\n",
              "<table border=\"1\" class=\"dataframe\">\n",
              "  <thead>\n",
              "    <tr style=\"text-align: right;\">\n",
              "      <th></th>\n",
              "      <th>clientid</th>\n",
              "      <th>gains</th>\n",
              "      <th>prices</th>\n",
              "    </tr>\n",
              "  </thead>\n",
              "  <tbody>\n",
              "    <tr>\n",
              "      <th>count</th>\n",
              "      <td>10.00000</td>\n",
              "      <td>10.000000</td>\n",
              "      <td>1.000000e+01</td>\n",
              "    </tr>\n",
              "    <tr>\n",
              "      <th>mean</th>\n",
              "      <td>4.50000</td>\n",
              "      <td>-0.425495</td>\n",
              "      <td>5.654715e+06</td>\n",
              "    </tr>\n",
              "    <tr>\n",
              "      <th>std</th>\n",
              "      <td>3.02765</td>\n",
              "      <td>0.690446</td>\n",
              "      <td>3.485657e+06</td>\n",
              "    </tr>\n",
              "    <tr>\n",
              "      <th>min</th>\n",
              "      <td>0.00000</td>\n",
              "      <td>-1.580369</td>\n",
              "      <td>9.371634e+05</td>\n",
              "    </tr>\n",
              "    <tr>\n",
              "      <th>25%</th>\n",
              "      <td>2.25000</td>\n",
              "      <td>-0.821761</td>\n",
              "      <td>2.232515e+06</td>\n",
              "    </tr>\n",
              "    <tr>\n",
              "      <th>50%</th>\n",
              "      <td>4.50000</td>\n",
              "      <td>-0.475796</td>\n",
              "      <td>7.392721e+06</td>\n",
              "    </tr>\n",
              "    <tr>\n",
              "      <th>75%</th>\n",
              "      <td>6.75000</td>\n",
              "      <td>0.058941</td>\n",
              "      <td>8.290031e+06</td>\n",
              "    </tr>\n",
              "    <tr>\n",
              "      <th>max</th>\n",
              "      <td>9.00000</td>\n",
              "      <td>0.674497</td>\n",
              "      <td>9.589767e+06</td>\n",
              "    </tr>\n",
              "  </tbody>\n",
              "</table>\n",
              "</div>"
            ],
            "text/plain": [
              "       clientid      gains        prices\n",
              "count  10.00000  10.000000  1.000000e+01\n",
              "mean    4.50000  -0.425495  5.654715e+06\n",
              "std     3.02765   0.690446  3.485657e+06\n",
              "min     0.00000  -1.580369  9.371634e+05\n",
              "25%     2.25000  -0.821761  2.232515e+06\n",
              "50%     4.50000  -0.475796  7.392721e+06\n",
              "75%     6.75000   0.058941  8.290031e+06\n",
              "max     9.00000   0.674497  9.589767e+06"
            ]
          },
          "execution_count": 94,
          "metadata": {},
          "output_type": "execute_result"
        }
      ]
    },
    {
      "cell_type": "markdown",
      "metadata": {
        "id": "C85ktMjZ-7BZ"
      },
      "source": [
        "### Серии данных в конкретном столбце"
      ],
      "id": "C85ktMjZ-7BZ"
    },
    {
      "cell_type": "markdown",
      "metadata": {
        "id": "9Pv-btTG-7BZ"
      },
      "source": [
        "Для дальнейшей работы с данными нам понадобится список столбцов.\n",
        "Обратите внимание, что это *не метод*, а просто **атрибут** листа с данными, а значит `columns` не нужно вызывать с круглыми скобками:"
      ],
      "id": "9Pv-btTG-7BZ"
    },
    {
      "cell_type": "code",
      "metadata": {
        "id": "ccZrNSQ2-7BZ",
        "outputId": "4af53238-e40b-4ff8-a377-8d44917dfcb6"
      },
      "source": [
        "data.columns"
      ],
      "id": "ccZrNSQ2-7BZ",
      "execution_count": null,
      "outputs": [
        {
          "data": {
            "text/plain": [
              "Index(['clientid', 'date', 'weekdays', 'gains', 'prices', 'up'], dtype='object')"
            ]
          },
          "execution_count": 57,
          "metadata": {},
          "output_type": "execute_result"
        }
      ]
    },
    {
      "cell_type": "markdown",
      "metadata": {
        "id": "XDiNN12_-7Ba"
      },
      "source": [
        "Для того, чтобы получить один столбец из листа, нужно написать имя столбца в кавычках и квадратных скобках:"
      ],
      "id": "XDiNN12_-7Ba"
    },
    {
      "cell_type": "code",
      "metadata": {
        "id": "Yjzz4rmz-7Ba",
        "outputId": "9a033f19-2a74-489f-dd00-cde2975624ae"
      },
      "source": [
        "data[\"date\"]"
      ],
      "id": "Yjzz4rmz-7Ba",
      "execution_count": null,
      "outputs": [
        {
          "data": {
            "text/plain": [
              "0    2008-04-30\n",
              "1    2008-05-01\n",
              "2    2008-05-02\n",
              "3    2008-05-03\n",
              "4    2008-05-04\n",
              "5    2008-05-05\n",
              "6    2008-05-06\n",
              "7    2008-05-07\n",
              "8    2008-05-08\n",
              "9    2008-05-09\n",
              "Name: date, dtype: object"
            ]
          },
          "execution_count": 58,
          "metadata": {},
          "output_type": "execute_result"
        }
      ]
    },
    {
      "cell_type": "markdown",
      "metadata": {
        "id": "8EsacICA-7Ba"
      },
      "source": [
        "Тип данных у одного столбца с данными уже не `DataFrame`, а `Series`. "
      ],
      "id": "8EsacICA-7Ba"
    },
    {
      "cell_type": "code",
      "metadata": {
        "id": "BDUEN1Us-7Ba",
        "outputId": "549157e3-1d9e-4551-e4f8-0056301d09ba"
      },
      "source": [
        "type(data.date)"
      ],
      "id": "BDUEN1Us-7Ba",
      "execution_count": null,
      "outputs": [
        {
          "data": {
            "text/plain": [
              "pandas.core.series.Series"
            ]
          },
          "execution_count": 95,
          "metadata": {},
          "output_type": "execute_result"
        }
      ]
    },
    {
      "cell_type": "markdown",
      "metadata": {
        "id": "RRu3j58U-7Ba"
      },
      "source": [
        "Серию данных из столбца можно также получить, обратившись к нему по имени через точку после имени листа с данными:"
      ],
      "id": "RRu3j58U-7Ba"
    },
    {
      "cell_type": "code",
      "metadata": {
        "scrolled": true,
        "id": "fxP6cdrT-7Ba",
        "outputId": "40a274dd-5c6c-427f-8e2c-3a783ff3506c"
      },
      "source": [
        "data.date"
      ],
      "id": "fxP6cdrT-7Ba",
      "execution_count": null,
      "outputs": [
        {
          "data": {
            "text/plain": [
              "0    2008-04-30\n",
              "1    2008-05-01\n",
              "2    2008-05-02\n",
              "3    2008-05-03\n",
              "4    2008-05-04\n",
              "5    2008-05-05\n",
              "6    2008-05-06\n",
              "7    2008-05-07\n",
              "8    2008-05-08\n",
              "9    2008-05-09\n",
              "Name: date, dtype: object"
            ]
          },
          "execution_count": 96,
          "metadata": {},
          "output_type": "execute_result"
        }
      ]
    },
    {
      "cell_type": "markdown",
      "metadata": {
        "id": "H7Nmv0hL-7Bb"
      },
      "source": [
        "### Фильтрация Pandas DataFrame по логическому условию"
      ],
      "id": "H7Nmv0hL-7Bb"
    },
    {
      "cell_type": "code",
      "metadata": {
        "id": "ezybSD9w-7Bb",
        "outputId": "a06c5c6a-beec-4103-c9be-c36ae3d627b8"
      },
      "source": [
        "data[data.up]"
      ],
      "id": "ezybSD9w-7Bb",
      "execution_count": null,
      "outputs": [
        {
          "data": {
            "text/html": [
              "<div>\n",
              "<style scoped>\n",
              "    .dataframe tbody tr th:only-of-type {\n",
              "        vertical-align: middle;\n",
              "    }\n",
              "\n",
              "    .dataframe tbody tr th {\n",
              "        vertical-align: top;\n",
              "    }\n",
              "\n",
              "    .dataframe thead th {\n",
              "        text-align: right;\n",
              "    }\n",
              "</style>\n",
              "<table border=\"1\" class=\"dataframe\">\n",
              "  <thead>\n",
              "    <tr style=\"text-align: right;\">\n",
              "      <th></th>\n",
              "      <th>clientid</th>\n",
              "      <th>date</th>\n",
              "      <th>weekdays</th>\n",
              "      <th>gains</th>\n",
              "      <th>prices</th>\n",
              "      <th>up</th>\n",
              "    </tr>\n",
              "  </thead>\n",
              "  <tbody>\n",
              "    <tr>\n",
              "      <th>1</th>\n",
              "      <td>1</td>\n",
              "      <td>2008-05-01</td>\n",
              "      <td>Thu</td>\n",
              "      <td>0.076192</td>\n",
              "      <td>3.167181e+06</td>\n",
              "      <td>True</td>\n",
              "    </tr>\n",
              "    <tr>\n",
              "      <th>4</th>\n",
              "      <td>4</td>\n",
              "      <td>2008-05-04</td>\n",
              "      <td>Sun</td>\n",
              "      <td>0.253255</td>\n",
              "      <td>9.371634e+05</td>\n",
              "      <td>True</td>\n",
              "    </tr>\n",
              "    <tr>\n",
              "      <th>6</th>\n",
              "      <td>6</td>\n",
              "      <td>2008-05-06</td>\n",
              "      <td>Tue</td>\n",
              "      <td>0.007191</td>\n",
              "      <td>7.268427e+06</td>\n",
              "      <td>True</td>\n",
              "    </tr>\n",
              "    <tr>\n",
              "      <th>7</th>\n",
              "      <td>7</td>\n",
              "      <td>2008-05-07</td>\n",
              "      <td>Wed</td>\n",
              "      <td>0.674497</td>\n",
              "      <td>7.517015e+06</td>\n",
              "      <td>True</td>\n",
              "    </tr>\n",
              "  </tbody>\n",
              "</table>\n",
              "</div>"
            ],
            "text/plain": [
              "   clientid        date weekdays     gains        prices    up\n",
              "1         1  2008-05-01      Thu  0.076192  3.167181e+06  True\n",
              "4         4  2008-05-04      Sun  0.253255  9.371634e+05  True\n",
              "6         6  2008-05-06      Tue  0.007191  7.268427e+06  True\n",
              "7         7  2008-05-07      Wed  0.674497  7.517015e+06  True"
            ]
          },
          "execution_count": 97,
          "metadata": {},
          "output_type": "execute_result"
        }
      ]
    },
    {
      "cell_type": "code",
      "metadata": {
        "id": "rBNkp6yA-7Bb",
        "outputId": "965685bd-ab65-4292-8c0c-d4fe886e5a52"
      },
      "source": [
        "data[data.weekdays == 'Wed']"
      ],
      "id": "rBNkp6yA-7Bb",
      "execution_count": null,
      "outputs": [
        {
          "data": {
            "text/html": [
              "<div>\n",
              "<style scoped>\n",
              "    .dataframe tbody tr th:only-of-type {\n",
              "        vertical-align: middle;\n",
              "    }\n",
              "\n",
              "    .dataframe tbody tr th {\n",
              "        vertical-align: top;\n",
              "    }\n",
              "\n",
              "    .dataframe thead th {\n",
              "        text-align: right;\n",
              "    }\n",
              "</style>\n",
              "<table border=\"1\" class=\"dataframe\">\n",
              "  <thead>\n",
              "    <tr style=\"text-align: right;\">\n",
              "      <th></th>\n",
              "      <th>clientid</th>\n",
              "      <th>date</th>\n",
              "      <th>weekdays</th>\n",
              "      <th>gains</th>\n",
              "      <th>prices</th>\n",
              "      <th>up</th>\n",
              "    </tr>\n",
              "  </thead>\n",
              "  <tbody>\n",
              "    <tr>\n",
              "      <th>0</th>\n",
              "      <td>0</td>\n",
              "      <td>2008-04-30</td>\n",
              "      <td>Wed</td>\n",
              "      <td>-0.524582</td>\n",
              "      <td>7.791404e+06</td>\n",
              "      <td>False</td>\n",
              "    </tr>\n",
              "    <tr>\n",
              "      <th>7</th>\n",
              "      <td>7</td>\n",
              "      <td>2008-05-07</td>\n",
              "      <td>Wed</td>\n",
              "      <td>0.674497</td>\n",
              "      <td>7.517015e+06</td>\n",
              "      <td>True</td>\n",
              "    </tr>\n",
              "  </tbody>\n",
              "</table>\n",
              "</div>"
            ],
            "text/plain": [
              "   clientid        date weekdays     gains        prices     up\n",
              "0         0  2008-04-30      Wed -0.524582  7.791404e+06  False\n",
              "7         7  2008-05-07      Wed  0.674497  7.517015e+06   True"
            ]
          },
          "execution_count": 98,
          "metadata": {},
          "output_type": "execute_result"
        }
      ]
    },
    {
      "cell_type": "markdown",
      "metadata": {
        "id": "M7AZkYhR-7Bb"
      },
      "source": [
        "Что делать, если мы хотим применить оба условия — потребовать их одновременной истинности?\n",
        "Как и к массивам NumPy, операции `and`, `or` и `not` к листам с данными неприменимы.\n",
        "\n",
        "Нужно пользоваться операторами `&`, `|`, `~`, которые приводят к массовым операциям.\n",
        "Единственное, что нужно учесть, что приоритет этих операций выше, чем у обычных логических, а значит *атомарные высказывания* нужно окружать скобками:"
      ],
      "id": "M7AZkYhR-7Bb"
    },
    {
      "cell_type": "code",
      "metadata": {
        "id": "67dsCIrh-7Bb",
        "outputId": "611a4b10-4eb4-4ed5-d37b-3909bca32738"
      },
      "source": [
        "data[(data.weekdays == 'Wed') & data.up]  # Нужны скобки!"
      ],
      "id": "67dsCIrh-7Bb",
      "execution_count": null,
      "outputs": [
        {
          "data": {
            "text/html": [
              "<div>\n",
              "<style scoped>\n",
              "    .dataframe tbody tr th:only-of-type {\n",
              "        vertical-align: middle;\n",
              "    }\n",
              "\n",
              "    .dataframe tbody tr th {\n",
              "        vertical-align: top;\n",
              "    }\n",
              "\n",
              "    .dataframe thead th {\n",
              "        text-align: right;\n",
              "    }\n",
              "</style>\n",
              "<table border=\"1\" class=\"dataframe\">\n",
              "  <thead>\n",
              "    <tr style=\"text-align: right;\">\n",
              "      <th></th>\n",
              "      <th>clientid</th>\n",
              "      <th>date</th>\n",
              "      <th>weekdays</th>\n",
              "      <th>gains</th>\n",
              "      <th>prices</th>\n",
              "      <th>up</th>\n",
              "    </tr>\n",
              "  </thead>\n",
              "  <tbody>\n",
              "    <tr>\n",
              "      <th>7</th>\n",
              "      <td>7</td>\n",
              "      <td>2008-05-07</td>\n",
              "      <td>Wed</td>\n",
              "      <td>0.674497</td>\n",
              "      <td>7.517015e+06</td>\n",
              "      <td>True</td>\n",
              "    </tr>\n",
              "  </tbody>\n",
              "</table>\n",
              "</div>"
            ],
            "text/plain": [
              "   clientid        date weekdays     gains        prices    up\n",
              "7         7  2008-05-07      Wed  0.674497  7.517015e+06  True"
            ]
          },
          "execution_count": 99,
          "metadata": {},
          "output_type": "execute_result"
        }
      ]
    },
    {
      "cell_type": "markdown",
      "metadata": {
        "id": "ZgYtR9iQ-7Bc"
      },
      "source": [
        "### Фильтрация при помощи метода `query`\n",
        "Выбор нужных строк листа при помощи массива логических значений, получаемых из этого же листа, неплох. Но если наименование листа длинное, то записывать его в строке несколько раз кажется затруднительным. Кроме того, необходимость заменять операции может дополнительно затруднить восприятие.\n",
        "\n",
        "Можно формулировать запрос отбора нужных строк намного проще — через метод `query`:"
      ],
      "id": "ZgYtR9iQ-7Bc"
    },
    {
      "cell_type": "code",
      "metadata": {
        "id": "O3Fu7Rqe-7Bc",
        "outputId": "30efbdc9-cf67-4dd8-f7c4-2c25d7daee6e"
      },
      "source": [
        "data.query('weekdays == \"Wed\" and up')"
      ],
      "id": "O3Fu7Rqe-7Bc",
      "execution_count": null,
      "outputs": [
        {
          "data": {
            "text/html": [
              "<div>\n",
              "<style scoped>\n",
              "    .dataframe tbody tr th:only-of-type {\n",
              "        vertical-align: middle;\n",
              "    }\n",
              "\n",
              "    .dataframe tbody tr th {\n",
              "        vertical-align: top;\n",
              "    }\n",
              "\n",
              "    .dataframe thead th {\n",
              "        text-align: right;\n",
              "    }\n",
              "</style>\n",
              "<table border=\"1\" class=\"dataframe\">\n",
              "  <thead>\n",
              "    <tr style=\"text-align: right;\">\n",
              "      <th></th>\n",
              "      <th>clientid</th>\n",
              "      <th>date</th>\n",
              "      <th>weekdays</th>\n",
              "      <th>gains</th>\n",
              "      <th>prices</th>\n",
              "      <th>up</th>\n",
              "    </tr>\n",
              "  </thead>\n",
              "  <tbody>\n",
              "    <tr>\n",
              "      <th>7</th>\n",
              "      <td>7</td>\n",
              "      <td>2008-05-07</td>\n",
              "      <td>Wed</td>\n",
              "      <td>0.674497</td>\n",
              "      <td>7.517015e+06</td>\n",
              "      <td>True</td>\n",
              "    </tr>\n",
              "  </tbody>\n",
              "</table>\n",
              "</div>"
            ],
            "text/plain": [
              "   clientid        date weekdays     gains        prices    up\n",
              "7         7  2008-05-07      Wed  0.674497  7.517015e+06  True"
            ]
          },
          "execution_count": 283,
          "metadata": {},
          "output_type": "execute_result"
        }
      ]
    },
    {
      "cell_type": "markdown",
      "metadata": {
        "id": "_BFY-A4_-7Bc"
      },
      "source": [
        "При помощи `query` легко формулировать сложные условия отбора. Например, выделим только те строки, где день недели — это воскресенье или же цены ниже среднего и при этом доходы отрицательны:"
      ],
      "id": "_BFY-A4_-7Bc"
    },
    {
      "cell_type": "code",
      "metadata": {
        "id": "eBk2rD74-7Bc",
        "outputId": "e1749fb3-867e-4e17-8b12-ab44c7e9bd29"
      },
      "source": [
        "result = data.query('weekdays == \"Sun\" or prices < prices.mean() and gains < 0')\n",
        "result\n",
        "print(\"Сумма доходов по данным сделкам:\", result['gains'].sum())"
      ],
      "id": "eBk2rD74-7Bc",
      "execution_count": null,
      "outputs": [
        {
          "name": "stdout",
          "output_type": "stream",
          "text": [
            "Сумма доходов по данным сделкам: -1.61236186952339\n"
          ]
        }
      ]
    },
    {
      "cell_type": "markdown",
      "metadata": {
        "id": "nET3M0_t-7Bd"
      },
      "source": [
        "### Гистограмма распределения"
      ],
      "id": "nET3M0_t-7Bd"
    },
    {
      "cell_type": "markdown",
      "metadata": {
        "id": "8d0Z53Mc-7Bd"
      },
      "source": [
        "Модуль Pandas под капотом неявно подключает Matplotlib, поэтому для построения гистограммы распределения не нужно его отдельно подключать, а просто воспользоваться методом `hist`:"
      ],
      "id": "8d0Z53Mc-7Bd"
    },
    {
      "cell_type": "code",
      "metadata": {
        "id": "33xmpi7N-7Bd",
        "outputId": "4c8faec4-73f7-4698-e274-0214925947f9"
      },
      "source": [
        "data[\"prices\"].hist()"
      ],
      "id": "33xmpi7N-7Bd",
      "execution_count": null,
      "outputs": [
        {
          "data": {
            "text/plain": [
              "<AxesSubplot:>"
            ]
          },
          "execution_count": 100,
          "metadata": {},
          "output_type": "execute_result"
        },
        {
          "data": {
            "image/png": "[encoded data removed]",
            "text/plain": [
              "<Figure size 432x288 with 1 Axes>"
            ]
          },
          "metadata": {
            "needs_background": "light"
          },
          "output_type": "display_data"
        }
      ]
    },
    {
      "cell_type": "markdown",
      "metadata": {
        "id": "Yr0hcBxl-7Be"
      },
      "source": [
        "### Статистические характеристики выборки данных\n",
        "Для того чтобы узнать конкретную статистическую характеристику, можно воспользоваться следующими методами:"
      ],
      "id": "Yr0hcBxl-7Be"
    },
    {
      "cell_type": "code",
      "metadata": {
        "id": "aKTRfv4V-7Be",
        "outputId": "287e08f0-8ba6-456d-cc17-219350e1737c"
      },
      "source": [
        "data[\"prices\"].min()"
      ],
      "id": "aKTRfv4V-7Be",
      "execution_count": null,
      "outputs": [
        {
          "data": {
            "text/plain": [
              "937163.4437525265"
            ]
          },
          "execution_count": 101,
          "metadata": {},
          "output_type": "execute_result"
        }
      ]
    },
    {
      "cell_type": "code",
      "metadata": {
        "id": "uCPRE0C7-7Be",
        "outputId": "fc3bdc40-682d-414e-f479-beebb027249e"
      },
      "source": [
        "data[\"prices\"].max()"
      ],
      "id": "uCPRE0C7-7Be",
      "execution_count": null,
      "outputs": [
        {
          "data": {
            "text/plain": [
              "9589766.961382903"
            ]
          },
          "execution_count": 102,
          "metadata": {},
          "output_type": "execute_result"
        }
      ]
    },
    {
      "cell_type": "code",
      "metadata": {
        "id": "WMv4yLft-7Be",
        "outputId": "84eb5d7f-4303-468d-a522-12b54217e4f4"
      },
      "source": [
        "print(\"Среднее значение:\", data[\"prices\"].mean())"
      ],
      "id": "WMv4yLft-7Be",
      "execution_count": null,
      "outputs": [
        {
          "name": "stdout",
          "output_type": "stream",
          "text": [
            "Среднее значение: 5654715.206961571\n"
          ]
        }
      ]
    },
    {
      "cell_type": "code",
      "metadata": {
        "id": "k-BLRPGF-7Be",
        "outputId": "36d96cf3-b49b-4060-937e-1703e7badf86"
      },
      "source": [
        "print(\"Стандартное отклонение:\", data[\"prices\"].std())"
      ],
      "id": "k-BLRPGF-7Be",
      "execution_count": null,
      "outputs": [
        {
          "name": "stdout",
          "output_type": "stream",
          "text": [
            "Стандартное отклонение: 3485656.980782873\n"
          ]
        }
      ]
    },
    {
      "cell_type": "code",
      "metadata": {
        "id": "ndTCG93_-7Bf",
        "outputId": "c9706f48-94ad-4780-c8c1-8296e5a14098"
      },
      "source": [
        "print(\"Медиана:\", data[\"prices\"].median())"
      ],
      "id": "ndTCG93_-7Bf",
      "execution_count": null,
      "outputs": [
        {
          "name": "stdout",
          "output_type": "stream",
          "text": [
            "Медиана: 7392720.84472501\n"
          ]
        }
      ]
    },
    {
      "cell_type": "markdown",
      "metadata": {
        "id": "dWTrnuyp-7Bf"
      },
      "source": [
        "Кроме медианы можно указать любой квантиль распределения:"
      ],
      "id": "dWTrnuyp-7Bf"
    },
    {
      "cell_type": "code",
      "metadata": {
        "id": "Cd8WB89X-7Bf",
        "outputId": "38260fb9-a5ae-4bf8-ca2b-2753aebb6406"
      },
      "source": [
        "print(\"Первый квартиль:\", data[\"prices\"].quantile(1/4))\n",
        "print(\"Третий квартиль:\", data[\"prices\"].quantile(3/4))"
      ],
      "id": "Cd8WB89X-7Bf",
      "execution_count": null,
      "outputs": [
        {
          "name": "stdout",
          "output_type": "stream",
          "text": [
            "Первый квартиль: 2232514.840920421\n",
            "Третий квартиль: 8290031.4672024455\n"
          ]
        }
      ]
    },
    {
      "cell_type": "markdown",
      "metadata": {
        "id": "rkvoIoCZ-7Bf"
      },
      "source": [
        "При этом можно применить условие выбора строк по логическому массиву:"
      ],
      "id": "rkvoIoCZ-7Bf"
    },
    {
      "cell_type": "code",
      "metadata": {
        "id": "pUrO_zSk-7Bf",
        "outputId": "7a0d731c-13ff-4373-84d2-38072f52727c"
      },
      "source": [
        "data[data.up][\"prices\"].mean()"
      ],
      "id": "pUrO_zSk-7Bf",
      "execution_count": null,
      "outputs": [
        {
          "data": {
            "text/plain": [
              "4722446.46745914"
            ]
          },
          "execution_count": 107,
          "metadata": {},
          "output_type": "execute_result"
        }
      ]
    },
    {
      "cell_type": "markdown",
      "metadata": {
        "id": "epZrkUkt-7Bg"
      },
      "source": [
        "А сам логический массив получить через наложение условий на исходный лист с данными:"
      ],
      "id": "epZrkUkt-7Bg"
    },
    {
      "cell_type": "code",
      "metadata": {
        "id": "95dIVwwS-7Bg",
        "outputId": "822c5b63-a778-4829-dd25-489d1c8dfdf4"
      },
      "source": [
        "data[data.weekdays == 'Wed'][\"prices\"].mean()"
      ],
      "id": "95dIVwwS-7Bg",
      "execution_count": null,
      "outputs": [
        {
          "data": {
            "text/plain": [
              "7654209.39604469"
            ]
          },
          "execution_count": 108,
          "metadata": {},
          "output_type": "execute_result"
        }
      ]
    },
    {
      "cell_type": "markdown",
      "metadata": {
        "id": "OsXiNmZz-7Bg"
      },
      "source": [
        "## Анализ данных абитуриентов Мехмата МГУ\n",
        "Интересно будет применить наши знания и проанализировать данные приёмной кампании мехмата МГУ по общему конкурсу в 2021 году. Естественно, при анализе данных живых людей возникает *вопрос об этике их использования*, и *вопрос о соблюдении законодательства о персональных данных* (Федеральный закон \"О персональных данных\" от 27.07.2006 N 152-ФЗ).\n",
        "\n",
        "Для того чтобы работать с такими данными без особого допуска, осуществляется их деперсонализация, **обезличивание**, то есть такое действие, после которого конкретное физическое лицо не может быть напрямую связано с его данными. Наши данные уже обезличены, поэтому смело будем с ними работать.\n",
        "\n",
        "Давайте посмотрим на сами данные:"
      ],
      "id": "OsXiNmZz-7Bg"
    },
    {
      "cell_type": "code",
      "metadata": {
        "colab": {
          "base_uri": "https://localhost:8080/"
        },
        "id": "8fLb31Fqs2C1",
        "outputId": "20efe5ee-e4da-4d3b-ef39-ff272e9879da"
      },
      "source": [
        "!wget -O \"math_entrants.csv\" \"https://drive.google.com/uc?id=1P8496NAnNN6zY38ZRSmtQwqXOg1Czz4-&export=download\""
      ],
      "id": "8fLb31Fqs2C1",
      "execution_count": null,
      "outputs": [
        {
          "output_type": "stream",
          "name": "stdout",
          "text": [
            "--2021-12-04 18:04:13--  https://drive.google.com/uc?id=1P8496NAnNN6zY38ZRSmtQwqXOg1Czz4-&export=download\n",
            "Resolving drive.google.com (drive.google.com)... 74.125.142.113, 74.125.142.139, 74.125.142.101, ...\n",
            "Connecting to drive.google.com (drive.google.com)|74.125.142.113|:443... connected.\n",
            "HTTP request sent, awaiting response... 302 Moved Temporarily\n",
            "Location: https://doc-08-1g-docs.googleusercontent.com/docs/securesc/ha0ro937gcuc7l7deffksulhg5h7mbp1/lhe9olj6tn7h9365oiji116tds9dglac/1638641025000/05476118052512889131/*/1P8496NAnNN6zY38ZRSmtQwqXOg1Czz4-?e=download [following]\n",
            "Warning: wildcards not supported in HTTP.\n",
            "--2021-12-04 18:04:13--  https://doc-08-1g-docs.googleusercontent.com/docs/securesc/ha0ro937gcuc7l7deffksulhg5h7mbp1/lhe9olj6tn7h9365oiji116tds9dglac/1638641025000/05476118052512889131/*/1P8496NAnNN6zY38ZRSmtQwqXOg1Czz4-?e=download\n",
            "Resolving doc-08-1g-docs.googleusercontent.com (doc-08-1g-docs.googleusercontent.com)... 74.125.142.132, 2607:f8b0:400e:c08::84\n",
            "Connecting to doc-08-1g-docs.googleusercontent.com (doc-08-1g-docs.googleusercontent.com)|74.125.142.132|:443... connected.\n",
            "HTTP request sent, awaiting response... 200 OK\n",
            "Length: 66630 (65K) [text/csv]\n",
            "Saving to: ‘math_entrants.csv’\n",
            "\n",
            "math_entrants.csv   100%[===================>]  65.07K  --.-KB/s    in 0.001s  \n",
            "\n",
            "2021-12-04 18:04:13 (91.8 MB/s) - ‘math_entrants.csv’ saved [66630/66630]\n",
            "\n"
          ]
        }
      ]
    },
    {
      "cell_type": "code",
      "metadata": {
        "collapsed": true,
        "id": "R0Z6I5YY-7Bg"
      },
      "source": [
        "import numpy as np\n",
        "import pandas as pd"
      ],
      "id": "R0Z6I5YY-7Bg",
      "execution_count": null,
      "outputs": []
    },
    {
      "cell_type": "code",
      "metadata": {
        "scrolled": false,
        "id": "lllg6tSa-7Bg",
        "colab": {
          "base_uri": "https://localhost:8080/",
          "height": 328
        },
        "outputId": "26ec5e75-1c86-4bc1-da71-699b1016a027"
      },
      "source": [
        "entrants = pd.read_csv(\"math_entrants.csv\")\n",
        "entrants.head()"
      ],
      "id": "lllg6tSa-7Bg",
      "execution_count": null,
      "outputs": [
        {
          "output_type": "execute_result",
          "data": {
            "text/html": [
              "<div>\n",
              "<style scoped>\n",
              "    .dataframe tbody tr th:only-of-type {\n",
              "        vertical-align: middle;\n",
              "    }\n",
              "\n",
              "    .dataframe tbody tr th {\n",
              "        vertical-align: top;\n",
              "    }\n",
              "\n",
              "    .dataframe thead th {\n",
              "        text-align: right;\n",
              "    }\n",
              "</style>\n",
              "<table border=\"1\" class=\"dataframe\">\n",
              "  <thead>\n",
              "    <tr style=\"text-align: right;\">\n",
              "      <th></th>\n",
              "      <th>№</th>\n",
              "      <th>Наличие согласия</th>\n",
              "      <th>Согласие в МГУ</th>\n",
              "      <th>Сумма баллов</th>\n",
              "      <th>Математика (ДВИ)</th>\n",
              "      <th>Математика (ЕГЭ)</th>\n",
              "      <th>Физика</th>\n",
              "      <th>Русский язык</th>\n",
              "      <th>Индивидуальные достижения - аттестат</th>\n",
              "      <th>Индивидуальные достижения - сочинение</th>\n",
              "      <th>Индивидуальные достижения - ГТО</th>\n",
              "      <th>Преимущественное право зачисления</th>\n",
              "      <th>Право на общежитие</th>\n",
              "      <th>Статус</th>\n",
              "    </tr>\n",
              "  </thead>\n",
              "  <tbody>\n",
              "    <tr>\n",
              "      <th>0</th>\n",
              "      <td>1</td>\n",
              "      <td>Да</td>\n",
              "      <td>Да</td>\n",
              "      <td>408</td>\n",
              "      <td>100</td>\n",
              "      <td>100</td>\n",
              "      <td>100</td>\n",
              "      <td>100</td>\n",
              "      <td>6</td>\n",
              "      <td>2</td>\n",
              "      <td>0</td>\n",
              "      <td>Нет</td>\n",
              "      <td>Нет</td>\n",
              "      <td>В конкурсе</td>\n",
              "    </tr>\n",
              "    <tr>\n",
              "      <th>1</th>\n",
              "      <td>2</td>\n",
              "      <td>Нет</td>\n",
              "      <td>Нет</td>\n",
              "      <td>408</td>\n",
              "      <td>100</td>\n",
              "      <td>100</td>\n",
              "      <td>100</td>\n",
              "      <td>100</td>\n",
              "      <td>6</td>\n",
              "      <td>2</td>\n",
              "      <td>0</td>\n",
              "      <td>Нет</td>\n",
              "      <td>Нет</td>\n",
              "      <td>В конкурсе</td>\n",
              "    </tr>\n",
              "    <tr>\n",
              "      <th>2</th>\n",
              "      <td>3</td>\n",
              "      <td>Нет</td>\n",
              "      <td>Нет</td>\n",
              "      <td>408</td>\n",
              "      <td>100</td>\n",
              "      <td>100</td>\n",
              "      <td>100</td>\n",
              "      <td>100</td>\n",
              "      <td>6</td>\n",
              "      <td>2</td>\n",
              "      <td>0</td>\n",
              "      <td>Нет</td>\n",
              "      <td>Да</td>\n",
              "      <td>В конкурсе</td>\n",
              "    </tr>\n",
              "    <tr>\n",
              "      <th>3</th>\n",
              "      <td>4</td>\n",
              "      <td>Нет</td>\n",
              "      <td>Да</td>\n",
              "      <td>408</td>\n",
              "      <td>100</td>\n",
              "      <td>100</td>\n",
              "      <td>100</td>\n",
              "      <td>100</td>\n",
              "      <td>6</td>\n",
              "      <td>2</td>\n",
              "      <td>0</td>\n",
              "      <td>Нет</td>\n",
              "      <td>Нет</td>\n",
              "      <td>В конкурсе</td>\n",
              "    </tr>\n",
              "    <tr>\n",
              "      <th>4</th>\n",
              "      <td>5</td>\n",
              "      <td>Нет</td>\n",
              "      <td>Нет</td>\n",
              "      <td>407</td>\n",
              "      <td>100</td>\n",
              "      <td>99</td>\n",
              "      <td>100</td>\n",
              "      <td>100</td>\n",
              "      <td>6</td>\n",
              "      <td>2</td>\n",
              "      <td>0</td>\n",
              "      <td>Нет</td>\n",
              "      <td>Да</td>\n",
              "      <td>В конкурсе</td>\n",
              "    </tr>\n",
              "  </tbody>\n",
              "</table>\n",
              "</div>"
            ],
            "text/plain": [
              "   № Наличие согласия  ... Право на общежитие      Статус\n",
              "0  1               Да  ...                Нет  В конкурсе\n",
              "1  2              Нет  ...                Нет  В конкурсе\n",
              "2  3              Нет  ...                 Да  В конкурсе\n",
              "3  4              Нет  ...                Нет  В конкурсе\n",
              "4  5              Нет  ...                 Да  В конкурсе\n",
              "\n",
              "[5 rows x 14 columns]"
            ]
          },
          "metadata": {},
          "execution_count": 3
        }
      ]
    },
    {
      "cell_type": "markdown",
      "metadata": {
        "id": "VwB0_p87-7Bg"
      },
      "source": [
        "Для простоты работы со столбцами переименуем их так, чтобы с ними было легче работать. Не будем отказываться полностью от русского языка, но сократим название каждого столбца до одного слова.\n",
        "\n",
        "Воспользуемся функцией pandas.DataFrame.rename(), которая позволит нам переименовать столбцы. "
      ],
      "id": "VwB0_p87-7Bg"
    },
    {
      "cell_type": "code",
      "metadata": {
        "scrolled": true,
        "id": "QxDFb6Z1-7Bh",
        "colab": {
          "base_uri": "https://localhost:8080/",
          "height": 206
        },
        "outputId": "fa28f8b5-07ee-4778-c053-62d79658624e"
      },
      "source": [
        "entrants.rename(columns = {'Сумма баллов':'сумма',\n",
        "                           'Математика (ДВИ)':'ДВИ',\n",
        "                           'Математика (ЕГЭ)':'математика',\n",
        "                           'Физика':'физика',\n",
        "                           'Русский язык':'русский',\n",
        "                           'Индивидуальные достижения - аттестат':'аттестат',\n",
        "                           'Индивидуальные достижения - сочинение':'сочинение',\n",
        "                           'Индивидуальные достижения - ГТО':'ГТО',\n",
        "                           'Преимущественное право зачисления':'преимущество',\n",
        "                           'Право на общежитие':'общежитие'},\n",
        "                inplace = True)\n",
        "entrants.head()"
      ],
      "id": "QxDFb6Z1-7Bh",
      "execution_count": null,
      "outputs": [
        {
          "output_type": "execute_result",
          "data": {
            "text/html": [
              "<div>\n",
              "<style scoped>\n",
              "    .dataframe tbody tr th:only-of-type {\n",
              "        vertical-align: middle;\n",
              "    }\n",
              "\n",
              "    .dataframe tbody tr th {\n",
              "        vertical-align: top;\n",
              "    }\n",
              "\n",
              "    .dataframe thead th {\n",
              "        text-align: right;\n",
              "    }\n",
              "</style>\n",
              "<table border=\"1\" class=\"dataframe\">\n",
              "  <thead>\n",
              "    <tr style=\"text-align: right;\">\n",
              "      <th></th>\n",
              "      <th>№</th>\n",
              "      <th>Наличие согласия</th>\n",
              "      <th>Согласие в МГУ</th>\n",
              "      <th>сумма</th>\n",
              "      <th>ДВИ</th>\n",
              "      <th>математика</th>\n",
              "      <th>физика</th>\n",
              "      <th>русский</th>\n",
              "      <th>аттестат</th>\n",
              "      <th>сочинение</th>\n",
              "      <th>ГТО</th>\n",
              "      <th>преимущество</th>\n",
              "      <th>общежитие</th>\n",
              "      <th>Статус</th>\n",
              "    </tr>\n",
              "  </thead>\n",
              "  <tbody>\n",
              "    <tr>\n",
              "      <th>0</th>\n",
              "      <td>1</td>\n",
              "      <td>Да</td>\n",
              "      <td>Да</td>\n",
              "      <td>408</td>\n",
              "      <td>100</td>\n",
              "      <td>100</td>\n",
              "      <td>100</td>\n",
              "      <td>100</td>\n",
              "      <td>6</td>\n",
              "      <td>2</td>\n",
              "      <td>0</td>\n",
              "      <td>Нет</td>\n",
              "      <td>Нет</td>\n",
              "      <td>В конкурсе</td>\n",
              "    </tr>\n",
              "    <tr>\n",
              "      <th>1</th>\n",
              "      <td>2</td>\n",
              "      <td>Нет</td>\n",
              "      <td>Нет</td>\n",
              "      <td>408</td>\n",
              "      <td>100</td>\n",
              "      <td>100</td>\n",
              "      <td>100</td>\n",
              "      <td>100</td>\n",
              "      <td>6</td>\n",
              "      <td>2</td>\n",
              "      <td>0</td>\n",
              "      <td>Нет</td>\n",
              "      <td>Нет</td>\n",
              "      <td>В конкурсе</td>\n",
              "    </tr>\n",
              "    <tr>\n",
              "      <th>2</th>\n",
              "      <td>3</td>\n",
              "      <td>Нет</td>\n",
              "      <td>Нет</td>\n",
              "      <td>408</td>\n",
              "      <td>100</td>\n",
              "      <td>100</td>\n",
              "      <td>100</td>\n",
              "      <td>100</td>\n",
              "      <td>6</td>\n",
              "      <td>2</td>\n",
              "      <td>0</td>\n",
              "      <td>Нет</td>\n",
              "      <td>Да</td>\n",
              "      <td>В конкурсе</td>\n",
              "    </tr>\n",
              "    <tr>\n",
              "      <th>3</th>\n",
              "      <td>4</td>\n",
              "      <td>Нет</td>\n",
              "      <td>Да</td>\n",
              "      <td>408</td>\n",
              "      <td>100</td>\n",
              "      <td>100</td>\n",
              "      <td>100</td>\n",
              "      <td>100</td>\n",
              "      <td>6</td>\n",
              "      <td>2</td>\n",
              "      <td>0</td>\n",
              "      <td>Нет</td>\n",
              "      <td>Нет</td>\n",
              "      <td>В конкурсе</td>\n",
              "    </tr>\n",
              "    <tr>\n",
              "      <th>4</th>\n",
              "      <td>5</td>\n",
              "      <td>Нет</td>\n",
              "      <td>Нет</td>\n",
              "      <td>407</td>\n",
              "      <td>100</td>\n",
              "      <td>99</td>\n",
              "      <td>100</td>\n",
              "      <td>100</td>\n",
              "      <td>6</td>\n",
              "      <td>2</td>\n",
              "      <td>0</td>\n",
              "      <td>Нет</td>\n",
              "      <td>Да</td>\n",
              "      <td>В конкурсе</td>\n",
              "    </tr>\n",
              "  </tbody>\n",
              "</table>\n",
              "</div>"
            ],
            "text/plain": [
              "   № Наличие согласия Согласие в МГУ  ...  преимущество  общежитие      Статус\n",
              "0  1               Да             Да  ...           Нет        Нет  В конкурсе\n",
              "1  2              Нет            Нет  ...           Нет        Нет  В конкурсе\n",
              "2  3              Нет            Нет  ...           Нет         Да  В конкурсе\n",
              "3  4              Нет             Да  ...           Нет        Нет  В конкурсе\n",
              "4  5              Нет            Нет  ...           Нет         Да  В конкурсе\n",
              "\n",
              "[5 rows x 14 columns]"
            ]
          },
          "metadata": {},
          "execution_count": 4
        }
      ]
    },
    {
      "cell_type": "markdown",
      "metadata": {
        "id": "31FpHHKL-7Bh"
      },
      "source": [
        "Всегда удобнее работать с типом данных bool, чем с типом данных string. Изменим тип данных в столбцах типа \"Да/Нет\" на логический:"
      ],
      "id": "31FpHHKL-7Bh"
    },
    {
      "cell_type": "code",
      "metadata": {
        "scrolled": true,
        "id": "TZuG3euL-7Bi",
        "colab": {
          "base_uri": "https://localhost:8080/",
          "height": 206
        },
        "outputId": "630e6441-e31e-4278-8f08-44fe478250ff"
      },
      "source": [
        "entrants[\"Наличие согласия\"] = (entrants[\"Наличие согласия\"] == \"Да\")\n",
        "entrants[\"Согласие в МГУ\"] = (entrants[\"Согласие в МГУ\"] == \"Да\")\n",
        "entrants[\"преимущество\"] = (entrants[\"преимущество\"] == \"Да\")\n",
        "entrants[\"общежитие\"] = (entrants[\"общежитие\"] == \"Да\")\n",
        "entrants.head()"
      ],
      "id": "TZuG3euL-7Bi",
      "execution_count": null,
      "outputs": [
        {
          "output_type": "execute_result",
          "data": {
            "text/html": [
              "<div>\n",
              "<style scoped>\n",
              "    .dataframe tbody tr th:only-of-type {\n",
              "        vertical-align: middle;\n",
              "    }\n",
              "\n",
              "    .dataframe tbody tr th {\n",
              "        vertical-align: top;\n",
              "    }\n",
              "\n",
              "    .dataframe thead th {\n",
              "        text-align: right;\n",
              "    }\n",
              "</style>\n",
              "<table border=\"1\" class=\"dataframe\">\n",
              "  <thead>\n",
              "    <tr style=\"text-align: right;\">\n",
              "      <th></th>\n",
              "      <th>№</th>\n",
              "      <th>Наличие согласия</th>\n",
              "      <th>Согласие в МГУ</th>\n",
              "      <th>сумма</th>\n",
              "      <th>ДВИ</th>\n",
              "      <th>математика</th>\n",
              "      <th>физика</th>\n",
              "      <th>русский</th>\n",
              "      <th>аттестат</th>\n",
              "      <th>сочинение</th>\n",
              "      <th>ГТО</th>\n",
              "      <th>преимущество</th>\n",
              "      <th>общежитие</th>\n",
              "      <th>Статус</th>\n",
              "    </tr>\n",
              "  </thead>\n",
              "  <tbody>\n",
              "    <tr>\n",
              "      <th>0</th>\n",
              "      <td>1</td>\n",
              "      <td>True</td>\n",
              "      <td>True</td>\n",
              "      <td>408</td>\n",
              "      <td>100</td>\n",
              "      <td>100</td>\n",
              "      <td>100</td>\n",
              "      <td>100</td>\n",
              "      <td>6</td>\n",
              "      <td>2</td>\n",
              "      <td>0</td>\n",
              "      <td>False</td>\n",
              "      <td>False</td>\n",
              "      <td>В конкурсе</td>\n",
              "    </tr>\n",
              "    <tr>\n",
              "      <th>1</th>\n",
              "      <td>2</td>\n",
              "      <td>False</td>\n",
              "      <td>False</td>\n",
              "      <td>408</td>\n",
              "      <td>100</td>\n",
              "      <td>100</td>\n",
              "      <td>100</td>\n",
              "      <td>100</td>\n",
              "      <td>6</td>\n",
              "      <td>2</td>\n",
              "      <td>0</td>\n",
              "      <td>False</td>\n",
              "      <td>False</td>\n",
              "      <td>В конкурсе</td>\n",
              "    </tr>\n",
              "    <tr>\n",
              "      <th>2</th>\n",
              "      <td>3</td>\n",
              "      <td>False</td>\n",
              "      <td>False</td>\n",
              "      <td>408</td>\n",
              "      <td>100</td>\n",
              "      <td>100</td>\n",
              "      <td>100</td>\n",
              "      <td>100</td>\n",
              "      <td>6</td>\n",
              "      <td>2</td>\n",
              "      <td>0</td>\n",
              "      <td>False</td>\n",
              "      <td>True</td>\n",
              "      <td>В конкурсе</td>\n",
              "    </tr>\n",
              "    <tr>\n",
              "      <th>3</th>\n",
              "      <td>4</td>\n",
              "      <td>False</td>\n",
              "      <td>True</td>\n",
              "      <td>408</td>\n",
              "      <td>100</td>\n",
              "      <td>100</td>\n",
              "      <td>100</td>\n",
              "      <td>100</td>\n",
              "      <td>6</td>\n",
              "      <td>2</td>\n",
              "      <td>0</td>\n",
              "      <td>False</td>\n",
              "      <td>False</td>\n",
              "      <td>В конкурсе</td>\n",
              "    </tr>\n",
              "    <tr>\n",
              "      <th>4</th>\n",
              "      <td>5</td>\n",
              "      <td>False</td>\n",
              "      <td>False</td>\n",
              "      <td>407</td>\n",
              "      <td>100</td>\n",
              "      <td>99</td>\n",
              "      <td>100</td>\n",
              "      <td>100</td>\n",
              "      <td>6</td>\n",
              "      <td>2</td>\n",
              "      <td>0</td>\n",
              "      <td>False</td>\n",
              "      <td>True</td>\n",
              "      <td>В конкурсе</td>\n",
              "    </tr>\n",
              "  </tbody>\n",
              "</table>\n",
              "</div>"
            ],
            "text/plain": [
              "   №  Наличие согласия  Согласие в МГУ  ...  преимущество  общежитие      Статус\n",
              "0  1              True            True  ...         False      False  В конкурсе\n",
              "1  2             False           False  ...         False      False  В конкурсе\n",
              "2  3             False           False  ...         False       True  В конкурсе\n",
              "3  4             False            True  ...         False      False  В конкурсе\n",
              "4  5             False           False  ...         False       True  В конкурсе\n",
              "\n",
              "[5 rows x 14 columns]"
            ]
          },
          "metadata": {},
          "execution_count": 5
        }
      ]
    },
    {
      "cell_type": "markdown",
      "metadata": {
        "id": "YQ-QMYDW-7Bi"
      },
      "source": [
        "Проверим, не у всех ли студентов из данного списка статус \"В конкурсе\". Если это так, то данный столлбец ничем не поможет нам в анализе данных, и мы сможем его удалить"
      ],
      "id": "YQ-QMYDW-7Bi"
    },
    {
      "cell_type": "code",
      "metadata": {
        "id": "cnWxfWaQ-7Bi",
        "colab": {
          "base_uri": "https://localhost:8080/"
        },
        "outputId": "52a1d860-2f20-4e15-c0df-f6d74c1ecf1c"
      },
      "source": [
        "(entrants['Статус'] == 'В конкурсе').all()"
      ],
      "id": "cnWxfWaQ-7Bi",
      "execution_count": null,
      "outputs": [
        {
          "output_type": "execute_result",
          "data": {
            "text/plain": [
              "True"
            ]
          },
          "metadata": {},
          "execution_count": 6
        }
      ]
    },
    {
      "cell_type": "markdown",
      "metadata": {
        "id": "IsRwbVE1-7Bj"
      },
      "source": [
        "У всех. Значит этот столбец можно просто удалить:"
      ],
      "id": "IsRwbVE1-7Bj"
    },
    {
      "cell_type": "code",
      "metadata": {
        "collapsed": true,
        "id": "ccLorN2D-7Bj"
      },
      "source": [
        "entrants.drop('Статус', axis=1, inplace=True)"
      ],
      "id": "ccLorN2D-7Bj",
      "execution_count": null,
      "outputs": []
    },
    {
      "cell_type": "markdown",
      "metadata": {
        "id": "tfhm8bDo-7Bj"
      },
      "source": [
        "Проверим то же самое про преимущество"
      ],
      "id": "tfhm8bDo-7Bj"
    },
    {
      "cell_type": "code",
      "metadata": {
        "id": "7H4rLGZV-7Bj",
        "colab": {
          "base_uri": "https://localhost:8080/"
        },
        "outputId": "3862cc74-2912-41f9-a91f-8e40550de0f1"
      },
      "source": [
        "entrants[\"преимущество\"].value_counts()"
      ],
      "id": "7H4rLGZV-7Bj",
      "execution_count": null,
      "outputs": [
        {
          "output_type": "execute_result",
          "data": {
            "text/plain": [
              "False    905\n",
              "Name: преимущество, dtype: int64"
            ]
          },
          "metadata": {},
          "execution_count": 8
        }
      ]
    },
    {
      "cell_type": "code",
      "metadata": {
        "id": "oKKvtYwP-7Bk",
        "colab": {
          "base_uri": "https://localhost:8080/"
        },
        "outputId": "b0dbab1a-def5-4e78-a573-157dea02b9fa"
      },
      "source": [
        "(entrants['преимущество'] == False).all()"
      ],
      "id": "oKKvtYwP-7Bk",
      "execution_count": null,
      "outputs": [
        {
          "output_type": "execute_result",
          "data": {
            "text/plain": [
              "True"
            ]
          },
          "metadata": {},
          "execution_count": 9
        }
      ]
    },
    {
      "cell_type": "markdown",
      "metadata": {
        "id": "rCmcfxmg-7Bk"
      },
      "source": [
        "Значит, от него также можно избавиться"
      ],
      "id": "rCmcfxmg-7Bk"
    },
    {
      "cell_type": "code",
      "metadata": {
        "collapsed": true,
        "id": "BqOttMm3-7Bl"
      },
      "source": [
        "entrants.drop('преимущество', axis=1, inplace=True)"
      ],
      "id": "BqOttMm3-7Bl",
      "execution_count": null,
      "outputs": []
    },
    {
      "cell_type": "markdown",
      "metadata": {
        "id": "CTnWU01P-7Bl"
      },
      "source": [
        "Общее описание всех параметров данных в pandas можно получить при помощи функции describe"
      ],
      "id": "CTnWU01P-7Bl"
    },
    {
      "cell_type": "code",
      "metadata": {
        "id": "NjDIbd3B-7Bl",
        "colab": {
          "base_uri": "https://localhost:8080/",
          "height": 300
        },
        "outputId": "7e39c41c-55e1-45e1-b3a9-c49d8c48683c"
      },
      "source": [
        "entrants.describe()"
      ],
      "id": "NjDIbd3B-7Bl",
      "execution_count": null,
      "outputs": [
        {
          "output_type": "execute_result",
          "data": {
            "text/html": [
              "<div>\n",
              "<style scoped>\n",
              "    .dataframe tbody tr th:only-of-type {\n",
              "        vertical-align: middle;\n",
              "    }\n",
              "\n",
              "    .dataframe tbody tr th {\n",
              "        vertical-align: top;\n",
              "    }\n",
              "\n",
              "    .dataframe thead th {\n",
              "        text-align: right;\n",
              "    }\n",
              "</style>\n",
              "<table border=\"1\" class=\"dataframe\">\n",
              "  <thead>\n",
              "    <tr style=\"text-align: right;\">\n",
              "      <th></th>\n",
              "      <th>№</th>\n",
              "      <th>сумма</th>\n",
              "      <th>ДВИ</th>\n",
              "      <th>математика</th>\n",
              "      <th>физика</th>\n",
              "      <th>русский</th>\n",
              "      <th>аттестат</th>\n",
              "      <th>сочинение</th>\n",
              "      <th>ГТО</th>\n",
              "    </tr>\n",
              "  </thead>\n",
              "  <tbody>\n",
              "    <tr>\n",
              "      <th>count</th>\n",
              "      <td>905.000000</td>\n",
              "      <td>905.000000</td>\n",
              "      <td>905.000000</td>\n",
              "      <td>905.000000</td>\n",
              "      <td>905.000000</td>\n",
              "      <td>905.000000</td>\n",
              "      <td>905.000000</td>\n",
              "      <td>905.000000</td>\n",
              "      <td>905.000000</td>\n",
              "    </tr>\n",
              "    <tr>\n",
              "      <th>mean</th>\n",
              "      <td>453.000000</td>\n",
              "      <td>351.367956</td>\n",
              "      <td>77.662983</td>\n",
              "      <td>89.240884</td>\n",
              "      <td>89.038674</td>\n",
              "      <td>90.453039</td>\n",
              "      <td>2.671823</td>\n",
              "      <td>1.949171</td>\n",
              "      <td>0.351381</td>\n",
              "    </tr>\n",
              "    <tr>\n",
              "      <th>std</th>\n",
              "      <td>261.395295</td>\n",
              "      <td>27.547675</td>\n",
              "      <td>15.383455</td>\n",
              "      <td>7.546133</td>\n",
              "      <td>9.649823</td>\n",
              "      <td>6.576663</td>\n",
              "      <td>2.983645</td>\n",
              "      <td>0.314934</td>\n",
              "      <td>0.761534</td>\n",
              "    </tr>\n",
              "    <tr>\n",
              "      <th>min</th>\n",
              "      <td>1.000000</td>\n",
              "      <td>268.000000</td>\n",
              "      <td>50.000000</td>\n",
              "      <td>62.000000</td>\n",
              "      <td>55.000000</td>\n",
              "      <td>60.000000</td>\n",
              "      <td>0.000000</td>\n",
              "      <td>0.000000</td>\n",
              "      <td>0.000000</td>\n",
              "    </tr>\n",
              "    <tr>\n",
              "      <th>25%</th>\n",
              "      <td>227.000000</td>\n",
              "      <td>332.000000</td>\n",
              "      <td>65.000000</td>\n",
              "      <td>84.000000</td>\n",
              "      <td>84.000000</td>\n",
              "      <td>86.000000</td>\n",
              "      <td>0.000000</td>\n",
              "      <td>2.000000</td>\n",
              "      <td>0.000000</td>\n",
              "    </tr>\n",
              "    <tr>\n",
              "      <th>50%</th>\n",
              "      <td>453.000000</td>\n",
              "      <td>354.000000</td>\n",
              "      <td>80.000000</td>\n",
              "      <td>90.000000</td>\n",
              "      <td>91.000000</td>\n",
              "      <td>92.000000</td>\n",
              "      <td>0.000000</td>\n",
              "      <td>2.000000</td>\n",
              "      <td>0.000000</td>\n",
              "    </tr>\n",
              "    <tr>\n",
              "      <th>75%</th>\n",
              "      <td>679.000000</td>\n",
              "      <td>371.000000</td>\n",
              "      <td>90.000000</td>\n",
              "      <td>96.000000</td>\n",
              "      <td>97.000000</td>\n",
              "      <td>96.000000</td>\n",
              "      <td>6.000000</td>\n",
              "      <td>2.000000</td>\n",
              "      <td>0.000000</td>\n",
              "    </tr>\n",
              "    <tr>\n",
              "      <th>max</th>\n",
              "      <td>905.000000</td>\n",
              "      <td>408.000000</td>\n",
              "      <td>100.000000</td>\n",
              "      <td>100.000000</td>\n",
              "      <td>100.000000</td>\n",
              "      <td>100.000000</td>\n",
              "      <td>6.000000</td>\n",
              "      <td>2.000000</td>\n",
              "      <td>2.000000</td>\n",
              "    </tr>\n",
              "  </tbody>\n",
              "</table>\n",
              "</div>"
            ],
            "text/plain": [
              "                №       сумма         ДВИ  ...    аттестат   сочинение         ГТО\n",
              "count  905.000000  905.000000  905.000000  ...  905.000000  905.000000  905.000000\n",
              "mean   453.000000  351.367956   77.662983  ...    2.671823    1.949171    0.351381\n",
              "std    261.395295   27.547675   15.383455  ...    2.983645    0.314934    0.761534\n",
              "min      1.000000  268.000000   50.000000  ...    0.000000    0.000000    0.000000\n",
              "25%    227.000000  332.000000   65.000000  ...    0.000000    2.000000    0.000000\n",
              "50%    453.000000  354.000000   80.000000  ...    0.000000    2.000000    0.000000\n",
              "75%    679.000000  371.000000   90.000000  ...    6.000000    2.000000    0.000000\n",
              "max    905.000000  408.000000  100.000000  ...    6.000000    2.000000    2.000000\n",
              "\n",
              "[8 rows x 9 columns]"
            ]
          },
          "metadata": {},
          "execution_count": 11
        }
      ]
    },
    {
      "cell_type": "markdown",
      "metadata": {
        "id": "mw2_SfaB-7Bl"
      },
      "source": [
        "\n",
        "Первое, что стоит сделать — посмотреть как выглядит распределение суммы баллов на гистограмме. Мы увидим, какую структуру имеют данные."
      ],
      "id": "mw2_SfaB-7Bl"
    },
    {
      "cell_type": "code",
      "metadata": {
        "id": "qWmmRaBD-7Bm",
        "colab": {
          "base_uri": "https://localhost:8080/",
          "height": 282
        },
        "outputId": "c214bed0-aa78-4883-adde-1310298ce1a8"
      },
      "source": [
        "entrants['сумма'].plot.hist(bins=40)"
      ],
      "id": "qWmmRaBD-7Bm",
      "execution_count": null,
      "outputs": [
        {
          "output_type": "execute_result",
          "data": {
            "text/plain": [
              "<matplotlib.axes._subplots.AxesSubplot at 0x7fe71053dc10>"
            ]
          },
          "metadata": {},
          "execution_count": 12
        },
        {
          "output_type": "display_data",
          "data": {
            "image/png": "[encoded data removed]",
            "text/plain": [
              "<Figure size 432x288 with 1 Axes>"
            ]
          },
          "metadata": {
            "needs_background": "light"
          }
        }
      ]
    },
    {
      "cell_type": "markdown",
      "metadata": {
        "id": "XkZKGkAf-7Bm"
      },
      "source": [
        "Проверим, такое же распределение получается у студентов, сдавших успешно ГТО? Может быть, ГТО существенно повлияло на их поступление, хотя они менее или более талантливы, чем другие студенты?"
      ],
      "id": "XkZKGkAf-7Bm"
    },
    {
      "cell_type": "code",
      "metadata": {
        "id": "sCuIwRua-7Bm",
        "colab": {
          "base_uri": "https://localhost:8080/",
          "height": 300
        },
        "outputId": "4d0bb04c-2fc4-40b6-bc3b-afa5f7cc5de7"
      },
      "source": [
        "print(entrants.query('ГТО == 2')['сумма'].mean())\n",
        "entrants.query('ГТО == 2')['сумма'].plot.hist(bins=40)"
      ],
      "id": "sCuIwRua-7Bm",
      "execution_count": null,
      "outputs": [
        {
          "output_type": "stream",
          "name": "stdout",
          "text": [
            "352.61006289308176\n"
          ]
        },
        {
          "output_type": "execute_result",
          "data": {
            "text/plain": [
              "<matplotlib.axes._subplots.AxesSubplot at 0x7fe710401350>"
            ]
          },
          "metadata": {},
          "execution_count": 13
        },
        {
          "output_type": "display_data",
          "data": {
            "image/png": "[encoded data removed]",
            "text/plain": [
              "<Figure size 432x288 with 1 Axes>"
            ]
          },
          "metadata": {
            "needs_background": "light"
          }
        }
      ]
    },
    {
      "cell_type": "markdown",
      "metadata": {
        "id": "X7jFC9sf-7Bm"
      },
      "source": [
        "Как мы видим, распределение очень похоже, имеет тот же максимум. Значит, наша гипотеза не верна. А что насчет несдавших ГТО?"
      ],
      "id": "X7jFC9sf-7Bm"
    },
    {
      "cell_type": "code",
      "metadata": {
        "scrolled": true,
        "id": "euN89nNA-7Bn",
        "colab": {
          "base_uri": "https://localhost:8080/",
          "height": 282
        },
        "outputId": "2a3404d5-772b-4313-8879-141571e150d8"
      },
      "source": [
        "entrants.query('ГТО == 0')['сумма'].plot.hist(bins=40)"
      ],
      "id": "euN89nNA-7Bn",
      "execution_count": null,
      "outputs": [
        {
          "output_type": "execute_result",
          "data": {
            "text/plain": [
              "<matplotlib.axes._subplots.AxesSubplot at 0x7fe70fe4bc90>"
            ]
          },
          "metadata": {},
          "execution_count": 14
        },
        {
          "output_type": "display_data",
          "data": {
            "image/png": "[encoded data removed]",
            "text/plain": [
              "<Figure size 432x288 with 1 Axes>"
            ]
          },
          "metadata": {
            "needs_background": "light"
          }
        }
      ]
    },
    {
      "cell_type": "code",
      "metadata": {
        "scrolled": true,
        "id": "-Mt_6COH-7Bn",
        "colab": {
          "base_uri": "https://localhost:8080/",
          "height": 282
        },
        "outputId": "36431b02-6762-4fa0-ba3e-b84db15b51c7"
      },
      "source": [
        "entrants.query(\"`математика` == 100\")[\"ДВИ\"].plot.hist(bins=10)"
      ],
      "id": "-Mt_6COH-7Bn",
      "execution_count": null,
      "outputs": [
        {
          "output_type": "execute_result",
          "data": {
            "text/plain": [
              "<matplotlib.axes._subplots.AxesSubplot at 0x7fe70fd9da50>"
            ]
          },
          "metadata": {},
          "execution_count": 15
        },
        {
          "output_type": "display_data",
          "data": {
            "image/png": "[encoded data removed]",
            "text/plain": [
              "<Figure size 432x288 with 1 Axes>"
            ]
          },
          "metadata": {
            "needs_background": "light"
          }
        }
      ]
    },
    {
      "cell_type": "markdown",
      "metadata": {
        "id": "c3RrlSV1-7Bn"
      },
      "source": [
        "Последняя гипотеза также оказалась верна. На деле не всегда бывает так."
      ],
      "id": "c3RrlSV1-7Bn"
    },
    {
      "cell_type": "markdown",
      "metadata": {
        "id": "-jSjUze--7Bn"
      },
      "source": [
        "Query — вообще очень мощный инструмент, позволяющий отфильтровать данные по ключевому запросу. Например, мы можем вывести всех абитуриентов, сдавших физику менее, чем на 80 баллов, следующей командой"
      ],
      "id": "-jSjUze--7Bn"
    },
    {
      "cell_type": "code",
      "metadata": {
        "id": "8a6oMG9b-7Bn",
        "colab": {
          "base_uri": "https://localhost:8080/",
          "height": 424
        },
        "outputId": "cc23d6b5-f458-46f7-9f0d-5b46d82d356c"
      },
      "source": [
        "entrants.query(\"физика < 80\") "
      ],
      "id": "8a6oMG9b-7Bn",
      "execution_count": null,
      "outputs": [
        {
          "output_type": "execute_result",
          "data": {
            "text/html": [
              "<div>\n",
              "<style scoped>\n",
              "    .dataframe tbody tr th:only-of-type {\n",
              "        vertical-align: middle;\n",
              "    }\n",
              "\n",
              "    .dataframe tbody tr th {\n",
              "        vertical-align: top;\n",
              "    }\n",
              "\n",
              "    .dataframe thead th {\n",
              "        text-align: right;\n",
              "    }\n",
              "</style>\n",
              "<table border=\"1\" class=\"dataframe\">\n",
              "  <thead>\n",
              "    <tr style=\"text-align: right;\">\n",
              "      <th></th>\n",
              "      <th>№</th>\n",
              "      <th>Наличие согласия</th>\n",
              "      <th>Согласие в МГУ</th>\n",
              "      <th>сумма</th>\n",
              "      <th>ДВИ</th>\n",
              "      <th>математика</th>\n",
              "      <th>физика</th>\n",
              "      <th>русский</th>\n",
              "      <th>аттестат</th>\n",
              "      <th>сочинение</th>\n",
              "      <th>ГТО</th>\n",
              "      <th>общежитие</th>\n",
              "    </tr>\n",
              "  </thead>\n",
              "  <tbody>\n",
              "    <tr>\n",
              "      <th>194</th>\n",
              "      <td>195</td>\n",
              "      <td>False</td>\n",
              "      <td>True</td>\n",
              "      <td>373</td>\n",
              "      <td>100</td>\n",
              "      <td>99</td>\n",
              "      <td>78</td>\n",
              "      <td>94</td>\n",
              "      <td>0</td>\n",
              "      <td>2</td>\n",
              "      <td>0</td>\n",
              "      <td>True</td>\n",
              "    </tr>\n",
              "    <tr>\n",
              "      <th>255</th>\n",
              "      <td>256</td>\n",
              "      <td>False</td>\n",
              "      <td>True</td>\n",
              "      <td>368</td>\n",
              "      <td>100</td>\n",
              "      <td>94</td>\n",
              "      <td>74</td>\n",
              "      <td>98</td>\n",
              "      <td>0</td>\n",
              "      <td>2</td>\n",
              "      <td>0</td>\n",
              "      <td>False</td>\n",
              "    </tr>\n",
              "    <tr>\n",
              "      <th>256</th>\n",
              "      <td>257</td>\n",
              "      <td>False</td>\n",
              "      <td>False</td>\n",
              "      <td>368</td>\n",
              "      <td>100</td>\n",
              "      <td>92</td>\n",
              "      <td>76</td>\n",
              "      <td>98</td>\n",
              "      <td>0</td>\n",
              "      <td>2</td>\n",
              "      <td>0</td>\n",
              "      <td>False</td>\n",
              "    </tr>\n",
              "    <tr>\n",
              "      <th>314</th>\n",
              "      <td>315</td>\n",
              "      <td>False</td>\n",
              "      <td>True</td>\n",
              "      <td>363</td>\n",
              "      <td>95</td>\n",
              "      <td>96</td>\n",
              "      <td>76</td>\n",
              "      <td>94</td>\n",
              "      <td>0</td>\n",
              "      <td>2</td>\n",
              "      <td>0</td>\n",
              "      <td>False</td>\n",
              "    </tr>\n",
              "    <tr>\n",
              "      <th>326</th>\n",
              "      <td>327</td>\n",
              "      <td>False</td>\n",
              "      <td>False</td>\n",
              "      <td>362</td>\n",
              "      <td>100</td>\n",
              "      <td>94</td>\n",
              "      <td>72</td>\n",
              "      <td>94</td>\n",
              "      <td>0</td>\n",
              "      <td>2</td>\n",
              "      <td>0</td>\n",
              "      <td>False</td>\n",
              "    </tr>\n",
              "    <tr>\n",
              "      <th>...</th>\n",
              "      <td>...</td>\n",
              "      <td>...</td>\n",
              "      <td>...</td>\n",
              "      <td>...</td>\n",
              "      <td>...</td>\n",
              "      <td>...</td>\n",
              "      <td>...</td>\n",
              "      <td>...</td>\n",
              "      <td>...</td>\n",
              "      <td>...</td>\n",
              "      <td>...</td>\n",
              "      <td>...</td>\n",
              "    </tr>\n",
              "    <tr>\n",
              "      <th>900</th>\n",
              "      <td>901</td>\n",
              "      <td>False</td>\n",
              "      <td>True</td>\n",
              "      <td>277</td>\n",
              "      <td>55</td>\n",
              "      <td>72</td>\n",
              "      <td>64</td>\n",
              "      <td>78</td>\n",
              "      <td>6</td>\n",
              "      <td>2</td>\n",
              "      <td>0</td>\n",
              "      <td>True</td>\n",
              "    </tr>\n",
              "    <tr>\n",
              "      <th>901</th>\n",
              "      <td>902</td>\n",
              "      <td>False</td>\n",
              "      <td>False</td>\n",
              "      <td>275</td>\n",
              "      <td>50</td>\n",
              "      <td>78</td>\n",
              "      <td>57</td>\n",
              "      <td>80</td>\n",
              "      <td>6</td>\n",
              "      <td>2</td>\n",
              "      <td>2</td>\n",
              "      <td>True</td>\n",
              "    </tr>\n",
              "    <tr>\n",
              "      <th>902</th>\n",
              "      <td>903</td>\n",
              "      <td>False</td>\n",
              "      <td>True</td>\n",
              "      <td>272</td>\n",
              "      <td>60</td>\n",
              "      <td>70</td>\n",
              "      <td>60</td>\n",
              "      <td>80</td>\n",
              "      <td>0</td>\n",
              "      <td>2</td>\n",
              "      <td>0</td>\n",
              "      <td>False</td>\n",
              "    </tr>\n",
              "    <tr>\n",
              "      <th>903</th>\n",
              "      <td>904</td>\n",
              "      <td>False</td>\n",
              "      <td>True</td>\n",
              "      <td>270</td>\n",
              "      <td>70</td>\n",
              "      <td>70</td>\n",
              "      <td>57</td>\n",
              "      <td>69</td>\n",
              "      <td>0</td>\n",
              "      <td>2</td>\n",
              "      <td>2</td>\n",
              "      <td>False</td>\n",
              "    </tr>\n",
              "    <tr>\n",
              "      <th>904</th>\n",
              "      <td>905</td>\n",
              "      <td>False</td>\n",
              "      <td>False</td>\n",
              "      <td>268</td>\n",
              "      <td>65</td>\n",
              "      <td>62</td>\n",
              "      <td>61</td>\n",
              "      <td>76</td>\n",
              "      <td>0</td>\n",
              "      <td>2</td>\n",
              "      <td>2</td>\n",
              "      <td>False</td>\n",
              "    </tr>\n",
              "  </tbody>\n",
              "</table>\n",
              "<p>128 rows × 12 columns</p>\n",
              "</div>"
            ],
            "text/plain": [
              "       №  Наличие согласия  Согласие в МГУ  ...  сочинение  ГТО  общежитие\n",
              "194  195             False            True  ...          2    0       True\n",
              "255  256             False            True  ...          2    0      False\n",
              "256  257             False           False  ...          2    0      False\n",
              "314  315             False            True  ...          2    0      False\n",
              "326  327             False           False  ...          2    0      False\n",
              "..   ...               ...             ...  ...        ...  ...        ...\n",
              "900  901             False            True  ...          2    0       True\n",
              "901  902             False           False  ...          2    2       True\n",
              "902  903             False            True  ...          2    0      False\n",
              "903  904             False            True  ...          2    2      False\n",
              "904  905             False           False  ...          2    2      False\n",
              "\n",
              "[128 rows x 12 columns]"
            ]
          },
          "metadata": {},
          "execution_count": 16
        }
      ]
    },
    {
      "cell_type": "markdown",
      "metadata": {
        "id": "X6RuAa95-7Bo"
      },
      "source": [
        "Выдвинем следующую гипотезу:\n",
        "студенты, успешно сдавшие ЕГЭ по математике, должны были хорошо сдать и ДВИ. Если это так, и если мы отметим всех студентов в координатах \"Балл за ДВИ\" - \"Балл за ЕГЭ по математике\", мы должны увидеть скопление в области высоких баллов по обеим осям. Изобразим такой поточечный график "
      ],
      "id": "X6RuAa95-7Bo"
    },
    {
      "cell_type": "code",
      "metadata": {
        "id": "rS6GbxYp-7Bo",
        "colab": {
          "base_uri": "https://localhost:8080/",
          "height": 296
        },
        "outputId": "d1b8b5f5-757f-4230-a9b5-215749d6ad49"
      },
      "source": [
        "entrants.plot.scatter(\"ДВИ\", \"математика\")"
      ],
      "id": "rS6GbxYp-7Bo",
      "execution_count": null,
      "outputs": [
        {
          "output_type": "execute_result",
          "data": {
            "text/plain": [
              "<matplotlib.axes._subplots.AxesSubplot at 0x7fe70fd22190>"
            ]
          },
          "metadata": {},
          "execution_count": 17
        },
        {
          "output_type": "display_data",
          "data": {
            "image/png": "[encoded data removed]",
            "text/plain": [
              "<Figure size 432x288 with 1 Axes>"
            ]
          },
          "metadata": {
            "needs_background": "light"
          }
        }
      ]
    },
    {
      "cell_type": "markdown",
      "metadata": {
        "id": "TVRSo77I-7Bo"
      },
      "source": [
        "Кажется, что распределение баллов по математике при каждом фиксированном балле за ДВИ почти равномерное в области \"Балл за математику > 75\". Но так ли это в действительности? Может быть, все дело в особенности отображения поточечного графика?\n",
        "\n",
        "Нарисуем другой тип графика — так называемые \"свечи\":"
      ],
      "id": "TVRSo77I-7Bo"
    },
    {
      "cell_type": "code",
      "metadata": {
        "id": "YLpRlLEZ-7Bo",
        "colab": {
          "base_uri": "https://localhost:8080/",
          "height": 337
        },
        "outputId": "e4df0a43-4955-4753-b35e-a44036db080b"
      },
      "source": [
        "entrants.pivot_table(index='№', columns='ДВИ', values='математика').boxplot()"
      ],
      "id": "YLpRlLEZ-7Bo",
      "execution_count": null,
      "outputs": [
        {
          "output_type": "stream",
          "name": "stderr",
          "text": [
            "/usr/local/lib/python3.7/dist-packages/numpy/core/_asarray.py:83: VisibleDeprecationWarning: Creating an ndarray from ragged nested sequences (which is a list-or-tuple of lists-or-tuples-or ndarrays with different lengths or shapes) is deprecated. If you meant to do this, you must specify 'dtype=object' when creating the ndarray\n",
            "  return array(a, dtype, copy=False, order=order)\n"
          ]
        },
        {
          "output_type": "execute_result",
          "data": {
            "text/plain": [
              "<matplotlib.axes._subplots.AxesSubplot at 0x7fe70fcb0e10>"
            ]
          },
          "metadata": {},
          "execution_count": 18
        },
        {
          "output_type": "display_data",
          "data": {
            "image/png": "[encoded data removed]",
            "text/plain": [
              "<Figure size 432x288 with 1 Axes>"
            ]
          },
          "metadata": {
            "needs_background": "light"
          }
        }
      ]
    },
    {
      "cell_type": "markdown",
      "metadata": {
        "id": "tOW_9Xl7-7Bp"
      },
      "source": [
        "Обратите внимание, мы действительно наблюдаем смещение медианного значения балла ЕГЭ по математике ближе к 100 при увеличении баллов за ДВИ. Это подтверждает нашу гипотезу. Проверим это, применив усреднение"
      ],
      "id": "tOW_9Xl7-7Bp"
    },
    {
      "cell_type": "code",
      "metadata": {
        "id": "OQrTJAIo-7Bp",
        "colab": {
          "base_uri": "https://localhost:8080/",
          "height": 426
        },
        "outputId": "87876864-149a-422f-a304-19b8d82566ce"
      },
      "source": [
        "entrants.pivot_table(index='ДВИ', values='математика', aggfunc='mean')"
      ],
      "id": "OQrTJAIo-7Bp",
      "execution_count": null,
      "outputs": [
        {
          "output_type": "execute_result",
          "data": {
            "text/html": [
              "<div>\n",
              "<style scoped>\n",
              "    .dataframe tbody tr th:only-of-type {\n",
              "        vertical-align: middle;\n",
              "    }\n",
              "\n",
              "    .dataframe tbody tr th {\n",
              "        vertical-align: top;\n",
              "    }\n",
              "\n",
              "    .dataframe thead th {\n",
              "        text-align: right;\n",
              "    }\n",
              "</style>\n",
              "<table border=\"1\" class=\"dataframe\">\n",
              "  <thead>\n",
              "    <tr style=\"text-align: right;\">\n",
              "      <th></th>\n",
              "      <th>математика</th>\n",
              "    </tr>\n",
              "    <tr>\n",
              "      <th>ДВИ</th>\n",
              "      <th></th>\n",
              "    </tr>\n",
              "  </thead>\n",
              "  <tbody>\n",
              "    <tr>\n",
              "      <th>50</th>\n",
              "      <td>84.073171</td>\n",
              "    </tr>\n",
              "    <tr>\n",
              "      <th>55</th>\n",
              "      <td>85.217391</td>\n",
              "    </tr>\n",
              "    <tr>\n",
              "      <th>60</th>\n",
              "      <td>86.408451</td>\n",
              "    </tr>\n",
              "    <tr>\n",
              "      <th>65</th>\n",
              "      <td>85.467532</td>\n",
              "    </tr>\n",
              "    <tr>\n",
              "      <th>70</th>\n",
              "      <td>87.857143</td>\n",
              "    </tr>\n",
              "    <tr>\n",
              "      <th>75</th>\n",
              "      <td>88.162162</td>\n",
              "    </tr>\n",
              "    <tr>\n",
              "      <th>80</th>\n",
              "      <td>89.401361</td>\n",
              "    </tr>\n",
              "    <tr>\n",
              "      <th>85</th>\n",
              "      <td>90.433333</td>\n",
              "    </tr>\n",
              "    <tr>\n",
              "      <th>90</th>\n",
              "      <td>91.817073</td>\n",
              "    </tr>\n",
              "    <tr>\n",
              "      <th>95</th>\n",
              "      <td>92.133333</td>\n",
              "    </tr>\n",
              "    <tr>\n",
              "      <th>100</th>\n",
              "      <td>94.192982</td>\n",
              "    </tr>\n",
              "  </tbody>\n",
              "</table>\n",
              "</div>"
            ],
            "text/plain": [
              "     математика\n",
              "ДВИ            \n",
              "50    84.073171\n",
              "55    85.217391\n",
              "60    86.408451\n",
              "65    85.467532\n",
              "70    87.857143\n",
              "75    88.162162\n",
              "80    89.401361\n",
              "85    90.433333\n",
              "90    91.817073\n",
              "95    92.133333\n",
              "100   94.192982"
            ]
          },
          "metadata": {},
          "execution_count": 19
        }
      ]
    },
    {
      "cell_type": "code",
      "metadata": {
        "id": "g0VCBaLR-7Bp",
        "colab": {
          "base_uri": "https://localhost:8080/",
          "height": 296
        },
        "outputId": "685d5472-2cd3-45e0-dd8a-a5b996a75a97"
      },
      "source": [
        "entrants.pivot_table(index='ДВИ', values='математика', aggfunc='mean').plot()"
      ],
      "id": "g0VCBaLR-7Bp",
      "execution_count": null,
      "outputs": [
        {
          "output_type": "execute_result",
          "data": {
            "text/plain": [
              "<matplotlib.axes._subplots.AxesSubplot at 0x7fe70fcb07d0>"
            ]
          },
          "metadata": {},
          "execution_count": 20
        },
        {
          "output_type": "display_data",
          "data": {
            "image/png": "[encoded data removed]",
            "text/plain": [
              "<Figure size 432x288 with 1 Axes>"
            ]
          },
          "metadata": {
            "needs_background": "light"
          }
        }
      ]
    },
    {
      "cell_type": "markdown",
      "metadata": {
        "id": "B2-O0OsD-7Bp"
      },
      "source": [
        "Есть ли подобные корелляции в случае с парой \"Физика\"/\"Математика\"?"
      ],
      "id": "B2-O0OsD-7Bp"
    },
    {
      "cell_type": "code",
      "metadata": {
        "id": "Ax1-XNIF-7Bp",
        "colab": {
          "base_uri": "https://localhost:8080/",
          "height": 296
        },
        "outputId": "b57c4f8f-69a3-4cef-c2f7-3be285552cf0"
      },
      "source": [
        "entrants.plot.scatter(\"физика\", \"математика\")"
      ],
      "id": "Ax1-XNIF-7Bp",
      "execution_count": null,
      "outputs": [
        {
          "output_type": "execute_result",
          "data": {
            "text/plain": [
              "<matplotlib.axes._subplots.AxesSubplot at 0x7fe70fab5210>"
            ]
          },
          "metadata": {},
          "execution_count": 21
        },
        {
          "output_type": "display_data",
          "data": {
            "image/png": "[encoded data removed]",
            "text/plain": [
              "<Figure size 432x288 with 1 Axes>"
            ]
          },
          "metadata": {
            "needs_background": "light"
          }
        }
      ]
    },
    {
      "cell_type": "code",
      "metadata": {
        "id": "hOap9la0-7Bp",
        "colab": {
          "base_uri": "https://localhost:8080/",
          "height": 337
        },
        "outputId": "4dc2978c-ad5e-4fd2-ffbe-895de641b1aa"
      },
      "source": [
        "entrants.pivot_table(index='№', columns='физика', values='математика').boxplot()"
      ],
      "id": "hOap9la0-7Bp",
      "execution_count": null,
      "outputs": [
        {
          "output_type": "stream",
          "name": "stderr",
          "text": [
            "/usr/local/lib/python3.7/dist-packages/numpy/core/_asarray.py:83: VisibleDeprecationWarning: Creating an ndarray from ragged nested sequences (which is a list-or-tuple of lists-or-tuples-or ndarrays with different lengths or shapes) is deprecated. If you meant to do this, you must specify 'dtype=object' when creating the ndarray\n",
            "  return array(a, dtype, copy=False, order=order)\n"
          ]
        },
        {
          "output_type": "execute_result",
          "data": {
            "text/plain": [
              "<matplotlib.axes._subplots.AxesSubplot at 0x7fe70fd513d0>"
            ]
          },
          "metadata": {},
          "execution_count": 22
        },
        {
          "output_type": "display_data",
          "data": {
            "image/png": "[encoded data removed]",
            "text/plain": [
              "<Figure size 432x288 with 1 Axes>"
            ]
          },
          "metadata": {
            "needs_background": "light"
          }
        }
      ]
    },
    {
      "cell_type": "markdown",
      "metadata": {
        "id": "hYptbgt4-7Bq"
      },
      "source": [
        "Здесь корелляция видна невооруженным глазом. Протестируем другие пары предметов"
      ],
      "id": "hYptbgt4-7Bq"
    },
    {
      "cell_type": "code",
      "metadata": {
        "id": "7BhlMxze-7Bq",
        "colab": {
          "base_uri": "https://localhost:8080/",
          "height": 296
        },
        "outputId": "743fedfa-6082-4651-f0aa-1b111a854c5e"
      },
      "source": [
        "entrants.plot.scatter(\"математика\", \"русский\")"
      ],
      "id": "7BhlMxze-7Bq",
      "execution_count": null,
      "outputs": [
        {
          "output_type": "execute_result",
          "data": {
            "text/plain": [
              "<matplotlib.axes._subplots.AxesSubplot at 0x7fe70f6c81d0>"
            ]
          },
          "metadata": {},
          "execution_count": 23
        },
        {
          "output_type": "display_data",
          "data": {
            "image/png": "[encoded data removed]",
            "text/plain": [
              "<Figure size 432x288 with 1 Axes>"
            ]
          },
          "metadata": {
            "needs_background": "light"
          }
        }
      ]
    },
    {
      "cell_type": "code",
      "metadata": {
        "id": "OAgGrXRE-7Bq",
        "colab": {
          "base_uri": "https://localhost:8080/",
          "height": 337
        },
        "outputId": "82eb4518-ab0d-4fa7-9d6a-facef347faab"
      },
      "source": [
        "entrants.pivot_table(index='№', columns='математика', values='русский').boxplot()"
      ],
      "id": "OAgGrXRE-7Bq",
      "execution_count": null,
      "outputs": [
        {
          "output_type": "stream",
          "name": "stderr",
          "text": [
            "/usr/local/lib/python3.7/dist-packages/numpy/core/_asarray.py:83: VisibleDeprecationWarning: Creating an ndarray from ragged nested sequences (which is a list-or-tuple of lists-or-tuples-or ndarrays with different lengths or shapes) is deprecated. If you meant to do this, you must specify 'dtype=object' when creating the ndarray\n",
            "  return array(a, dtype, copy=False, order=order)\n"
          ]
        },
        {
          "output_type": "execute_result",
          "data": {
            "text/plain": [
              "<matplotlib.axes._subplots.AxesSubplot at 0x7fe70f58e050>"
            ]
          },
          "metadata": {},
          "execution_count": 24
        },
        {
          "output_type": "display_data",
          "data": {
            "image/png": "[encoded data removed]",
            "text/plain": [
              "<Figure size 432x288 with 1 Axes>"
            ]
          },
          "metadata": {
            "needs_background": "light"
          }
        }
      ]
    },
    {
      "cell_type": "markdown",
      "metadata": {
        "id": "XQuRtsW--7Bq"
      },
      "source": [
        "С русским языком такой корелляции не прослеживается. Это объяснимо: знание физики и математики связано друг с другом, как и способность студента одновременно хорошо сдать математику ДВИ и математику ЕГЭ. С русским языком же такой зависимости не наблюдается."
      ],
      "id": "XQuRtsW--7Bq"
    },
    {
      "cell_type": "markdown",
      "metadata": {
        "id": "xXF2Hk7O-7Bq"
      },
      "source": [
        "Напоследок проверим следующую гипотезу:\n",
        "\n",
        "Среди студентов, сдавших ЕГЭ на 100 баллов, подавляющее большинство сдало ДВИ также на 100 (или почти 100) баллов."
      ],
      "id": "xXF2Hk7O-7Bq"
    },
    {
      "cell_type": "code",
      "metadata": {
        "scrolled": true,
        "id": "IszCde23-7Br",
        "colab": {
          "base_uri": "https://localhost:8080/",
          "height": 282
        },
        "outputId": "f36a41ee-db84-40d4-d018-0cca35247242"
      },
      "source": [
        "entrants.query(\"`математика` == 100\")[\"ДВИ\"].plot.hist(bins=10)"
      ],
      "id": "IszCde23-7Br",
      "execution_count": null,
      "outputs": [
        {
          "output_type": "execute_result",
          "data": {
            "text/plain": [
              "<matplotlib.axes._subplots.AxesSubplot at 0x7fe70f370050>"
            ]
          },
          "metadata": {},
          "execution_count": 25
        },
        {
          "output_type": "display_data",
          "data": {
            "image/png": "[encoded data removed]",
            "text/plain": [
              "<Figure size 432x288 with 1 Axes>"
            ]
          },
          "metadata": {
            "needs_background": "light"
          }
        }
      ]
    },
    {
      "cell_type": "markdown",
      "metadata": {
        "id": "QxXFuR-Z-7Br"
      },
      "source": [
        "Последняя гипотеза также оказалась верна. На деле не всегда бывает так."
      ],
      "id": "QxXFuR-Z-7Br"
    }
  ]
}